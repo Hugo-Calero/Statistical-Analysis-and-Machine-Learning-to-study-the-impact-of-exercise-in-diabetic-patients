{
 "cells": [
  {
   "cell_type": "markdown",
   "metadata": {
    "id": "p1BTk8drJbi6"
   },
   "source": [
    "<div class=\"alert alert-block alert-danger\">\n",
    "\n",
    "# **Performance of the Eversense versus the Free Style Libre Flash glucose monitor during exercise and normal daily activities in subjects with type 1 diabetes mellitus**\n",
    "    \n",
    "</div>"
   ]
  },
  {
   "cell_type": "code",
   "execution_count": null,
   "metadata": {
    "ExecuteTime": {
     "end_time": "2022-12-19T16:46:00.221093Z",
     "start_time": "2022-12-19T16:45:57.765518Z"
    },
    "id": "wfgEx2FbNqNH"
   },
   "outputs": [],
   "source": [
    "import numpy as np\n",
    "import pandas as pd\n",
    "import matplotlib.pyplot as plt\n",
    "import itertools\n",
    "from collections import Counter\n",
    "import scipy.stats as stats\n",
    "\n",
    "import pandas as pd\n",
    "import numpy as np\n",
    "import matplotlib.pyplot as plt\n",
    "import seaborn as sns\n",
    "from sklearn.model_selection import train_test_split\n",
    "from sklearn import linear_model\n",
    "from sklearn import preprocessing\n",
    "from sklearn.preprocessing import StandardScaler\n",
    "from sklearn.linear_model import LogisticRegression\n",
    "from sklearn.metrics import confusion_matrix, mean_squared_error\n",
    "from sklearn.model_selection import cross_val_score, cross_val_predict\n",
    "from sklearn.model_selection import GridSearchCV\n",
    "from sklearn.model_selection import KFold\n",
    "from sklearn.feature_selection import RFE\n",
    "from sklearn import metrics\n",
    "from sklearn.metrics import r2_score, accuracy_score, confusion_matrix, roc_curve, f1_score\n",
    "import statsmodels.api as sm\n",
    "from sklearn.svm import SVC\n",
    "from sklearn import svm\n",
    "from scipy.optimize import curve_fit\n",
    "from sklearn.pipeline import make_pipeline\n",
    "from sklearn.neighbors import KNeighborsRegressor\n",
    "from sklearn.metrics import mean_squared_error\n",
    "from math import sqrt\n",
    "from scipy import stats\n",
    "import seaborn as sn\n",
    "#from mlxtend.feature_selection import SequentialFeatureSelector as SFS\n",
    "from sklearn import tree\n",
    "# import pydotplus\n",
    "from sklearn.tree import DecisionTreeClassifier\n",
    "import matplotlib.pyplot as plt\n",
    "import matplotlib.image as pltimg\n",
    "from sklearn.feature_selection import SelectKBest\n",
    "from sklearn.feature_selection import chi2\n",
    "from sklearn.neighbors import KNeighborsClassifier\n",
    "from sklearn.ensemble import RandomForestClassifier\n",
    "from sklearn.datasets import make_classification\n",
    "from sklearn.model_selection import LeaveOneOut\n",
    "from scipy.stats import fisher_exact\n",
    "from scipy.stats import chi2_contingency, mood\n",
    "from sklearn.neural_network import MLPClassifier\n",
    "from sklearn.feature_selection import mutual_info_classif, f_regression, mutual_info_regression, f_classif\n",
    "\n",
    "from random import choices"
   ]
  },
  {
   "cell_type": "code",
   "execution_count": null,
   "metadata": {
    "ExecuteTime": {
     "end_time": "2022-12-19T16:46:00.942451Z",
     "start_time": "2022-12-19T16:46:00.284640Z"
    },
    "id": "IzJwPgB9NqNH"
   },
   "outputs": [],
   "source": [
    "dfw1 = pd.read_excel(\"Week 1.xlsx\")\n",
    "dfw2 = pd.read_excel(\"Week 2.xlsx\")\n",
    "\n",
    "dfw1['Datum'] = dfw1['Datum'].astype(str)\n",
    "dfw2['Datum'] = dfw2['Datum'].astype(str)\n",
    "\n",
    "dfw1.rename(columns={\"Fingerprick  (mg/dL)\": \"Fingerprick (mg/dL)\"}, inplace = True)\n",
    "\n",
    "feature = \"Patiënt ID\"\n",
    "elset = list(set(dfw1[feature].tolist()))\n",
    "\n",
    "dfw1_dict = {idd: dfw1.loc[dfw1['Patiënt ID'] == idd] for idd in elset}\n",
    "dfw2_dict = {idd: dfw2.loc[dfw2['Patiënt ID'] == idd] for idd in elset}"
   ]
  },
  {
   "cell_type": "code",
   "execution_count": null,
   "metadata": {
    "ExecuteTime": {
     "end_time": "2022-12-19T16:46:02.908532Z",
     "start_time": "2022-12-19T16:46:02.879805Z"
    },
    "id": "MLvzfQAHlFLd"
   },
   "outputs": [],
   "source": [
    "dfw1[\"Period\"] = ['PA']*dfw1.shape[0]\n",
    "dfw2[\"Period\"] = ['NDA']*dfw2.shape[0]\n",
    "\n",
    "dff = pd.concat([dfw1, dfw2], axis=0)"
   ]
  },
  {
   "cell_type": "code",
   "execution_count": null,
   "metadata": {
    "ExecuteTime": {
     "end_time": "2022-12-19T16:46:05.398791Z",
     "start_time": "2022-12-19T16:46:05.371893Z"
    },
    "id": "iteqI-a3dMTW"
   },
   "outputs": [],
   "source": [
    "font = {'weight' : 'bold',\n",
    "  'size' : 18}\n",
    "plt.rc('font', **font)"
   ]
  },
  {
   "cell_type": "markdown",
   "metadata": {
    "id": "N1u2-Y0eYzfO"
   },
   "source": [
    "<div class=\"alert alert-block alert-danger\">\n",
    "\n",
    "# **SAMPLES PER PATIENT**\n",
    "\n",
    "</div>"
   ]
  },
  {
   "cell_type": "code",
   "execution_count": null,
   "metadata": {
    "ExecuteTime": {
     "end_time": "2022-12-19T16:45:19.940846Z",
     "start_time": "2022-12-19T16:45:19.923886Z"
    },
    "id": "c6xykyZIYu8r"
   },
   "outputs": [],
   "source": [
    "def muestras(patients):\n",
    "  \n",
    "  for e in patients:\n",
    "    \n",
    "    datesw1 = [str(j)[0:10] for j in list(dfw1_dict[e].Datum)]\n",
    "    datesw2 = [str(j)[0:10] for j in list(dfw2_dict[e].Datum)]\n",
    "    setdatesw1 = list(set(datesw1))\n",
    "    setdatesw2 = list(set(datesw2))\n",
    "    \n",
    "    a = []\n",
    "    b = []\n",
    "    for i in datesw1:\n",
    "        a.append(datesw1.count(i))\n",
    "    for i in datesw2:\n",
    "        b.append(datesw2.count(i))\n",
    "    \n",
    "    plt.figure(figsize=[20,4])\n",
    "    plt.rc('font', size=20)\n",
    "    plt.subplot(1, 2, 1)\n",
    "    plt.bar(datesw1, a)\n",
    "    plt.xticks(rotation = 45)\n",
    "    plt.ylim(0,12)\n",
    "    plt.title(\"Number of samples per Exercise day - Patient \" + str(e))\n",
    "    plt.subplot(1, 2, 2)\n",
    "    plt.bar(datesw2, b)\n",
    "    plt.xticks(rotation = 45)\n",
    "    plt.ylim(0,12)\n",
    "    plt.title(\"Number of samples per NDA day - Patient \" + str(e))\n",
    "    plt.show()"
   ]
  },
  {
   "cell_type": "code",
   "execution_count": null,
   "metadata": {
    "ExecuteTime": {
     "end_time": "2022-12-19T16:45:29.405677Z",
     "start_time": "2022-12-19T16:45:21.228117Z"
    },
    "id": "B0JyowqmmQ9m"
   },
   "outputs": [],
   "source": [
    "muestras(list(elset))"
   ]
  },
  {
   "cell_type": "markdown",
   "metadata": {
    "id": "lTfJaNOFY5Hg"
   },
   "source": [
    "<div class=\"alert alert-block alert-danger\">\n",
    "    \n",
    "# **GLUCOSE SERIES**\n",
    "\n",
    "</div>\n"
   ]
  },
  {
   "cell_type": "code",
   "execution_count": null,
   "metadata": {
    "ExecuteTime": {
     "end_time": "2022-12-19T16:45:30.806169Z",
     "start_time": "2022-12-19T16:45:30.746043Z"
    },
    "id": "WW2DWPLZIJZh"
   },
   "outputs": [],
   "source": [
    "dfw1['Datum'] = dfw1['Datum'].str[0:10]\n",
    "dfw2['Datum'] = dfw2['Datum'].str[0:10]\n",
    "\n",
    "dfw1_dict = {idd: dfw1.loc[dfw1['Patiënt ID'] == idd] for idd in elset}\n",
    "dfw2_dict = {idd: dfw2.loc[dfw2['Patiënt ID'] == idd] for idd in elset}"
   ]
  },
  {
   "cell_type": "code",
   "execution_count": null,
   "metadata": {
    "id": "VNq7JYJnNqNI",
    "scrolled": false
   },
   "outputs": [],
   "source": [
    "def actnda(elsettt):\n",
    "    \n",
    "    for e in elsettt:\n",
    "        nrow=1\n",
    "        ncol=2\n",
    "        p = 0\n",
    "        q = 1\n",
    "        fig, axes = plt.subplots(nrow, ncol)\n",
    "\n",
    "        plt.rc('font', size=20)\n",
    "        \n",
    "        dfw1_dict[e][['FSL (mg/dL)', 'Fingerprick (mg/dL)', 'Eversense (mg/dl)', 'Datum']].plot(x = 'Datum', y = ['FSL (mg/dL)', 'Fingerprick (mg/dL)', 'Eversense (mg/dl)'],kind= 'line', figsize=(20,4), ax=axes[p], ylim=(0,500), rot = 45, title = 'Patient ' + str(e) + ' - Exercise')\n",
    "\n",
    "        dfw2_dict[e][['FSL (mg/dL)','Fingerprick (mg/dL)','Eversense (mg/dl)', 'Datum']].plot(x = 'Datum', y = ['FSL (mg/dL)', 'Fingerprick (mg/dL)', 'Eversense (mg/dl)'],kind= 'line', figsize=(20,4), ax=axes[q], ylim=(0,500), rot = 45 ,title = 'Patient ' + str(e) + ' - NDA')\n"
   ]
  },
  {
   "cell_type": "code",
   "execution_count": null,
   "metadata": {
    "id": "HRXiaaVBNqNJ"
   },
   "outputs": [],
   "source": [
    "elsettt = [1,2,3,4,5]\n",
    "actnda(elsettt)\n",
    "elsettt = [6,8,9,10,11]\n",
    "actnda(elsettt)\n",
    "elsettt = [12,13,14,15,17]\n",
    "actnda(elsettt)\n",
    "elsettt = [18,19,20,21,22]\n",
    "actnda(elsettt)\n",
    "elsettt = [23,24,25]\n",
    "actnda(elsettt)"
   ]
  },
  {
   "cell_type": "markdown",
   "metadata": {
    "id": "GIceJcOPper7"
   },
   "source": [
    "<div class=\"alert alert-block alert-danger\">\n",
    "    \n",
    "# **TRIALS**\n",
    "\n",
    "</div>\n"
   ]
  },
  {
   "cell_type": "code",
   "execution_count": null,
   "metadata": {
    "ExecuteTime": {
     "end_time": "2022-12-19T16:46:12.570577Z",
     "start_time": "2022-12-19T16:46:10.388082Z"
    },
    "id": "nDv39Oy6pky5"
   },
   "outputs": [],
   "source": [
    "datesw1 = set(dfw1.Datum)\n",
    "listas_fp_w1 = []\n",
    "listas_fsl_w1 = []\n",
    "listas_es_w1 = []\n",
    "\n",
    "for e in elset:\n",
    "    listapaciente1_fp_w1 = []\n",
    "    listapaciente1_es_w1 = []\n",
    "    listapaciente1_fsl_w1 = []\n",
    "    datesw1_p1 = list(dfw1[dfw1['Patiënt ID'] == e].Datum)\n",
    "\n",
    "    for date in datesw1:\n",
    "        if date in datesw1_p1:\n",
    "            listapaciente1_fp_w1.append(float(dfw1['Fingerprick (mg/dL)'].loc[((dfw1['Patiënt ID']==e)&(dfw1['Datum']==date))]))\n",
    "            listapaciente1_fsl_w1.append(float(dfw1['FSL (mg/dL)'].loc[((dfw1['Patiënt ID']==e)&(dfw1['Datum']==date))]))\n",
    "            listapaciente1_es_w1.append(float(dfw1['Eversense (mg/dl)'].loc[((dfw1['Patiënt ID']==e)&(dfw1['Datum']==date))]))\n",
    "        else:\n",
    "            listapaciente1_fp_w1.append(np.nan)\n",
    "            listapaciente1_fsl_w1.append(np.nan)\n",
    "            listapaciente1_es_w1.append(np.nan)\n",
    "  \n",
    "    listas_fp_w1.append(listapaciente1_fp_w1)\n",
    "    listas_fsl_w1.append(listapaciente1_fsl_w1)\n",
    "    listas_es_w1.append(listapaciente1_es_w1)  "
   ]
  },
  {
   "cell_type": "code",
   "execution_count": null,
   "metadata": {
    "ExecuteTime": {
     "end_time": "2022-12-19T16:46:17.312268Z",
     "start_time": "2022-12-19T16:46:15.384027Z"
    },
    "id": "C_nhMkwMpk15"
   },
   "outputs": [],
   "source": [
    "datesw2 = set(dfw2.Datum)\n",
    "listas_fp_w2 = []\n",
    "listas_fsl_w2 = []\n",
    "listas_es_w2 = []\n",
    "for e in elset:\n",
    "    listapaciente1_fp_w2 = []\n",
    "    listapaciente1_es_w2 = []\n",
    "    listapaciente1_fsl_w2 = []\n",
    "    datesw2_p1 = list(dfw2[dfw2['Patiënt ID'] == e].Datum)\n",
    "    for date in datesw2:\n",
    "        if date in datesw2_p1:\n",
    "            listapaciente1_fp_w2.append((list(dfw2['Fingerprick (mg/dL)'].loc[((dfw2['Patiënt ID']==e)&(dfw2['Datum']==date))])[0]))\n",
    "            listapaciente1_fsl_w2.append(list(dfw2['FSL (mg/dL)'].loc[((dfw2['Patiënt ID']==e)&(dfw2['Datum']==date))])[0])\n",
    "            listapaciente1_es_w2.append(list(dfw2['Eversense (mg/dl)'].loc[((dfw2['Patiënt ID']==e)&(dfw2['Datum']==date))])[0])\n",
    "        else:\n",
    "            listapaciente1_fp_w2.append(np.nan)\n",
    "            listapaciente1_fsl_w2.append(np.nan)\n",
    "            listapaciente1_es_w2.append(np.nan)\n",
    "\n",
    "    listas_fp_w2.append(listapaciente1_fp_w2)\n",
    "    listas_fsl_w2.append(listapaciente1_fsl_w2)\n",
    "    listas_es_w2.append(listapaciente1_es_w2)"
   ]
  },
  {
   "cell_type": "code",
   "execution_count": null,
   "metadata": {
    "ExecuteTime": {
     "end_time": "2022-12-19T16:46:19.696491Z",
     "start_time": "2022-12-19T16:46:19.685276Z"
    },
    "id": "UQ3ICFD31NQO"
   },
   "outputs": [],
   "source": [
    "datesw1_ticks = datesw1"
   ]
  },
  {
   "cell_type": "code",
   "execution_count": null,
   "metadata": {
    "ExecuteTime": {
     "end_time": "2022-12-19T16:46:22.195325Z",
     "start_time": "2022-12-19T16:46:22.181621Z"
    },
    "id": "UWxEp4Ai1NIl"
   },
   "outputs": [],
   "source": [
    "datesw2_ticks = datesw2"
   ]
  },
  {
   "cell_type": "code",
   "execution_count": null,
   "metadata": {
    "ExecuteTime": {
     "end_time": "2022-12-19T16:46:24.668192Z",
     "start_time": "2022-12-19T16:46:24.656755Z"
    },
    "id": "SZ67vK-xzGL8"
   },
   "outputs": [],
   "source": [
    "#import datetime\n",
    "from datetime import datetime"
   ]
  },
  {
   "cell_type": "code",
   "execution_count": null,
   "metadata": {
    "ExecuteTime": {
     "end_time": "2022-12-19T16:46:27.239828Z",
     "start_time": "2022-12-19T16:46:27.195262Z"
    },
    "id": "HpT3X6G_ysvP"
   },
   "outputs": [],
   "source": [
    "datesw1 = list(datesw1)\n",
    "datesw1_corrected = []\n",
    "for i,f in enumerate(datesw1):\n",
    "    datesw1[i] = datesw1[i][:10]\n",
    "datesw1.sort(key=lambda date: datetime.strptime(date, \"%Y-%m-%d\"))\n",
    "\n",
    "datesw2 = list(datesw2)\n",
    "for i,f in enumerate(datesw2):\n",
    "    datesw2[i] = datesw2[i][:10]\n",
    "datesw2.sort(key=lambda date: datetime.strptime(date, \"%Y-%m-%d\"))"
   ]
  },
  {
   "cell_type": "code",
   "execution_count": null,
   "metadata": {
    "ExecuteTime": {
     "end_time": "2022-12-19T16:46:30.206578Z",
     "start_time": "2022-12-19T16:46:30.177953Z"
    },
    "id": "NJOmgVg3vIwO"
   },
   "outputs": [],
   "source": [
    "daysw1 = []\n",
    "for i, f in enumerate(datesw1):\n",
    "    if datesw1[i] not in daysw1:\n",
    "        daysw1.append(datesw1[i][:10])\n",
    "    else:\n",
    "        daysw1.append(None)\n",
    "\n",
    "daysw2 = []\n",
    "for i, f in enumerate(datesw2):\n",
    "    if datesw2[i] not in daysw2:\n",
    "        daysw2.append(datesw2[i][:10]) \n",
    "    else:\n",
    "        daysw2.append(None)"
   ]
  },
  {
   "cell_type": "code",
   "execution_count": null,
   "metadata": {
    "ExecuteTime": {
     "end_time": "2022-12-19T16:46:35.345549Z",
     "start_time": "2022-12-19T16:46:35.320724Z"
    }
   },
   "outputs": [],
   "source": [
    "len(datesw2_ticks)"
   ]
  },
  {
   "cell_type": "code",
   "execution_count": null,
   "metadata": {
    "ExecuteTime": {
     "end_time": "2022-12-19T16:46:32.816141Z",
     "start_time": "2022-12-19T16:46:32.789563Z"
    }
   },
   "outputs": [],
   "source": [
    "len(daysw2)"
   ]
  },
  {
   "cell_type": "code",
   "execution_count": null,
   "metadata": {
    "ExecuteTime": {
     "end_time": "2022-12-19T16:46:39.735120Z",
     "start_time": "2022-12-19T16:46:39.724124Z"
    },
    "id": "RADwFuthJCNq"
   },
   "outputs": [],
   "source": [
    "daysw2[-4:] = [\"\"]*4"
   ]
  },
  {
   "cell_type": "code",
   "execution_count": null,
   "metadata": {
    "ExecuteTime": {
     "end_time": "2022-12-19T16:44:35.956595Z",
     "start_time": "2022-12-19T16:44:20.195477Z"
    },
    "colab": {
     "base_uri": "https://localhost:8080/",
     "height": 505
    },
    "id": "gbhYFN9EJB5z",
    "outputId": "02e5493e-feba-440a-db43-7b2f08e185a1"
   },
   "outputs": [],
   "source": [
    "df_fp_w1 = pd.DataFrame(listas_fp_w1)\n",
    "df_fp_w1 = df_fp_w1.T\n",
    "df_fp_w1.columns = elset\n",
    "df_fp_w1 = df_fp_w1.interpolate()\n",
    "df_fp_w1['mean'] = df_fp_w1.mean(axis = 1)\n",
    "\n",
    "plt.figure(figsize = (20,6))\n",
    "#with sns.color_palette(\"Greys\", n_colors=23):\n",
    "plt.plot(list(datesw1_ticks),df_fp_w1, color = 'gray', alpha = 0.6)\n",
    "plt.plot(list(datesw1_ticks), df_fp_w1['mean'], '-.', color = 'red',linewidth=5, label= 'Mean')\n",
    "plt.axhline(y=70, color='blue', linestyle='--',linewidth=4, label= 'Hypoglycemia')\n",
    "plt.axhline(y=180, color='green', linestyle='--',linewidth=4, label='Hyperglycemia')\n",
    "#plt.legend(fontsize = 24)\n",
    "plt.gca.legend_ =None\n",
    "plt.ylim(0,600)\n",
    "plt.yticks(fontsize = 28)\n",
    "plt.ylabel('Glucose values (mg/dL)',fontsize = 28, weight = 'bold')\n",
    "#plt.title('Fingerprick PA', weight = 'bold', fontsize=\"xx-large\")\n",
    "plt.xticks(ticks=list(datesw1_ticks), labels=daysw1, rotation = 20, fontsize = 28)\n",
    "plt.tick_params(bottom = False)\n",
    "plt.xlabel(\"PA period\",fontsize = 28, weight = 'bold')\n",
    "plt.savefig('2_a.png', bbox_inches='tight')"
   ]
  },
  {
   "cell_type": "code",
   "execution_count": null,
   "metadata": {
    "ExecuteTime": {
     "end_time": "2022-12-19T16:40:29.538752Z",
     "start_time": "2022-12-19T16:40:29.513488Z"
    }
   },
   "outputs": [],
   "source": [
    "len(datesw2_ticks)"
   ]
  },
  {
   "cell_type": "code",
   "execution_count": null,
   "metadata": {
    "ExecuteTime": {
     "end_time": "2022-12-19T16:40:30.493016Z",
     "start_time": "2022-12-19T16:40:30.480939Z"
    }
   },
   "outputs": [],
   "source": [
    "len(daysw2)"
   ]
  },
  {
   "cell_type": "code",
   "execution_count": null,
   "metadata": {
    "ExecuteTime": {
     "end_time": "2022-12-19T16:46:56.928956Z",
     "start_time": "2022-12-19T16:46:43.333804Z"
    },
    "colab": {
     "base_uri": "https://localhost:8080/",
     "height": 505
    },
    "id": "IRCudXcTJB_D",
    "outputId": "7cc301b9-c158-475e-cad9-fdaa8ecb83e7"
   },
   "outputs": [],
   "source": [
    "df_fp_w2 = pd.DataFrame(listas_fp_w2)\n",
    "df_fp_w2 = df_fp_w2.T\n",
    "df_fp_w2.columns = elset\n",
    "df_fp_w2 = df_fp_w2.interpolate()\n",
    "df_fp_w2['mean'] = df_fp_w2.mean(axis = 1)\n",
    "\n",
    "plt.figure(figsize = (20,6))\n",
    "#with sns.color_palette(\"Greys\", n_colors=23):\n",
    "plt.plot(list(datesw2_ticks),df_fp_w2, color = 'gray', alpha = 0.6)\n",
    "plt.plot(list(datesw2_ticks), df_fp_w2['mean'], '-.', color = 'red',linewidth=5, label= 'Mean')\n",
    "plt.axhline(y=70, color='blue', linestyle='--',linewidth=4, label= 'Hypoglycemia')\n",
    "plt.axhline(y=180, color='green', linestyle='--',linewidth=4, label='Hyperglycemia')\n",
    "plt.legend(fontsize = 24, loc = 'upper right')\n",
    "plt.ylim(0,650)\n",
    "plt.ylabel('Glucose values (mg/dL)',fontsize = 28, weight = 'bold')\n",
    "#plt.title('Fingerprick NDA', weight = 'bold', fontsize=\"xx-large\")\n",
    "plt.xticks(ticks=list(datesw2_ticks), labels=daysw2, rotation = 20,fontsize = 28)\n",
    "plt.yticks(fontsize = 28)\n",
    "plt.tick_params(bottom = False)\n",
    "plt.xlabel(\"NDA period\",fontsize = 28, weight = 'bold')\n",
    "plt.savefig('2_b.png', bbox_inches='tight')"
   ]
  },
  {
   "cell_type": "code",
   "execution_count": null,
   "metadata": {
    "ExecuteTime": {
     "end_time": "2022-12-19T16:36:50.745840Z",
     "start_time": "2022-12-19T16:36:38.205599Z"
    },
    "colab": {
     "base_uri": "https://localhost:8080/",
     "height": 505
    },
    "id": "vW4-qdlZJCGl",
    "outputId": "efef2d0d-9661-4338-f77b-d39d604e658d"
   },
   "outputs": [],
   "source": [
    "df_fsl_w1 = pd.DataFrame(listas_fsl_w1)\n",
    "df_fsl_w1 = df_fsl_w1.T\n",
    "df_fsl_w1.columns = elset\n",
    "df_fsl_w1 = df_fsl_w1.interpolate()\n",
    "df_fsl_w1['mean'] = df_fsl_w1.mean(axis = 1)\n",
    "\n",
    "\n",
    "plt.figure(figsize = (20,6))\n",
    "#with sns.color_palette(\"Greys\", n_colors=23):\n",
    "plt.plot(list(datesw1_ticks),df_fsl_w1, color = 'gray', alpha = 0.6)\n",
    "plt.plot(list(datesw1_ticks), df_fsl_w1['mean'], '-.', color = 'red',linewidth=5, label= 'Mean')\n",
    "plt.axhline(y=70, color='blue', linestyle='--',linewidth=4, label= 'Hypoglycemia')\n",
    "plt.axhline(y=180, color='green', linestyle='--',linewidth=4, label='Hyperglycemia')\n",
    "#plt.legend(fontsize = 24)\n",
    "plt.yticks(fontsize = 28)\n",
    "plt.ylabel('Glucose values (mg/dL)',fontsize = 28, weight = 'bold')\n",
    "plt.ylim(0,650)\n",
    "#plt.title('FSL PA', weight = 'bold', fontsize=\"xx-large\")\n",
    "plt.xticks(ticks=list(datesw1_ticks), labels=daysw1, rotation = 20,fontsize = 28)\n",
    "plt.tick_params(bottom = False)\n",
    "plt.xlabel(\"PA period\",fontsize = 28, weight = 'bold')\n",
    "plt.savefig('2_C.png', bbox_inches='tight')"
   ]
  },
  {
   "cell_type": "code",
   "execution_count": null,
   "metadata": {
    "ExecuteTime": {
     "end_time": "2022-12-19T16:41:03.242012Z",
     "start_time": "2022-12-19T16:40:51.133098Z"
    },
    "colab": {
     "base_uri": "https://localhost:8080/",
     "height": 505
    },
    "id": "NJxlu56EJCKP",
    "outputId": "63f92ef2-bc49-48de-b7cf-8b500372bb1b"
   },
   "outputs": [],
   "source": [
    "df_fsl_w2 = pd.DataFrame(listas_fsl_w2)\n",
    "df_fsl_w2 = df_fsl_w2.T\n",
    "df_fsl_w2.columns = elset\n",
    "df_fsl_w2 = df_fsl_w2.interpolate()\n",
    "df_fsl_w2['mean'] = df_fsl_w2.mean(axis = 1)\n",
    "\n",
    "plt.figure(figsize = (20,6))\n",
    "#with sns.color_palette(\"Greys\", n_colors=23):\n",
    "plt.plot(list(datesw2_ticks),df_fsl_w2, color = 'gray', alpha = 0.6)\n",
    "plt.plot(list(datesw2_ticks), df_fsl_w2['mean'], '-.', color = 'red',linewidth=5, label= 'Mean')\n",
    "plt.axhline(y=70, color='blue', linestyle='--',linewidth=4, label= 'Hypoglycemia')\n",
    "plt.axhline(y=180, color='green', linestyle='--',linewidth=4, label='Hyperglycemia')\n",
    "plt.legend(fontsize = 24, loc = 'upper right')\n",
    "plt.ylim(0,650)\n",
    "plt.yticks(fontsize = 28)\n",
    "plt.ylabel('Glucose values (mg/dL)',fontsize = 28, weight = 'bold')\n",
    "#plt.title('FSL NDA', weight = 'bold', fontsize=\"xx-large\")\n",
    "plt.xticks(ticks=list(datesw2_ticks), labels=daysw2, rotation = 20,fontsize = 28)\n",
    "plt.tick_params(bottom = False)\n",
    "plt.xlabel(\"NDA period\",fontsize = 28, weight = 'bold')\n",
    "plt.savefig('2_d.png', bbox_inches='tight')"
   ]
  },
  {
   "cell_type": "code",
   "execution_count": null,
   "metadata": {
    "ExecuteTime": {
     "end_time": "2022-12-19T16:37:34.986420Z",
     "start_time": "2022-12-19T16:37:23.672111Z"
    },
    "colab": {
     "base_uri": "https://localhost:8080/",
     "height": 505
    },
    "id": "7mE1aawfJCRX",
    "outputId": "9194e296-65fd-4f9a-cf9d-370b69be55fd"
   },
   "outputs": [],
   "source": [
    "df_es_w1 = pd.DataFrame(listas_es_w1)\n",
    "df_es_w1 = df_es_w1.T\n",
    "df_es_w1.columns = elset\n",
    "df_es_w1 = df_es_w1.interpolate()\n",
    "df_es_w1['mean'] = df_es_w1.mean(axis = 1)\n",
    "\n",
    "plt.figure(figsize = (20,6))\n",
    "#with sns.color_palette(\"Greys\", n_colors=23):\n",
    "plt.plot(list(datesw1_ticks),df_es_w1, color = 'gray', alpha = 0.6)\n",
    "plt.plot(list(datesw1_ticks), df_es_w1['mean'], '-.', color = 'red',linewidth=5, label= 'Mean')\n",
    "plt.axhline(y=70, color='blue', linestyle='--',linewidth=4, label= 'Hypoglycemia')\n",
    "plt.axhline(y=180, color='green', linestyle='--',linewidth=4, label='Hyperglycemia')\n",
    "#plt.legend(fontsize = 24, loc = 'upper right')\n",
    "plt.ylim(0,650)\n",
    "plt.yticks(fontsize = 28)\n",
    "plt.ylabel('Glucose values (mg/dL)',fontsize = 28, weight = 'bold')\n",
    "#plt.title('FSL PA', weight = 'bold', fontsize=\"xx-large\")\n",
    "plt.xticks(ticks=list(datesw1_ticks), labels=daysw1, rotation = 20,fontsize = 28)\n",
    "plt.xlabel(\"PA period\",fontsize = 28, weight = 'bold')\n",
    "plt.tick_params(bottom = False)\n",
    "plt.savefig('2_e.png', bbox_inches='tight')"
   ]
  },
  {
   "cell_type": "code",
   "execution_count": null,
   "metadata": {
    "ExecuteTime": {
     "end_time": "2022-12-19T16:41:18.034325Z",
     "start_time": "2022-12-19T16:41:05.033404Z"
    },
    "colab": {
     "base_uri": "https://localhost:8080/",
     "height": 505
    },
    "id": "ufNY8HZGJCVU",
    "outputId": "dde12bca-6693-48ca-b621-9daae005beb0"
   },
   "outputs": [],
   "source": [
    "df_es_w2 = pd.DataFrame(listas_es_w2)\n",
    "df_es_w2 = df_es_w2.T\n",
    "df_es_w2.columns = elset\n",
    "df_es_w2 = df_es_w2.interpolate()\n",
    "df_es_w2['mean'] = df_es_w2.mean(axis = 1)\n",
    "\n",
    "plt.figure(figsize = (20,6))\n",
    "#with sns.color_palette(\"Greys\", n_colors=23):\n",
    "plt.plot(list(datesw2_ticks),df_es_w2, color = 'gray', alpha = 0.6)\n",
    "plt.plot(list(datesw2_ticks), df_es_w2['mean'], '-.', color = 'red',linewidth=5, label= 'Mean')\n",
    "plt.axhline(y=70, color='blue', linestyle='--',linewidth=4, label= 'Hypoglycemia')\n",
    "plt.axhline(y=180, color='green', linestyle='--',linewidth=4, label='Hyperglycemia')\n",
    "plt.legend(fontsize = 24, loc='upper right')\n",
    "plt.ylim(0,650)\n",
    "#plt.yticks(fontsize = 28)\n",
    "plt.ylabel('Glucose values (mg/dL)',fontsize = 28, weight = 'bold')\n",
    "#plt.title('ES NDA', weight = 'bold', fontsize=\"xx-large\")\n",
    "plt.xticks(ticks=list(datesw2_ticks), labels=daysw2, rotation = 20,fontsize = 28)\n",
    "plt.xlabel(\"NDA period\",fontsize = 28, weight = 'bold')\n",
    "plt.tick_params(bottom = False)\n",
    "plt.savefig('2_f.png', bbox_inches='tight')"
   ]
  },
  {
   "cell_type": "markdown",
   "metadata": {
    "id": "UOOBJhXIpR6k"
   },
   "source": [
    "<div class=\"alert alert-block alert-danger\">\n",
    "    \n",
    "# **MEAN AND STANDARD DEVIATION PER DAY AND PATIENT**\n",
    "\n",
    "</div>"
   ]
  },
  {
   "cell_type": "code",
   "execution_count": null,
   "metadata": {
    "id": "zPqo2q4zfmXy"
   },
   "outputs": [],
   "source": [
    "def meanstdw1(alt, patients):\n",
    "\n",
    "    meanw1 = []\n",
    "    stdw1 = []\n",
    "    uniquedatesw1 = []\n",
    "\n",
    "    for e in patients:\n",
    "\n",
    "        datesw1 = sorted(list(set([str(j)[0:10] for j in list(dfw1_dict[e].Datum)])))\n",
    "        uniquedatesw1.append(datesw1)\n",
    "        meanpatient = []\n",
    "        stdpatient = []\n",
    "\n",
    "        for date in datesw1:\n",
    "            uno = dfw1.loc[(dfw1['Patiënt ID']==e) & (dfw1['Datum'].str.endswith(date))]\n",
    "            meanpatient.append(np.mean(uno[alt]))\n",
    "            stdpatient.append(np.std(uno[alt]))\n",
    "\n",
    "        meanw1.append(meanpatient)\n",
    "        stdw1.append(stdpatient)\n",
    "\n",
    "    return meanw1, stdw1, uniquedatesw1\n",
    "\n",
    "def meanstdw2(alt, patients):\n",
    "\n",
    "    meanw2 = []\n",
    "    stdw2 = []\n",
    "    uniquedatesw2 = []\n",
    "\n",
    "    for e in patients:\n",
    "\n",
    "        datesw2 = sorted(list(set([str(j)[0:10] for j in list(dfw2_dict[e].Datum)])))\n",
    "        uniquedatesw2.append(datesw2)\n",
    "        meanpatient = []\n",
    "        stdpatient = []\n",
    "\n",
    "        for date in datesw2:\n",
    "            uno = dfw2.loc[(dfw2['Patiënt ID']==e) & (dfw2['Datum'].str.endswith(date))]\n",
    "            meanpatient.append(np.mean(uno[alt]))\n",
    "            stdpatient.append(np.std(uno[alt]))\n",
    "\n",
    "        meanw2.append(meanpatient)\n",
    "        stdw2.append(stdpatient)\n",
    "\n",
    "    return meanw2, stdw2, uniquedatesw2\n"
   ]
  },
  {
   "cell_type": "code",
   "execution_count": null,
   "metadata": {
    "id": "cS5EHyo6sFk7"
   },
   "outputs": [],
   "source": [
    "mesw1, sesw1, desw1 = meanstdw1('Eversense (mg/dl)', elset)\n",
    "mesw2, sesw2, desw2 = meanstdw2('Eversense (mg/dl)', elset)\n",
    "\n",
    "mfslw1, sfslw1, dfslw1 = meanstdw1('FSL (mg/dL)', elset)\n",
    "mfslw2, sfslw2, dfslw2 = meanstdw2('FSL (mg/dL)', elset)\n",
    "\n",
    "mfpw1, sfpw1, dfpw1 = meanstdw1('Fingerprick (mg/dL)', elset)\n",
    "mfpw2, sfpw2, dfpw2 = meanstdw2('Fingerprick (mg/dL)', elset)"
   ]
  },
  {
   "cell_type": "code",
   "execution_count": null,
   "metadata": {
    "id": "BZNAL4VUYeXy"
   },
   "outputs": [],
   "source": [
    "cont = 0\n",
    "\n",
    "for e in elset:\n",
    "\n",
    "    plt.figure(figsize=[20,4])\n",
    "\n",
    "    plt.rc('font', size=20)\n",
    "\n",
    "    plt.subplot(1,2,1)\n",
    "    plt.errorbar(x = desw1[cont], y = mesw1[cont], yerr = sesw1[cont], fmt = \".\", label ='Eversense', alpha = 1, color = 'blue', solid_capstyle='projecting', capsize=10, markersize=14)\n",
    "    plt.errorbar(dfpw1[cont], mfpw1[cont], sfpw1[cont], fmt = \".\", label ='FingerPrick', alpha = 1, color = 'green', solid_capstyle='projecting', capsize=10, markersize=14)\n",
    "    plt.errorbar(dfslw1[cont], mfslw1[cont], sfslw1[cont], fmt = \".\", label ='FSL', alpha = 1, color = 'red', solid_capstyle='projecting', capsize=10, markersize=14)\n",
    "    plt.axhline(y=70, linestyle = '--', color = 'black')\n",
    "    plt.axhline(y=180, linestyle = '--', color = 'black')\n",
    "    plt.xticks(rotation = 45)\n",
    "    plt.title(\"Patient \" + str(e) + \" - Week 1\")\n",
    "    plt.ylim(0,550)\n",
    "    plt.legend()\n",
    "    plt.subplot(1,2,2)\n",
    "    plt.errorbar(desw2[cont], mesw2[cont], sesw2[cont], fmt = \".\", label ='Eversense', alpha = 1, color = 'blue', solid_capstyle='projecting', capsize=10, markersize=14)\n",
    "    plt.errorbar(dfpw2[cont], mfpw2[cont], sfpw2[cont], fmt = \".\", label ='FingerPrick', alpha = 1, color = 'green', solid_capstyle='projecting', capsize=10, markersize=14)\n",
    "    plt.errorbar(dfslw2[cont], mfslw2[cont], sfslw2[cont], fmt = \".\", label ='FSL', alpha = 1, color = 'red', solid_capstyle='projecting', capsize=10, markersize=14)\n",
    "    plt.axhline(y=70, linestyle = '--', color = 'black')\n",
    "    plt.axhline(y=180, linestyle = '--', color = 'black')\n",
    "    plt.xticks(rotation = 45)\n",
    "    plt.title(\"Patient \" + str(e) + \" - Week 2\")\n",
    "    plt.ylim(0,550)\n",
    "    plt.legend()\n",
    "    plt.show()\n",
    "\n",
    "    cont += 1"
   ]
  },
  {
   "cell_type": "markdown",
   "metadata": {
    "id": "WDZoHeIxsgeq"
   },
   "source": [
    "<div class=\"alert alert-block alert-danger\">\n",
    "    \n",
    "# **BOXPLOTS PER METHOD AND PATIENT**\n",
    "\n",
    "</div>"
   ]
  },
  {
   "cell_type": "code",
   "execution_count": null,
   "metadata": {
    "ExecuteTime": {
     "end_time": "2022-12-19T16:41:35.826837Z",
     "start_time": "2022-12-19T16:41:34.424538Z"
    },
    "colab": {
     "base_uri": "https://localhost:8080/",
     "height": 436
    },
    "id": "KKl2Y8QjkyVP",
    "outputId": "1c4e3b40-4b7e-4b0b-9261-4a25df71f3ba"
   },
   "outputs": [],
   "source": [
    "plt.figure(figsize = (30, 6))\n",
    "plt.title((''))\n",
    "sns.boxplot(data = dff , x = 'Patiënt ID' , y = 'Fingerprick (mg/dL)' , hue = 'Period', notch = True)\n",
    "plt.xlabel('Patient ID',fontsize = 28,weight = 'bold')\n",
    "plt.ylabel('Glucose values (mg/dL)',fontsize = 28,weight = 'bold')\n",
    "plt.grid(linestyle='--', alpha = 0.7) \n",
    "plt.legend(borderpad=0.6)\n",
    "plt.savefig('1_a.png', bbox_inches='tight')"
   ]
  },
  {
   "cell_type": "code",
   "execution_count": null,
   "metadata": {
    "ExecuteTime": {
     "end_time": "2022-12-19T16:47:53.179253Z",
     "start_time": "2022-12-19T16:47:50.696149Z"
    },
    "id": "a-fHc62Acmti"
   },
   "outputs": [],
   "source": [
    "plt.figure(figsize = (30, 6))\n",
    "plt.title((''))\n",
    "sns.boxplot(data = dff , x = 'Patiënt ID' , y = 'FSL (mg/dL)' , hue = 'Period', notch = True)\n",
    "plt.xlabel('Patient ID',fontsize = 28,weight = 'bold')\n",
    "plt.ylabel('Glucose values (mg/dL)',fontsize = 28,weight = 'bold')\n",
    "plt.grid(linestyle='--', alpha = 0.7)\n",
    "plt.legend(borderpad=0.6, loc = 'upper right')\n",
    "plt.savefig('1_b.png', bbox_inches='tight')"
   ]
  },
  {
   "cell_type": "code",
   "execution_count": null,
   "metadata": {
    "ExecuteTime": {
     "end_time": "2022-12-19T16:41:52.862858Z",
     "start_time": "2022-12-19T16:41:51.541569Z"
    },
    "id": "mlOB3HxUcvbI"
   },
   "outputs": [],
   "source": [
    "plt.figure(figsize = (30, 6))\n",
    "plt.title((''))\n",
    "plt.ylim(0,500)\n",
    "sns.boxplot(data = dff , x = 'Patiënt ID' , y = 'Eversense (mg/dl)' , hue = 'Period', notch = True)\n",
    "plt.xlabel('Patient ID',fontsize = 28,weight = 'bold')\n",
    "plt.ylabel('Glucose values (mg/dL)',fontsize = 28,weight = 'bold')\n",
    "plt.grid(linestyle='--', alpha = 0.7)\n",
    "plt.legend(borderpad=0.6)\n",
    "plt.savefig('1_c', bbox_inches='tight')"
   ]
  },
  {
   "cell_type": "code",
   "execution_count": null,
   "metadata": {
    "id": "rljZ6MFEOkz7"
   },
   "outputs": [],
   "source": []
  }
 ],
 "metadata": {
  "colab": {
   "collapsed_sections": [
    "N1u2-Y0eYzfO",
    "lTfJaNOFY5Hg",
    "UOOBJhXIpR6k"
   ],
   "provenance": []
  },
  "hide_input": false,
  "kernelspec": {
   "display_name": "Python 3 (ipykernel)",
   "language": "python",
   "name": "python3"
  },
  "language_info": {
   "codemirror_mode": {
    "name": "ipython",
    "version": 3
   },
   "file_extension": ".py",
   "mimetype": "text/x-python",
   "name": "python",
   "nbconvert_exporter": "python",
   "pygments_lexer": "ipython3",
   "version": "3.9.13"
  },
  "toc": {
   "base_numbering": 1,
   "nav_menu": {},
   "number_sections": true,
   "sideBar": true,
   "skip_h1_title": false,
   "title_cell": "Table of Contents",
   "title_sidebar": "Contents",
   "toc_cell": false,
   "toc_position": {},
   "toc_section_display": true,
   "toc_window_display": false
  },
  "varInspector": {
   "cols": {
    "lenName": 16,
    "lenType": 16,
    "lenVar": 40
   },
   "kernels_config": {
    "python": {
     "delete_cmd_postfix": "",
     "delete_cmd_prefix": "del ",
     "library": "var_list.py",
     "varRefreshCmd": "print(var_dic_list())"
    },
    "r": {
     "delete_cmd_postfix": ") ",
     "delete_cmd_prefix": "rm(",
     "library": "var_list.r",
     "varRefreshCmd": "cat(var_dic_list()) "
    }
   },
   "types_to_exclude": [
    "module",
    "function",
    "builtin_function_or_method",
    "instance",
    "_Feature"
   ],
   "window_display": false
  }
 },
 "nbformat": 4,
 "nbformat_minor": 1
}
