{
 "cells": [
  {
   "cell_type": "markdown",
   "metadata": {
    "id": "p1BTk8drJbi6"
   },
   "source": [
    "<div class=\"alert alert-block alert-danger\">\n",
    "\n",
    "# **Performance of the Eversense versus the Free Style Libre Flash glucose monitor during exercise and normal daily activities in subjects with type 1 diabetes mellitus**\n",
    "    \n",
    "</div>"
   ]
  },
  {
   "cell_type": "code",
   "execution_count": null,
   "metadata": {
    "ExecuteTime": {
     "end_time": "2022-12-20T14:19:02.737902Z",
     "start_time": "2022-12-20T14:18:39.013876Z"
    },
    "colab": {
     "base_uri": "https://localhost:8080/"
    },
    "id": "wfgEx2FbNqNH",
    "outputId": "691c905d-4e69-4218-9f03-fa249fa48939"
   },
   "outputs": [],
   "source": [
    "import numpy as np\n",
    "import pandas as pd\n",
    "import matplotlib.pyplot as plt\n",
    "import itertools\n",
    "from collections import Counter\n",
    "import scipy.stats as stats\n",
    "\n",
    "import pandas as pd\n",
    "import numpy as np\n",
    "import matplotlib.pyplot as plt\n",
    "import seaborn as sns\n",
    "from sklearn.model_selection import train_test_split\n",
    "from sklearn import linear_model\n",
    "from sklearn import preprocessing\n",
    "from sklearn.preprocessing import StandardScaler\n",
    "from sklearn.linear_model import LogisticRegression\n",
    "from sklearn.metrics import confusion_matrix, mean_squared_error\n",
    "from sklearn.model_selection import cross_val_score, cross_val_predict\n",
    "from sklearn.model_selection import GridSearchCV\n",
    "from sklearn.model_selection import KFold\n",
    "from sklearn.feature_selection import RFE\n",
    "from sklearn import metrics\n",
    "from sklearn.metrics import r2_score, accuracy_score, confusion_matrix, roc_curve, f1_score\n",
    "import statsmodels.api as sm\n",
    "from sklearn.svm import SVC\n",
    "from sklearn import svm\n",
    "from scipy.optimize import curve_fit\n",
    "from sklearn.pipeline import make_pipeline\n",
    "from sklearn.neighbors import KNeighborsRegressor\n",
    "from sklearn.metrics import mean_squared_error\n",
    "from math import sqrt\n",
    "from scipy import stats\n",
    "import seaborn as sn\n",
    "# from mlxtend.feature_selection import SequentialFeatureSelector as SFS\n",
    "from sklearn import tree\n",
    "# import pydotplus\n",
    "from sklearn.tree import DecisionTreeClassifier\n",
    "import matplotlib.pyplot as plt\n",
    "import matplotlib.image as pltimg\n",
    "from sklearn.feature_selection import SelectKBest\n",
    "from sklearn.feature_selection import chi2\n",
    "from sklearn.neighbors import KNeighborsClassifier\n",
    "from sklearn.ensemble import RandomForestClassifier\n",
    "from sklearn.datasets import make_classification\n",
    "from sklearn.model_selection import LeaveOneOut\n",
    "from scipy.stats import fisher_exact\n",
    "from scipy.stats import chi2_contingency, mood, shapiro\n",
    "from sklearn.neural_network import MLPClassifier\n",
    "from sklearn.feature_selection import mutual_info_classif, f_regression, mutual_info_regression, f_classif\n",
    "\n",
    "from random import choices\n",
    "\n",
    "import shap"
   ]
  },
  {
   "cell_type": "code",
   "execution_count": null,
   "metadata": {
    "ExecuteTime": {
     "end_time": "2022-12-20T14:19:06.441705Z",
     "start_time": "2022-12-20T14:19:02.767003Z"
    },
    "id": "IzJwPgB9NqNH"
   },
   "outputs": [],
   "source": [
    "dfw1 = pd.read_excel(\"Week 1.xlsx\")\n",
    "dfw2 = pd.read_excel(\"Week 2.xlsx\")\n",
    "\n",
    "dfw1['Datum'] = dfw1['Datum'].astype(str)\n",
    "dfw2['Datum'] = dfw2['Datum'].astype(str)\n",
    "\n",
    "dfw1.rename(columns={\"Fingerprick  (mg/dL)\": \"Fingerprick (mg/dL)\"}, inplace = True)\n",
    "\n",
    "feature = \"Patiënt ID\"\n",
    "elset = list(set(dfw1[feature].tolist()))\n",
    "\n",
    "dfw1_dict = {idd: dfw1.loc[dfw1['Patiënt ID'] == idd] for idd in elset}\n",
    "dfw2_dict = {idd: dfw2.loc[dfw2['Patiënt ID'] == idd] for idd in elset}"
   ]
  },
  {
   "cell_type": "code",
   "execution_count": null,
   "metadata": {
    "ExecuteTime": {
     "end_time": "2022-12-20T14:19:08.374918Z",
     "start_time": "2022-12-20T14:19:08.319642Z"
    },
    "id": "MLvzfQAHlFLd"
   },
   "outputs": [],
   "source": [
    "dfw1[\"Period\"] = ['PA']*dfw1.shape[0]\n",
    "dfw2[\"Period\"] = ['NDA']*dfw2.shape[0]\n",
    "\n",
    "dff = pd.concat([dfw1, dfw2], axis=0)"
   ]
  },
  {
   "cell_type": "code",
   "execution_count": null,
   "metadata": {
    "ExecuteTime": {
     "end_time": "2022-12-20T14:19:10.400558Z",
     "start_time": "2022-12-20T14:19:10.282128Z"
    },
    "id": "WW2DWPLZIJZh"
   },
   "outputs": [],
   "source": [
    "dfw1['Datum'] = dfw1['Datum'].str[0:10]\n",
    "dfw2['Datum'] = dfw2['Datum'].str[0:10]\n",
    "\n",
    "dfw1_dict = {idd: dfw1.loc[dfw1['Patiënt ID'] == idd] for idd in elset}\n",
    "dfw2_dict = {idd: dfw2.loc[dfw2['Patiënt ID'] == idd] for idd in elset}"
   ]
  },
  {
   "cell_type": "code",
   "execution_count": null,
   "metadata": {
    "ExecuteTime": {
     "end_time": "2022-12-20T14:19:13.694114Z",
     "start_time": "2022-12-20T14:19:11.934743Z"
    }
   },
   "outputs": [],
   "source": [
    "dfw1 = pd.read_excel(\"Week 1.xlsx\")\n",
    "dfw2 = pd.read_excel(\"Week 2.xlsx\")"
   ]
  },
  {
   "cell_type": "code",
   "execution_count": null,
   "metadata": {
    "ExecuteTime": {
     "end_time": "2022-12-20T14:19:15.575274Z",
     "start_time": "2022-12-20T14:19:15.465290Z"
    }
   },
   "outputs": [],
   "source": [
    "dfw1['Datum'] = dfw1['Datum'].astype(str)\n",
    "dfw2['Datum'] = dfw2['Datum'].astype(str)\n",
    "\n",
    "dfw1.rename(columns={\"Fingerprick  (mg/dL)\": \"Fingerprick (mg/dL)\"}, inplace = True)\n",
    "\n",
    "dfw1['Datum'] = dfw1['Datum'].str[11:13]\n",
    "dfw2['Datum'] = dfw2['Datum'].str[11:13]\n",
    "dfw1['Datum'] = dfw1['Datum'].astype(float)\n",
    "dfw2['Datum'] = dfw2['Datum'].astype(float)"
   ]
  },
  {
   "cell_type": "code",
   "execution_count": null,
   "metadata": {
    "ExecuteTime": {
     "end_time": "2022-12-20T14:19:17.412688Z",
     "start_time": "2022-12-20T14:19:17.381007Z"
    },
    "id": "6Xe6B3I6qVNO"
   },
   "outputs": [],
   "source": [
    "nochew1 = dfw1.loc[(dfw1[\"Datum\"] < 6)]\n",
    "mañanaw1 = dfw1.loc[(dfw1[\"Datum\"] >= 6) & (dfw1[\"Datum\"] < 12)]\n",
    "tardew1 = dfw1.loc[(dfw1[\"Datum\"] >= 12) & (dfw1[\"Datum\"] < 18)]\n",
    "eveningw1 = dfw1.loc[(dfw1[\"Datum\"] >= 18)]"
   ]
  },
  {
   "cell_type": "code",
   "execution_count": null,
   "metadata": {
    "ExecuteTime": {
     "end_time": "2022-12-20T14:19:19.681911Z",
     "start_time": "2022-12-20T14:19:19.612184Z"
    },
    "id": "6Xe6B3I6qVNO"
   },
   "outputs": [],
   "source": [
    "nochew2 = dfw2.loc[(dfw2[\"Datum\"] < 6)]\n",
    "mañanaw2 = dfw2.loc[(dfw2[\"Datum\"] >= 6) & (dfw2[\"Datum\"] < 12)]\n",
    "tardew2 = dfw2.loc[(dfw2[\"Datum\"] >= 12) & (dfw2[\"Datum\"] < 18)]\n",
    "eveningw2 = dfw2.loc[(dfw2[\"Datum\"] >= 18)]"
   ]
  },
  {
   "cell_type": "code",
   "execution_count": null,
   "metadata": {
    "ExecuteTime": {
     "end_time": "2022-12-20T14:19:21.781228Z",
     "start_time": "2022-12-20T14:19:21.742451Z"
    }
   },
   "outputs": [],
   "source": [
    "def plot_custom_boxplot_with_ci(df_ci, metric,title_figure='mean_std_plot', type_variables='selected',flag_save_figure=False, flag_save_features=False):\n",
    "\n",
    "    # df_ci = df_ci.sort_values('variable_name', ascending=False)\n",
    "\n",
    "    fig, ax = plt.subplots(1, 1, figsize=(12, 6))\n",
    "\n",
    "    v_mean = np.mean((df_ci['ci_upper'].values, df_ci['ci_lower'].values), axis=0)\n",
    "    df_ci['mean'] = v_mean\n",
    "\n",
    "    list_features_nonselected = []\n",
    "    list_features_selected = []\n",
    "    list_features_all = []\n",
    "\n",
    "    for index, row in df_ci.iterrows():\n",
    "        if min(row['ci_lower'], row['ci_upper']) <= 0.0 <= max(row['ci_lower'], row['ci_upper']):\n",
    "            color_interval = 'red'\n",
    "            legend_item = 'No differences'\n",
    "            list_features_nonselected.append((row['var_name'], row['variable_name'], float(row['ci_lower']),\n",
    "                                           float(row['ci_upper']), float(row['mean']), color_interval, legend_item))\n",
    "        else:\n",
    "            color_interval = 'blue'\n",
    "            legend_item = 'Differences'\n",
    "            list_features_selected.append((row['var_name'], row['variable_name'], float(row['ci_lower']),\n",
    "                                       float(row['ci_upper']), float(row['mean']), color_interval, legend_item))\n",
    "\n",
    "        list_features_all.append((row['var_name'], row['variable_name'], float(row['ci_lower']),\n",
    "                                   float(row['ci_upper']), float(row['mean']), color_interval, legend_item))\n",
    "\n",
    "    if type_variables == 'nonselected':\n",
    "        list_features_filtered = list_features_nonselected\n",
    "    elif type_variables == 'selected':\n",
    "        list_features_filtered = list_features_selected\n",
    "    else:\n",
    "        list_features_filtered = list_features_all\n",
    "\n",
    "    m_features_selected = np.array(list_features_filtered)\n",
    "    df_features_selected = pd.DataFrame(m_features_selected, columns=['var_name', 'variable_name', 'ci_lower', 'ci_upper', 'mean', 'color_interval', 'legend_item'])\n",
    "\n",
    "    df_features_selected['ci_lower'] = pd.to_numeric(df_features_selected['ci_lower'])\n",
    "    df_features_selected['ci_upper'] = pd.to_numeric(df_features_selected['ci_upper'])\n",
    "    df_features_selected['mean'] = pd.to_numeric(df_features_selected['mean'])\n",
    "\n",
    "    for index, row in df_features_selected.iterrows():\n",
    "\n",
    "        ax.plot(row['mean'], index, marker='o', ms=5, linewidth=1, ls='', color=row['color_interval'], label=row['legend_item'])\n",
    "        ax.hlines(row['variable_name'], row['ci_lower'], row['ci_upper'], label='', lw=2,\n",
    "                  color=row['color_interval'], ls='-')\n",
    "\n",
    "        # ax.plot(row2['mean'], index2, marker='o', ms=5, linewidth=1, ls='', color=color_interval, label=legend_item)\n",
    "        # ax.hlines(row2['var_name'], row2['ci_lower'], row2['ci_upper'], label='', lw=2, color=color_interval, ls='-')\n",
    "\n",
    "    # fig, ax = plt.subplots(1, 1, figsize=(12, 14))\n",
    "    # ax.plot(df_features_selected['mean'], df_features_selected['var_name'], marker='o', ms=5, linewidth=1, ls='',\n",
    "    #         color=df_features_selected['color_interval'], label=df_features_selected['legend_item'])\n",
    "    # ax.hlines(df_features_selected['var_name'], df_features_selected['ci_lower'], df_features_selected['ci_upper'],\n",
    "    #           label='', lw=2, color='red', ls='-')\n",
    "\n",
    "    #plt.axvline(x=0, color='k', linestyle='--')\n",
    "    plt.yticks(fontsize=24, weight = 'bold')\n",
    "    plt.xticks(fontsize=24, weight = 'bold')\n",
    "    plt.xlim(-32, 32)\n",
    "    # plt.yticks(list_features_selected)\n",
    "    #plt.legend(fontsize=18)\n",
    "\n",
    "    if flag_save_features:\n",
    "        \n",
    "\n",
    "        df_c = pd.DataFrame(np.array(list_features_selected))\n",
    "        df_c.to_csv(str(Path.joinpath(consts.PATH_PROJECT_FS, 'df_coeff_fs.csv')))\n",
    "\n",
    "    ax.grid(axis='x', ls='-', lw=1, alpha=0.5)\n",
    "    ax.grid(which='major', color='#CCCCCC', linestyle='--')\n",
    "    ax.grid(which='minor', color='#CCCCCC', linestyle=':')\n",
    "\n",
    "    #legend_without_duplicate_labels(ax)\n",
    "\n",
    "    plt.tick_params(\n",
    "        axis='y',\n",
    "        which='both',\n",
    "        bottom=False,\n",
    "        top=False,\n",
    "        labelbottom=False\n",
    "    )\n",
    "\n",
    "    if flag_save_figure:\n",
    "        name = 'bootstrap_KW_' + metric + '.pdf'\n",
    "        plt.savefig(name, bbox_inches = 'tight')\n",
    "#         fig.tight_layout()\n",
    "#         fig.savefig(str(Path.joinpath(consts.PATH_PROJECT_FIGURES, '{}.pdf'.format(title_figure))))\n",
    "#                     # dpi=h/magic_height*dpi)\n",
    "    else:\n",
    "        plt.show()\n",
    "\n",
    "import matplotlib.font_manager as font_manager"
   ]
  },
  {
   "cell_type": "code",
   "execution_count": null,
   "metadata": {
    "ExecuteTime": {
     "end_time": "2022-12-20T14:19:23.957577Z",
     "start_time": "2022-12-20T14:19:23.925173Z"
    }
   },
   "outputs": [],
   "source": [
    "def legend_without_duplicate_labels(ax):\n",
    "    font = font_manager.FontProperties(weight='bold',\n",
    "                                   style='normal', size=24)\n",
    "    handles, labels = ax.get_legend_handles_labels()\n",
    "    unique = [(h, l) for i, (h, l) in enumerate(zip(handles, labels)) if l not in labels[:i]]\n",
    "    ax.legend(*zip(*unique),prop = font)"
   ]
  },
  {
   "cell_type": "code",
   "execution_count": null,
   "metadata": {
    "ExecuteTime": {
     "end_time": "2022-12-20T14:19:26.682696Z",
     "start_time": "2022-12-20T14:19:26.668531Z"
    }
   },
   "outputs": [],
   "source": [
    "orange = sns.color_palette()[0]\n",
    "blue = sns.color_palette()[1]"
   ]
  },
  {
   "cell_type": "markdown",
   "metadata": {
    "id": "p1BTk8drJbi6"
   },
   "source": [
    "<div class=\"alert alert-block alert-danger\">\n",
    "\n",
    "**MAD and MARD**\n",
    "    \n",
    "</div>"
   ]
  },
  {
   "cell_type": "markdown",
   "metadata": {},
   "source": [
    "**Para sacar el MAD no incluir la division \"/dfw1['Fingerprick (mg/dL)']\"**"
   ]
  },
  {
   "cell_type": "code",
   "execution_count": null,
   "metadata": {
    "ExecuteTime": {
     "end_time": "2022-12-20T14:20:06.413837Z",
     "start_time": "2022-12-20T14:20:06.370351Z"
    }
   },
   "outputs": [],
   "source": [
    "device = 'Eversense (mg/dl)'\n",
    "\n",
    "#Full day\n",
    "mad_series_w1 = np.abs(dfw1['Fingerprick (mg/dL)'] - dfw1[device])/dfw1['Fingerprick (mg/dL)']\n",
    "mad_series_w2 = np.abs(dfw2['Fingerprick (mg/dL)'] - dfw2[device])/dfw2['Fingerprick (mg/dL)']\n",
    "shapiro(mad_series_w1)\n",
    "shapiro(mad_series_w2)\n",
    "\n",
    "print('PA MAD :', np.mean(mad_series_w1),' +-', np.std(mad_series_w1))\n",
    "print('NDA MAD:', np.mean(mad_series_w2),' +-', np.std(mad_series_w2))\n",
    "tval, pval = stats.mannwhitneyu(mad_series_w1, mad_series_w2)\n",
    "if pval < 0.05:\n",
    "    print(\"The pvalue is: \", pval, \" so we reject H0: the distribution is different between PA and\", device, 'NDA hypoglicemia')\n",
    "else:\n",
    "    print(\"The pvalue is: \", pval, \" so we accept H0: the distribution is NOT different between PA and\", device, 'NDA hypoglicemia')\n",
    "\n",
    "print('---------------')"
   ]
  },
  {
   "cell_type": "code",
   "execution_count": null,
   "metadata": {
    "ExecuteTime": {
     "end_time": "2022-12-20T14:20:17.454343Z",
     "start_time": "2022-12-20T14:20:17.414752Z"
    }
   },
   "outputs": [],
   "source": [
    "device = 'FSL (mg/dL)'\n",
    "\n",
    "#Full day\n",
    "mad_series_w1 = np.abs(dfw1['Fingerprick (mg/dL)'] - dfw1[device])/dfw1['Fingerprick (mg/dL)']\n",
    "mad_series_w2 = np.abs(dfw2['Fingerprick (mg/dL)'] - dfw2[device])/dfw2['Fingerprick (mg/dL)']\n",
    "shapiro(mad_series_w1)\n",
    "shapiro(mad_series_w2)\n",
    "\n",
    "print('PA MAD :', np.mean(mad_series_w1),' +-', np.std(mad_series_w1))\n",
    "print('NDA MAD:', np.mean(mad_series_w2),' +-', np.std(mad_series_w2))\n",
    "tval, pval = stats.mannwhitneyu(mad_series_w1, mad_series_w2)\n",
    "if pval < 0.05:\n",
    "    print(\"The pvalue is: \", pval, \" so we reject H0: the distribution is different between PA and\", device, 'NDA hypoglicemia')\n",
    "else:\n",
    "    print(\"The pvalue is: \", pval, \" so we accept H0: the distribution is NOT different between PA and\", device, 'NDA hypoglicemia')\n",
    "\n",
    "print('---------------')"
   ]
  },
  {
   "cell_type": "markdown",
   "metadata": {},
   "source": [
    "<div class=\"alert alert-block alert-warning\">\n",
    "    \n",
    "**MAD/MARD per time intervals**\n",
    "\n",
    "</div>"
   ]
  },
  {
   "cell_type": "code",
   "execution_count": null,
   "metadata": {
    "ExecuteTime": {
     "end_time": "2022-12-20T14:27:30.331305Z",
     "start_time": "2022-12-20T14:27:30.315293Z"
    }
   },
   "outputs": [],
   "source": [
    "device = 'Eversense (mg/dl)'"
   ]
  },
  {
   "cell_type": "code",
   "execution_count": null,
   "metadata": {
    "ExecuteTime": {
     "end_time": "2022-12-20T14:27:33.241786Z",
     "start_time": "2022-12-20T14:27:33.200900Z"
    }
   },
   "outputs": [],
   "source": [
    "#M\n",
    "mad_series_w1 = np.abs(mañanaw1['Fingerprick (mg/dL)'] - mañanaw1[device])/mañanaw1['Fingerprick (mg/dL)']\n",
    "mad_series_w2 = np.abs(mañanaw2['Fingerprick (mg/dL)'] - mañanaw2[device])/mañanaw2['Fingerprick (mg/dL)']\n",
    "shapiro(mad_series_w1)\n",
    "shapiro(mad_series_w2)\n",
    "\n",
    "print('PA MAD morn:', np.mean(mad_series_w1),' +-', np.std(mad_series_w1))\n",
    "print('NDA MAD morn:', np.mean(mad_series_w2),' +-', np.std(mad_series_w2))\n",
    "tval, pval = stats.mannwhitneyu(mad_series_w1, mad_series_w2)\n",
    "if pval < 0.05:\n",
    "    print(\"The pvalue is: \", pval, \" so we reject H0: the distribution is different between PA and\", device, 'NDA hypoglicemia')\n",
    "else:\n",
    "    print(\"The pvalue is: \", pval, \" so we accept H0: the distribution is NOT different between PA and\", device, 'NDA hypoglicemia')\n",
    "\n",
    "print('---------------')"
   ]
  },
  {
   "cell_type": "code",
   "execution_count": null,
   "metadata": {
    "ExecuteTime": {
     "end_time": "2022-12-20T14:27:36.041948Z",
     "start_time": "2022-12-20T14:27:35.988946Z"
    }
   },
   "outputs": [],
   "source": [
    "#A\n",
    "mad_series_w1 = np.abs(tardew1['Fingerprick (mg/dL)'] - tardew1[device])/tardew1['Fingerprick (mg/dL)']\n",
    "mad_series_w2 = np.abs(tardew2['Fingerprick (mg/dL)'] - tardew2[device])/tardew2['Fingerprick (mg/dL)']\n",
    "shapiro(mad_series_w1)\n",
    "shapiro(mad_series_w2)\n",
    "\n",
    "print('PA MAD aft:', np.mean(mad_series_w1),' +-', np.std(mad_series_w1))\n",
    "print('NDA MAD aft:', np.mean(mad_series_w2),' +-', np.std(mad_series_w2))\n",
    "tval, pval = stats.mannwhitneyu(mad_series_w1, mad_series_w2)\n",
    "if pval < 0.05:\n",
    "    print(\"The pvalue is: \", pval, \" so we reject H0: the distribution is different between PA and\", device, 'NDA hypoglicemia')\n",
    "else:\n",
    "    print(\"The pvalue is: \", pval, \" so we accept H0: the distribution is NOT different between PA and\", device, 'NDA hypoglicemia')\n",
    "\n",
    "print('---------------')"
   ]
  },
  {
   "cell_type": "code",
   "execution_count": null,
   "metadata": {
    "ExecuteTime": {
     "end_time": "2022-12-20T14:27:38.430731Z",
     "start_time": "2022-12-20T14:27:38.326760Z"
    }
   },
   "outputs": [],
   "source": [
    "#E\n",
    "mad_series_w1 = np.abs(eveningw1['Fingerprick (mg/dL)'] - eveningw1[device])/eveningw1['Fingerprick (mg/dL)']\n",
    "mad_series_w2 = np.abs(eveningw2['Fingerprick (mg/dL)'] - eveningw2[device])/eveningw2['Fingerprick (mg/dL)']\n",
    "shapiro(mad_series_w1)\n",
    "shapiro(mad_series_w2)\n",
    "\n",
    "print('PA MAD eve:', np.mean(mad_series_w1),' +-', np.std(mad_series_w1))\n",
    "print('NDA MAD eve:', np.mean(mad_series_w2),' +-', np.std(mad_series_w2))\n",
    "tval, pval = stats.mannwhitneyu(mad_series_w1, mad_series_w2)\n",
    "if pval < 0.05:\n",
    "    print(\"The pvalue is: \", pval, \" so we reject H0: the distribution is different between PA and\", device, 'NDA hypoglicemia')\n",
    "else:\n",
    "    print(\"The pvalue is: \", pval, \" so we accept H0: the distribution is NOT different between PA and\", device, 'NDA hypoglicemia')\n",
    "\n",
    "print('---------------')"
   ]
  },
  {
   "cell_type": "code",
   "execution_count": null,
   "metadata": {
    "ExecuteTime": {
     "end_time": "2022-12-20T14:27:41.097306Z",
     "start_time": "2022-12-20T14:27:41.060859Z"
    }
   },
   "outputs": [],
   "source": [
    "#N\n",
    "mad_series_w1 = np.abs(nochew1['Fingerprick (mg/dL)'] - nochew1[device])/nochew1['Fingerprick (mg/dL)']\n",
    "mad_series_w2 = np.abs(nochew2['Fingerprick (mg/dL)'] - nochew2[device])/nochew2['Fingerprick (mg/dL)']\n",
    "shapiro(mad_series_w1)\n",
    "shapiro(mad_series_w2)\n",
    "\n",
    "print('PA MAD nig:', np.mean(mad_series_w1),' +-', np.std(mad_series_w1))\n",
    "print('NDA MAD nig:', np.mean(mad_series_w2),' +-', np.std(mad_series_w2))\n",
    "tval, pval = stats.mannwhitneyu(mad_series_w1, mad_series_w2)\n",
    "if pval < 0.05:\n",
    "    print(\"The pvalue is: \", pval, \" so we reject H0: the distribution is different between PA and\", device, 'NDA hypoglicemia')\n",
    "else:\n",
    "    print(\"The pvalue is: \", pval, \" so we accept H0: the distribution is NOT different between PA and\", device, 'NDA hypoglicemia')\n",
    "\n",
    "print('---------------')"
   ]
  },
  {
   "cell_type": "code",
   "execution_count": null,
   "metadata": {
    "ExecuteTime": {
     "end_time": "2022-12-20T14:27:43.775921Z",
     "start_time": "2022-12-20T14:27:43.758001Z"
    }
   },
   "outputs": [],
   "source": [
    "device = 'FSL (mg/dL)'"
   ]
  },
  {
   "cell_type": "code",
   "execution_count": null,
   "metadata": {
    "ExecuteTime": {
     "end_time": "2022-12-20T14:27:46.376697Z",
     "start_time": "2022-12-20T14:27:46.301405Z"
    }
   },
   "outputs": [],
   "source": [
    "#M\n",
    "mad_series_w1 = np.abs(mañanaw1['Fingerprick (mg/dL)'] - mañanaw1[device])/mañanaw1['Fingerprick (mg/dL)']\n",
    "mad_series_w2 = np.abs(mañanaw2['Fingerprick (mg/dL)'] - mañanaw2[device])/mañanaw2['Fingerprick (mg/dL)']\n",
    "shapiro(mad_series_w1)\n",
    "shapiro(mad_series_w2)\n",
    "\n",
    "print('PA MAD morn:', np.mean(mad_series_w1),' +-', np.std(mad_series_w1))\n",
    "print('NDA MAD morn:', np.mean(mad_series_w2),' +-', np.std(mad_series_w2))\n",
    "tval, pval = stats.mannwhitneyu(mad_series_w1, mad_series_w2)\n",
    "if pval < 0.05:\n",
    "    print(\"The pvalue is: \", pval, \" so we reject H0: the distribution is different between PA and\", device, 'NDA hypoglicemia')\n",
    "else:\n",
    "    print(\"The pvalue is: \", pval, \" so we accept H0: the distribution is NOT different between PA and\", device, 'NDA hypoglicemia')\n",
    "\n",
    "print('---------------')"
   ]
  },
  {
   "cell_type": "code",
   "execution_count": null,
   "metadata": {
    "ExecuteTime": {
     "end_time": "2022-12-20T14:27:46.409552Z",
     "start_time": "2022-12-20T14:27:46.376697Z"
    }
   },
   "outputs": [],
   "source": [
    "#A\n",
    "mad_series_w1 = np.abs(tardew1['Fingerprick (mg/dL)'] - tardew1[device])/tardew1['Fingerprick (mg/dL)']\n",
    "mad_series_w2 = np.abs(tardew2['Fingerprick (mg/dL)'] - tardew2[device])/tardew2['Fingerprick (mg/dL)']\n",
    "shapiro(mad_series_w1)\n",
    "shapiro(mad_series_w2)\n",
    "\n",
    "print('PA MAD aft:', np.mean(mad_series_w1),' +-', np.std(mad_series_w1))\n",
    "print('NDA MAD aft:', np.mean(mad_series_w2),' +-', np.std(mad_series_w2))\n",
    "tval, pval = stats.mannwhitneyu(mad_series_w1, mad_series_w2)\n",
    "if pval < 0.05:\n",
    "    print(\"The pvalue is: \", pval, \" so we reject H0: the distribution is different between PA and\", device, 'NDA hypoglicemia')\n",
    "else:\n",
    "    print(\"The pvalue is: \", pval, \" so we accept H0: the distribution is NOT different between PA and\", device, 'NDA hypoglicemia')\n",
    "\n",
    "print('---------------')"
   ]
  },
  {
   "cell_type": "code",
   "execution_count": null,
   "metadata": {
    "ExecuteTime": {
     "end_time": "2022-12-20T14:27:46.508945Z",
     "start_time": "2022-12-20T14:27:46.409552Z"
    }
   },
   "outputs": [],
   "source": [
    "#E\n",
    "mad_series_w1 = np.abs(eveningw1['Fingerprick (mg/dL)'] - eveningw1[device])/eveningw1['Fingerprick (mg/dL)']\n",
    "mad_series_w2 = np.abs(eveningw2['Fingerprick (mg/dL)'] - eveningw2[device])/eveningw2['Fingerprick (mg/dL)']\n",
    "shapiro(mad_series_w1)\n",
    "shapiro(mad_series_w2)\n",
    "\n",
    "print('PA MAD eve:', np.mean(mad_series_w1),' +-', np.std(mad_series_w1))\n",
    "print('NDA MAD eve:', np.mean(mad_series_w2),' +-', np.std(mad_series_w2))\n",
    "tval, pval = stats.mannwhitneyu(mad_series_w1, mad_series_w2)\n",
    "if pval < 0.05:\n",
    "    print(\"The pvalue is: \", pval, \" so we reject H0: the distribution is different between PA and\", device, 'NDA hypoglicemia')\n",
    "else:\n",
    "    print(\"The pvalue is: \", pval, \" so we accept H0: the distribution is NOT different between PA and\", device, 'NDA hypoglicemia')\n",
    "\n",
    "print('---------------')"
   ]
  },
  {
   "cell_type": "code",
   "execution_count": null,
   "metadata": {
    "ExecuteTime": {
     "end_time": "2022-12-20T14:27:46.543484Z",
     "start_time": "2022-12-20T14:27:46.508945Z"
    }
   },
   "outputs": [],
   "source": [
    "#N\n",
    "mad_series_w1 = np.abs(nochew1['Fingerprick (mg/dL)'] - nochew1[device])/nochew1['Fingerprick (mg/dL)']\n",
    "mad_series_w2 = np.abs(nochew2['Fingerprick (mg/dL)'] - nochew2[device])/nochew2['Fingerprick (mg/dL)']\n",
    "shapiro(mad_series_w1)\n",
    "shapiro(mad_series_w2)\n",
    "\n",
    "print('PA MAD nig:', np.mean(mad_series_w1),' +-', np.std(mad_series_w1))\n",
    "print('NDA MAD nig:', np.mean(mad_series_w2),' +-', np.std(mad_series_w2))\n",
    "tval, pval = stats.mannwhitneyu(mad_series_w1, mad_series_w2)\n",
    "if pval < 0.05:\n",
    "    print(\"The pvalue is: \", pval, \" so we reject H0: the distribution is different between PA and\", device, 'NDA hypoglicemia')\n",
    "else:\n",
    "    print(\"The pvalue is: \", pval, \" so we accept H0: the distribution is NOT different between PA and\", device, 'NDA hypoglicemia')\n",
    "\n",
    "print('---------------')"
   ]
  },
  {
   "cell_type": "markdown",
   "metadata": {},
   "source": [
    "<div class=\"alert alert-block alert-warning\">\n",
    "    \n",
    "**MAD/MARD per glucose ranges**\n",
    "\n",
    "</div>"
   ]
  },
  {
   "cell_type": "code",
   "execution_count": null,
   "metadata": {
    "ExecuteTime": {
     "end_time": "2022-12-20T14:23:48.075542Z",
     "start_time": "2022-12-20T14:23:48.034350Z"
    }
   },
   "outputs": [],
   "source": [
    "#PA\n",
    "hypo_ref_w1 = dfw1.loc[(dfw1['Fingerprick (mg/dL)'] < 70)]\n",
    "normo_ref_w1 = dfw1.loc[(dfw1['Fingerprick (mg/dL)'] >= 70) & (dfw1['Fingerprick (mg/dL)'] < 180)]\n",
    "hyper_ref_w1 = dfw1.loc[(dfw1['Fingerprick (mg/dL)'] >= 180)]\n",
    "\n",
    "#NDA\n",
    "hypo_ref_w2 = dfw2.loc[(dfw2['Fingerprick (mg/dL)'] < 70)]\n",
    "normo_ref_w2 = dfw2.loc[(dfw2['Fingerprick (mg/dL)'] >= 70) & (dfw2['Fingerprick (mg/dL)'] < 180)]\n",
    "hyper_ref_w2 = dfw2.loc[(dfw2['Fingerprick (mg/dL)'] >= 180)]"
   ]
  },
  {
   "cell_type": "code",
   "execution_count": null,
   "metadata": {
    "ExecuteTime": {
     "end_time": "2022-12-20T14:23:50.875820Z",
     "start_time": "2022-12-20T14:23:50.842945Z"
    }
   },
   "outputs": [],
   "source": [
    "device = 'Eversense (mg/dl)'\n",
    "\n",
    "#hypo\n",
    "mad_hypo_series_w1 = np.abs(hypo_ref_w1['Fingerprick (mg/dL)'] - hypo_ref_w1[device])#/hypo_ref_w1['Fingerprick (mg/dL)']\n",
    "mad_hypo_series_w2 = np.abs(hypo_ref_w2['Fingerprick (mg/dL)'] - hypo_ref_w2[device])#/hypo_ref_w2['Fingerprick (mg/dL)']\n",
    "shapiro(mad_hypo_series_w1)\n",
    "shapiro(mad_hypo_series_w2)\n",
    "\n",
    "print('PA MAD hypo:', np.mean(mad_hypo_series_w1),' +-', np.std(mad_hypo_series_w1))\n",
    "print('NDA MAD hypo:', np.mean(mad_hypo_series_w2),' +-', np.std(mad_hypo_series_w2))\n",
    "tval, pval = stats.mannwhitneyu(mad_hypo_series_w1, mad_hypo_series_w2)\n",
    "if pval < 0.05:\n",
    "    print(\"The pvalue is: \", pval, \" so we reject H0: the distribution is different between PA and\", device, 'NDA hypoglicemia')\n",
    "else:\n",
    "    print(\"The pvalue is: \", pval, \" so we accept H0: the distribution is NOT different between PA and\", device, 'NDA hypoglicemia')\n",
    "\n",
    "print('---------------')"
   ]
  },
  {
   "cell_type": "code",
   "execution_count": null,
   "metadata": {
    "ExecuteTime": {
     "end_time": "2022-12-20T14:23:53.050484Z",
     "start_time": "2022-12-20T14:23:52.965006Z"
    }
   },
   "outputs": [],
   "source": [
    "#normo\n",
    "mad_normo_series_w1 = np.abs(normo_ref_w1['Fingerprick (mg/dL)'] - normo_ref_w1[device])#/normo_ref_w1['Fingerprick (mg/dL)']\n",
    "mad_normo_series_w2 = np.abs(normo_ref_w2['Fingerprick (mg/dL)'] - normo_ref_w2[device])#/normo_ref_w2['Fingerprick (mg/dL)']\n",
    "shapiro(mad_normo_series_w1)\n",
    "shapiro(mad_normo_series_w2)\n",
    "\n",
    "print('PA MAD notmo:', np.mean(mad_normo_series_w1),' +-', np.std(mad_normo_series_w1))\n",
    "print('NDA MAD normo:', np.mean(mad_normo_series_w2),' +-', np.std(mad_normo_series_w2))\n",
    "\n",
    "tval, pval = stats.mannwhitneyu(mad_normo_series_w1, mad_normo_series_w2)\n",
    "if pval < 0.05:\n",
    "    print(\"The pvalue is: \", pval, \" so we reject H0: the distribution is different between PA and\", device, 'NDA hyperglicemia')\n",
    "else:\n",
    "    print(\"The pvalue is: \", pval, \" so we accept H0: the distribution is NOT different between PA and\", device, 'NDA hyperglicemia')        \n",
    "\n",
    "print('---------------')  "
   ]
  },
  {
   "cell_type": "code",
   "execution_count": null,
   "metadata": {
    "ExecuteTime": {
     "end_time": "2022-12-20T14:23:55.891646Z",
     "start_time": "2022-12-20T14:23:55.860776Z"
    }
   },
   "outputs": [],
   "source": [
    "#hyper\n",
    "mad_hyper_series_w1 = np.abs(hyper_ref_w1['Fingerprick (mg/dL)'] - hyper_ref_w1[device])#/hyper_ref_w1['Fingerprick (mg/dL)']\n",
    "mad_hyper_series_w2 = np.abs(hyper_ref_w2['Fingerprick (mg/dL)'] - hyper_ref_w2[device])#/hyper_ref_w2['Fingerprick (mg/dL)']\n",
    "shapiro(mad_hyper_series_w1)\n",
    "shapiro(mad_hyper_series_w2)\n",
    "\n",
    "print('PA MAD hyper:', np.mean(mad_hyper_series_w1),' +-', np.std(mad_hyper_series_w1))\n",
    "print('NDA MAD hyper:', np.mean(mad_hyper_series_w2),' +-', np.std(mad_hyper_series_w2))\n",
    "\n",
    "tval, pval = stats.mannwhitneyu(mad_hyper_series_w1, mad_hyper_series_w2)\n",
    "if pval < 0.05:\n",
    "    print(\"The pvalue is: \", pval, \" so we reject H0: the distribution is different between PA and\", device, 'NDA hyperglicemia')\n",
    "else:\n",
    "    print(\"The pvalue is: \", pval, \" so we accept H0: the distribution is NOT different between PA and\", device, 'NDA hyperglicemia')    "
   ]
  },
  {
   "cell_type": "code",
   "execution_count": null,
   "metadata": {
    "ExecuteTime": {
     "end_time": "2022-12-20T14:23:58.384789Z",
     "start_time": "2022-12-20T14:23:58.355148Z"
    }
   },
   "outputs": [],
   "source": [
    "#PA\n",
    "hypo_ref_w1 = dfw1.loc[(dfw1['Fingerprick (mg/dL)'] < 70)]\n",
    "normo_ref_w1 = dfw1.loc[(dfw1['Fingerprick (mg/dL)'] >= 70) & (dfw1['Fingerprick (mg/dL)'] < 180)]\n",
    "hyper_ref_w1 = dfw1.loc[(dfw1['Fingerprick (mg/dL)'] >= 180)]\n",
    "\n",
    "#NDA\n",
    "hypo_ref_w2 = dfw2.loc[(dfw2['Fingerprick (mg/dL)'] < 70)]\n",
    "normo_ref_w2 = dfw2.loc[(dfw2['Fingerprick (mg/dL)'] >= 70) & (dfw2['Fingerprick (mg/dL)'] < 180)]\n",
    "hyper_ref_w2 = dfw2.loc[(dfw2['Fingerprick (mg/dL)'] >= 180)]\n",
    "\n",
    "device = 'FSL (mg/dL)'"
   ]
  },
  {
   "cell_type": "code",
   "execution_count": null,
   "metadata": {
    "ExecuteTime": {
     "end_time": "2022-12-20T14:24:00.924591Z",
     "start_time": "2022-12-20T14:24:00.894593Z"
    }
   },
   "outputs": [],
   "source": [
    "#hypo\n",
    "mad_hypo_series_w1 = np.abs(hypo_ref_w1['Fingerprick (mg/dL)'] - hypo_ref_w1[device])#/hypo_ref_w1['Fingerprick (mg/dL)']\n",
    "mad_hypo_series_w2 = np.abs(hypo_ref_w2['Fingerprick (mg/dL)'] - hypo_ref_w2[device])#/hypo_ref_w2['Fingerprick (mg/dL)']\n",
    "shapiro(mad_hypo_series_w1)\n",
    "shapiro(mad_hypo_series_w2)\n",
    "\n",
    "print('PA MAD hypo:', np.mean(mad_hypo_series_w1),' +-', np.std(mad_hypo_series_w1))\n",
    "print('NDA MAD hypo:', np.mean(mad_hypo_series_w2),' +-', np.std(mad_hypo_series_w2))\n",
    "tval, pval = stats.mannwhitneyu(mad_hypo_series_w1, mad_hypo_series_w2)\n",
    "if pval < 0.05:\n",
    "    print(\"The pvalue is: \", pval, \" so we reject H0: the distribution is different between PA and\", device, 'NDA hypoglicemia')\n",
    "else:\n",
    "    print(\"The pvalue is: \", pval, \" so we accept H0: the distribution is NOT different between PA and\", device, 'NDA hypoglicemia')\n",
    "\n",
    "print('---------------')"
   ]
  },
  {
   "cell_type": "code",
   "execution_count": null,
   "metadata": {
    "ExecuteTime": {
     "end_time": "2022-12-20T14:24:03.366709Z",
     "start_time": "2022-12-20T14:24:03.339552Z"
    }
   },
   "outputs": [],
   "source": [
    "##normo\n",
    "mad_normo_series_w1 = np.abs(normo_ref_w1['Fingerprick (mg/dL)'] - normo_ref_w1[device])#/normo_ref_w1['Fingerprick (mg/dL)']\n",
    "mad_normo_series_w2 = np.abs(normo_ref_w2['Fingerprick (mg/dL)'] - normo_ref_w2[device])#/normo_ref_w2['Fingerprick (mg/dL)']\n",
    "shapiro(mad_normo_series_w1)\n",
    "shapiro(mad_normo_series_w2)\n",
    "\n",
    "print('PA MAD notmo:', np.mean(mad_normo_series_w1),' +-', np.std(mad_normo_series_w1))\n",
    "print('NDA MAD normo:', np.mean(mad_normo_series_w2),' +-', np.std(mad_normo_series_w2))\n",
    "\n",
    "tval, pval = stats.mannwhitneyu(mad_normo_series_w1, mad_normo_series_w2)\n",
    "if pval < 0.05:\n",
    "    print(\"The pvalue is: \", pval, \" so we reject H0: the distribution is different between PA and\", device, 'NDA hyperglicemia')\n",
    "else:\n",
    "    print(\"The pvalue is: \", pval, \" so we accept H0: the distribution is NOT different between PA and\", device, 'NDA hyperglicemia')        \n",
    "\n",
    "print('---------------')  "
   ]
  },
  {
   "cell_type": "code",
   "execution_count": null,
   "metadata": {
    "ExecuteTime": {
     "end_time": "2022-12-20T14:24:05.603172Z",
     "start_time": "2022-12-20T14:24:05.562163Z"
    }
   },
   "outputs": [],
   "source": [
    "#hyper\n",
    "mad_hyper_series_w1 = np.abs(hyper_ref_w1['Fingerprick (mg/dL)'] - hyper_ref_w1[device])#/hyper_ref_w1['Fingerprick (mg/dL)']\n",
    "mad_hyper_series_w2 = np.abs(hyper_ref_w2['Fingerprick (mg/dL)'] - hyper_ref_w2[device])#/hyper_ref_w2['Fingerprick (mg/dL)']\n",
    "shapiro(mad_hyper_series_w1)\n",
    "shapiro(mad_hyper_series_w2)\n",
    "\n",
    "print('PA MAD hyper:', np.mean(mad_hyper_series_w1),' +-', np.std(mad_hyper_series_w1))\n",
    "print('NDA MAD hyper:', np.mean(mad_hyper_series_w2),' +-', np.std(mad_hyper_series_w2))\n",
    "\n",
    "tval, pval = stats.mannwhitneyu(mad_hyper_series_w1, mad_hyper_series_w2)\n",
    "if pval < 0.05:\n",
    "    print(\"The pvalue is: \", pval, \" so we reject H0: the distribution is different between PA and\", device, 'NDA hyperglicemia')\n",
    "else:\n",
    "    print(\"The pvalue is: \", pval, \" so we accept H0: the distribution is NOT different between PA and\", device, 'NDA hyperglicemia')    "
   ]
  },
  {
   "cell_type": "markdown",
   "metadata": {},
   "source": [
    "<div class=\"alert alert-block alert-danger\">\n",
    "    \n",
    "# **CLARKE ERROR GRID ANALYSIS**\n",
    "\n",
    "</div>"
   ]
  },
  {
   "cell_type": "code",
   "execution_count": null,
   "metadata": {
    "ExecuteTime": {
     "end_time": "2022-12-19T17:09:04.088815Z",
     "start_time": "2022-12-19T17:09:03.760722Z"
    }
   },
   "outputs": [],
   "source": [
    "plt.rcdefaults()\n",
    "\n",
    "dfw1 = pd.read_excel(\"Week 1.xlsx\")\n",
    "dfw2 = pd.read_excel(\"Week 2.xlsx\")\n",
    "\n",
    "\n",
    "dfw1['Datum'] = dfw1['Datum'].astype(str)\n",
    "dfw2['Datum'] = dfw2['Datum'].astype(str)\n",
    "\n",
    "dfw1.rename(columns={\"Fingerprick  (mg/dL)\": \"Fingerprick (mg/dL)\"}, inplace = True)\n",
    "\n",
    "dfw1['Datum'] = dfw1['Datum'].str[11:13]\n",
    "dfw2['Datum'] = dfw2['Datum'].str[11:13]\n",
    "dfw1['Datum'] = dfw1['Datum'].astype(float)\n",
    "dfw2['Datum'] = dfw2['Datum'].astype(float)\n",
    "\n",
    "madrugadaw1 = dfw1.loc[(dfw1[\"Datum\"] < 6)]\n",
    "mañanaw1 = dfw1.loc[(dfw1[\"Datum\"] >= 6) & (dfw1[\"Datum\"] < 12)]\n",
    "tardew1 = dfw1.loc[(dfw1[\"Datum\"] >= 12) & (dfw1[\"Datum\"] < 18)]\n",
    "nochew1 = dfw1.loc[(dfw1[\"Datum\"] >= 18)]\n",
    "\n",
    "madrugadaw2 = dfw2.loc[(dfw2[\"Datum\"] < 6)]\n",
    "mañanaw2 = dfw2.loc[(dfw2[\"Datum\"] >= 6) & (dfw2[\"Datum\"] < 12)]\n",
    "tardew2 = dfw2.loc[(dfw2[\"Datum\"] >= 12) & (dfw2[\"Datum\"] < 18)]\n",
    "nochew2 = dfw2.loc[(dfw2[\"Datum\"] >= 18)]"
   ]
  },
  {
   "cell_type": "code",
   "execution_count": null,
   "metadata": {
    "ExecuteTime": {
     "end_time": "2022-12-19T17:09:05.174549Z",
     "start_time": "2022-12-19T17:09:05.114351Z"
    }
   },
   "outputs": [],
   "source": [
    "import matplotlib.pyplot as plt\n",
    "\n",
    "#This function takes in the reference values and the prediction values as lists and returns a list with each index corresponding to the total number\n",
    "#of points within that zone (0=A, 1=B, 2=C, 3=D, 4=E) and the plot\n",
    "def clarke_error_grid(ref_values, pred_values, device, period, title_string):\n",
    "    #Checking to see if the lengths of the reference and prediction arrays are the same\n",
    "    assert (len(ref_values) == len(pred_values)), \"Unequal number of values (reference : {}) (prediction : {}).\".format(len(ref_values), len(pred_values))\n",
    "    #Checks to see if the values are within the normal physiological range, otherwise it gives a warning\n",
    "    if max(ref_values) > 400 or max(pred_values) > 400:\n",
    "        print(\"Input Warning: the maximum reference value {} or the maximum prediction value {} exceeds the normal physiological range of glucose (<400 mg/dl).\".format(max(ref_values), max(pred_values)))\n",
    "    if min(ref_values) < 0 or min(pred_values) < 0:\n",
    "        print(\"Input Warning: the minimum reference value {} or the minimum prediction value {} is less than 0 mg/dl.\".format(min(ref_values),  min(pred_values)))\n",
    "    #Clear plot\n",
    "    plt.clf()\n",
    "    #Set up plot\n",
    "    plt.scatter(ref_values, pred_values, marker='o', color='black', s=8)\n",
    "    plt.title(title_string)\n",
    "    plt.xlabel(\"Reference Concentration (mg/dl)\")\n",
    "    plt.ylabel(\"Prediction Concentration (mg/dl)\")\n",
    "    plt.xticks([0, 50, 100, 150, 200, 250, 300, 350, 400])\n",
    "    plt.yticks([0, 50, 100, 150, 200, 250, 300, 350, 400])\n",
    "    plt.gca().set_facecolor('white')\n",
    "    #Set axes lengths\n",
    "    plt.gca().set_xlim([0, 400])\n",
    "    plt.gca().set_ylim([0, 400])\n",
    "    plt.gca().set_aspect((400)/(400))\n",
    "    #Plot zone lines\n",
    "    plt.plot([0,400], [0,400], ':', c='black')                      #Theoretical 45 regression line\n",
    "    plt.plot([0, 175/3], [70, 70], '-', c='black')\n",
    "    #plt.plot([175/3, 320], [70, 400], '-', c='black')\n",
    "    plt.plot([175/3, 400/1.2], [70, 400], '-', c='black')           #Replace 320 with 400/1.2 because 100*(400 - 400/1.2)/(400/1.2) =  20% error\n",
    "    plt.plot([70, 70], [84, 400],'-', c='black')\n",
    "    plt.plot([0, 70], [180, 180], '-', c='black')\n",
    "    plt.plot([70, 290],[180, 400],'-', c='black')\n",
    "    # plt.plot([70, 70], [0, 175/3], '-', c='black')\n",
    "    plt.plot([70, 70], [0, 56], '-', c='black')                     #Replace 175.3 with 56 because 100*abs(56-70)/70) = 20% error\n",
    "    # plt.plot([70, 400],[175/3, 320],'-', c='black')\n",
    "    plt.plot([70, 400], [56, 320],'-', c='black')\n",
    "    plt.plot([180, 180], [0, 70], '-', c='black')\n",
    "    plt.plot([180, 400], [70, 70], '-', c='black')\n",
    "    plt.plot([240, 240], [70, 180],'-', c='black')\n",
    "    plt.plot([240, 400], [180, 180], '-', c='black')\n",
    "    plt.plot([130, 180], [0, 70], '-', c='black')\n",
    "    #Add zone titles\n",
    "    plt.text(30, 15, \"A\", fontsize=15)\n",
    "    plt.text(370, 260, \"B\", fontsize=15)\n",
    "    plt.text(280, 370, \"B\", fontsize=15)\n",
    "    plt.text(160, 370, \"C\", fontsize=15)\n",
    "    plt.text(160, 15, \"C\", fontsize=15)\n",
    "    plt.text(30, 140, \"D\", fontsize=15)\n",
    "    plt.text(370, 120, \"D\", fontsize=15)\n",
    "    plt.text(30, 370, \"E\", fontsize=15)\n",
    "    plt.text(370, 15, \"E\", fontsize=15)\n",
    "    #Statistics from the data\n",
    "    zone = [0] * 5\n",
    "    name = device+'CEGplot'+period+'.pdf'\n",
    "    plt.savefig(name, bbox_inches = 'tight')\n",
    "    \n",
    "    for i in range(len(ref_values)):\n",
    "        if (ref_values[i] <= 70 and pred_values[i] <= 70) or (pred_values[i] <= 1.2*ref_values[i] and pred_values[i] >= 0.8*ref_values[i]):\n",
    "            zone[0] += 1    #Zone A\n",
    "        elif (ref_values[i] >= 180 and pred_values[i] <= 70) or (ref_values[i] <= 70 and pred_values[i] >= 180):\n",
    "            zone[4] += 1    #Zone E\n",
    "        elif ((ref_values[i] >= 70 and ref_values[i] <= 290) and pred_values[i] >= ref_values[i] + 110) or ((ref_values[i] >= 130 and ref_values[i] <= 180) and (pred_values[i] <= (7/5)*ref_values[i] - 182)):\n",
    "            zone[2] += 1    #Zone C\n",
    "        elif (ref_values[i] >= 240 and (pred_values[i] >= 70 and pred_values[i] <= 180)) or (ref_values[i] <= 175/3 and pred_values[i] <= 180 and pred_values[i] >= 70) or ((ref_values[i] >= 175/3 and ref_values[i] <= 70) and pred_values[i] >= (6/5)*ref_values[i]):\n",
    "            zone[3] += 1    #Zone D\n",
    "        else:\n",
    "            zone[1] += 1    #Zone B\n",
    "            \n",
    "    print(\"There are: \\n {0} values in zone A ({1}%), \\n {2} values in zone B ({3}%), \\n {4} values in zone C ({5}%), \\n {6} values in zone D ({7}%), \\n {8} values in zone E ({9}%)\".format(zone[0], zone[0]/sum(zone), zone[1], zone[1]/sum(zone), zone[2], zone[2]/sum(zone), zone[3], zone[3]/sum(zone), zone[4], zone[4]/sum(zone)))\n",
    "\n",
    "\n",
    "    return plt, zone"
   ]
  },
  {
   "cell_type": "code",
   "execution_count": null,
   "metadata": {
    "ExecuteTime": {
     "end_time": "2022-12-19T17:09:09.414615Z",
     "start_time": "2022-12-19T17:09:09.398914Z"
    }
   },
   "outputs": [],
   "source": [
    "def two_proportion_test(len1, prop1, len2, prop2 , message):\n",
    "    \n",
    "    # p1 = x1/n1\n",
    "    # p2 = x2/n2\n",
    "    # H0: p1=p2 vs H1:p1 != p2\n",
    "    n1 = len1\n",
    "    n2 = len2\n",
    "    n = n1+n2\n",
    "    p1 = prop1\n",
    "    p2 = prop2\n",
    "    x1 = p1*n1\n",
    "    x2 = p2*n2\n",
    "    \n",
    "    p_pool = (x1+x2)/n\n",
    "    se = np.sqrt(p_pool*(1-p_pool)*(1/n1+1/n2))\n",
    "\n",
    "    z_statistic = (p1-p2)/se\n",
    "    p_value = 2*stats.norm().cdf(-1*np.abs(z_statistic))\n",
    "    print('P-value for the 2 proportion test = ', p_value)\n",
    "\n",
    "    if p_value < 0.05: \n",
    "        print('Thus, we reject the null hypothesis ({})'.format(message))\n",
    "    else:\n",
    "        print('Thus, we FAIL to reject the null hypothesis (no evidence that {})'.format(message))"
   ]
  },
  {
   "cell_type": "code",
   "execution_count": null,
   "metadata": {
    "ExecuteTime": {
     "end_time": "2022-12-19T17:09:10.895737Z",
     "start_time": "2022-12-19T17:09:10.876730Z"
    }
   },
   "outputs": [],
   "source": [
    "plt.rc('font', size = 12)"
   ]
  },
  {
   "cell_type": "code",
   "execution_count": null,
   "metadata": {
    "ExecuteTime": {
     "end_time": "2022-12-10T20:00:35.544675Z",
     "start_time": "2022-12-10T20:00:33.411085Z"
    },
    "scrolled": true
   },
   "outputs": [],
   "source": [
    "plot, zonefslw1 = clarke_error_grid(dfw1[\"Fingerprick (mg/dL)\"], dfw1[\"FSL (mg/dL)\"], \"FSL\", \"PA\", \"\") #, \"Clarke Error Grid -  Fingerprick vs FSL (Exercise)\"\n",
    "print(\"There are: \\n {0} values in zone A ({1}%), \\n {2} values in zone B ({3}%), \\n {4} values in zone C ({5}%), \\n {6} values in zone D ({7}%), \\n {8} values in zone E ({9}%)\".format(zonefslw1[0], zonefslw1[0]/sum(zonefslw1), zonefslw1[1], zonefslw1[1]/sum(zonefslw1), zonefslw1[2], zonefslw1[2]/sum(zonefslw1), zonefslw1[3], zonefslw1[3]/sum(zonefslw1), zonefslw1[4], zonefslw1[4]/sum(zonefslw1)))"
   ]
  },
  {
   "cell_type": "code",
   "execution_count": null,
   "metadata": {
    "ExecuteTime": {
     "end_time": "2022-12-10T20:00:42.436893Z",
     "start_time": "2022-12-10T20:00:41.385904Z"
    },
    "scrolled": true
   },
   "outputs": [],
   "source": [
    "plot, zonefslw2 = clarke_error_grid(dfw2[\"Fingerprick (mg/dL)\"], dfw2[\"FSL (mg/dL)\"],\"FSL\", \"NDA\", \"\") #, \"Clarke Error Grid -  Fingerprick vs FSL (NDA)\"\n",
    "print(\"There are: \\n {0} values in zone A ({1}%), \\n {2} values in zone B ({3}%), \\n {4} values in zone C ({5}%), \\n {6} values in zone D ({7}%), \\n {8} values in zone E ({9}%)\".format(zonefslw2[0], zonefslw2[0]/sum(zonefslw2), zonefslw2[1], zonefslw2[1]/sum(zonefslw2), zonefslw2[2], zonefslw2[2]/sum(zonefslw2), zonefslw2[3], zonefslw2[3]/sum(zonefslw2), zonefslw2[4], zonefslw2[4]/sum(zonefslw2)))"
   ]
  },
  {
   "cell_type": "code",
   "execution_count": null,
   "metadata": {
    "ExecuteTime": {
     "end_time": "2022-12-10T20:00:46.458616Z",
     "start_time": "2022-12-10T20:00:46.443007Z"
    }
   },
   "outputs": [],
   "source": [
    "two_proportion_test(zonefslw1[0], zonefslw1[0]/sum(zonefslw1), zonefslw2[0], zonefslw2[0]/sum(zonefslw2), \"samples differ\")"
   ]
  },
  {
   "cell_type": "code",
   "execution_count": null,
   "metadata": {
    "ExecuteTime": {
     "end_time": "2022-12-10T20:00:54.432267Z",
     "start_time": "2022-12-10T20:00:53.143606Z"
    },
    "scrolled": true
   },
   "outputs": [],
   "source": [
    "plot, zoneesw1 = clarke_error_grid(dfw1[\"Fingerprick (mg/dL)\"], dfw1[\"Eversense (mg/dl)\"],\"ES\", \"PA\", \"\") #, \"Clarke Error Grid -  Fingerprick vs Eversense (NDA)\"\n",
    "print(\"There are: \\n {0} values in zone A ({1}%), \\n {2} values in zone B ({3}%), \\n {4} values in zone C ({5}%), \\n {6} values in zone D ({7}%), \\n {8} values in zone E ({9}%)\".format(zoneesw2[0], zoneesw2[0]/sum(zoneesw2), zoneesw2[1], zoneesw2[1]/sum(zoneesw2), zoneesw2[2], zoneesw2[2]/sum(zoneesw2), zoneesw2[3], zoneesw2[3]/sum(zoneesw2), zoneesw2[4], zoneesw2[4]/sum(zoneesw2)))"
   ]
  },
  {
   "cell_type": "code",
   "execution_count": null,
   "metadata": {
    "ExecuteTime": {
     "end_time": "2022-12-10T20:01:27.791774Z",
     "start_time": "2022-12-10T20:01:26.746354Z"
    },
    "scrolled": true
   },
   "outputs": [],
   "source": [
    "plot, zoneesw2 = clarke_error_grid(dfw2[\"Fingerprick (mg/dL)\"], dfw2[\"Eversense (mg/dl)\"],\"ES\", \"NDA\", \"\") #, \"Clarke Error Grid -  Fingerprick vs Eversense (NDA)\"\n",
    "print(\"There are: \\n {0} values in zone A ({1}%), \\n {2} values in zone B ({3}%), \\n {4} values in zone C ({5}%), \\n {6} values in zone D ({7}%), \\n {8} values in zone E ({9}%)\".format(zoneesw2[0], zoneesw2[0]/sum(zoneesw2), zoneesw2[1], zoneesw2[1]/sum(zoneesw2), zoneesw2[2], zoneesw2[2]/sum(zoneesw2), zoneesw2[3], zoneesw2[3]/sum(zoneesw2), zoneesw2[4], zoneesw2[4]/sum(zoneesw2)))"
   ]
  },
  {
   "cell_type": "code",
   "execution_count": null,
   "metadata": {
    "ExecuteTime": {
     "end_time": "2022-12-10T20:01:33.866635Z",
     "start_time": "2022-12-10T20:01:33.826974Z"
    }
   },
   "outputs": [],
   "source": [
    "two_proportion_test(zoneesw1[0], zoneesw1[0]/sum(zoneesw1), zoneesw2[0], zoneesw2[0]/sum(zoneesw2), \"samples differ\")"
   ]
  },
  {
   "cell_type": "markdown",
   "metadata": {},
   "source": [
    "<div class=\"alert alert-block alert-danger\">\n",
    "    \n",
    "# **CLARKE ERROR GRID ANALYSIS -- time**\n",
    "\n",
    "</div>"
   ]
  },
  {
   "cell_type": "markdown",
   "metadata": {},
   "source": [
    "<div class=\"alert alert-block alert-warning \">\n",
    "    \n",
    "## **CLARKE ERROR GRID ANALYSIS (Morning)**\n",
    "\n",
    "</div>"
   ]
  },
  {
   "cell_type": "code",
   "execution_count": null,
   "metadata": {
    "ExecuteTime": {
     "end_time": "2022-12-10T20:01:40.749802Z",
     "start_time": "2022-12-10T20:01:39.772358Z"
    },
    "scrolled": true
   },
   "outputs": [],
   "source": [
    "plot, zonefslw1 = clarke_error_grid(list(mañanaw1[\"Fingerprick (mg/dL)\"]), list(mañanaw1[\"FSL (mg/dL)\"]),\"FSL\", \"PA\", \"\") #\"Clarke Error Grid -  Fingerprick vs FSL (Morning - Exercise)\"\n",
    "print(\"There are: \\n {0} values in zone A ({1}%), \\n {2} values in zone B ({3}%), \\n {4} values in zone C ({5}%), \\n {6} values in zone D ({7}%), \\n {8} values in zone E ({9}%)\".format(zonefslw1[0], zonefslw1[0]/sum(zonefslw1), zonefslw1[1], zonefslw1[1]/sum(zonefslw1), zonefslw1[2], zonefslw1[2]/sum(zonefslw1), zonefslw1[3], zonefslw1[3]/sum(zonefslw1), zonefslw1[4], zonefslw1[4]/sum(zonefslw1)))"
   ]
  },
  {
   "cell_type": "code",
   "execution_count": null,
   "metadata": {
    "ExecuteTime": {
     "end_time": "2022-12-10T20:01:47.508284Z",
     "start_time": "2022-12-10T20:01:46.453273Z"
    },
    "scrolled": true
   },
   "outputs": [],
   "source": [
    "plot, zonefslw2 = clarke_error_grid(list(mañanaw2[\"Fingerprick (mg/dL)\"]), list(mañanaw2[\"FSL (mg/dL)\"]),\"FSL\", \"NDA\", \"\") #\"Clarke Error Grid -  Fingerprick vs FSL (Morning - NDA)\"\n",
    "print(\"There are: \\n {0} values in zone A ({1}%), \\n {2} values in zone B ({3}%), \\n {4} values in zone C ({5}%), \\n {6} values in zone D ({7}%), \\n {8} values in zone E ({9}%)\".format(zonefslw2[0], zonefslw2[0]/sum(zonefslw2), zonefslw2[1], zonefslw2[1]/sum(zonefslw2), zonefslw2[2], zonefslw2[2]/sum(zonefslw2), zonefslw2[3], zonefslw2[3]/sum(zonefslw2), zonefslw2[4], zonefslw2[4]/sum(zonefslw2)))"
   ]
  },
  {
   "cell_type": "code",
   "execution_count": null,
   "metadata": {
    "ExecuteTime": {
     "end_time": "2022-12-10T20:01:53.126176Z",
     "start_time": "2022-12-10T20:01:53.112155Z"
    }
   },
   "outputs": [],
   "source": [
    "two_proportion_test(zonefslw1[0], zonefslw1[0]/sum(zonefslw1), zonefslw2[0], zonefslw2[0]/sum(zonefslw2), \"samples differ\")"
   ]
  },
  {
   "cell_type": "code",
   "execution_count": null,
   "metadata": {
    "ExecuteTime": {
     "end_time": "2022-12-10T20:01:59.867041Z",
     "start_time": "2022-12-10T20:01:58.862053Z"
    },
    "scrolled": true
   },
   "outputs": [],
   "source": [
    "plot, zoneesw1 = clarke_error_grid(list(mañanaw1[\"Fingerprick (mg/dL)\"]), list(mañanaw1[\"Eversense (mg/dl)\"]),\"ES\", \"PA\", \"\") #\"Clarke Error Grid -  Fingerprick vs Eversense (Morning - Exercise)\"\n",
    "print(\"There are: \\n {0} values in zone A ({1}%), \\n {2} values in zone B ({3}%), \\n {4} values in zone C ({5}%), \\n {6} values in zone D ({7}%), \\n {8} values in zone E ({9}%)\".format(zoneesw1[0], zoneesw1[0]/sum(zoneesw1), zoneesw1[1], zoneesw1[1]/sum(zoneesw1), zoneesw1[2], zoneesw1[2]/sum(zoneesw1), zoneesw1[3], zoneesw1[3]/sum(zoneesw1), zoneesw1[4], zoneesw1[4]/sum(zoneesw1)))"
   ]
  },
  {
   "cell_type": "code",
   "execution_count": null,
   "metadata": {
    "ExecuteTime": {
     "end_time": "2022-12-10T20:02:06.871348Z",
     "start_time": "2022-12-10T20:02:05.888179Z"
    },
    "scrolled": true
   },
   "outputs": [],
   "source": [
    "plot, zoneesw2 = clarke_error_grid(list(mañanaw2[\"Fingerprick (mg/dL)\"]), list(mañanaw2[\"Eversense (mg/dl)\"]),\"ES\", \"NDA\", \"\") #\"Clarke Error Grid -  Fingerprick vs Eversense (Morning - NDA)\"\n",
    "print(\"There are: \\n {0} values in zone A ({1}%), \\n {2} values in zone B ({3}%), \\n {4} values in zone C ({5}%), \\n {6} values in zone D ({7}%), \\n {8} values in zone E ({9}%)\".format(zoneesw2[0], zoneesw2[0]/sum(zoneesw2), zoneesw2[1], zoneesw2[1]/sum(zoneesw2), zoneesw2[2], zoneesw2[2]/sum(zoneesw2), zoneesw2[3], zoneesw2[3]/sum(zoneesw2), zoneesw2[4], zoneesw2[4]/sum(zoneesw2)))"
   ]
  },
  {
   "cell_type": "code",
   "execution_count": null,
   "metadata": {
    "ExecuteTime": {
     "end_time": "2022-12-10T20:02:12.865656Z",
     "start_time": "2022-12-10T20:02:12.830873Z"
    }
   },
   "outputs": [],
   "source": [
    "two_proportion_test(zoneesw1[0], zoneesw1[0]/sum(zoneesw1), zoneesw2[0], zoneesw2[0]/sum(zoneesw2), \"samples differ\")"
   ]
  },
  {
   "cell_type": "markdown",
   "metadata": {},
   "source": [
    "<div class=\"alert alert-block alert-warning \">\n",
    "    \n",
    "## **CLARKE ERROR GRID ANALYSIS (Aft)**\n",
    "\n",
    "</div>"
   ]
  },
  {
   "cell_type": "code",
   "execution_count": null,
   "metadata": {
    "ExecuteTime": {
     "end_time": "2022-12-10T20:02:20.363415Z",
     "start_time": "2022-12-10T20:02:19.287745Z"
    },
    "scrolled": true
   },
   "outputs": [],
   "source": [
    "plot, zonefslw1 = clarke_error_grid(list(tardew1[\"Fingerprick (mg/dL)\"]), list(tardew1[\"FSL (mg/dL)\"]),\"FSL\", \"PA\",\"\")#, \"Clarke Error Grid -  Fingerprick vs FSL (Night - NDA)\"\n",
    "print(\"There are: \\n {0} values in zone A ({1}%), \\n {2} values in zone B ({3}%), \\n {4} values in zone C ({5}%), \\n {6} values in zone D ({7}%), \\n {8} values in zone E ({9}%)\".format(zonefslw1[0], zonefslw1[0]/sum(zonefslw1), zonefslw1[1], zonefslw1[1]/sum(zonefslw1), zonefslw1[2], zonefslw1[2]/sum(zonefslw1), zonefslw1[3], zonefslw1[3]/sum(zonefslw1), zonefslw1[4], zonefslw1[4]/sum(zonefslw1)))"
   ]
  },
  {
   "cell_type": "code",
   "execution_count": null,
   "metadata": {
    "ExecuteTime": {
     "end_time": "2022-12-10T20:02:26.081976Z",
     "start_time": "2022-12-10T20:02:25.242028Z"
    },
    "scrolled": true
   },
   "outputs": [],
   "source": [
    "plot, zonefslw2 = clarke_error_grid(list(tardew2[\"Fingerprick (mg/dL)\"]), list(tardew2[\"FSL (mg/dL)\"]),\"FSL\", \"NDA\",\"\")#, \"Clarke Error Grid -  Fingerprick vs FSL (Afternoon - NDA)\"\n",
    "print(\"There are: \\n {0} values in zone A ({1}%), \\n {2} values in zone B ({3}%), \\n {4} values in zone C ({5}%), \\n {6} values in zone D ({7}%), \\n {8} values in zone E ({9}%)\".format(zonefslw2[0], zonefslw2[0]/sum(zonefslw2), zonefslw2[1], zonefslw2[1]/sum(zonefslw2), zonefslw2[2], zonefslw2[2]/sum(zonefslw2), zonefslw2[3], zonefslw2[3]/sum(zonefslw2), zonefslw2[4], zonefslw2[4]/sum(zonefslw2)))"
   ]
  },
  {
   "cell_type": "code",
   "execution_count": null,
   "metadata": {
    "ExecuteTime": {
     "end_time": "2022-12-10T20:02:32.029571Z",
     "start_time": "2022-12-10T20:02:31.998600Z"
    }
   },
   "outputs": [],
   "source": [
    "two_proportion_test(zonefslw1[0], zonefslw1[0]/sum(zonefslw1), zonefslw2[0], zonefslw2[0]/sum(zonefslw2), \"samples differ\")"
   ]
  },
  {
   "cell_type": "code",
   "execution_count": null,
   "metadata": {
    "ExecuteTime": {
     "end_time": "2022-12-10T20:02:39.501386Z",
     "start_time": "2022-12-10T20:02:38.403400Z"
    },
    "scrolled": true
   },
   "outputs": [],
   "source": [
    "plot, zoneesw1 = clarke_error_grid(list(tardew1[\"Fingerprick (mg/dL)\"]), list(tardew1[\"Eversense (mg/dl)\"]),\"ES\", \"PA\", \"\") #Clarke Error Grid -  Fingerprick vs Eversense (Afternoon - Exercise)\n",
    "print(\"There are: \\n {0} values in zone A ({1}%), \\n {2} values in zone B ({3}%), \\n {4} values in zone C ({5}%), \\n {6} values in zone D ({7}%), \\n {8} values in zone E ({9}%)\".format(zoneesw1[0], zoneesw1[0]/sum(zoneesw1), zoneesw1[1], zoneesw1[1]/sum(zoneesw1), zoneesw1[2], zoneesw1[2]/sum(zoneesw1), zoneesw1[3], zoneesw1[3]/sum(zoneesw1), zoneesw1[4], zoneesw1[4]/sum(zoneesw1)))"
   ]
  },
  {
   "cell_type": "code",
   "execution_count": null,
   "metadata": {
    "ExecuteTime": {
     "end_time": "2022-12-10T20:02:46.563549Z",
     "start_time": "2022-12-10T20:02:45.597489Z"
    },
    "scrolled": true
   },
   "outputs": [],
   "source": [
    "plot, zoneesw2 = clarke_error_grid(list(tardew2[\"Fingerprick (mg/dL)\"]), list(tardew2[\"Eversense (mg/dl)\"]),\"ES\", \"NDA\", \"\") #Clarke Error Grid -  Fingerprick vs Eversense (Afternoon - NDA)\n",
    "print(\"There are: \\n {0} values in zone A ({1}%), \\n {2} values in zone B ({3}%), \\n {4} values in zone C ({5}%), \\n {6} values in zone D ({7}%), \\n {8} values in zone E ({9}%)\".format(zoneesw2[0], zoneesw2[0]/sum(zoneesw2), zoneesw2[1], zoneesw2[1]/sum(zoneesw2), zoneesw2[2], zoneesw2[2]/sum(zoneesw2), zoneesw2[3], zoneesw2[3]/sum(zoneesw2), zoneesw2[4], zoneesw2[4]/sum(zoneesw2)))"
   ]
  },
  {
   "cell_type": "code",
   "execution_count": null,
   "metadata": {
    "ExecuteTime": {
     "end_time": "2022-12-10T20:02:52.832240Z",
     "start_time": "2022-12-10T20:02:52.801354Z"
    }
   },
   "outputs": [],
   "source": [
    "two_proportion_test(zoneesw1[0], zoneesw1[0]/sum(zoneesw1), zoneesw2[0], zoneesw2[0]/sum(zoneesw2), \"samples differ\")"
   ]
  },
  {
   "cell_type": "markdown",
   "metadata": {},
   "source": [
    "<div class=\"alert alert-block alert-warning \">\n",
    "    \n",
    "## **CLARKE ERROR GRID ANALYSIS (Night)**\n",
    "\n",
    "</div>"
   ]
  },
  {
   "cell_type": "code",
   "execution_count": null,
   "metadata": {
    "ExecuteTime": {
     "end_time": "2022-12-10T20:02:59.618103Z",
     "start_time": "2022-12-10T20:02:58.620811Z"
    },
    "scrolled": true
   },
   "outputs": [],
   "source": [
    "plot, zonefslw1 = clarke_error_grid(list(nochew1[\"Fingerprick (mg/dL)\"]), list(nochew1[\"FSL (mg/dL)\"]),\"FSL\", \"PA\", \"\") #Clarke Error Grid -  Fingerprick vs FSL (Night - exercise)\n",
    "print(\"There are: \\n {0} values in zone A ({1}%), \\n {2} values in zone B ({3}%), \\n {4} values in zone C ({5}%), \\n {6} values in zone D ({7}%), \\n {8} values in zone E ({9}%)\".format(zonefslw1[0], zonefslw1[0]/sum(zonefslw1), zonefslw1[1], zonefslw1[1]/sum(zonefslw1), zonefslw1[2], zonefslw1[2]/sum(zonefslw1), zonefslw1[3], zonefslw1[3]/sum(zonefslw1), zonefslw1[4], zonefslw1[4]/sum(zonefslw1)))"
   ]
  },
  {
   "cell_type": "code",
   "execution_count": null,
   "metadata": {
    "ExecuteTime": {
     "end_time": "2022-12-10T20:03:06.734978Z",
     "start_time": "2022-12-10T20:03:05.637694Z"
    },
    "scrolled": true
   },
   "outputs": [],
   "source": [
    "plot, zonefslw2 = clarke_error_grid(list(nochew2[\"Fingerprick (mg/dL)\"]), list(nochew2[\"FSL (mg/dL)\"]),\"FSL\", \"NDA\", \"\") #Clarke Error Grid -  Fingerprick vs FSL (Night - NDA)\n",
    "print(\"There are: \\n {0} values in zone A ({1}%), \\n {2} values in zone B ({3}%), \\n {4} values in zone C ({5}%), \\n {6} values in zone D ({7}%), \\n {8} values in zone E ({9}%)\".format(zonefslw2[0], zonefslw2[0]/sum(zonefslw2), zonefslw2[1], zonefslw2[1]/sum(zonefslw2), zonefslw2[2], zonefslw2[2]/sum(zonefslw2), zonefslw2[3], zonefslw2[3]/sum(zonefslw2), zonefslw2[4], zonefslw2[4]/sum(zonefslw2)))"
   ]
  },
  {
   "cell_type": "code",
   "execution_count": null,
   "metadata": {
    "ExecuteTime": {
     "end_time": "2022-12-10T20:03:12.258713Z",
     "start_time": "2022-12-10T20:03:12.229263Z"
    }
   },
   "outputs": [],
   "source": [
    "two_proportion_test(zonefslw1[0], zonefslw1[0]/sum(zonefslw1), zonefslw2[0], zonefslw2[0]/sum(zonefslw2), \"samples differ\")"
   ]
  },
  {
   "cell_type": "code",
   "execution_count": null,
   "metadata": {
    "ExecuteTime": {
     "end_time": "2022-12-10T20:03:19.438991Z",
     "start_time": "2022-12-10T20:03:18.337365Z"
    },
    "scrolled": true
   },
   "outputs": [],
   "source": [
    "plot, zoneesw1 = clarke_error_grid(list(nochew1[\"Fingerprick (mg/dL)\"]), list(nochew1[\"Eversense (mg/dl)\"]),\"ES\", \"PA\", \"\") #Clarke Error Grid -  Fingerprick vs Eversense (Night - Exercise)\n",
    "print(\"There are: \\n {0} values in zone A ({1}%), \\n {2} values in zone B ({3}%), \\n {4} values in zone C ({5}%), \\n {6} values in zone D ({7}%), \\n {8} values in zone E ({9}%)\".format(zoneesw1[0], zoneesw1[0]/sum(zoneesw1), zoneesw1[1], zoneesw1[1]/sum(zoneesw1), zoneesw1[2], zoneesw1[2]/sum(zoneesw1), zoneesw1[3], zoneesw1[3]/sum(zoneesw1), zoneesw1[4], zoneesw1[4]/sum(zoneesw1)))"
   ]
  },
  {
   "cell_type": "code",
   "execution_count": null,
   "metadata": {
    "ExecuteTime": {
     "end_time": "2022-12-10T20:03:26.361169Z",
     "start_time": "2022-12-10T20:03:25.383752Z"
    },
    "scrolled": true
   },
   "outputs": [],
   "source": [
    "plot, zoneesw2 = clarke_error_grid(list(nochew2[\"Fingerprick (mg/dL)\"]), list(nochew2[\"Eversense (mg/dl)\"]),\"ES\", \"NDA\", \"\") #Clarke Error Grid -  Fingerprick vs Eversense (Night - list()NDA)\n",
    "print(\"There are: \\n {0} values in zone A ({1}%), \\n {2} values in zone B ({3}%), \\n {4} values in zone C ({5}%), \\n {6} values in zone D ({7}%), \\n {8} values in zone E ({9}%)\".format(zoneesw2[0], zoneesw2[0]/sum(zoneesw2), zoneesw2[1], zoneesw2[1]/sum(zoneesw2), zoneesw2[2], zoneesw2[2]/sum(zoneesw2), zoneesw2[3], zoneesw2[3]/sum(zoneesw2), zoneesw2[4], zoneesw2[4]/sum(zoneesw2)))"
   ]
  },
  {
   "cell_type": "code",
   "execution_count": null,
   "metadata": {
    "ExecuteTime": {
     "end_time": "2022-12-10T20:03:31.959358Z",
     "start_time": "2022-12-10T20:03:31.929091Z"
    }
   },
   "outputs": [],
   "source": [
    "two_proportion_test(zoneesw1[0], zoneesw1[0]/sum(zoneesw1), zoneesw2[0], zoneesw2[0]/sum(zoneesw2), \"samples differ\")"
   ]
  },
  {
   "cell_type": "markdown",
   "metadata": {},
   "source": [
    "<div class=\"alert alert-block alert-warning \">\n",
    "    \n",
    "## **CLARKE ERROR GRID ANALYSIS (dawn)**\n",
    "\n",
    "</div>"
   ]
  },
  {
   "cell_type": "code",
   "execution_count": null,
   "metadata": {
    "ExecuteTime": {
     "end_time": "2022-12-10T20:03:38.755040Z",
     "start_time": "2022-12-10T20:03:37.832940Z"
    },
    "scrolled": true
   },
   "outputs": [],
   "source": [
    "plot, zonefslw1 = clarke_error_grid(list(madrugadaw1[\"Fingerprick (mg/dL)\"]), list(madrugadaw1[\"FSL (mg/dL)\"]),\"FSL\", \"PA\", \"\") #Clarke Error Grid -  Fingerprick vs FSL (Dawn - EXERCISE)\n",
    "print(\"There are: \\n {0} values in zone A ({1}%), \\n {2} values in zone B ({3}%), \\n {4} values in zone C ({5}%), \\n {6} values in zone D ({7}%), \\n {8} values in zone E ({9}%)\".format(zonefslw1[0], zonefslw1[0]/sum(zonefslw1), zonefslw1[1], zonefslw1[1]/sum(zonefslw1), zonefslw1[2], zonefslw1[2]/sum(zonefslw1), zonefslw1[3], zonefslw1[3]/sum(zonefslw1), zonefslw1[4], zonefslw1[4]/sum(zonefslw1)))"
   ]
  },
  {
   "cell_type": "code",
   "execution_count": null,
   "metadata": {
    "ExecuteTime": {
     "end_time": "2022-12-10T20:03:45.521095Z",
     "start_time": "2022-12-10T20:03:44.684910Z"
    },
    "scrolled": true
   },
   "outputs": [],
   "source": [
    "plot, zonefslw2 = clarke_error_grid(list(madrugadaw2[\"Fingerprick (mg/dL)\"]), list(madrugadaw2[\"FSL (mg/dL)\"]),\"FSL\", \"NDA\", \"\") #Clarke Error Grid -  Fingerprick vs FSL (Dawn - NDA)\n",
    "print(\"There are: \\n {0} values in zone A ({1}%), \\n {2} values in zone B ({3}%), \\n {4} values in zone C ({5}%), \\n {6} values in zone D ({7}%), \\n {8} values in zone E ({9}%)\".format(zonefslw2[0], zonefslw2[0]/sum(zonefslw2), zonefslw2[1], zonefslw2[1]/sum(zonefslw2), zonefslw2[2], zonefslw2[2]/sum(zonefslw2), zonefslw2[3], zonefslw2[3]/sum(zonefslw2), zonefslw2[4], zonefslw2[4]/sum(zonefslw2)))"
   ]
  },
  {
   "cell_type": "code",
   "execution_count": null,
   "metadata": {
    "ExecuteTime": {
     "end_time": "2022-12-10T20:03:51.290101Z",
     "start_time": "2022-12-10T20:03:51.258455Z"
    }
   },
   "outputs": [],
   "source": [
    "two_proportion_test(zonefslw1[0], zonefslw1[0]/sum(zonefslw1), zonefslw2[0], zonefslw2[0]/sum(zonefslw2), \"samples differ\")"
   ]
  },
  {
   "cell_type": "code",
   "execution_count": null,
   "metadata": {
    "ExecuteTime": {
     "end_time": "2022-12-10T20:03:58.086429Z",
     "start_time": "2022-12-10T20:03:56.867834Z"
    },
    "scrolled": true
   },
   "outputs": [],
   "source": [
    "plot, zoneesw1 = clarke_error_grid(list(madrugadaw1[\"Fingerprick (mg/dL)\"]), list(madrugadaw1[\"Eversense (mg/dl)\"]),\"ES\", \"PA\", \"\") #Clarke Error Grid -  Fingerprick vs Eversense (Dawn - Exercise)\n",
    "print(\"There are: \\n {0} values in zone A ({1}%), \\n {2} values in zone B ({3}%), \\n {4} values in zone C ({5}%), \\n {6} values in zone D ({7}%), \\n {8} values in zone E ({9}%)\".format(zoneesw1[0], zoneesw1[0]/sum(zoneesw1), zoneesw1[1], zoneesw1[1]/sum(zoneesw1), zoneesw1[2], zoneesw1[2]/sum(zoneesw1), zoneesw1[3], zoneesw1[3]/sum(zoneesw1), zoneesw1[4], zoneesw1[4]/sum(zoneesw1)))"
   ]
  },
  {
   "cell_type": "code",
   "execution_count": null,
   "metadata": {
    "ExecuteTime": {
     "end_time": "2022-12-10T20:04:05.029328Z",
     "start_time": "2022-12-10T20:04:04.071634Z"
    },
    "scrolled": true
   },
   "outputs": [],
   "source": [
    "plot, zoneesw2 = clarke_error_grid(list(madrugadaw2[\"Fingerprick (mg/dL)\"]), list(madrugadaw2[\"Eversense (mg/dl)\"]),\"FSL\", \"NDA\", \"\") #Clarke Error Grid -  Fingerprick vs Eversense (Dawn - list(NDA)\n",
    "print(\"There are: \\n {0} values in zone A ({1}%), \\n {2} values in zone B ({3}%), \\n {4} values in zone C ({5}%), \\n {6} values in zone D ({7}%), \\n {8} values in zone E ({9}%)\".format(zoneesw2[0], zoneesw2[0]/sum(zoneesw2), zoneesw2[1], zoneesw2[1]/sum(zoneesw2), zoneesw2[2], zoneesw2[2]/sum(zoneesw2), zoneesw2[3], zoneesw2[3]/sum(zoneesw2), zoneesw2[4], zoneesw2[4]/sum(zoneesw2)))"
   ]
  },
  {
   "cell_type": "code",
   "execution_count": null,
   "metadata": {
    "ExecuteTime": {
     "end_time": "2022-12-10T20:04:10.820610Z",
     "start_time": "2022-12-10T20:04:10.809587Z"
    }
   },
   "outputs": [],
   "source": [
    "two_proportion_test(zoneesw1[0], zoneesw1[0]/sum(zoneesw1), zoneesw2[0], zoneesw2[0]/sum(zoneesw2), \"samples differ\")"
   ]
  },
  {
   "cell_type": "markdown",
   "metadata": {},
   "source": [
    "<div class=\"alert alert-block alert-warning\">\n",
    "    \n",
    "# **CLARKE ERROR GRID ANALYSIS -- glucose**\n",
    "\n",
    "</div>"
   ]
  },
  {
   "cell_type": "code",
   "execution_count": null,
   "metadata": {
    "ExecuteTime": {
     "end_time": "2022-12-10T20:04:29.160283Z",
     "start_time": "2022-12-10T20:04:29.111234Z"
    }
   },
   "outputs": [],
   "source": [
    "# FSL\n",
    "w170_fsl = dfw1[dfw1[\"FSL (mg/dL)\"] <= 70]\n",
    "w270_fsl = dfw2[dfw2[\"FSL (mg/dL)\"] <= 70]\n",
    "w1180_fsl = dfw1.loc[(dfw1[\"FSL (mg/dL)\"] <= 180) & (dfw1[\"FSL (mg/dL)\"] > 70)]\n",
    "w2180_fsl = dfw2.loc[(dfw2[\"FSL (mg/dL)\"] <= 180) & (dfw2[\"FSL (mg/dL)\"] > 70)]\n",
    "w1max_fsl = dfw1[dfw1[\"FSL (mg/dL)\"] > 180]\n",
    "w2max_fsl = dfw2[dfw2[\"FSL (mg/dL)\"] > 180]\n",
    "\n",
    "#Eversense\n",
    "w170_es = dfw1[dfw1[\"Eversense (mg/dl)\"] <= 70]\n",
    "w270_es = dfw2[dfw2[\"Eversense (mg/dl)\"] <= 70]\n",
    "w1180_es = dfw1.loc[(dfw1[\"Eversense (mg/dl)\"] <= 180) & (dfw1[\"Eversense (mg/dl)\"] > 70)]\n",
    "w2180_es = dfw2.loc[(dfw2[\"Eversense (mg/dl)\"] <= 180) & (dfw2[\"Eversense (mg/dl)\"] > 70)]\n",
    "w1max_es = dfw1[dfw1[\"Eversense (mg/dl)\"] > 180]\n",
    "w2max_es = dfw2[dfw2[\"Eversense (mg/dl)\"] > 180]\n",
    "\n",
    "#Fingerprick\n",
    "w170_fp = dfw1[dfw1[\"Fingerprick (mg/dL)\"] <= 70]\n",
    "w270_fp = dfw2[dfw2[\"Fingerprick (mg/dL)\"] <= 70]\n",
    "w1180_fp = dfw1.loc[(dfw1[\"Fingerprick (mg/dL)\"] <= 180) & (dfw1[\"Fingerprick (mg/dL)\"] > 70)]\n",
    "w2180_fp = dfw2.loc[(dfw2[\"Fingerprick (mg/dL)\"] <= 180) & (dfw2[\"Fingerprick (mg/dL)\"] > 70)]\n",
    "w1max_fp = dfw1[dfw1[\"Fingerprick (mg/dL)\"] > 180]\n",
    "w2max_fp = dfw2[dfw2[\"Fingerprick (mg/dL)\"] > 180]"
   ]
  },
  {
   "cell_type": "code",
   "execution_count": null,
   "metadata": {
    "ExecuteTime": {
     "end_time": "2022-12-10T20:04:38.464726Z",
     "start_time": "2022-12-10T20:04:36.903034Z"
    },
    "scrolled": true
   },
   "outputs": [],
   "source": [
    "### FSL\n",
    "plot, zonefslw1hypo = clarke_error_grid(list(w170_fp[\"Fingerprick (mg/dL)\"]), list(w170_fp[\"FSL (mg/dL)\"]),\"FSL\", \"PA\", \"\");\n",
    "plot, zonefslw2hypo = clarke_error_grid(list(w270_fp[\"Fingerprick (mg/dL)\"]), list(w270_fp[\"FSL (mg/dL)\"]),\"FSL\", \"NDA\", \"\");"
   ]
  },
  {
   "cell_type": "code",
   "execution_count": null,
   "metadata": {
    "ExecuteTime": {
     "end_time": "2022-12-10T20:04:45.418014Z",
     "start_time": "2022-12-10T20:04:45.400722Z"
    }
   },
   "outputs": [],
   "source": [
    "two_proportion_test(zonefslw1hypo[0], zonefslw1hypo[0]/sum(zonefslw1hypo), zonefslw2hypo[0], zonefslw2hypo[0]/sum(zonefslw2hypo), \"samples differ\")"
   ]
  },
  {
   "cell_type": "code",
   "execution_count": null,
   "metadata": {
    "ExecuteTime": {
     "end_time": "2022-12-10T20:04:54.180052Z",
     "start_time": "2022-12-10T20:04:52.453759Z"
    },
    "scrolled": true
   },
   "outputs": [],
   "source": [
    "plot, zonefslw1normo = clarke_error_grid(list(w1180_fp[\"Fingerprick (mg/dL)\"]),list( w1180_fp[\"FSL (mg/dL)\"]),\"FSL\", \"PA\", \"\")\n",
    "plot, zonefslw2normo = clarke_error_grid(list(w2180_fp[\"Fingerprick (mg/dL)\"]),list( w2180_fp[\"FSL (mg/dL)\"]),\"FSL\", \"NDA\", \"\")"
   ]
  },
  {
   "cell_type": "code",
   "execution_count": null,
   "metadata": {
    "ExecuteTime": {
     "end_time": "2022-12-10T20:05:01.516017Z",
     "start_time": "2022-12-10T20:05:01.489332Z"
    }
   },
   "outputs": [],
   "source": [
    "two_proportion_test(zonefslw1normo[0], zonefslw1normo[0]/sum(zonefslw1normo), zonefslw2normo[0], zonefslw2normo[0]/sum(zonefslw2normo), \"samples differ\")"
   ]
  },
  {
   "cell_type": "code",
   "execution_count": null,
   "metadata": {
    "ExecuteTime": {
     "end_time": "2022-12-10T20:05:11.180299Z",
     "start_time": "2022-12-10T20:05:09.133227Z"
    },
    "scrolled": true
   },
   "outputs": [],
   "source": [
    "plot, zonefslw1hyper = clarke_error_grid(list(w1max_fp[\"Fingerprick (mg/dL)\"]),list( w1max_fp[\"FSL (mg/dL)\"]),\"FSL\", \"PA\", \"\")\n",
    "plot, zonefslw2hyper = clarke_error_grid(list(w2max_fp[\"Fingerprick (mg/dL)\"]),list( w2max_fp[\"FSL (mg/dL)\"]),\"FSL\", \"NDA\", \"\")"
   ]
  },
  {
   "cell_type": "code",
   "execution_count": null,
   "metadata": {
    "ExecuteTime": {
     "end_time": "2022-12-10T20:05:18.466028Z",
     "start_time": "2022-12-10T20:05:18.438298Z"
    }
   },
   "outputs": [],
   "source": [
    "two_proportion_test(zonefslw1hyper[0], zonefslw1hyper[0]/sum(zonefslw1hyper), zonefslw2hyper[0], zonefslw2hyper[0]/sum(zonefslw2hyper), \"samples differ\")"
   ]
  },
  {
   "cell_type": "code",
   "execution_count": null,
   "metadata": {
    "ExecuteTime": {
     "end_time": "2022-12-10T20:05:27.414609Z",
     "start_time": "2022-12-10T20:05:25.657744Z"
    },
    "scrolled": true
   },
   "outputs": [],
   "source": [
    "#### EVERSENSE\n",
    "plot, zoneesw1hypo = clarke_error_grid(list(w170_fp[\"Fingerprick (mg/dL)\"]), list(w170_fp[\"Eversense (mg/dl)\"]),\"ES\", \"PA\", \"\")\n",
    "plot, zoneesw2hypo = clarke_error_grid(list(w270_fp[\"Fingerprick (mg/dL)\"]), list(w270_fp[\"Eversense (mg/dl)\"]),\"ES\", \"NDA\", \"\")"
   ]
  },
  {
   "cell_type": "code",
   "execution_count": null,
   "metadata": {
    "ExecuteTime": {
     "end_time": "2022-12-10T20:05:34.790266Z",
     "start_time": "2022-12-10T20:05:34.767540Z"
    }
   },
   "outputs": [],
   "source": [
    "two_proportion_test(zoneesw1hypo[0], zoneesw1hypo[0]/sum(zoneesw1hypo), zoneesw2hypo[0], zoneesw2hypo[0]/sum(zoneesw2hypo), \"samples differ\")"
   ]
  },
  {
   "cell_type": "code",
   "execution_count": null,
   "metadata": {
    "ExecuteTime": {
     "end_time": "2022-12-10T20:05:43.901310Z",
     "start_time": "2022-12-10T20:05:42.099575Z"
    },
    "scrolled": true
   },
   "outputs": [],
   "source": [
    "plot, zoneesw1normo = clarke_error_grid(list(w1180_fp[\"Fingerprick (mg/dL)\"]),list( w1180_fp[\"Eversense (mg/dl)\"]),\"ES\", \"PA\", \"\")\n",
    "plot, zoneesw2normo = clarke_error_grid(list(w2180_fp[\"Fingerprick (mg/dL)\"]),list( w2180_fp[\"Eversense (mg/dl)\"]),\"ES\", \"NDA\", \"\")"
   ]
  },
  {
   "cell_type": "code",
   "execution_count": null,
   "metadata": {
    "ExecuteTime": {
     "end_time": "2022-12-10T20:05:50.961725Z",
     "start_time": "2022-12-10T20:05:50.929365Z"
    }
   },
   "outputs": [],
   "source": [
    "two_proportion_test(zoneesw1normo[0], zoneesw1normo[0]/sum(zoneesw1normo), zoneesw2normo[0], zoneesw2normo[0]/sum(zoneesw2normo), \"samples differ\")"
   ]
  },
  {
   "cell_type": "code",
   "execution_count": null,
   "metadata": {
    "ExecuteTime": {
     "end_time": "2022-12-10T20:05:59.697349Z",
     "start_time": "2022-12-10T20:05:58.060734Z"
    },
    "scrolled": true
   },
   "outputs": [],
   "source": [
    "plot, zoneesw1hyper = clarke_error_grid(list(w1max_fp[\"Fingerprick (mg/dL)\"]),list( w1max_fp[\"Eversense (mg/dl)\"]),\"ES\", \"PA\", \"\")\n",
    "plot, zoneesw2hyper = clarke_error_grid(list(w2max_fp[\"Fingerprick (mg/dL)\"]),list( w2max_fp[\"Eversense (mg/dl)\"]),\"ES\", \"NDA\", \"\")"
   ]
  },
  {
   "cell_type": "code",
   "execution_count": null,
   "metadata": {
    "ExecuteTime": {
     "end_time": "2022-12-10T20:06:07.187382Z",
     "start_time": "2022-12-10T20:06:07.149022Z"
    }
   },
   "outputs": [],
   "source": [
    "two_proportion_test(zoneesw1hyper[0], zoneesw1hyper[0]/sum(zoneesw1hyper), zoneesw2hyper[0], zoneesw2hyper[0]/sum(zoneesw2hyper), \"samples differ\")"
   ]
  },
  {
   "cell_type": "markdown",
   "metadata": {},
   "source": [
    "<div class=\"alert alert-block alert-danger\">\n",
    "    \n",
    "# **PA vs NDA**\n",
    "\n",
    "</div>"
   ]
  },
  {
   "cell_type": "markdown",
   "metadata": {},
   "source": [
    "<div class=\"alert alert-block alert-warning\">\n",
    "    \n",
    "**PA vs NDA -- time**\n",
    "\n",
    "</div>"
   ]
  },
  {
   "cell_type": "code",
   "execution_count": null,
   "metadata": {
    "ExecuteTime": {
     "end_time": "2022-12-10T20:24:13.802607Z",
     "start_time": "2022-12-10T20:24:13.755962Z"
    }
   },
   "outputs": [],
   "source": [
    "madrugadaw1 = dfw1.loc[(dfw1[\"Datum\"] < 6)]\n",
    "mañanaw1 = dfw1.loc[(dfw1[\"Datum\"] >= 6) & (dfw1[\"Datum\"] < 12)]\n",
    "tardew1 = dfw1.loc[(dfw1[\"Datum\"] >= 12) & (dfw1[\"Datum\"] < 18)]\n",
    "nochew1 = dfw1.loc[(dfw1[\"Datum\"] >= 18)]\n",
    "\n",
    "madrugadaw2 = dfw2.loc[(dfw2[\"Datum\"] < 6)]\n",
    "mañanaw2 = dfw2.loc[(dfw2[\"Datum\"] >= 6) & (dfw2[\"Datum\"] < 12)]\n",
    "tardew2 = dfw2.loc[(dfw2[\"Datum\"] >= 12) & (dfw2[\"Datum\"] < 18)]\n",
    "nochew2 = dfw2.loc[(dfw2[\"Datum\"] >= 18)]"
   ]
  },
  {
   "cell_type": "code",
   "execution_count": null,
   "metadata": {
    "ExecuteTime": {
     "end_time": "2022-12-10T20:24:20.532358Z",
     "start_time": "2022-12-10T20:24:20.505858Z"
    }
   },
   "outputs": [],
   "source": [
    "np.random.seed(7)\n",
    "import random\n",
    "random.seed(7)\n",
    "\n",
    "def bootstrap(pop1, pop2, alpha, periodo1, periodo2, week, alternatives):\n",
    "    n = len(pop1)\n",
    "    m = len(pop2)\n",
    "    random.seed(7)\n",
    "    for e in alternatives:\n",
    "        \n",
    "        populationmean = []\n",
    "        populationmedian = []\n",
    "\n",
    "        for i in range(0,1000):\n",
    "            resampledpop1 = choices(pop1[e].values, k = n)\n",
    "            resampledpop2 = choices(pop2[e].values, k = m)\n",
    "            populationmean.append(np.mean(resampledpop1) - np.mean(resampledpop2))\n",
    "            populationmedian.append(np.median(resampledpop1) - np.median(resampledpop2))\n",
    "        ci_mean = stats.t.interval(alpha=0.95, df=len(populationmean)-1,loc=np.mean(populationmean),scale=stats.sem(populationmean))\n",
    "        lowermean = ci_mean[0]\n",
    "        uppermean = ci_mean[1]\n",
    "        ci_median = stats.t.interval(alpha=0.95, df=len(populationmedian)-1,loc=np.mean(populationmedian),scale=stats.sem(populationmedian))\n",
    "        lowermedian =ci_median[0]\n",
    "        uppermedian =ci_median[1]\n",
    "        print('median' ,lowermedian, uppermedian)\n",
    "    return [lowermean, uppermean], [lowermedian, uppermedian]"
   ]
  },
  {
   "cell_type": "code",
   "execution_count": null,
   "metadata": {
    "ExecuteTime": {
     "end_time": "2022-12-10T20:24:27.770701Z",
     "start_time": "2022-12-10T20:24:27.722450Z"
    }
   },
   "outputs": [],
   "source": [
    "intervalo = 'Morning'\n",
    "tval, pval = stats.mannwhitneyu(mañanaw1['Fingerprick (mg/dL)'], mañanaw2['Fingerprick (mg/dL)'])\n",
    "if pval < 0.05:\n",
    "    print(\"The pvalue is: \", pval, \" so we reject H0: the\", intervalo, \"distribution is different between Week1 and Week2\")\n",
    "else:\n",
    "    print(\"The pvalue is: \", pval, \" so we accept H0: the \", intervalo, \"distribution is NOT different between Week1 and Week2\")\n",
    "    \n",
    "intervalo = 'Afternoon'\n",
    "tval, pval = stats.mannwhitneyu(tardew1['Fingerprick (mg/dL)'], tardew2['Fingerprick (mg/dL)'])\n",
    "if pval < 0.05:\n",
    "    print(\"The pvalue is: \", pval, \" so we reject H0: the\", intervalo, \"distribution is different between Week1 and Week2\")\n",
    "else:\n",
    "    print(\"The pvalue is: \", pval, \" so we accept H0: the \", intervalo, \"distribution is NOT different between Week1 and Week2\")\n",
    "    \n",
    "    \n",
    "intervalo = 'Evening'\n",
    "tval, pval = stats.mannwhitneyu(nochew1['Fingerprick (mg/dL)'], nochew2['Fingerprick (mg/dL)'])\n",
    "if pval < 0.05:\n",
    "    print(\"The pvalue is: \", pval, \" so we reject H0: the\", intervalo, \"distribution is different between Week1 and Week2\")\n",
    "else:\n",
    "    print(\"The pvalue is: \", pval, \" so we accept H0: the \", intervalo, \"distribution is NOT different between Week1 and Week2\")\n",
    "    \n",
    "    \n",
    "intervalo = 'Night'\n",
    "tval, pval = stats.mannwhitneyu(madrugadaw1['Fingerprick (mg/dL)'], madrugadaw2['Fingerprick (mg/dL)'])\n",
    "if pval < 0.05:\n",
    "    print(\"The pvalue is: \", pval, \" so we reject H0: the\", intervalo, \"distribution is different between Week1 and Week2\")\n",
    "else:\n",
    "    print(\"The pvalue is: \", pval, \" so we accept H0: the \", intervalo, \"distribution is NOT different between Week1 and Week2\")"
   ]
  },
  {
   "cell_type": "code",
   "execution_count": null,
   "metadata": {
    "ExecuteTime": {
     "end_time": "2022-12-10T20:17:24.931990Z",
     "start_time": "2022-12-10T20:17:21.792076Z"
    },
    "scrolled": true
   },
   "outputs": [],
   "source": [
    "means_m, medians_m = bootstrap(mañanaw1, mañanaw2, 0.05, \"00:00 - 06:00\", \"06:00 - 12:00\",1,[\"Fingerprick (mg/dL)\"])\n",
    "means_a, medians_a = bootstrap(tardew1, tardew2, 0.05, \"00:00 - 06:00\", \"06:00 - 12:00\",1,[\"Fingerprick (mg/dL)\"])\n",
    "means_e, medians_e = bootstrap(nochew1, nochew2, 0.05, \"00:00 - 06:00\", \"06:00 - 12:00\",1,[\"Fingerprick (mg/dL)\"])\n",
    "means_n, medians_n = bootstrap(madrugadaw1, madrugadaw2, 0.05, \"00:00 - 06:00\", \"06:00 - 12:00\",1,[\"Fingerprick (mg/dL)\"])\n",
    "\n",
    "dfci_medians = pd.DataFrame() \n",
    "dfci_medians['var_name'] = ['$M_{int}$', '$A_{int}$', '$E_{int}$', '$N_{int}$']\n",
    "dfci_medians['varixable_name'] = ['$M_{int}$', '$A_{int}$', '$E_{int}$', '$N_{int}$']\n",
    "dfci_medians['ci_upper'] = [medians_m[1],medians_e[1],medians_e[1],medians_n[1]]\n",
    "dfci_medians['ci_lower'] = [medians_m[0],medians_e[0],medians_e[0],medians_n[0]]\n",
    "dfci_medians['median'] = [np.mean(medians_m),np.mean(medians_a),np.mean(medians_e),np.mean(medians_n)]\n",
    "# plot_custom_boxplot_with_ci(dfci_medians,'mediana_t_fp', type_variables='', flag_save_figure=True,flag_save_features=False)"
   ]
  },
  {
   "cell_type": "code",
   "execution_count": null,
   "metadata": {
    "ExecuteTime": {
     "end_time": "2022-12-10T20:25:53.028848Z",
     "start_time": "2022-12-10T20:25:52.983587Z"
    }
   },
   "outputs": [],
   "source": [
    "intervalo = 'Morning'\n",
    "tval, pval = stats.mannwhitneyu(mañanaw1['FSL (mg/dL)'], mañanaw2['FSL (mg/dL)'])\n",
    "if pval < 0.05:\n",
    "    print(\"The pvalue is: \", pval, \" so we reject H0: the\", intervalo, \"distribution is different between Week1 and Week2\")\n",
    "else:\n",
    "    print(\"The pvalue is: \", pval, \" so we accept H0: the \", intervalo, \"distribution is NOT different between Week1 and Week2\")\n",
    "    \n",
    "intervalo = 'Afternoon'\n",
    "tval, pval = stats.mannwhitneyu(tardew1['FSL (mg/dL)'], tardew2['FSL (mg/dL)'])\n",
    "if pval < 0.05:\n",
    "    print(\"The pvalue is: \", pval, \" so we reject H0: the\", intervalo, \"distribution is different between Week1 and Week2\")\n",
    "else:\n",
    "    print(\"The pvalue is: \", pval, \" so we accept H0: the \", intervalo, \"distribution is NOT different between Week1 and Week2\")\n",
    "    \n",
    "    \n",
    "intervalo = 'Evening'\n",
    "tval, pval = stats.mannwhitneyu(nochew1['FSL (mg/dL)'], nochew2['FSL (mg/dL)'])\n",
    "if pval < 0.05:\n",
    "    print(\"The pvalue is: \", pval, \" so we reject H0: the\", intervalo, \"distribution is different between Week1 and Week2\")\n",
    "else:\n",
    "    print(\"The pvalue is: \", pval, \" so we accept H0: the \", intervalo, \"distribution is NOT different between Week1 and Week2\")\n",
    "    \n",
    "    \n",
    "intervalo = 'Night'\n",
    "tval, pval = stats.mannwhitneyu(madrugadaw1['FSL (mg/dL)'], madrugadaw2['FSL (mg/dL)'])\n",
    "if pval < 0.05:\n",
    "    print(\"The pvalue is: \", pval, \" so we reject H0: the\", intervalo, \"distribution is different between Week1 and Week2\")\n",
    "else:\n",
    "    print(\"The pvalue is: \", pval, \" so we accept H0: the \", intervalo, \"distribution is NOT different between Week1 and Week2\")"
   ]
  },
  {
   "cell_type": "code",
   "execution_count": null,
   "metadata": {
    "ExecuteTime": {
     "end_time": "2022-12-10T20:30:30.153830Z",
     "start_time": "2022-12-10T20:30:26.835856Z"
    }
   },
   "outputs": [],
   "source": [
    "means_m, medians_m = bootstrap(mañanaw1, mañanaw2, 0.05, \"00:00 - 06:00\", \"06:00 - 12:00\",1,[\"FSL (mg/dL)\"])\n",
    "means_a, medians_a = bootstrap(tardew1, tardew2, 0.05, \"00:00 - 06:00\", \"06:00 - 12:00\",1,[\"FSL (mg/dL)\"])\n",
    "means_e, medians_e = bootstrap(nochew1, nochew2, 0.05, \"00:00 - 06:00\", \"06:00 - 12:00\",1,[\"FSL (mg/dL)\"])\n",
    "means_n, medians_n = bootstrap(madrugadaw1, madrugadaw2, 0.05, \"00:00 - 06:00\", \"06:00 - 12:00\",1,[\"FSL (mg/dL)\"])\n",
    "\n",
    "dfci_medians = pd.DataFrame()\n",
    "dfci_medians['var_name'] = ['$M_{int}$', '$A_{int}$', '$E_{int}$', '$N_{int}$']\n",
    "dfci_medians['variable_name'] = ['$M_{int}$', '$A_{int}$', '$E_{int}$', '$N_{int}$']\n",
    "dfci_medians['ci_upper'] = [medians_m[1],medians_e[1],medians_e[1],medians_n[1]]\n",
    "dfci_medians['ci_lower'] = [medians_m[0],medians_e[0],medians_e[0],medians_n[0]]\n",
    "dfci_medians['median'] = [np.mean(medians_m),np.mean(medians_a),np.mean(medians_e),np.mean(medians_n)]\n",
    "# plot_custom_boxplot_with_ci(dfci_medians,'mediana_t_fsl',type_variables='', flag_save_figure=True,\n",
    "#                             flag_save_features=False)"
   ]
  },
  {
   "cell_type": "code",
   "execution_count": null,
   "metadata": {
    "ExecuteTime": {
     "end_time": "2022-12-10T20:26:10.409294Z",
     "start_time": "2022-12-10T20:26:10.365699Z"
    }
   },
   "outputs": [],
   "source": [
    "intervalo = 'Morning'\n",
    "tval, pval = stats.mannwhitneyu(mañanaw1['Eversense (mg/dl)'], mañanaw2['Eversense (mg/dl)'])\n",
    "if pval < 0.05:\n",
    "    print(\"The pvalue is: \", pval, \" so we reject H0: the\", intervalo, \"distribution is different between Week1 and Week2\")\n",
    "else:\n",
    "    print(\"The pvalue is: \", pval, \" so we accept H0: the \", intervalo, \"distribution is NOT different between Week1 and Week2\")\n",
    "    \n",
    "intervalo = 'Afternoon'\n",
    "tval, pval = stats.mannwhitneyu(tardew1['Eversense (mg/dl)'], tardew2['Eversense (mg/dl)'])\n",
    "if pval < 0.05:\n",
    "    print(\"The pvalue is: \", pval, \" so we reject H0: the\", intervalo, \"distribution is different between Week1 and Week2\")\n",
    "else:\n",
    "    print(\"The pvalue is: \", pval, \" so we accept H0: the \", intervalo, \"distribution is NOT different between Week1 and Week2\")\n",
    "    \n",
    "    \n",
    "intervalo = 'Evening'\n",
    "tval, pval = stats.mannwhitneyu(nochew1['Eversense (mg/dl)'], nochew2['Eversense (mg/dl)'])\n",
    "if pval < 0.05:\n",
    "    print(\"The pvalue is: \", pval, \" so we reject H0: the\", intervalo, \"distribution is different between Week1 and Week2\")\n",
    "else:\n",
    "    print(\"The pvalue is: \", pval, \" so we accept H0: the \", intervalo, \"distribution is NOT different between Week1 and Week2\")\n",
    "    \n",
    "    \n",
    "intervalo = 'Night'\n",
    "tval, pval = stats.mannwhitneyu(madrugadaw1['Eversense (mg/dl)'], madrugadaw2['Eversense (mg/dl)'])\n",
    "if pval < 0.05:\n",
    "    print(\"The pvalue is: \", pval, \" so we reject H0: the\", intervalo, \"distribution is different between Week1 and Week2\")\n",
    "else:\n",
    "    print(\"The pvalue is: \", pval, \" so we accept H0: the \", intervalo, \"distribution is NOT different between Week1 and Week2\")"
   ]
  },
  {
   "cell_type": "code",
   "execution_count": null,
   "metadata": {
    "ExecuteTime": {
     "end_time": "2022-12-10T20:29:55.886435Z",
     "start_time": "2022-12-10T20:29:52.574906Z"
    }
   },
   "outputs": [],
   "source": [
    "means_m, medians_m = bootstrap(mañanaw1, mañanaw2, 0.05, \"00:00 - 06:00\", \"06:00 - 12:00\",1,[\"Eversense (mg/dl)\"])\n",
    "means_a, medians_a = bootstrap(tardew1, tardew2, 0.05, \"00:00 - 06:00\", \"06:00 - 12:00\",1,[\"Eversense (mg/dl)\"])\n",
    "means_e, medians_e = bootstrap(nochew1, nochew2, 0.05, \"00:00 - 06:00\", \"06:00 - 12:00\",1,[\"Eversense (mg/dl)\"])\n",
    "means_n, medians_n = bootstrap(madrugadaw1, madrugadaw2, 0.05, \"00:00 - 06:00\", \"06:00 - 12:00\",1,[\"Eversense (mg/dl)\"])\n",
    "\n",
    "dfci_medians = pd.DataFrame()\n",
    "dfci_medians['var_name'] = ['$M_{int}$', '$A_{int}$', '$E_{int}$', '$N_{int}$']\n",
    "dfci_medians['variable_name'] = ['$M_{int}$', '$A_{int}$', '$E_{int}$', '$N_{int}$']\n",
    "dfci_medians['ci_upper'] = [medians_m[1],medians_e[1],medians_e[1],medians_n[1]]\n",
    "dfci_medians['ci_lower'] = [medians_m[0],medians_e[0],medians_e[0],medians_n[0]]\n",
    "dfci_medians['median'] = [np.mean(medians_m),np.mean(medians_a),np.mean(medians_e),np.mean(medians_n)]\n",
    "# plot_custom_boxplot_with_ci(dfci_medians,'mediana_t_Es', type_variables='', flag_save_figure=True,\n",
    "#                             flag_save_features=False)"
   ]
  },
  {
   "cell_type": "markdown",
   "metadata": {},
   "source": [
    "<div class=\"alert alert-block alert-warning\">\n",
    "    \n",
    "**PA vs NDA -- glucose**\n",
    "\n",
    "</div>"
   ]
  },
  {
   "cell_type": "code",
   "execution_count": null,
   "metadata": {
    "ExecuteTime": {
     "end_time": "2022-12-10T20:19:00.082610Z",
     "start_time": "2022-12-10T20:19:00.034841Z"
    }
   },
   "outputs": [],
   "source": [
    "#PA\n",
    "hypo_ref_w1 = dfw1.loc[(dfw1['Fingerprick (mg/dL)'] < 70)]\n",
    "normo_ref_w1 = dfw1.loc[(dfw1['Fingerprick (mg/dL)'] >= 70) & (dfw1['Fingerprick (mg/dL)'] < 180)]\n",
    "hyper_ref_w1 = dfw1.loc[(dfw1['Fingerprick (mg/dL)'] >= 180)]\n",
    "\n",
    "#NDA\n",
    "hypo_ref_w2 = dfw2.loc[(dfw2['Fingerprick (mg/dL)'] < 70)]\n",
    "normo_ref_w2 = dfw2.loc[(dfw2['Fingerprick (mg/dL)'] >= 70) & (dfw2['Fingerprick (mg/dL)'] < 180)]\n",
    "hyper_ref_w2 = dfw2.loc[(dfw2['Fingerprick (mg/dL)'] >= 180)]\n",
    "\n",
    "rango = 'Hypo'\n",
    "tval, pval = stats.mannwhitneyu(hypo_ref_w1['Fingerprick (mg/dL)'], hypo_ref_w2['Fingerprick (mg/dL)'])\n",
    "if pval < 0.05:\n",
    "    print(\"The pvalue is: \", pval, \" so we reject H0: the\", rango, \"distribution is different between Week1 and Week2\")\n",
    "else:\n",
    "    print(\"The pvalue is: \", pval, \" so we accept H0: the \", rango, \"distribution is NOT different between Week1 and Week2\")\n",
    "    \n",
    "rango = 'Normo'\n",
    "tval, pval = stats.mannwhitneyu(normo_ref_w1['Fingerprick (mg/dL)'], normo_ref_w2['Fingerprick (mg/dL)'])\n",
    "if pval < 0.05:\n",
    "    print(\"The pvalue is: \", pval, \" so we reject H0: the\", rango, \"distribution is different between Week1 and Week2\")\n",
    "else:\n",
    "    print(\"The pvalue is: \", pval, \" so we accept H0: the \", rango, \"distribution is NOT different between Week1 and Week2\") \n",
    "    \n",
    "rango = 'hyper'\n",
    "tval, pval = stats.mannwhitneyu(hyper_ref_w1['Fingerprick (mg/dL)'], hyper_ref_w2['Fingerprick (mg/dL)'])\n",
    "if pval < 0.05:\n",
    "    print(\"The pvalue is: \", pval, \" so we reject H0: the\", rango, \"distribution is different between Week1 and Week2\")\n",
    "else:\n",
    "    print(\"The pvalue is: \", pval, \" so we accept H0: the \", rango, \"distribution is NOT different between Week1 and Week2\")"
   ]
  },
  {
   "cell_type": "code",
   "execution_count": null,
   "metadata": {
    "ExecuteTime": {
     "end_time": "2022-12-10T20:19:25.744827Z",
     "start_time": "2022-12-10T20:19:22.930440Z"
    }
   },
   "outputs": [],
   "source": [
    "means_hypo, medians_hypo = bootstrap(hypo_ref_w1, hypo_ref_w2, 0.05, \"00:00 - 06:00\", \"06:00 - 12:00\",1,[\"Fingerprick (mg/dL)\"])\n",
    "means_hyperu, medians_hyperu = bootstrap(normo_ref_w1, normo_ref_w2, 0.05, \"00:00 - 06:00\", \"06:00 - 12:00\",1,[\"Fingerprick (mg/dL)\"])\n",
    "means_hyper, medians_hyper = bootstrap(hyper_ref_w1, hyper_ref_w2, 0.05, \"00:00 - 06:00\", \"06:00 - 12:00\",1,[\"Fingerprick (mg/dL)\"])\n",
    "\n",
    "dfci_hypoedians = pd.DataFrame()\n",
    "dfci_hypoedians['var_name'] = ['Hypoglycemia', 'Euglycemia', 'Hyperglycemia']\n",
    "dfci_hypoedians['variable_name'] = ['Hypoglycemia', 'Euglycemia', 'Hyperglycemia']\n",
    "dfci_hypoedians['ci_upper'] = [medians_hypo[1],medians_hyper[1],medians_hyper[1]]\n",
    "dfci_hypoedians['ci_lower'] = [medians_hypo[0],medians_hyper[0],medians_hyper[0]]\n",
    "dfci_hypoedians['median'] = [np.mean(medians_hypo),np.mean(medians_hyperu),np.mean(medians_hyper)]\n",
    "# plot_custom_boxplot_with_ci(dfci_hypoedians,'mediana_gluc_fp', type_variables='', flag_save_figure=True,\n",
    "#                             flag_save_features=False)"
   ]
  },
  {
   "cell_type": "code",
   "execution_count": null,
   "metadata": {
    "ExecuteTime": {
     "end_time": "2022-12-10T20:20:11.098792Z",
     "start_time": "2022-12-10T20:20:11.031060Z"
    }
   },
   "outputs": [],
   "source": [
    "#PA\n",
    "hypo_ref_w1 = dfw1.loc[(dfw1['FSL (mg/dL)'] < 70)]\n",
    "normo_ref_w1 = dfw1.loc[(dfw1['FSL (mg/dL)'] >= 70) & (dfw1['FSL (mg/dL)'] < 180)]\n",
    "hyper_ref_w1 = dfw1.loc[(dfw1['FSL (mg/dL)'] >= 180)]\n",
    "\n",
    "#NDA\n",
    "hypo_ref_w2 = dfw2.loc[(dfw2['FSL (mg/dL)'] < 70)]\n",
    "normo_ref_w2 = dfw2.loc[(dfw2['FSL (mg/dL)'] >= 70) & (dfw2['FSL (mg/dL)'] < 180)]\n",
    "hyper_ref_w2 = dfw2.loc[(dfw2['FSL (mg/dL)'] >= 180)]\n",
    "\n",
    "rango = 'Hypo'\n",
    "tval, pval = stats.mannwhitneyu(hypo_ref_w1['FSL (mg/dL)'], hypo_ref_w2['FSL (mg/dL)'])\n",
    "if pval < 0.05:\n",
    "    print(\"The pvalue is: \", pval, \" so we reject H0: the\", rango, \"distribution is different between Week1 and Week2\")\n",
    "else:\n",
    "    print(\"The pvalue is: \", pval, \" so we accept H0: the \", rango, \"distribution is NOT different between Week1 and Week2\")\n",
    "    \n",
    "rango = 'Normo'\n",
    "tval, pval = stats.mannwhitneyu(normo_ref_w1['FSL (mg/dL)'], normo_ref_w2['FSL (mg/dL)'])\n",
    "if pval < 0.05:\n",
    "    print(\"The pvalue is: \", pval, \" so we reject H0: the\", rango, \"distribution is different between Week1 and Week2\")\n",
    "else:\n",
    "    print(\"The pvalue is: \", pval, \" so we accept H0: the \", rango, \"distribution is NOT different between Week1 and Week2\")\n",
    "    \n",
    "    \n",
    "rango = 'hyper'\n",
    "tval, pval = stats.mannwhitneyu(hyper_ref_w1['FSL (mg/dL)'], hyper_ref_w2['FSL (mg/dL)'])\n",
    "if pval < 0.05:\n",
    "    print(\"The pvalue is: \", pval, \" so we reject H0: the\", rango, \"distribution is different between Week1 and Week2\")\n",
    "else:\n",
    "    print(\"The pvalue is: \", pval, \" so we accept H0: the \", rango, \"distribution is NOT different between Week1 and Week2\")"
   ]
  },
  {
   "cell_type": "code",
   "execution_count": null,
   "metadata": {
    "ExecuteTime": {
     "end_time": "2022-12-10T20:20:21.815771Z",
     "start_time": "2022-12-10T20:20:18.585486Z"
    }
   },
   "outputs": [],
   "source": [
    "means_hypo, medians_hypo = bootstrap(hypo_ref_w1, hypo_ref_w2, 0.05, \"00:00 - 06:00\", \"06:00 - 12:00\",1,['FSL (mg/dL)'])\n",
    "means_hyperu, medians_hyperu = bootstrap(normo_ref_w1, normo_ref_w2, 0.05, \"00:00 - 06:00\", \"06:00 - 12:00\",1,['FSL (mg/dL)'])\n",
    "means_hyper, medians_hyper = bootstrap(hyper_ref_w1, hyper_ref_w2, 0.05, \"00:00 - 06:00\", \"06:00 - 12:00\",1,['FSL (mg/dL)'])\n",
    "\n",
    "dfci_hypoedians = pd.DataFrame()\n",
    "dfci_hypoedians['var_name'] = ['Hypoglycemia', 'Euglycemia', 'Hyperglycemia']\n",
    "dfci_hypoedians['variable_name'] = ['Hypoglycemia', 'Euglycemia', 'Hyperglycemia']\n",
    "dfci_hypoedians['ci_upper'] = [medians_hypo[1],medians_hyper[1],medians_hyper[1]]\n",
    "dfci_hypoedians['ci_lower'] = [medians_hypo[0],medians_hyper[0],medians_hyper[0]]\n",
    "dfci_hypoedians['median'] = [np.mean(medians_hypo),np.mean(medians_hyperu),np.mean(medians_hyper)]\n",
    "# plot_custom_boxplot_with_ci(dfci_hypoedians, 'mediana_gluc_fsl',type_variables='', flag_save_figure=True,\n",
    "#                             flag_save_features=False)"
   ]
  },
  {
   "cell_type": "code",
   "execution_count": null,
   "metadata": {
    "ExecuteTime": {
     "end_time": "2022-12-10T20:21:20.330798Z",
     "start_time": "2022-12-10T20:21:20.280472Z"
    }
   },
   "outputs": [],
   "source": [
    "#PA\n",
    "hypo_ref_w1 = dfw1.loc[(dfw1['Eversense (mg/dl)'] < 70)]\n",
    "normo_ref_w1 = dfw1.loc[(dfw1['Eversense (mg/dl)'] >= 70) & (dfw1['Eversense (mg/dl)'] < 180)]\n",
    "hyper_ref_w1 = dfw1.loc[(dfw1['Eversense (mg/dl)'] >= 180)]\n",
    "\n",
    "#NDA\n",
    "hypo_ref_w2 = dfw2.loc[(dfw2['Eversense (mg/dl)'] < 70)]\n",
    "normo_ref_w2 = dfw2.loc[(dfw2['Eversense (mg/dl)'] >= 70) & (dfw2['Eversense (mg/dl)'] < 180)]\n",
    "hyper_ref_w2 = dfw2.loc[(dfw2['Eversense (mg/dl)'] >= 180)]\n",
    "\n",
    "rango = 'Hypo'\n",
    "tval, pval = stats.mannwhitneyu(hypo_ref_w1['Eversense (mg/dl)'], hypo_ref_w2['Eversense (mg/dl)'])\n",
    "if pval < 0.05:\n",
    "    print(\"The pvalue is: \", pval, \" so we reject H0: the\", rango, \"distribution is different between Week1 and Week2\")\n",
    "else:\n",
    "    print(\"The pvalue is: \", pval, \" so we accept H0: the \", rango, \"distribution is NOT different between Week1 and Week2\")\n",
    "    \n",
    "rango = 'Normo'\n",
    "tval, pval = stats.mannwhitneyu(normo_ref_w1['Eversense (mg/dl)'], normo_ref_w2['Eversense (mg/dl)'])\n",
    "if pval < 0.05:\n",
    "    print(\"The pvalue is: \", pval, \" so we reject H0: the\", rango, \"distribution is different between Week1 and Week2\")\n",
    "else:\n",
    "    print(\"The pvalue is: \", pval, \" so we accept H0: the \", rango, \"distribution is NOT different between Week1 and Week2\")\n",
    "    \n",
    "    \n",
    "rango = 'hyper'\n",
    "tval, pval = stats.mannwhitneyu(hyper_ref_w1['Eversense (mg/dl)'], hyper_ref_w2['Eversense (mg/dl)'])\n",
    "if pval < 0.05:\n",
    "    print(\"The pvalue is: \", pval, \" so we reject H0: the\", rango, \"distribution is different between Week1 and Week2\")\n",
    "else:\n",
    "    print(\"The pvalue is: \", pval, \" so we accept H0: the \", rango, \"distribution is NOT different between Week1 and Week2\")"
   ]
  },
  {
   "cell_type": "code",
   "execution_count": null,
   "metadata": {
    "ExecuteTime": {
     "end_time": "2022-12-10T20:21:30.344300Z",
     "start_time": "2022-12-10T20:21:27.601112Z"
    }
   },
   "outputs": [],
   "source": [
    "means_hypo, medians_hypo = bootstrap(hypo_ref_w1, hypo_ref_w2, 0.05, \"00:00 - 06:00\", \"06:00 - 12:00\",1,['Eversense (mg/dl)'])\n",
    "means_hyperu, medians_hyperu = bootstrap(normo_ref_w1, normo_ref_w2, 0.05, \"00:00 - 06:00\", \"06:00 - 12:00\",1,['Eversense (mg/dl)'])\n",
    "means_hyper, medians_hyper = bootstrap(hyper_ref_w1, hyper_ref_w2, 0.05, \"00:00 - 06:00\", \"06:00 - 12:00\",1,['Eversense (mg/dl)'])\n",
    "\n",
    "dfci_hypoedians = pd.DataFrame()\n",
    "dfci_hypoedians['var_name'] = ['Hypoglycemia', 'Euglycemia', 'Hyperglycemia']\n",
    "dfci_hypoedians['variable_name'] = ['Hypoglycemia', 'Euglycemia', 'Hyperglycemia']\n",
    "dfci_hypoedians['ci_upper'] = [medians_hypo[1],medians_hyper[1],medians_hyper[1]]\n",
    "dfci_hypoedians['ci_lower'] = [medians_hypo[0],medians_hyper[0],medians_hyper[0]]\n",
    "dfci_hypoedians['median'] = [np.mean(medians_hypo),np.mean(medians_hyperu),np.mean(medians_hyper)]\n",
    "# plot_custom_boxplot_with_ci(dfci_hypoedians,'mediana_gluc_es', type_variables='', flag_save_figure=True,\n",
    "#                             flag_save_features=False)"
   ]
  },
  {
   "cell_type": "markdown",
   "metadata": {},
   "source": [
    "<div class=\"alert alert-block alert-danger\">\n",
    "    \n",
    "# **Kruskal Wallis**\n",
    "\n",
    "</div>"
   ]
  },
  {
   "cell_type": "code",
   "execution_count": null,
   "metadata": {
    "ExecuteTime": {
     "end_time": "2022-12-10T20:30:54.926561Z",
     "start_time": "2022-12-10T20:30:54.258211Z"
    }
   },
   "outputs": [],
   "source": [
    "dfw1 = pd.read_excel(\"Week 1.xlsx\")\n",
    "dfw2 = pd.read_excel(\"Week 2.xlsx\")\n",
    "\n",
    "\n",
    "dfw1['Datum'] = dfw1['Datum'].astype(str)\n",
    "dfw2['Datum'] = dfw2['Datum'].astype(str)\n",
    "\n",
    "dfw1.rename(columns={\"Fingerprick  (mg/dL)\": \"Fingerprick (mg/dL)\"}, inplace = True)\n",
    "\n",
    "dfw1['Datum'] = dfw1['Datum'].str[11:13]\n",
    "dfw2['Datum'] = dfw2['Datum'].str[11:13]\n",
    "dfw1['Datum'] = dfw1['Datum'].astype(float)\n",
    "dfw2['Datum'] = dfw2['Datum'].astype(float)\n",
    "\n",
    "madrugadaw1 = dfw1.loc[(dfw1[\"Datum\"] < 8)]\n",
    "mañanaw1 = dfw1.loc[(dfw1[\"Datum\"] >= 8) & (dfw1[\"Datum\"] < 16)]\n",
    "tardew1 = dfw1.loc[(dfw1[\"Datum\"] >= 16)]\n",
    "\n",
    "madrugadaw2 = dfw2.loc[(dfw2[\"Datum\"] < 8)]\n",
    "mañanaw2 = dfw2.loc[(dfw2[\"Datum\"] >= 8) & (dfw2[\"Datum\"] < 16)]\n",
    "tardew2 = dfw2.loc[(dfw2[\"Datum\"] >= 16)]"
   ]
  },
  {
   "cell_type": "code",
   "execution_count": null,
   "metadata": {
    "ExecuteTime": {
     "end_time": "2022-12-10T20:31:02.371579Z",
     "start_time": "2022-12-10T20:31:02.311927Z"
    }
   },
   "outputs": [],
   "source": [
    "madrugadaw1 = dfw1.loc[(dfw1[\"Datum\"] < 6)]\n",
    "mañanaw1 = dfw1.loc[(dfw1[\"Datum\"] >= 6) & (dfw1[\"Datum\"] < 12)]\n",
    "tardew1 = dfw1.loc[(dfw1[\"Datum\"] >= 12) & (dfw1[\"Datum\"] < 18)]\n",
    "nochew1 = dfw1.loc[(dfw1[\"Datum\"] >= 18)]\n",
    "fullw1 = dfw1\n",
    "\n",
    "madrugadaw2 = dfw2.loc[(dfw2[\"Datum\"] < 6)]\n",
    "mañanaw2 = dfw2.loc[(dfw2[\"Datum\"] >= 6) & (dfw2[\"Datum\"] < 12)]\n",
    "tardew2 = dfw2.loc[(dfw2[\"Datum\"] >= 12) & (dfw2[\"Datum\"] < 18)]\n",
    "nochew2 = dfw2.loc[(dfw2[\"Datum\"] >= 18)]\n",
    "fullw2 = dfw2"
   ]
  },
  {
   "cell_type": "code",
   "execution_count": null,
   "metadata": {
    "ExecuteTime": {
     "end_time": "2022-12-10T20:31:10.574455Z",
     "start_time": "2022-12-10T20:31:09.893192Z"
    }
   },
   "outputs": [],
   "source": [
    "cont = 0\n",
    "alternatives = [\"Fingerprick (mg/dL)\"]\n",
    "for e in alternatives:\n",
    "    plt.figure(figsize=(30,4))\n",
    "\n",
    "    a = madrugadaw1[e].values\n",
    "    b = mañanaw1[e].values\n",
    "    c = tardew1[e].values\n",
    "    d = nochew1[e].values\n",
    "    _, pval = stats.kruskal(madrugadaw1[e].values, mañanaw1[e].values, tardew1[e].values, nochew1[e].values)\n",
    "\n",
    "    if pval < 0.05:\n",
    "        print(\"For \", e, \"the p value is: \", np.round(pval,5), \"so, we reject the null hypothesis, \\n there are differences among the groups\")\n",
    "    else:\n",
    "        print(\"For \", e, \"the p value is:\", np.round(pval,5), \"so, we accept the null hypothesis, \\n there are no differences among the groups\")\n",
    "\n",
    "    cont += 1\n",
    "    plt.subplot(1,3,cont)\n",
    "    plt.hist(a, alpha = 1, label = \"Night PA\")\n",
    "    plt.hist(b, alpha = 0.20, label = \"Morning PA\")\n",
    "    plt.hist(c, alpha = 0.20, label = \"Afternoon PA\")\n",
    "    plt.hist(d, alpha = 0.20, label = \"Evening PA\")\n",
    "    plt.legend()\n",
    "    #plt.title(e + \" Week 1\")\n",
    "    plt.show()"
   ]
  },
  {
   "cell_type": "markdown",
   "metadata": {},
   "source": [
    "### Bootstrapping Week 1"
   ]
  },
  {
   "cell_type": "code",
   "execution_count": null,
   "metadata": {
    "ExecuteTime": {
     "end_time": "2022-12-08T19:32:33.071366Z",
     "start_time": "2022-12-08T19:32:33.038072Z"
    }
   },
   "outputs": [],
   "source": [
    "np.random.seed(7)\n",
    "import random\n",
    "random.seed(7)\n",
    "\n",
    "def bootstrap(pop1, pop2, alpha, periodo1, periodo2, week, alternatives):\n",
    "    n = len(pop1)\n",
    "    m = len(pop2)\n",
    "    random.seed(7)\n",
    "    for e in alternatives:\n",
    "        \n",
    "        populationmean = []\n",
    "        populationmedian = []\n",
    "\n",
    "        for i in range(0,1000):\n",
    "            resampledpop1 = choices(pop1[e].values, k = n)\n",
    "            resampledpop2 = choices(pop2[e].values, k = m)\n",
    "            populationmean.append(np.mean(resampledpop1) - np.mean(resampledpop2))\n",
    "            populationmedian.append(np.median(resampledpop1) - np.median(resampledpop2))\n",
    "        ci_mean = stats.t.interval(alpha=0.95, df=len(populationmean)-1,loc=np.mean(populationmean),scale=stats.sem(populationmean))\n",
    "        lowermean = ci_mean[0]\n",
    "        uppermean = ci_mean[1]\n",
    "        ci_median = stats.t.interval(alpha=0.95, df=len(populationmedian)-1,loc=np.mean(populationmedian),scale=stats.sem(populationmedian))\n",
    "        lowermedian =ci_median[0]\n",
    "        uppermedian =ci_median[1]\n",
    "        print('median' ,lowermedian, uppermedian)\n",
    "    return [lowermean, uppermean], [lowermedian, uppermedian]"
   ]
  },
  {
   "cell_type": "code",
   "execution_count": null,
   "metadata": {
    "ExecuteTime": {
     "end_time": "2022-12-10T20:31:19.137999Z",
     "start_time": "2022-12-10T20:31:18.277539Z"
    }
   },
   "outputs": [],
   "source": [
    "means_nm, medians_nm  =bootstrap(madrugadaw1, mañanaw1, 0.05, \"00:00 - 06:00\", \"06:00 - 12:00\",1,[\"Fingerprick (mg/dL)\"])"
   ]
  },
  {
   "cell_type": "code",
   "execution_count": null,
   "metadata": {
    "ExecuteTime": {
     "end_time": "2022-12-10T20:31:28.014713Z",
     "start_time": "2022-12-10T20:31:27.159772Z"
    }
   },
   "outputs": [],
   "source": [
    "means_na, medians_na = bootstrap(madrugadaw1, tardew1, 0.05, \"00:00 - 06:00\", \"12:00 - 18:00\",1,[\"Fingerprick (mg/dL)\"])"
   ]
  },
  {
   "cell_type": "code",
   "execution_count": null,
   "metadata": {
    "ExecuteTime": {
     "end_time": "2022-12-10T20:31:36.159968Z",
     "start_time": "2022-12-10T20:31:35.549847Z"
    }
   },
   "outputs": [],
   "source": [
    "means_ne, medians_ne = bootstrap(madrugadaw1, nochew1, 0.05, \"00:00 - 06:00\", \"18:00 - 23:59\",1,[\"Fingerprick (mg/dL)\"])"
   ]
  },
  {
   "cell_type": "code",
   "execution_count": null,
   "metadata": {
    "ExecuteTime": {
     "end_time": "2022-12-10T20:31:44.274541Z",
     "start_time": "2022-12-10T20:31:43.319045Z"
    }
   },
   "outputs": [],
   "source": [
    "means_ma, medians_ma = bootstrap(mañanaw1, tardew1, 0.05, \"06:00 - 12:00\", \"12:00 - 18:00\",1,[\"Fingerprick (mg/dL)\"])"
   ]
  },
  {
   "cell_type": "code",
   "execution_count": null,
   "metadata": {
    "ExecuteTime": {
     "end_time": "2022-12-10T20:31:52.690096Z",
     "start_time": "2022-12-10T20:31:51.742439Z"
    }
   },
   "outputs": [],
   "source": [
    "means_me, medians_me = bootstrap(mañanaw1, nochew1, 0.05, \"06:00 - 12:00\", \"18:00 - 23:59\",1,[\"Fingerprick (mg/dL)\"])"
   ]
  },
  {
   "cell_type": "code",
   "execution_count": null,
   "metadata": {
    "ExecuteTime": {
     "end_time": "2022-12-10T20:32:01.243953Z",
     "start_time": "2022-12-10T20:32:00.329031Z"
    }
   },
   "outputs": [],
   "source": [
    "means_ea, medians_ea = bootstrap(tardew1, nochew1, 0.05, \"12:00 - 18:00\", \"18:00 - 23:59\",1,[\"Fingerprick (mg/dL)\"])"
   ]
  },
  {
   "cell_type": "code",
   "execution_count": null,
   "metadata": {
    "ExecuteTime": {
     "end_time": "2022-12-08T19:32:43.026162Z",
     "start_time": "2022-12-08T19:32:42.504790Z"
    }
   },
   "outputs": [],
   "source": [
    "cidf = pd.DataFrame()\n",
    "cidf['variable_name'] = ['$N_{int}.M_{int}$', '$N_{int}.A_{int}$', '$N_{int}.E_{int}$', '$M_{int}.A_{int}$', '$M_{int}.E_{int}$','$A_{int}.E_{int}$']\n",
    "cidf['var_name'] = ['$N_{int}.M_{int}', '$N_{int}.A_{int}', '$N_{int}.E_{int}', '$M_{int}.A_{int}', '$M_{int}.E_{int}','$A_{int}.E_{int}']\n",
    "cidf['ci_upper'] = [medians_nm[1],medians_na[1],medians_ne[1],medians_ma[1],medians_me[1],medians_ea[1]]\n",
    "cidf['ci_lower'] = [medians_nm[0],medians_na[0],medians_ne[0],medians_ma[0], medians_me[0], medians_ea[0]]\n",
    "cidf['mean'] = [np.mean(medians_nm),np.mean(medians_na),np.mean(medians_ne),np.mean(medians_ma), np.mean(medians_me), np.mean(medians_ea)]\n",
    "\n",
    "plot_custom_boxplot_with_ci(cidf, 'KW_partd_medians', type_variables='', flag_save_figure=True,\n",
    "                            flag_save_features=False)"
   ]
  },
  {
   "cell_type": "code",
   "execution_count": null,
   "metadata": {
    "ExecuteTime": {
     "end_time": "2022-12-05T17:38:47.106628Z",
     "start_time": "2022-12-05T17:38:47.075400Z"
    }
   },
   "outputs": [],
   "source": [
    "figure9 = cidf[['variable_name', 'ci_upper', 'ci_lower', 'mean']]"
   ]
  },
  {
   "cell_type": "code",
   "execution_count": null,
   "metadata": {
    "ExecuteTime": {
     "end_time": "2022-12-05T17:38:49.895403Z",
     "start_time": "2022-12-05T17:38:49.804356Z"
    }
   },
   "outputs": [],
   "source": [
    "figure9.to_excel('figure_9.xlsx', index= False)"
   ]
  },
  {
   "cell_type": "code",
   "execution_count": null,
   "metadata": {
    "ExecuteTime": {
     "end_time": "2022-12-05T17:29:52.544115Z",
     "start_time": "2022-12-05T17:29:50.919471Z"
    }
   },
   "outputs": [],
   "source": [
    "cidf = pd.DataFrame()\n",
    "cidf['variable_name'] = ['$N_{int}.M_{int}$', '$N_{int}.A_{int}$', '$N_{int}.E_{int}$', '$M_{int}.A_{int}$', '$M_{int}.E_{int}$','$A_{int}.E_{int}$']\n",
    "cidf['var_name'] = ['$N_{int}.M_{int}', '$N_{int}.A_{int}', '$N_{int}.E_{int}', '$M_{int}.A_{int}', '$M_{int}.E_{int}','$A_{int}.E_{int}']\n",
    "cidf['ci_upper'] = [means_nm[1],means_na[1],means_ne[1],means_ma[1],means_me[1],means_ea[1]]\n",
    "cidf['ci_lower'] = [means_nm[0],means_nm[0],means_nm[0],means_nm[0], means_me[0], means_ea[0]]\n",
    "cidf['mean'] = [np.mean(means_nm),np.mean(means_na),np.mean(means_ne),np.mean(means_ma), np.mean(means_me), np.mean(means_ea)]\n",
    "\n",
    "plot_custom_boxplot_with_ci(cidf, 'KW_partd_means', type_variables='', flag_save_figure=True,\n",
    "                            flag_save_features=False)"
   ]
  }
 ],
 "metadata": {
  "colab": {
   "collapsed_sections": [
    "N1u2-Y0eYzfO",
    "UOOBJhXIpR6k",
    "WDZoHeIxsgeq",
    "3r1I9ujcZL1P",
    "8pPsPoKRMZQV",
    "jb37E4gIntk6",
    "cxw7_cxhTAfG",
    "thprdpS5bxbL",
    "k_eGyoRMG5cL",
    "7n78R_RArqq7",
    "HKSPp42eaFDJ",
    "MOgtcloI-LaR",
    "47wxZVG5qVNy",
    "jLTjWR-UqVN7",
    "6twtIKaFqVOC",
    "f-5t9OtzqVOO",
    "tRot_3viqVOb",
    "hjGFQpm9_fxh",
    "bwDHBFDTqVOk",
    "mgbfFo7eqVOl",
    "bhp0kXiZqVOl"
   ],
   "name": "Exercise_final.ipynb",
   "provenance": []
  },
  "hide_input": false,
  "kernelspec": {
   "display_name": "Python 3 (ipykernel)",
   "language": "python",
   "name": "python3"
  },
  "language_info": {
   "codemirror_mode": {
    "name": "ipython",
    "version": 3
   },
   "file_extension": ".py",
   "mimetype": "text/x-python",
   "name": "python",
   "nbconvert_exporter": "python",
   "pygments_lexer": "ipython3",
   "version": "3.9.13"
  },
  "toc": {
   "base_numbering": 1,
   "nav_menu": {},
   "number_sections": true,
   "sideBar": true,
   "skip_h1_title": false,
   "title_cell": "Table of Contents",
   "title_sidebar": "Contents",
   "toc_cell": false,
   "toc_position": {},
   "toc_section_display": true,
   "toc_window_display": false
  },
  "varInspector": {
   "cols": {
    "lenName": 16,
    "lenType": 16,
    "lenVar": 40
   },
   "kernels_config": {
    "python": {
     "delete_cmd_postfix": "",
     "delete_cmd_prefix": "del ",
     "library": "var_list.py",
     "varRefreshCmd": "print(var_dic_list())"
    },
    "r": {
     "delete_cmd_postfix": ") ",
     "delete_cmd_prefix": "rm(",
     "library": "var_list.r",
     "varRefreshCmd": "cat(var_dic_list()) "
    }
   },
   "types_to_exclude": [
    "module",
    "function",
    "builtin_function_or_method",
    "instance",
    "_Feature"
   ],
   "window_display": false
  },
  "widgets": {
   "application/vnd.jupyter.widget-state+json": {
    "00716804436e4903b89be8c79a5e8a2f": {
     "model_module": "@jupyter-widgets/base",
     "model_module_version": "1.2.0",
     "model_name": "LayoutModel",
     "state": {
      "_model_module": "@jupyter-widgets/base",
      "_model_module_version": "1.2.0",
      "_model_name": "LayoutModel",
      "_view_count": null,
      "_view_module": "@jupyter-widgets/base",
      "_view_module_version": "1.2.0",
      "_view_name": "LayoutView",
      "align_content": null,
      "align_items": null,
      "align_self": null,
      "border": null,
      "bottom": null,
      "display": null,
      "flex": null,
      "flex_flow": null,
      "grid_area": null,
      "grid_auto_columns": null,
      "grid_auto_flow": null,
      "grid_auto_rows": null,
      "grid_column": null,
      "grid_gap": null,
      "grid_row": null,
      "grid_template_areas": null,
      "grid_template_columns": null,
      "grid_template_rows": null,
      "height": null,
      "justify_content": null,
      "justify_items": null,
      "left": null,
      "margin": null,
      "max_height": null,
      "max_width": null,
      "min_height": null,
      "min_width": null,
      "object_fit": null,
      "object_position": null,
      "order": null,
      "overflow": null,
      "overflow_x": null,
      "overflow_y": null,
      "padding": null,
      "right": null,
      "top": null,
      "visibility": null,
      "width": null
     }
    },
    "00b8d6ead3544964aaab202d76283a00": {
     "model_module": "@jupyter-widgets/controls",
     "model_module_version": "1.5.0",
     "model_name": "DescriptionStyleModel",
     "state": {
      "_model_module": "@jupyter-widgets/controls",
      "_model_module_version": "1.5.0",
      "_model_name": "DescriptionStyleModel",
      "_view_count": null,
      "_view_module": "@jupyter-widgets/base",
      "_view_module_version": "1.2.0",
      "_view_name": "StyleView",
      "description_width": ""
     }
    },
    "017d222d23454482a42a6874157d6a15": {
     "model_module": "@jupyter-widgets/base",
     "model_module_version": "1.2.0",
     "model_name": "LayoutModel",
     "state": {
      "_model_module": "@jupyter-widgets/base",
      "_model_module_version": "1.2.0",
      "_model_name": "LayoutModel",
      "_view_count": null,
      "_view_module": "@jupyter-widgets/base",
      "_view_module_version": "1.2.0",
      "_view_name": "LayoutView",
      "align_content": null,
      "align_items": null,
      "align_self": null,
      "border": null,
      "bottom": null,
      "display": null,
      "flex": null,
      "flex_flow": null,
      "grid_area": null,
      "grid_auto_columns": null,
      "grid_auto_flow": null,
      "grid_auto_rows": null,
      "grid_column": null,
      "grid_gap": null,
      "grid_row": null,
      "grid_template_areas": null,
      "grid_template_columns": null,
      "grid_template_rows": null,
      "height": null,
      "justify_content": null,
      "justify_items": null,
      "left": null,
      "margin": null,
      "max_height": null,
      "max_width": null,
      "min_height": null,
      "min_width": null,
      "object_fit": null,
      "object_position": null,
      "order": null,
      "overflow": null,
      "overflow_x": null,
      "overflow_y": null,
      "padding": null,
      "right": null,
      "top": null,
      "visibility": null,
      "width": null
     }
    },
    "0445e26bfe0742b291db49a3c57f004f": {
     "model_module": "@jupyter-widgets/base",
     "model_module_version": "1.2.0",
     "model_name": "LayoutModel",
     "state": {
      "_model_module": "@jupyter-widgets/base",
      "_model_module_version": "1.2.0",
      "_model_name": "LayoutModel",
      "_view_count": null,
      "_view_module": "@jupyter-widgets/base",
      "_view_module_version": "1.2.0",
      "_view_name": "LayoutView",
      "align_content": null,
      "align_items": null,
      "align_self": null,
      "border": null,
      "bottom": null,
      "display": null,
      "flex": null,
      "flex_flow": null,
      "grid_area": null,
      "grid_auto_columns": null,
      "grid_auto_flow": null,
      "grid_auto_rows": null,
      "grid_column": null,
      "grid_gap": null,
      "grid_row": null,
      "grid_template_areas": null,
      "grid_template_columns": null,
      "grid_template_rows": null,
      "height": null,
      "justify_content": null,
      "justify_items": null,
      "left": null,
      "margin": null,
      "max_height": null,
      "max_width": null,
      "min_height": null,
      "min_width": null,
      "object_fit": null,
      "object_position": null,
      "order": null,
      "overflow": null,
      "overflow_x": null,
      "overflow_y": null,
      "padding": null,
      "right": null,
      "top": null,
      "visibility": null,
      "width": null
     }
    },
    "07d380b6c7e84b6f89773b070fb05450": {
     "model_module": "@jupyter-widgets/base",
     "model_module_version": "1.2.0",
     "model_name": "LayoutModel",
     "state": {
      "_model_module": "@jupyter-widgets/base",
      "_model_module_version": "1.2.0",
      "_model_name": "LayoutModel",
      "_view_count": null,
      "_view_module": "@jupyter-widgets/base",
      "_view_module_version": "1.2.0",
      "_view_name": "LayoutView",
      "align_content": null,
      "align_items": null,
      "align_self": null,
      "border": null,
      "bottom": null,
      "display": null,
      "flex": null,
      "flex_flow": null,
      "grid_area": null,
      "grid_auto_columns": null,
      "grid_auto_flow": null,
      "grid_auto_rows": null,
      "grid_column": null,
      "grid_gap": null,
      "grid_row": null,
      "grid_template_areas": null,
      "grid_template_columns": null,
      "grid_template_rows": null,
      "height": null,
      "justify_content": null,
      "justify_items": null,
      "left": null,
      "margin": null,
      "max_height": null,
      "max_width": null,
      "min_height": null,
      "min_width": null,
      "object_fit": null,
      "object_position": null,
      "order": null,
      "overflow": null,
      "overflow_x": null,
      "overflow_y": null,
      "padding": null,
      "right": null,
      "top": null,
      "visibility": null,
      "width": null
     }
    },
    "08078e9dd9424f098cd4742518f5b90f": {
     "model_module": "@jupyter-widgets/base",
     "model_module_version": "1.2.0",
     "model_name": "LayoutModel",
     "state": {
      "_model_module": "@jupyter-widgets/base",
      "_model_module_version": "1.2.0",
      "_model_name": "LayoutModel",
      "_view_count": null,
      "_view_module": "@jupyter-widgets/base",
      "_view_module_version": "1.2.0",
      "_view_name": "LayoutView",
      "align_content": null,
      "align_items": null,
      "align_self": null,
      "border": null,
      "bottom": null,
      "display": null,
      "flex": null,
      "flex_flow": null,
      "grid_area": null,
      "grid_auto_columns": null,
      "grid_auto_flow": null,
      "grid_auto_rows": null,
      "grid_column": null,
      "grid_gap": null,
      "grid_row": null,
      "grid_template_areas": null,
      "grid_template_columns": null,
      "grid_template_rows": null,
      "height": null,
      "justify_content": null,
      "justify_items": null,
      "left": null,
      "margin": null,
      "max_height": null,
      "max_width": null,
      "min_height": null,
      "min_width": null,
      "object_fit": null,
      "object_position": null,
      "order": null,
      "overflow": null,
      "overflow_x": null,
      "overflow_y": null,
      "padding": null,
      "right": null,
      "top": null,
      "visibility": null,
      "width": null
     }
    },
    "09c8d0bceba94142a60117e5b3be6190": {
     "model_module": "@jupyter-widgets/controls",
     "model_module_version": "1.5.0",
     "model_name": "HTMLModel",
     "state": {
      "_dom_classes": [],
      "_model_module": "@jupyter-widgets/controls",
      "_model_module_version": "1.5.0",
      "_model_name": "HTMLModel",
      "_view_count": null,
      "_view_module": "@jupyter-widgets/controls",
      "_view_module_version": "1.5.0",
      "_view_name": "HTMLView",
      "description": "",
      "description_tooltip": null,
      "layout": "IPY_MODEL_91f9e3b8729d42f48242e1b7b965c64f",
      "placeholder": "​",
      "style": "IPY_MODEL_31a412a409ad4195be91389fcd46caa8",
      "value": " 12/12 [00:00&lt;00:00, 53.15it/s]"
     }
    },
    "0bba9f981003466cbbb67ec199b7969a": {
     "model_module": "@jupyter-widgets/controls",
     "model_module_version": "1.5.0",
     "model_name": "FloatProgressModel",
     "state": {
      "_dom_classes": [],
      "_model_module": "@jupyter-widgets/controls",
      "_model_module_version": "1.5.0",
      "_model_name": "FloatProgressModel",
      "_view_count": null,
      "_view_module": "@jupyter-widgets/controls",
      "_view_module_version": "1.5.0",
      "_view_name": "ProgressView",
      "bar_style": "success",
      "description": "",
      "description_tooltip": null,
      "layout": "IPY_MODEL_0f117b4468fa4ba8a56d73513bf095ba",
      "max": 12,
      "min": 0,
      "orientation": "horizontal",
      "style": "IPY_MODEL_994f3777bc0e4682b316883e07a3619e",
      "value": 12
     }
    },
    "0bd6b8d509464a1798a5fbe4cfc7d573": {
     "model_module": "@jupyter-widgets/controls",
     "model_module_version": "1.5.0",
     "model_name": "HBoxModel",
     "state": {
      "_dom_classes": [],
      "_model_module": "@jupyter-widgets/controls",
      "_model_module_version": "1.5.0",
      "_model_name": "HBoxModel",
      "_view_count": null,
      "_view_module": "@jupyter-widgets/controls",
      "_view_module_version": "1.5.0",
      "_view_name": "HBoxView",
      "box_style": "",
      "children": [
       "IPY_MODEL_1aed17bf79864652a614d91c0ef99ce3",
       "IPY_MODEL_1c5017a496a9458c90a73e9ee19479e5",
       "IPY_MODEL_470b8b74501c444fb732b77b340cec08"
      ],
      "layout": "IPY_MODEL_ed299181d5934147879c39d639d5c2ee"
     }
    },
    "0bedf81eadfe45ec863875a344f8a409": {
     "model_module": "@jupyter-widgets/controls",
     "model_module_version": "1.5.0",
     "model_name": "HTMLModel",
     "state": {
      "_dom_classes": [],
      "_model_module": "@jupyter-widgets/controls",
      "_model_module_version": "1.5.0",
      "_model_name": "HTMLModel",
      "_view_count": null,
      "_view_module": "@jupyter-widgets/controls",
      "_view_module_version": "1.5.0",
      "_view_name": "HTMLView",
      "description": "",
      "description_tooltip": null,
      "layout": "IPY_MODEL_3c44e67badac42038a75824bff7f4d6e",
      "placeholder": "​",
      "style": "IPY_MODEL_e009c1b44f4b411582bc97d6a2ae76d7",
      "value": "100%"
     }
    },
    "0c01d0d89c984da0bea23e625f873c7f": {
     "model_module": "@jupyter-widgets/base",
     "model_module_version": "1.2.0",
     "model_name": "LayoutModel",
     "state": {
      "_model_module": "@jupyter-widgets/base",
      "_model_module_version": "1.2.0",
      "_model_name": "LayoutModel",
      "_view_count": null,
      "_view_module": "@jupyter-widgets/base",
      "_view_module_version": "1.2.0",
      "_view_name": "LayoutView",
      "align_content": null,
      "align_items": null,
      "align_self": null,
      "border": null,
      "bottom": null,
      "display": null,
      "flex": null,
      "flex_flow": null,
      "grid_area": null,
      "grid_auto_columns": null,
      "grid_auto_flow": null,
      "grid_auto_rows": null,
      "grid_column": null,
      "grid_gap": null,
      "grid_row": null,
      "grid_template_areas": null,
      "grid_template_columns": null,
      "grid_template_rows": null,
      "height": null,
      "justify_content": null,
      "justify_items": null,
      "left": null,
      "margin": null,
      "max_height": null,
      "max_width": null,
      "min_height": null,
      "min_width": null,
      "object_fit": null,
      "object_position": null,
      "order": null,
      "overflow": null,
      "overflow_x": null,
      "overflow_y": null,
      "padding": null,
      "right": null,
      "top": null,
      "visibility": null,
      "width": null
     }
    },
    "0c7ff7a14fbd4766ae3303230fd76ac3": {
     "model_module": "@jupyter-widgets/base",
     "model_module_version": "1.2.0",
     "model_name": "LayoutModel",
     "state": {
      "_model_module": "@jupyter-widgets/base",
      "_model_module_version": "1.2.0",
      "_model_name": "LayoutModel",
      "_view_count": null,
      "_view_module": "@jupyter-widgets/base",
      "_view_module_version": "1.2.0",
      "_view_name": "LayoutView",
      "align_content": null,
      "align_items": null,
      "align_self": null,
      "border": null,
      "bottom": null,
      "display": null,
      "flex": null,
      "flex_flow": null,
      "grid_area": null,
      "grid_auto_columns": null,
      "grid_auto_flow": null,
      "grid_auto_rows": null,
      "grid_column": null,
      "grid_gap": null,
      "grid_row": null,
      "grid_template_areas": null,
      "grid_template_columns": null,
      "grid_template_rows": null,
      "height": null,
      "justify_content": null,
      "justify_items": null,
      "left": null,
      "margin": null,
      "max_height": null,
      "max_width": null,
      "min_height": null,
      "min_width": null,
      "object_fit": null,
      "object_position": null,
      "order": null,
      "overflow": null,
      "overflow_x": null,
      "overflow_y": null,
      "padding": null,
      "right": null,
      "top": null,
      "visibility": null,
      "width": null
     }
    },
    "0d76e3ad77144c1aa714e5af64299acf": {
     "model_module": "@jupyter-widgets/base",
     "model_module_version": "1.2.0",
     "model_name": "LayoutModel",
     "state": {
      "_model_module": "@jupyter-widgets/base",
      "_model_module_version": "1.2.0",
      "_model_name": "LayoutModel",
      "_view_count": null,
      "_view_module": "@jupyter-widgets/base",
      "_view_module_version": "1.2.0",
      "_view_name": "LayoutView",
      "align_content": null,
      "align_items": null,
      "align_self": null,
      "border": null,
      "bottom": null,
      "display": null,
      "flex": null,
      "flex_flow": null,
      "grid_area": null,
      "grid_auto_columns": null,
      "grid_auto_flow": null,
      "grid_auto_rows": null,
      "grid_column": null,
      "grid_gap": null,
      "grid_row": null,
      "grid_template_areas": null,
      "grid_template_columns": null,
      "grid_template_rows": null,
      "height": null,
      "justify_content": null,
      "justify_items": null,
      "left": null,
      "margin": null,
      "max_height": null,
      "max_width": null,
      "min_height": null,
      "min_width": null,
      "object_fit": null,
      "object_position": null,
      "order": null,
      "overflow": null,
      "overflow_x": null,
      "overflow_y": null,
      "padding": null,
      "right": null,
      "top": null,
      "visibility": null,
      "width": null
     }
    },
    "0d81b509986b4419af803f75a12d4f22": {
     "model_module": "@jupyter-widgets/controls",
     "model_module_version": "1.5.0",
     "model_name": "FloatProgressModel",
     "state": {
      "_dom_classes": [],
      "_model_module": "@jupyter-widgets/controls",
      "_model_module_version": "1.5.0",
      "_model_name": "FloatProgressModel",
      "_view_count": null,
      "_view_module": "@jupyter-widgets/controls",
      "_view_module_version": "1.5.0",
      "_view_name": "ProgressView",
      "bar_style": "success",
      "description": "",
      "description_tooltip": null,
      "layout": "IPY_MODEL_86945b63ef494c7e84423feb749f667c",
      "max": 12,
      "min": 0,
      "orientation": "horizontal",
      "style": "IPY_MODEL_eff2f4580ac54a7cbc5e35319bd3c8de",
      "value": 12
     }
    },
    "0f117b4468fa4ba8a56d73513bf095ba": {
     "model_module": "@jupyter-widgets/base",
     "model_module_version": "1.2.0",
     "model_name": "LayoutModel",
     "state": {
      "_model_module": "@jupyter-widgets/base",
      "_model_module_version": "1.2.0",
      "_model_name": "LayoutModel",
      "_view_count": null,
      "_view_module": "@jupyter-widgets/base",
      "_view_module_version": "1.2.0",
      "_view_name": "LayoutView",
      "align_content": null,
      "align_items": null,
      "align_self": null,
      "border": null,
      "bottom": null,
      "display": null,
      "flex": null,
      "flex_flow": null,
      "grid_area": null,
      "grid_auto_columns": null,
      "grid_auto_flow": null,
      "grid_auto_rows": null,
      "grid_column": null,
      "grid_gap": null,
      "grid_row": null,
      "grid_template_areas": null,
      "grid_template_columns": null,
      "grid_template_rows": null,
      "height": null,
      "justify_content": null,
      "justify_items": null,
      "left": null,
      "margin": null,
      "max_height": null,
      "max_width": null,
      "min_height": null,
      "min_width": null,
      "object_fit": null,
      "object_position": null,
      "order": null,
      "overflow": null,
      "overflow_x": null,
      "overflow_y": null,
      "padding": null,
      "right": null,
      "top": null,
      "visibility": null,
      "width": null
     }
    },
    "0f7161cf34cb4917a26d2227f57689c0": {
     "model_module": "@jupyter-widgets/base",
     "model_module_version": "1.2.0",
     "model_name": "LayoutModel",
     "state": {
      "_model_module": "@jupyter-widgets/base",
      "_model_module_version": "1.2.0",
      "_model_name": "LayoutModel",
      "_view_count": null,
      "_view_module": "@jupyter-widgets/base",
      "_view_module_version": "1.2.0",
      "_view_name": "LayoutView",
      "align_content": null,
      "align_items": null,
      "align_self": null,
      "border": null,
      "bottom": null,
      "display": null,
      "flex": null,
      "flex_flow": null,
      "grid_area": null,
      "grid_auto_columns": null,
      "grid_auto_flow": null,
      "grid_auto_rows": null,
      "grid_column": null,
      "grid_gap": null,
      "grid_row": null,
      "grid_template_areas": null,
      "grid_template_columns": null,
      "grid_template_rows": null,
      "height": null,
      "justify_content": null,
      "justify_items": null,
      "left": null,
      "margin": null,
      "max_height": null,
      "max_width": null,
      "min_height": null,
      "min_width": null,
      "object_fit": null,
      "object_position": null,
      "order": null,
      "overflow": null,
      "overflow_x": null,
      "overflow_y": null,
      "padding": null,
      "right": null,
      "top": null,
      "visibility": null,
      "width": null
     }
    },
    "0fa388fa18034f21ba215c594ba90944": {
     "model_module": "@jupyter-widgets/controls",
     "model_module_version": "1.5.0",
     "model_name": "FloatProgressModel",
     "state": {
      "_dom_classes": [],
      "_model_module": "@jupyter-widgets/controls",
      "_model_module_version": "1.5.0",
      "_model_name": "FloatProgressModel",
      "_view_count": null,
      "_view_module": "@jupyter-widgets/controls",
      "_view_module_version": "1.5.0",
      "_view_name": "ProgressView",
      "bar_style": "success",
      "description": "",
      "description_tooltip": null,
      "layout": "IPY_MODEL_c409e6d41ab242c198714b85e5c1bbb2",
      "max": 12,
      "min": 0,
      "orientation": "horizontal",
      "style": "IPY_MODEL_eb855385ec034d2d8a29f79982309b62",
      "value": 12
     }
    },
    "0fabe465c43f4d359708e2be58ebf11a": {
     "model_module": "@jupyter-widgets/controls",
     "model_module_version": "1.5.0",
     "model_name": "HBoxModel",
     "state": {
      "_dom_classes": [],
      "_model_module": "@jupyter-widgets/controls",
      "_model_module_version": "1.5.0",
      "_model_name": "HBoxModel",
      "_view_count": null,
      "_view_module": "@jupyter-widgets/controls",
      "_view_module_version": "1.5.0",
      "_view_name": "HBoxView",
      "box_style": "",
      "children": [
       "IPY_MODEL_d2d1dde7c0be4282b0cc8bf869fcc9bb",
       "IPY_MODEL_0d81b509986b4419af803f75a12d4f22",
       "IPY_MODEL_658504b0e4914b8ab1d6a32b19091e38"
      ],
      "layout": "IPY_MODEL_64eb04c05b50414fb11a3ee92c17a134"
     }
    },
    "10cd1c51c0c847ae8ac98e48954641b3": {
     "model_module": "@jupyter-widgets/controls",
     "model_module_version": "1.5.0",
     "model_name": "ProgressStyleModel",
     "state": {
      "_model_module": "@jupyter-widgets/controls",
      "_model_module_version": "1.5.0",
      "_model_name": "ProgressStyleModel",
      "_view_count": null,
      "_view_module": "@jupyter-widgets/base",
      "_view_module_version": "1.2.0",
      "_view_name": "StyleView",
      "bar_color": null,
      "description_width": ""
     }
    },
    "113e2ad08e02496cbf04758378af18df": {
     "model_module": "@jupyter-widgets/controls",
     "model_module_version": "1.5.0",
     "model_name": "FloatProgressModel",
     "state": {
      "_dom_classes": [],
      "_model_module": "@jupyter-widgets/controls",
      "_model_module_version": "1.5.0",
      "_model_name": "FloatProgressModel",
      "_view_count": null,
      "_view_module": "@jupyter-widgets/controls",
      "_view_module_version": "1.5.0",
      "_view_name": "ProgressView",
      "bar_style": "success",
      "description": "",
      "description_tooltip": null,
      "layout": "IPY_MODEL_b4179b4340614864bed16aae0531fd34",
      "max": 12,
      "min": 0,
      "orientation": "horizontal",
      "style": "IPY_MODEL_10cd1c51c0c847ae8ac98e48954641b3",
      "value": 12
     }
    },
    "12eaed73b1af4c5da842ea845fd77b9c": {
     "model_module": "@jupyter-widgets/controls",
     "model_module_version": "1.5.0",
     "model_name": "DescriptionStyleModel",
     "state": {
      "_model_module": "@jupyter-widgets/controls",
      "_model_module_version": "1.5.0",
      "_model_name": "DescriptionStyleModel",
      "_view_count": null,
      "_view_module": "@jupyter-widgets/base",
      "_view_module_version": "1.2.0",
      "_view_name": "StyleView",
      "description_width": ""
     }
    },
    "12f09208dbad4c91bf88f66502c3938a": {
     "model_module": "@jupyter-widgets/base",
     "model_module_version": "1.2.0",
     "model_name": "LayoutModel",
     "state": {
      "_model_module": "@jupyter-widgets/base",
      "_model_module_version": "1.2.0",
      "_model_name": "LayoutModel",
      "_view_count": null,
      "_view_module": "@jupyter-widgets/base",
      "_view_module_version": "1.2.0",
      "_view_name": "LayoutView",
      "align_content": null,
      "align_items": null,
      "align_self": null,
      "border": null,
      "bottom": null,
      "display": null,
      "flex": null,
      "flex_flow": null,
      "grid_area": null,
      "grid_auto_columns": null,
      "grid_auto_flow": null,
      "grid_auto_rows": null,
      "grid_column": null,
      "grid_gap": null,
      "grid_row": null,
      "grid_template_areas": null,
      "grid_template_columns": null,
      "grid_template_rows": null,
      "height": null,
      "justify_content": null,
      "justify_items": null,
      "left": null,
      "margin": null,
      "max_height": null,
      "max_width": null,
      "min_height": null,
      "min_width": null,
      "object_fit": null,
      "object_position": null,
      "order": null,
      "overflow": null,
      "overflow_x": null,
      "overflow_y": null,
      "padding": null,
      "right": null,
      "top": null,
      "visibility": null,
      "width": null
     }
    },
    "17fb130087234441bf0f588e6634d590": {
     "model_module": "@jupyter-widgets/controls",
     "model_module_version": "1.5.0",
     "model_name": "HBoxModel",
     "state": {
      "_dom_classes": [],
      "_model_module": "@jupyter-widgets/controls",
      "_model_module_version": "1.5.0",
      "_model_name": "HBoxModel",
      "_view_count": null,
      "_view_module": "@jupyter-widgets/controls",
      "_view_module_version": "1.5.0",
      "_view_name": "HBoxView",
      "box_style": "",
      "children": [
       "IPY_MODEL_66ffc3fcfdb7407d99f8e1cf1bb46944",
       "IPY_MODEL_219ef5452c1841828310f7744423e07a",
       "IPY_MODEL_94d3e4f3a2cc4f15a2e314330a43b84a"
      ],
      "layout": "IPY_MODEL_0d76e3ad77144c1aa714e5af64299acf"
     }
    },
    "1913bb2651e24acd94a9735d6a091faf": {
     "model_module": "@jupyter-widgets/controls",
     "model_module_version": "1.5.0",
     "model_name": "DescriptionStyleModel",
     "state": {
      "_model_module": "@jupyter-widgets/controls",
      "_model_module_version": "1.5.0",
      "_model_name": "DescriptionStyleModel",
      "_view_count": null,
      "_view_module": "@jupyter-widgets/base",
      "_view_module_version": "1.2.0",
      "_view_name": "StyleView",
      "description_width": ""
     }
    },
    "19639c108ab444a0b8a413bac972cb10": {
     "model_module": "@jupyter-widgets/base",
     "model_module_version": "1.2.0",
     "model_name": "LayoutModel",
     "state": {
      "_model_module": "@jupyter-widgets/base",
      "_model_module_version": "1.2.0",
      "_model_name": "LayoutModel",
      "_view_count": null,
      "_view_module": "@jupyter-widgets/base",
      "_view_module_version": "1.2.0",
      "_view_name": "LayoutView",
      "align_content": null,
      "align_items": null,
      "align_self": null,
      "border": null,
      "bottom": null,
      "display": null,
      "flex": null,
      "flex_flow": null,
      "grid_area": null,
      "grid_auto_columns": null,
      "grid_auto_flow": null,
      "grid_auto_rows": null,
      "grid_column": null,
      "grid_gap": null,
      "grid_row": null,
      "grid_template_areas": null,
      "grid_template_columns": null,
      "grid_template_rows": null,
      "height": null,
      "justify_content": null,
      "justify_items": null,
      "left": null,
      "margin": null,
      "max_height": null,
      "max_width": null,
      "min_height": null,
      "min_width": null,
      "object_fit": null,
      "object_position": null,
      "order": null,
      "overflow": null,
      "overflow_x": null,
      "overflow_y": null,
      "padding": null,
      "right": null,
      "top": null,
      "visibility": null,
      "width": null
     }
    },
    "1aed17bf79864652a614d91c0ef99ce3": {
     "model_module": "@jupyter-widgets/controls",
     "model_module_version": "1.5.0",
     "model_name": "HTMLModel",
     "state": {
      "_dom_classes": [],
      "_model_module": "@jupyter-widgets/controls",
      "_model_module_version": "1.5.0",
      "_model_name": "HTMLModel",
      "_view_count": null,
      "_view_module": "@jupyter-widgets/controls",
      "_view_module_version": "1.5.0",
      "_view_name": "HTMLView",
      "description": "",
      "description_tooltip": null,
      "layout": "IPY_MODEL_baf61a90fb4845dbb7186d5eac5e426c",
      "placeholder": "​",
      "style": "IPY_MODEL_b7440e40f33249f7b8c48fcb49924a92",
      "value": "100%"
     }
    },
    "1b3ba863083d48d0a6aba3796778a07d": {
     "model_module": "@jupyter-widgets/base",
     "model_module_version": "1.2.0",
     "model_name": "LayoutModel",
     "state": {
      "_model_module": "@jupyter-widgets/base",
      "_model_module_version": "1.2.0",
      "_model_name": "LayoutModel",
      "_view_count": null,
      "_view_module": "@jupyter-widgets/base",
      "_view_module_version": "1.2.0",
      "_view_name": "LayoutView",
      "align_content": null,
      "align_items": null,
      "align_self": null,
      "border": null,
      "bottom": null,
      "display": null,
      "flex": null,
      "flex_flow": null,
      "grid_area": null,
      "grid_auto_columns": null,
      "grid_auto_flow": null,
      "grid_auto_rows": null,
      "grid_column": null,
      "grid_gap": null,
      "grid_row": null,
      "grid_template_areas": null,
      "grid_template_columns": null,
      "grid_template_rows": null,
      "height": null,
      "justify_content": null,
      "justify_items": null,
      "left": null,
      "margin": null,
      "max_height": null,
      "max_width": null,
      "min_height": null,
      "min_width": null,
      "object_fit": null,
      "object_position": null,
      "order": null,
      "overflow": null,
      "overflow_x": null,
      "overflow_y": null,
      "padding": null,
      "right": null,
      "top": null,
      "visibility": null,
      "width": null
     }
    },
    "1c5017a496a9458c90a73e9ee19479e5": {
     "model_module": "@jupyter-widgets/controls",
     "model_module_version": "1.5.0",
     "model_name": "FloatProgressModel",
     "state": {
      "_dom_classes": [],
      "_model_module": "@jupyter-widgets/controls",
      "_model_module_version": "1.5.0",
      "_model_name": "FloatProgressModel",
      "_view_count": null,
      "_view_module": "@jupyter-widgets/controls",
      "_view_module_version": "1.5.0",
      "_view_name": "ProgressView",
      "bar_style": "success",
      "description": "",
      "description_tooltip": null,
      "layout": "IPY_MODEL_0f7161cf34cb4917a26d2227f57689c0",
      "max": 12,
      "min": 0,
      "orientation": "horizontal",
      "style": "IPY_MODEL_fe909a03c3cc4965ac8ef62985468542",
      "value": 12
     }
    },
    "1c72bb092fb943b1bab15d8ccec40f71": {
     "model_module": "@jupyter-widgets/controls",
     "model_module_version": "1.5.0",
     "model_name": "FloatProgressModel",
     "state": {
      "_dom_classes": [],
      "_model_module": "@jupyter-widgets/controls",
      "_model_module_version": "1.5.0",
      "_model_name": "FloatProgressModel",
      "_view_count": null,
      "_view_module": "@jupyter-widgets/controls",
      "_view_module_version": "1.5.0",
      "_view_name": "ProgressView",
      "bar_style": "success",
      "description": "",
      "description_tooltip": null,
      "layout": "IPY_MODEL_83992f9945204813ac8b8f6ee5348294",
      "max": 14,
      "min": 0,
      "orientation": "horizontal",
      "style": "IPY_MODEL_65977c82113b4786b55d2ba2dba3415b",
      "value": 14
     }
    },
    "1cbb2ed78ae74889a25090c2820b793a": {
     "model_module": "@jupyter-widgets/controls",
     "model_module_version": "1.5.0",
     "model_name": "HTMLModel",
     "state": {
      "_dom_classes": [],
      "_model_module": "@jupyter-widgets/controls",
      "_model_module_version": "1.5.0",
      "_model_name": "HTMLModel",
      "_view_count": null,
      "_view_module": "@jupyter-widgets/controls",
      "_view_module_version": "1.5.0",
      "_view_name": "HTMLView",
      "description": "",
      "description_tooltip": null,
      "layout": "IPY_MODEL_f7ff3f6876a848a899a1905b48ada10b",
      "placeholder": "​",
      "style": "IPY_MODEL_e067f7d027a14fe898f2c6fc9b3d3a2f",
      "value": "100%"
     }
    },
    "1d81bd1c76014c61bdd6e322567ab256": {
     "model_module": "@jupyter-widgets/controls",
     "model_module_version": "1.5.0",
     "model_name": "HBoxModel",
     "state": {
      "_dom_classes": [],
      "_model_module": "@jupyter-widgets/controls",
      "_model_module_version": "1.5.0",
      "_model_name": "HBoxModel",
      "_view_count": null,
      "_view_module": "@jupyter-widgets/controls",
      "_view_module_version": "1.5.0",
      "_view_name": "HBoxView",
      "box_style": "",
      "children": [
       "IPY_MODEL_4b1c03a7e5304ceeb600ec5ba5209d6d",
       "IPY_MODEL_1c72bb092fb943b1bab15d8ccec40f71",
       "IPY_MODEL_488fe20f11e148c88112871887be3216"
      ],
      "layout": "IPY_MODEL_0445e26bfe0742b291db49a3c57f004f"
     }
    },
    "21792ec25eff4adea7fe03c588d323d4": {
     "model_module": "@jupyter-widgets/controls",
     "model_module_version": "1.5.0",
     "model_name": "DescriptionStyleModel",
     "state": {
      "_model_module": "@jupyter-widgets/controls",
      "_model_module_version": "1.5.0",
      "_model_name": "DescriptionStyleModel",
      "_view_count": null,
      "_view_module": "@jupyter-widgets/base",
      "_view_module_version": "1.2.0",
      "_view_name": "StyleView",
      "description_width": ""
     }
    },
    "219ef5452c1841828310f7744423e07a": {
     "model_module": "@jupyter-widgets/controls",
     "model_module_version": "1.5.0",
     "model_name": "FloatProgressModel",
     "state": {
      "_dom_classes": [],
      "_model_module": "@jupyter-widgets/controls",
      "_model_module_version": "1.5.0",
      "_model_name": "FloatProgressModel",
      "_view_count": null,
      "_view_module": "@jupyter-widgets/controls",
      "_view_module_version": "1.5.0",
      "_view_name": "ProgressView",
      "bar_style": "success",
      "description": "",
      "description_tooltip": null,
      "layout": "IPY_MODEL_28132283d499491a8f1f69a874c922cd",
      "max": 12,
      "min": 0,
      "orientation": "horizontal",
      "style": "IPY_MODEL_af7b1f91d88c4545bf2f75be61dc7310",
      "value": 12
     }
    },
    "248375a34db54f8999f776b6a8ac4127": {
     "model_module": "@jupyter-widgets/base",
     "model_module_version": "1.2.0",
     "model_name": "LayoutModel",
     "state": {
      "_model_module": "@jupyter-widgets/base",
      "_model_module_version": "1.2.0",
      "_model_name": "LayoutModel",
      "_view_count": null,
      "_view_module": "@jupyter-widgets/base",
      "_view_module_version": "1.2.0",
      "_view_name": "LayoutView",
      "align_content": null,
      "align_items": null,
      "align_self": null,
      "border": null,
      "bottom": null,
      "display": null,
      "flex": null,
      "flex_flow": null,
      "grid_area": null,
      "grid_auto_columns": null,
      "grid_auto_flow": null,
      "grid_auto_rows": null,
      "grid_column": null,
      "grid_gap": null,
      "grid_row": null,
      "grid_template_areas": null,
      "grid_template_columns": null,
      "grid_template_rows": null,
      "height": null,
      "justify_content": null,
      "justify_items": null,
      "left": null,
      "margin": null,
      "max_height": null,
      "max_width": null,
      "min_height": null,
      "min_width": null,
      "object_fit": null,
      "object_position": null,
      "order": null,
      "overflow": null,
      "overflow_x": null,
      "overflow_y": null,
      "padding": null,
      "right": null,
      "top": null,
      "visibility": null,
      "width": null
     }
    },
    "263a2673431546d79f9aa834d432088b": {
     "model_module": "@jupyter-widgets/controls",
     "model_module_version": "1.5.0",
     "model_name": "FloatProgressModel",
     "state": {
      "_dom_classes": [],
      "_model_module": "@jupyter-widgets/controls",
      "_model_module_version": "1.5.0",
      "_model_name": "FloatProgressModel",
      "_view_count": null,
      "_view_module": "@jupyter-widgets/controls",
      "_view_module_version": "1.5.0",
      "_view_name": "ProgressView",
      "bar_style": "success",
      "description": "",
      "description_tooltip": null,
      "layout": "IPY_MODEL_bdcdfd85fa664fedade586a361421901",
      "max": 12,
      "min": 0,
      "orientation": "horizontal",
      "style": "IPY_MODEL_8194ccf9f54c436097b0f51ce51a0fde",
      "value": 12
     }
    },
    "271085b7ff2e4b7f82d42ecc51a483bb": {
     "model_module": "@jupyter-widgets/controls",
     "model_module_version": "1.5.0",
     "model_name": "ProgressStyleModel",
     "state": {
      "_model_module": "@jupyter-widgets/controls",
      "_model_module_version": "1.5.0",
      "_model_name": "ProgressStyleModel",
      "_view_count": null,
      "_view_module": "@jupyter-widgets/base",
      "_view_module_version": "1.2.0",
      "_view_name": "StyleView",
      "bar_color": null,
      "description_width": ""
     }
    },
    "28132283d499491a8f1f69a874c922cd": {
     "model_module": "@jupyter-widgets/base",
     "model_module_version": "1.2.0",
     "model_name": "LayoutModel",
     "state": {
      "_model_module": "@jupyter-widgets/base",
      "_model_module_version": "1.2.0",
      "_model_name": "LayoutModel",
      "_view_count": null,
      "_view_module": "@jupyter-widgets/base",
      "_view_module_version": "1.2.0",
      "_view_name": "LayoutView",
      "align_content": null,
      "align_items": null,
      "align_self": null,
      "border": null,
      "bottom": null,
      "display": null,
      "flex": null,
      "flex_flow": null,
      "grid_area": null,
      "grid_auto_columns": null,
      "grid_auto_flow": null,
      "grid_auto_rows": null,
      "grid_column": null,
      "grid_gap": null,
      "grid_row": null,
      "grid_template_areas": null,
      "grid_template_columns": null,
      "grid_template_rows": null,
      "height": null,
      "justify_content": null,
      "justify_items": null,
      "left": null,
      "margin": null,
      "max_height": null,
      "max_width": null,
      "min_height": null,
      "min_width": null,
      "object_fit": null,
      "object_position": null,
      "order": null,
      "overflow": null,
      "overflow_x": null,
      "overflow_y": null,
      "padding": null,
      "right": null,
      "top": null,
      "visibility": null,
      "width": null
     }
    },
    "2ba22147a47c4555b44474e8952aef95": {
     "model_module": "@jupyter-widgets/controls",
     "model_module_version": "1.5.0",
     "model_name": "HTMLModel",
     "state": {
      "_dom_classes": [],
      "_model_module": "@jupyter-widgets/controls",
      "_model_module_version": "1.5.0",
      "_model_name": "HTMLModel",
      "_view_count": null,
      "_view_module": "@jupyter-widgets/controls",
      "_view_module_version": "1.5.0",
      "_view_name": "HTMLView",
      "description": "",
      "description_tooltip": null,
      "layout": "IPY_MODEL_12f09208dbad4c91bf88f66502c3938a",
      "placeholder": "​",
      "style": "IPY_MODEL_6a34d77da1bf4e829dd55c881d808db5",
      "value": "100%"
     }
    },
    "2d4bbbcfe05d49209b725bf24e6733ee": {
     "model_module": "@jupyter-widgets/controls",
     "model_module_version": "1.5.0",
     "model_name": "HTMLModel",
     "state": {
      "_dom_classes": [],
      "_model_module": "@jupyter-widgets/controls",
      "_model_module_version": "1.5.0",
      "_model_name": "HTMLModel",
      "_view_count": null,
      "_view_module": "@jupyter-widgets/controls",
      "_view_module_version": "1.5.0",
      "_view_name": "HTMLView",
      "description": "",
      "description_tooltip": null,
      "layout": "IPY_MODEL_dfbc555f23ce426791f05ad782491265",
      "placeholder": "​",
      "style": "IPY_MODEL_996e814f2ad34d9faf49bbca69f0f8d9",
      "value": " 12/12 [00:00&lt;00:00, 55.97it/s]"
     }
    },
    "3141c230e3f140fe8d074187518bf09e": {
     "model_module": "@jupyter-widgets/controls",
     "model_module_version": "1.5.0",
     "model_name": "DescriptionStyleModel",
     "state": {
      "_model_module": "@jupyter-widgets/controls",
      "_model_module_version": "1.5.0",
      "_model_name": "DescriptionStyleModel",
      "_view_count": null,
      "_view_module": "@jupyter-widgets/base",
      "_view_module_version": "1.2.0",
      "_view_name": "StyleView",
      "description_width": ""
     }
    },
    "31a412a409ad4195be91389fcd46caa8": {
     "model_module": "@jupyter-widgets/controls",
     "model_module_version": "1.5.0",
     "model_name": "DescriptionStyleModel",
     "state": {
      "_model_module": "@jupyter-widgets/controls",
      "_model_module_version": "1.5.0",
      "_model_name": "DescriptionStyleModel",
      "_view_count": null,
      "_view_module": "@jupyter-widgets/base",
      "_view_module_version": "1.2.0",
      "_view_name": "StyleView",
      "description_width": ""
     }
    },
    "34f9023a7a4847f8bbded6e2a80841fa": {
     "model_module": "@jupyter-widgets/controls",
     "model_module_version": "1.5.0",
     "model_name": "HTMLModel",
     "state": {
      "_dom_classes": [],
      "_model_module": "@jupyter-widgets/controls",
      "_model_module_version": "1.5.0",
      "_model_name": "HTMLModel",
      "_view_count": null,
      "_view_module": "@jupyter-widgets/controls",
      "_view_module_version": "1.5.0",
      "_view_name": "HTMLView",
      "description": "",
      "description_tooltip": null,
      "layout": "IPY_MODEL_5bf808129bc34c93b177ebccf63e40c5",
      "placeholder": "​",
      "style": "IPY_MODEL_98f17478a4a4465ba0c95dc43e4613b3",
      "value": " 12/12 [00:03&lt;00:00,  4.05it/s]"
     }
    },
    "3523ecafca704833b056ddf0ac238b12": {
     "model_module": "@jupyter-widgets/controls",
     "model_module_version": "1.5.0",
     "model_name": "HBoxModel",
     "state": {
      "_dom_classes": [],
      "_model_module": "@jupyter-widgets/controls",
      "_model_module_version": "1.5.0",
      "_model_name": "HBoxModel",
      "_view_count": null,
      "_view_module": "@jupyter-widgets/controls",
      "_view_module_version": "1.5.0",
      "_view_name": "HBoxView",
      "box_style": "",
      "children": [
       "IPY_MODEL_adbd3c9d1b914e65921a6cb109814a78",
       "IPY_MODEL_113e2ad08e02496cbf04758378af18df",
       "IPY_MODEL_4aa8f28225854485a442843d8c3340a7"
      ],
      "layout": "IPY_MODEL_60fc8012b1b74283ac0fb7acba31aaa2"
     }
    },
    "35c080c5524c42349ca532764bd9925f": {
     "model_module": "@jupyter-widgets/controls",
     "model_module_version": "1.5.0",
     "model_name": "DescriptionStyleModel",
     "state": {
      "_model_module": "@jupyter-widgets/controls",
      "_model_module_version": "1.5.0",
      "_model_name": "DescriptionStyleModel",
      "_view_count": null,
      "_view_module": "@jupyter-widgets/base",
      "_view_module_version": "1.2.0",
      "_view_name": "StyleView",
      "description_width": ""
     }
    },
    "3c28a96063834ee0a30e9bfed35c3c7c": {
     "model_module": "@jupyter-widgets/controls",
     "model_module_version": "1.5.0",
     "model_name": "HTMLModel",
     "state": {
      "_dom_classes": [],
      "_model_module": "@jupyter-widgets/controls",
      "_model_module_version": "1.5.0",
      "_model_name": "HTMLModel",
      "_view_count": null,
      "_view_module": "@jupyter-widgets/controls",
      "_view_module_version": "1.5.0",
      "_view_name": "HTMLView",
      "description": "",
      "description_tooltip": null,
      "layout": "IPY_MODEL_b98f49b07729464382d6c4501d8fd954",
      "placeholder": "​",
      "style": "IPY_MODEL_d7d20f71ef784c98b2757124a8409f3f",
      "value": "100%"
     }
    },
    "3c44e67badac42038a75824bff7f4d6e": {
     "model_module": "@jupyter-widgets/base",
     "model_module_version": "1.2.0",
     "model_name": "LayoutModel",
     "state": {
      "_model_module": "@jupyter-widgets/base",
      "_model_module_version": "1.2.0",
      "_model_name": "LayoutModel",
      "_view_count": null,
      "_view_module": "@jupyter-widgets/base",
      "_view_module_version": "1.2.0",
      "_view_name": "LayoutView",
      "align_content": null,
      "align_items": null,
      "align_self": null,
      "border": null,
      "bottom": null,
      "display": null,
      "flex": null,
      "flex_flow": null,
      "grid_area": null,
      "grid_auto_columns": null,
      "grid_auto_flow": null,
      "grid_auto_rows": null,
      "grid_column": null,
      "grid_gap": null,
      "grid_row": null,
      "grid_template_areas": null,
      "grid_template_columns": null,
      "grid_template_rows": null,
      "height": null,
      "justify_content": null,
      "justify_items": null,
      "left": null,
      "margin": null,
      "max_height": null,
      "max_width": null,
      "min_height": null,
      "min_width": null,
      "object_fit": null,
      "object_position": null,
      "order": null,
      "overflow": null,
      "overflow_x": null,
      "overflow_y": null,
      "padding": null,
      "right": null,
      "top": null,
      "visibility": null,
      "width": null
     }
    },
    "3c9c5e815b0b4e6fb999731c83bed9e8": {
     "model_module": "@jupyter-widgets/controls",
     "model_module_version": "1.5.0",
     "model_name": "HTMLModel",
     "state": {
      "_dom_classes": [],
      "_model_module": "@jupyter-widgets/controls",
      "_model_module_version": "1.5.0",
      "_model_name": "HTMLModel",
      "_view_count": null,
      "_view_module": "@jupyter-widgets/controls",
      "_view_module_version": "1.5.0",
      "_view_name": "HTMLView",
      "description": "",
      "description_tooltip": null,
      "layout": "IPY_MODEL_1b3ba863083d48d0a6aba3796778a07d",
      "placeholder": "​",
      "style": "IPY_MODEL_1913bb2651e24acd94a9735d6a091faf",
      "value": "100%"
     }
    },
    "3d02ced912a54b96ae50a3923ef29ab1": {
     "model_module": "@jupyter-widgets/controls",
     "model_module_version": "1.5.0",
     "model_name": "HTMLModel",
     "state": {
      "_dom_classes": [],
      "_model_module": "@jupyter-widgets/controls",
      "_model_module_version": "1.5.0",
      "_model_name": "HTMLModel",
      "_view_count": null,
      "_view_module": "@jupyter-widgets/controls",
      "_view_module_version": "1.5.0",
      "_view_name": "HTMLView",
      "description": "",
      "description_tooltip": null,
      "layout": "IPY_MODEL_07d380b6c7e84b6f89773b070fb05450",
      "placeholder": "​",
      "style": "IPY_MODEL_21792ec25eff4adea7fe03c588d323d4",
      "value": " 12/12 [00:00&lt;00:00, 60.28it/s]"
     }
    },
    "3d2844cd18044c76ad6e5d2027047d2f": {
     "model_module": "@jupyter-widgets/controls",
     "model_module_version": "1.5.0",
     "model_name": "ProgressStyleModel",
     "state": {
      "_model_module": "@jupyter-widgets/controls",
      "_model_module_version": "1.5.0",
      "_model_name": "ProgressStyleModel",
      "_view_count": null,
      "_view_module": "@jupyter-widgets/base",
      "_view_module_version": "1.2.0",
      "_view_name": "StyleView",
      "bar_color": null,
      "description_width": ""
     }
    },
    "3f65575144794a8c9a40c86154ff5718": {
     "model_module": "@jupyter-widgets/base",
     "model_module_version": "1.2.0",
     "model_name": "LayoutModel",
     "state": {
      "_model_module": "@jupyter-widgets/base",
      "_model_module_version": "1.2.0",
      "_model_name": "LayoutModel",
      "_view_count": null,
      "_view_module": "@jupyter-widgets/base",
      "_view_module_version": "1.2.0",
      "_view_name": "LayoutView",
      "align_content": null,
      "align_items": null,
      "align_self": null,
      "border": null,
      "bottom": null,
      "display": null,
      "flex": null,
      "flex_flow": null,
      "grid_area": null,
      "grid_auto_columns": null,
      "grid_auto_flow": null,
      "grid_auto_rows": null,
      "grid_column": null,
      "grid_gap": null,
      "grid_row": null,
      "grid_template_areas": null,
      "grid_template_columns": null,
      "grid_template_rows": null,
      "height": null,
      "justify_content": null,
      "justify_items": null,
      "left": null,
      "margin": null,
      "max_height": null,
      "max_width": null,
      "min_height": null,
      "min_width": null,
      "object_fit": null,
      "object_position": null,
      "order": null,
      "overflow": null,
      "overflow_x": null,
      "overflow_y": null,
      "padding": null,
      "right": null,
      "top": null,
      "visibility": null,
      "width": null
     }
    },
    "410b7c506f18489db04454abfb6a7b0f": {
     "model_module": "@jupyter-widgets/base",
     "model_module_version": "1.2.0",
     "model_name": "LayoutModel",
     "state": {
      "_model_module": "@jupyter-widgets/base",
      "_model_module_version": "1.2.0",
      "_model_name": "LayoutModel",
      "_view_count": null,
      "_view_module": "@jupyter-widgets/base",
      "_view_module_version": "1.2.0",
      "_view_name": "LayoutView",
      "align_content": null,
      "align_items": null,
      "align_self": null,
      "border": null,
      "bottom": null,
      "display": null,
      "flex": null,
      "flex_flow": null,
      "grid_area": null,
      "grid_auto_columns": null,
      "grid_auto_flow": null,
      "grid_auto_rows": null,
      "grid_column": null,
      "grid_gap": null,
      "grid_row": null,
      "grid_template_areas": null,
      "grid_template_columns": null,
      "grid_template_rows": null,
      "height": null,
      "justify_content": null,
      "justify_items": null,
      "left": null,
      "margin": null,
      "max_height": null,
      "max_width": null,
      "min_height": null,
      "min_width": null,
      "object_fit": null,
      "object_position": null,
      "order": null,
      "overflow": null,
      "overflow_x": null,
      "overflow_y": null,
      "padding": null,
      "right": null,
      "top": null,
      "visibility": null,
      "width": null
     }
    },
    "420d1752f6944c9e84bb496af823b04f": {
     "model_module": "@jupyter-widgets/controls",
     "model_module_version": "1.5.0",
     "model_name": "HTMLModel",
     "state": {
      "_dom_classes": [],
      "_model_module": "@jupyter-widgets/controls",
      "_model_module_version": "1.5.0",
      "_model_name": "HTMLModel",
      "_view_count": null,
      "_view_module": "@jupyter-widgets/controls",
      "_view_module_version": "1.5.0",
      "_view_name": "HTMLView",
      "description": "",
      "description_tooltip": null,
      "layout": "IPY_MODEL_83dd8ba703154be293e3fbe38192bfc2",
      "placeholder": "​",
      "style": "IPY_MODEL_a5f6263ef61545a2b0a8f686ac5775bf",
      "value": "100%"
     }
    },
    "42dcb4f3be064aaf84c463c283ebdca3": {
     "model_module": "@jupyter-widgets/base",
     "model_module_version": "1.2.0",
     "model_name": "LayoutModel",
     "state": {
      "_model_module": "@jupyter-widgets/base",
      "_model_module_version": "1.2.0",
      "_model_name": "LayoutModel",
      "_view_count": null,
      "_view_module": "@jupyter-widgets/base",
      "_view_module_version": "1.2.0",
      "_view_name": "LayoutView",
      "align_content": null,
      "align_items": null,
      "align_self": null,
      "border": null,
      "bottom": null,
      "display": null,
      "flex": null,
      "flex_flow": null,
      "grid_area": null,
      "grid_auto_columns": null,
      "grid_auto_flow": null,
      "grid_auto_rows": null,
      "grid_column": null,
      "grid_gap": null,
      "grid_row": null,
      "grid_template_areas": null,
      "grid_template_columns": null,
      "grid_template_rows": null,
      "height": null,
      "justify_content": null,
      "justify_items": null,
      "left": null,
      "margin": null,
      "max_height": null,
      "max_width": null,
      "min_height": null,
      "min_width": null,
      "object_fit": null,
      "object_position": null,
      "order": null,
      "overflow": null,
      "overflow_x": null,
      "overflow_y": null,
      "padding": null,
      "right": null,
      "top": null,
      "visibility": null,
      "width": null
     }
    },
    "4322535db72a4e0eaacbf28ceb9a20bb": {
     "model_module": "@jupyter-widgets/controls",
     "model_module_version": "1.5.0",
     "model_name": "DescriptionStyleModel",
     "state": {
      "_model_module": "@jupyter-widgets/controls",
      "_model_module_version": "1.5.0",
      "_model_name": "DescriptionStyleModel",
      "_view_count": null,
      "_view_module": "@jupyter-widgets/base",
      "_view_module_version": "1.2.0",
      "_view_name": "StyleView",
      "description_width": ""
     }
    },
    "4486da00ffa64f0e897ead8eee311a7a": {
     "model_module": "@jupyter-widgets/controls",
     "model_module_version": "1.5.0",
     "model_name": "FloatProgressModel",
     "state": {
      "_dom_classes": [],
      "_model_module": "@jupyter-widgets/controls",
      "_model_module_version": "1.5.0",
      "_model_name": "FloatProgressModel",
      "_view_count": null,
      "_view_module": "@jupyter-widgets/controls",
      "_view_module_version": "1.5.0",
      "_view_name": "ProgressView",
      "bar_style": "success",
      "description": "",
      "description_tooltip": null,
      "layout": "IPY_MODEL_19639c108ab444a0b8a413bac972cb10",
      "max": 12,
      "min": 0,
      "orientation": "horizontal",
      "style": "IPY_MODEL_3d2844cd18044c76ad6e5d2027047d2f",
      "value": 12
     }
    },
    "470b8b74501c444fb732b77b340cec08": {
     "model_module": "@jupyter-widgets/controls",
     "model_module_version": "1.5.0",
     "model_name": "HTMLModel",
     "state": {
      "_dom_classes": [],
      "_model_module": "@jupyter-widgets/controls",
      "_model_module_version": "1.5.0",
      "_model_name": "HTMLModel",
      "_view_count": null,
      "_view_module": "@jupyter-widgets/controls",
      "_view_module_version": "1.5.0",
      "_view_name": "HTMLView",
      "description": "",
      "description_tooltip": null,
      "layout": "IPY_MODEL_e78650c7dc614ab5a80a3e55f491c8e2",
      "placeholder": "​",
      "style": "IPY_MODEL_00b8d6ead3544964aaab202d76283a00",
      "value": " 12/12 [00:02&lt;00:00,  4.62it/s]"
     }
    },
    "488fe20f11e148c88112871887be3216": {
     "model_module": "@jupyter-widgets/controls",
     "model_module_version": "1.5.0",
     "model_name": "HTMLModel",
     "state": {
      "_dom_classes": [],
      "_model_module": "@jupyter-widgets/controls",
      "_model_module_version": "1.5.0",
      "_model_name": "HTMLModel",
      "_view_count": null,
      "_view_module": "@jupyter-widgets/controls",
      "_view_module_version": "1.5.0",
      "_view_name": "HTMLView",
      "description": "",
      "description_tooltip": null,
      "layout": "IPY_MODEL_d480036adc0b4b4e92c5de2368b5fb1b",
      "placeholder": "​",
      "style": "IPY_MODEL_de9e6da741214fdeafb20187ee4c1593",
      "value": " 14/14 [00:13&lt;00:00,  1.06it/s]"
     }
    },
    "4a73e06e0d094b739c198a7c72d849cb": {
     "model_module": "@jupyter-widgets/controls",
     "model_module_version": "1.5.0",
     "model_name": "HTMLModel",
     "state": {
      "_dom_classes": [],
      "_model_module": "@jupyter-widgets/controls",
      "_model_module_version": "1.5.0",
      "_model_name": "HTMLModel",
      "_view_count": null,
      "_view_module": "@jupyter-widgets/controls",
      "_view_module_version": "1.5.0",
      "_view_name": "HTMLView",
      "description": "",
      "description_tooltip": null,
      "layout": "IPY_MODEL_f4ef363f73a04fe68f5f8e3445e606ab",
      "placeholder": "​",
      "style": "IPY_MODEL_12eaed73b1af4c5da842ea845fd77b9c",
      "value": "100%"
     }
    },
    "4aa8f28225854485a442843d8c3340a7": {
     "model_module": "@jupyter-widgets/controls",
     "model_module_version": "1.5.0",
     "model_name": "HTMLModel",
     "state": {
      "_dom_classes": [],
      "_model_module": "@jupyter-widgets/controls",
      "_model_module_version": "1.5.0",
      "_model_name": "HTMLModel",
      "_view_count": null,
      "_view_module": "@jupyter-widgets/controls",
      "_view_module_version": "1.5.0",
      "_view_name": "HTMLView",
      "description": "",
      "description_tooltip": null,
      "layout": "IPY_MODEL_08078e9dd9424f098cd4742518f5b90f",
      "placeholder": "​",
      "style": "IPY_MODEL_6724f380ef7b46cc8ae4488aa9cdecaf",
      "value": " 12/12 [00:00&lt;00:00, 33.47it/s]"
     }
    },
    "4b126d3bd38d4163a52e586f0a87da81": {
     "model_module": "@jupyter-widgets/controls",
     "model_module_version": "1.5.0",
     "model_name": "HBoxModel",
     "state": {
      "_dom_classes": [],
      "_model_module": "@jupyter-widgets/controls",
      "_model_module_version": "1.5.0",
      "_model_name": "HBoxModel",
      "_view_count": null,
      "_view_module": "@jupyter-widgets/controls",
      "_view_module_version": "1.5.0",
      "_view_name": "HBoxView",
      "box_style": "",
      "children": [
       "IPY_MODEL_f9a8adb7e645492e8a6140540284640b",
       "IPY_MODEL_b93edaa22fd447eb819a583cb1f0b18e",
       "IPY_MODEL_60b0970d17cf427f960bc660b1f918fe"
      ],
      "layout": "IPY_MODEL_52edd7dec06343d384ddf4384a726b9b"
     }
    },
    "4b1c03a7e5304ceeb600ec5ba5209d6d": {
     "model_module": "@jupyter-widgets/controls",
     "model_module_version": "1.5.0",
     "model_name": "HTMLModel",
     "state": {
      "_dom_classes": [],
      "_model_module": "@jupyter-widgets/controls",
      "_model_module_version": "1.5.0",
      "_model_name": "HTMLModel",
      "_view_count": null,
      "_view_module": "@jupyter-widgets/controls",
      "_view_module_version": "1.5.0",
      "_view_name": "HTMLView",
      "description": "",
      "description_tooltip": null,
      "layout": "IPY_MODEL_5ea18ae55bb04374bf1b217139caa67c",
      "placeholder": "​",
      "style": "IPY_MODEL_875bcf34047f4837a8cf6b0e9217c522",
      "value": "Classifying examples (process 1): 100%"
     }
    },
    "4e4e8472b92349018377c6233c7634d3": {
     "model_module": "@jupyter-widgets/controls",
     "model_module_version": "1.5.0",
     "model_name": "HBoxModel",
     "state": {
      "_dom_classes": [],
      "_model_module": "@jupyter-widgets/controls",
      "_model_module_version": "1.5.0",
      "_model_name": "HBoxModel",
      "_view_count": null,
      "_view_module": "@jupyter-widgets/controls",
      "_view_module_version": "1.5.0",
      "_view_name": "HBoxView",
      "box_style": "",
      "children": [
       "IPY_MODEL_420d1752f6944c9e84bb496af823b04f",
       "IPY_MODEL_263a2673431546d79f9aa834d432088b",
       "IPY_MODEL_09c8d0bceba94142a60117e5b3be6190"
      ],
      "layout": "IPY_MODEL_bd3a0f38d74649a99b4c993e37600f74"
     }
    },
    "4fc2ab27145e4500829dfa9992a75c2c": {
     "model_module": "@jupyter-widgets/base",
     "model_module_version": "1.2.0",
     "model_name": "LayoutModel",
     "state": {
      "_model_module": "@jupyter-widgets/base",
      "_model_module_version": "1.2.0",
      "_model_name": "LayoutModel",
      "_view_count": null,
      "_view_module": "@jupyter-widgets/base",
      "_view_module_version": "1.2.0",
      "_view_name": "LayoutView",
      "align_content": null,
      "align_items": null,
      "align_self": null,
      "border": null,
      "bottom": null,
      "display": null,
      "flex": null,
      "flex_flow": null,
      "grid_area": null,
      "grid_auto_columns": null,
      "grid_auto_flow": null,
      "grid_auto_rows": null,
      "grid_column": null,
      "grid_gap": null,
      "grid_row": null,
      "grid_template_areas": null,
      "grid_template_columns": null,
      "grid_template_rows": null,
      "height": null,
      "justify_content": null,
      "justify_items": null,
      "left": null,
      "margin": null,
      "max_height": null,
      "max_width": null,
      "min_height": null,
      "min_width": null,
      "object_fit": null,
      "object_position": null,
      "order": null,
      "overflow": null,
      "overflow_x": null,
      "overflow_y": null,
      "padding": null,
      "right": null,
      "top": null,
      "visibility": null,
      "width": null
     }
    },
    "4fcc5e1bafdb44848433d61407a4aa46": {
     "model_module": "@jupyter-widgets/base",
     "model_module_version": "1.2.0",
     "model_name": "LayoutModel",
     "state": {
      "_model_module": "@jupyter-widgets/base",
      "_model_module_version": "1.2.0",
      "_model_name": "LayoutModel",
      "_view_count": null,
      "_view_module": "@jupyter-widgets/base",
      "_view_module_version": "1.2.0",
      "_view_name": "LayoutView",
      "align_content": null,
      "align_items": null,
      "align_self": null,
      "border": null,
      "bottom": null,
      "display": null,
      "flex": null,
      "flex_flow": null,
      "grid_area": null,
      "grid_auto_columns": null,
      "grid_auto_flow": null,
      "grid_auto_rows": null,
      "grid_column": null,
      "grid_gap": null,
      "grid_row": null,
      "grid_template_areas": null,
      "grid_template_columns": null,
      "grid_template_rows": null,
      "height": null,
      "justify_content": null,
      "justify_items": null,
      "left": null,
      "margin": null,
      "max_height": null,
      "max_width": null,
      "min_height": null,
      "min_width": null,
      "object_fit": null,
      "object_position": null,
      "order": null,
      "overflow": null,
      "overflow_x": null,
      "overflow_y": null,
      "padding": null,
      "right": null,
      "top": null,
      "visibility": null,
      "width": null
     }
    },
    "5154f59f98fe4a849e18b9c5bf441803": {
     "model_module": "@jupyter-widgets/controls",
     "model_module_version": "1.5.0",
     "model_name": "DescriptionStyleModel",
     "state": {
      "_model_module": "@jupyter-widgets/controls",
      "_model_module_version": "1.5.0",
      "_model_name": "DescriptionStyleModel",
      "_view_count": null,
      "_view_module": "@jupyter-widgets/base",
      "_view_module_version": "1.2.0",
      "_view_name": "StyleView",
      "description_width": ""
     }
    },
    "52af4f5a6cea43148d5b31697bbdaa34": {
     "model_module": "@jupyter-widgets/controls",
     "model_module_version": "1.5.0",
     "model_name": "HTMLModel",
     "state": {
      "_dom_classes": [],
      "_model_module": "@jupyter-widgets/controls",
      "_model_module_version": "1.5.0",
      "_model_name": "HTMLModel",
      "_view_count": null,
      "_view_module": "@jupyter-widgets/controls",
      "_view_module_version": "1.5.0",
      "_view_name": "HTMLView",
      "description": "",
      "description_tooltip": null,
      "layout": "IPY_MODEL_79eceb91229d407b87f5a6c273e1182b",
      "placeholder": "​",
      "style": "IPY_MODEL_3141c230e3f140fe8d074187518bf09e",
      "value": "100%"
     }
    },
    "52edd7dec06343d384ddf4384a726b9b": {
     "model_module": "@jupyter-widgets/base",
     "model_module_version": "1.2.0",
     "model_name": "LayoutModel",
     "state": {
      "_model_module": "@jupyter-widgets/base",
      "_model_module_version": "1.2.0",
      "_model_name": "LayoutModel",
      "_view_count": null,
      "_view_module": "@jupyter-widgets/base",
      "_view_module_version": "1.2.0",
      "_view_name": "LayoutView",
      "align_content": null,
      "align_items": null,
      "align_self": null,
      "border": null,
      "bottom": null,
      "display": null,
      "flex": null,
      "flex_flow": null,
      "grid_area": null,
      "grid_auto_columns": null,
      "grid_auto_flow": null,
      "grid_auto_rows": null,
      "grid_column": null,
      "grid_gap": null,
      "grid_row": null,
      "grid_template_areas": null,
      "grid_template_columns": null,
      "grid_template_rows": null,
      "height": null,
      "justify_content": null,
      "justify_items": null,
      "left": null,
      "margin": null,
      "max_height": null,
      "max_width": null,
      "min_height": null,
      "min_width": null,
      "object_fit": null,
      "object_position": null,
      "order": null,
      "overflow": null,
      "overflow_x": null,
      "overflow_y": null,
      "padding": null,
      "right": null,
      "top": null,
      "visibility": null,
      "width": null
     }
    },
    "56ddfc8e108648b58de49d480722e4ac": {
     "model_module": "@jupyter-widgets/controls",
     "model_module_version": "1.5.0",
     "model_name": "ProgressStyleModel",
     "state": {
      "_model_module": "@jupyter-widgets/controls",
      "_model_module_version": "1.5.0",
      "_model_name": "ProgressStyleModel",
      "_view_count": null,
      "_view_module": "@jupyter-widgets/base",
      "_view_module_version": "1.2.0",
      "_view_name": "StyleView",
      "bar_color": null,
      "description_width": ""
     }
    },
    "5835ea80ca7f4e0f95581e5ff78585c5": {
     "model_module": "@jupyter-widgets/controls",
     "model_module_version": "1.5.0",
     "model_name": "ProgressStyleModel",
     "state": {
      "_model_module": "@jupyter-widgets/controls",
      "_model_module_version": "1.5.0",
      "_model_name": "ProgressStyleModel",
      "_view_count": null,
      "_view_module": "@jupyter-widgets/base",
      "_view_module_version": "1.2.0",
      "_view_name": "StyleView",
      "bar_color": null,
      "description_width": ""
     }
    },
    "5b5c4791e5274d31843fd3e1af840a0e": {
     "model_module": "@jupyter-widgets/controls",
     "model_module_version": "1.5.0",
     "model_name": "HTMLModel",
     "state": {
      "_dom_classes": [],
      "_model_module": "@jupyter-widgets/controls",
      "_model_module_version": "1.5.0",
      "_model_name": "HTMLModel",
      "_view_count": null,
      "_view_module": "@jupyter-widgets/controls",
      "_view_module_version": "1.5.0",
      "_view_name": "HTMLView",
      "description": "",
      "description_tooltip": null,
      "layout": "IPY_MODEL_3f65575144794a8c9a40c86154ff5718",
      "placeholder": "​",
      "style": "IPY_MODEL_71ce97072ec846ac838460f9a7c8d676",
      "value": " 12/12 [00:00&lt;00:00, 17.56it/s]"
     }
    },
    "5bf808129bc34c93b177ebccf63e40c5": {
     "model_module": "@jupyter-widgets/base",
     "model_module_version": "1.2.0",
     "model_name": "LayoutModel",
     "state": {
      "_model_module": "@jupyter-widgets/base",
      "_model_module_version": "1.2.0",
      "_model_name": "LayoutModel",
      "_view_count": null,
      "_view_module": "@jupyter-widgets/base",
      "_view_module_version": "1.2.0",
      "_view_name": "LayoutView",
      "align_content": null,
      "align_items": null,
      "align_self": null,
      "border": null,
      "bottom": null,
      "display": null,
      "flex": null,
      "flex_flow": null,
      "grid_area": null,
      "grid_auto_columns": null,
      "grid_auto_flow": null,
      "grid_auto_rows": null,
      "grid_column": null,
      "grid_gap": null,
      "grid_row": null,
      "grid_template_areas": null,
      "grid_template_columns": null,
      "grid_template_rows": null,
      "height": null,
      "justify_content": null,
      "justify_items": null,
      "left": null,
      "margin": null,
      "max_height": null,
      "max_width": null,
      "min_height": null,
      "min_width": null,
      "object_fit": null,
      "object_position": null,
      "order": null,
      "overflow": null,
      "overflow_x": null,
      "overflow_y": null,
      "padding": null,
      "right": null,
      "top": null,
      "visibility": null,
      "width": null
     }
    },
    "5ea18ae55bb04374bf1b217139caa67c": {
     "model_module": "@jupyter-widgets/base",
     "model_module_version": "1.2.0",
     "model_name": "LayoutModel",
     "state": {
      "_model_module": "@jupyter-widgets/base",
      "_model_module_version": "1.2.0",
      "_model_name": "LayoutModel",
      "_view_count": null,
      "_view_module": "@jupyter-widgets/base",
      "_view_module_version": "1.2.0",
      "_view_name": "LayoutView",
      "align_content": null,
      "align_items": null,
      "align_self": null,
      "border": null,
      "bottom": null,
      "display": null,
      "flex": null,
      "flex_flow": null,
      "grid_area": null,
      "grid_auto_columns": null,
      "grid_auto_flow": null,
      "grid_auto_rows": null,
      "grid_column": null,
      "grid_gap": null,
      "grid_row": null,
      "grid_template_areas": null,
      "grid_template_columns": null,
      "grid_template_rows": null,
      "height": null,
      "justify_content": null,
      "justify_items": null,
      "left": null,
      "margin": null,
      "max_height": null,
      "max_width": null,
      "min_height": null,
      "min_width": null,
      "object_fit": null,
      "object_position": null,
      "order": null,
      "overflow": null,
      "overflow_x": null,
      "overflow_y": null,
      "padding": null,
      "right": null,
      "top": null,
      "visibility": null,
      "width": null
     }
    },
    "60b0970d17cf427f960bc660b1f918fe": {
     "model_module": "@jupyter-widgets/controls",
     "model_module_version": "1.5.0",
     "model_name": "HTMLModel",
     "state": {
      "_dom_classes": [],
      "_model_module": "@jupyter-widgets/controls",
      "_model_module_version": "1.5.0",
      "_model_name": "HTMLModel",
      "_view_count": null,
      "_view_module": "@jupyter-widgets/controls",
      "_view_module_version": "1.5.0",
      "_view_name": "HTMLView",
      "description": "",
      "description_tooltip": null,
      "layout": "IPY_MODEL_0c01d0d89c984da0bea23e625f873c7f",
      "placeholder": "​",
      "style": "IPY_MODEL_cabff6c5288d429e97db9c30c722286e",
      "value": " 12/12 [00:00&lt;00:00, 46.39it/s]"
     }
    },
    "60fc8012b1b74283ac0fb7acba31aaa2": {
     "model_module": "@jupyter-widgets/base",
     "model_module_version": "1.2.0",
     "model_name": "LayoutModel",
     "state": {
      "_model_module": "@jupyter-widgets/base",
      "_model_module_version": "1.2.0",
      "_model_name": "LayoutModel",
      "_view_count": null,
      "_view_module": "@jupyter-widgets/base",
      "_view_module_version": "1.2.0",
      "_view_name": "LayoutView",
      "align_content": null,
      "align_items": null,
      "align_self": null,
      "border": null,
      "bottom": null,
      "display": null,
      "flex": null,
      "flex_flow": null,
      "grid_area": null,
      "grid_auto_columns": null,
      "grid_auto_flow": null,
      "grid_auto_rows": null,
      "grid_column": null,
      "grid_gap": null,
      "grid_row": null,
      "grid_template_areas": null,
      "grid_template_columns": null,
      "grid_template_rows": null,
      "height": null,
      "justify_content": null,
      "justify_items": null,
      "left": null,
      "margin": null,
      "max_height": null,
      "max_width": null,
      "min_height": null,
      "min_width": null,
      "object_fit": null,
      "object_position": null,
      "order": null,
      "overflow": null,
      "overflow_x": null,
      "overflow_y": null,
      "padding": null,
      "right": null,
      "top": null,
      "visibility": null,
      "width": null
     }
    },
    "61d71cd1e906412f852e3274e5daf696": {
     "model_module": "@jupyter-widgets/controls",
     "model_module_version": "1.5.0",
     "model_name": "DescriptionStyleModel",
     "state": {
      "_model_module": "@jupyter-widgets/controls",
      "_model_module_version": "1.5.0",
      "_model_name": "DescriptionStyleModel",
      "_view_count": null,
      "_view_module": "@jupyter-widgets/base",
      "_view_module_version": "1.2.0",
      "_view_name": "StyleView",
      "description_width": ""
     }
    },
    "621d4a1da65d48238421f2c784a89d72": {
     "model_module": "@jupyter-widgets/base",
     "model_module_version": "1.2.0",
     "model_name": "LayoutModel",
     "state": {
      "_model_module": "@jupyter-widgets/base",
      "_model_module_version": "1.2.0",
      "_model_name": "LayoutModel",
      "_view_count": null,
      "_view_module": "@jupyter-widgets/base",
      "_view_module_version": "1.2.0",
      "_view_name": "LayoutView",
      "align_content": null,
      "align_items": null,
      "align_self": null,
      "border": null,
      "bottom": null,
      "display": null,
      "flex": null,
      "flex_flow": null,
      "grid_area": null,
      "grid_auto_columns": null,
      "grid_auto_flow": null,
      "grid_auto_rows": null,
      "grid_column": null,
      "grid_gap": null,
      "grid_row": null,
      "grid_template_areas": null,
      "grid_template_columns": null,
      "grid_template_rows": null,
      "height": null,
      "justify_content": null,
      "justify_items": null,
      "left": null,
      "margin": null,
      "max_height": null,
      "max_width": null,
      "min_height": null,
      "min_width": null,
      "object_fit": null,
      "object_position": null,
      "order": null,
      "overflow": null,
      "overflow_x": null,
      "overflow_y": null,
      "padding": null,
      "right": null,
      "top": null,
      "visibility": null,
      "width": null
     }
    },
    "6313d636eec24ce4be602b37e8a9cc83": {
     "model_module": "@jupyter-widgets/controls",
     "model_module_version": "1.5.0",
     "model_name": "ProgressStyleModel",
     "state": {
      "_model_module": "@jupyter-widgets/controls",
      "_model_module_version": "1.5.0",
      "_model_name": "ProgressStyleModel",
      "_view_count": null,
      "_view_module": "@jupyter-widgets/base",
      "_view_module_version": "1.2.0",
      "_view_name": "StyleView",
      "bar_color": null,
      "description_width": ""
     }
    },
    "64eb04c05b50414fb11a3ee92c17a134": {
     "model_module": "@jupyter-widgets/base",
     "model_module_version": "1.2.0",
     "model_name": "LayoutModel",
     "state": {
      "_model_module": "@jupyter-widgets/base",
      "_model_module_version": "1.2.0",
      "_model_name": "LayoutModel",
      "_view_count": null,
      "_view_module": "@jupyter-widgets/base",
      "_view_module_version": "1.2.0",
      "_view_name": "LayoutView",
      "align_content": null,
      "align_items": null,
      "align_self": null,
      "border": null,
      "bottom": null,
      "display": null,
      "flex": null,
      "flex_flow": null,
      "grid_area": null,
      "grid_auto_columns": null,
      "grid_auto_flow": null,
      "grid_auto_rows": null,
      "grid_column": null,
      "grid_gap": null,
      "grid_row": null,
      "grid_template_areas": null,
      "grid_template_columns": null,
      "grid_template_rows": null,
      "height": null,
      "justify_content": null,
      "justify_items": null,
      "left": null,
      "margin": null,
      "max_height": null,
      "max_width": null,
      "min_height": null,
      "min_width": null,
      "object_fit": null,
      "object_position": null,
      "order": null,
      "overflow": null,
      "overflow_x": null,
      "overflow_y": null,
      "padding": null,
      "right": null,
      "top": null,
      "visibility": null,
      "width": null
     }
    },
    "658504b0e4914b8ab1d6a32b19091e38": {
     "model_module": "@jupyter-widgets/controls",
     "model_module_version": "1.5.0",
     "model_name": "HTMLModel",
     "state": {
      "_dom_classes": [],
      "_model_module": "@jupyter-widgets/controls",
      "_model_module_version": "1.5.0",
      "_model_name": "HTMLModel",
      "_view_count": null,
      "_view_module": "@jupyter-widgets/controls",
      "_view_module_version": "1.5.0",
      "_view_name": "HTMLView",
      "description": "",
      "description_tooltip": null,
      "layout": "IPY_MODEL_ff9995df8ce04e5b968c84c195bd8cc3",
      "placeholder": "​",
      "style": "IPY_MODEL_35c080c5524c42349ca532764bd9925f",
      "value": " 12/12 [00:00&lt;00:00, 35.54it/s]"
     }
    },
    "65977c82113b4786b55d2ba2dba3415b": {
     "model_module": "@jupyter-widgets/controls",
     "model_module_version": "1.5.0",
     "model_name": "ProgressStyleModel",
     "state": {
      "_model_module": "@jupyter-widgets/controls",
      "_model_module_version": "1.5.0",
      "_model_name": "ProgressStyleModel",
      "_view_count": null,
      "_view_module": "@jupyter-widgets/base",
      "_view_module_version": "1.2.0",
      "_view_name": "StyleView",
      "bar_color": null,
      "description_width": ""
     }
    },
    "66ffc3fcfdb7407d99f8e1cf1bb46944": {
     "model_module": "@jupyter-widgets/controls",
     "model_module_version": "1.5.0",
     "model_name": "HTMLModel",
     "state": {
      "_dom_classes": [],
      "_model_module": "@jupyter-widgets/controls",
      "_model_module_version": "1.5.0",
      "_model_name": "HTMLModel",
      "_view_count": null,
      "_view_module": "@jupyter-widgets/controls",
      "_view_module_version": "1.5.0",
      "_view_name": "HTMLView",
      "description": "",
      "description_tooltip": null,
      "layout": "IPY_MODEL_cc4a97ad57734c988af3405d76b4f2b4",
      "placeholder": "​",
      "style": "IPY_MODEL_ba63439eae5e4eccba22305b43691483",
      "value": "100%"
     }
    },
    "6724f380ef7b46cc8ae4488aa9cdecaf": {
     "model_module": "@jupyter-widgets/controls",
     "model_module_version": "1.5.0",
     "model_name": "DescriptionStyleModel",
     "state": {
      "_model_module": "@jupyter-widgets/controls",
      "_model_module_version": "1.5.0",
      "_model_name": "DescriptionStyleModel",
      "_view_count": null,
      "_view_module": "@jupyter-widgets/base",
      "_view_module_version": "1.2.0",
      "_view_name": "StyleView",
      "description_width": ""
     }
    },
    "68b66df0277f470488ebe5033969ba51": {
     "model_module": "@jupyter-widgets/controls",
     "model_module_version": "1.5.0",
     "model_name": "HTMLModel",
     "state": {
      "_dom_classes": [],
      "_model_module": "@jupyter-widgets/controls",
      "_model_module_version": "1.5.0",
      "_model_name": "HTMLModel",
      "_view_count": null,
      "_view_module": "@jupyter-widgets/controls",
      "_view_module_version": "1.5.0",
      "_view_name": "HTMLView",
      "description": "",
      "description_tooltip": null,
      "layout": "IPY_MODEL_0c7ff7a14fbd4766ae3303230fd76ac3",
      "placeholder": "​",
      "style": "IPY_MODEL_a985bd35442248cbbdf96b85e342f637",
      "value": " 12/12 [00:00&lt;00:00, 33.13it/s]"
     }
    },
    "6a34d77da1bf4e829dd55c881d808db5": {
     "model_module": "@jupyter-widgets/controls",
     "model_module_version": "1.5.0",
     "model_name": "DescriptionStyleModel",
     "state": {
      "_model_module": "@jupyter-widgets/controls",
      "_model_module_version": "1.5.0",
      "_model_name": "DescriptionStyleModel",
      "_view_count": null,
      "_view_module": "@jupyter-widgets/base",
      "_view_module_version": "1.2.0",
      "_view_name": "StyleView",
      "description_width": ""
     }
    },
    "6bad88d458344debad49441e236fcb0c": {
     "model_module": "@jupyter-widgets/controls",
     "model_module_version": "1.5.0",
     "model_name": "DescriptionStyleModel",
     "state": {
      "_model_module": "@jupyter-widgets/controls",
      "_model_module_version": "1.5.0",
      "_model_name": "DescriptionStyleModel",
      "_view_count": null,
      "_view_module": "@jupyter-widgets/base",
      "_view_module_version": "1.2.0",
      "_view_name": "StyleView",
      "description_width": ""
     }
    },
    "6bc2e686b73f4880be191eeb44e7ea13": {
     "model_module": "@jupyter-widgets/controls",
     "model_module_version": "1.5.0",
     "model_name": "HBoxModel",
     "state": {
      "_dom_classes": [],
      "_model_module": "@jupyter-widgets/controls",
      "_model_module_version": "1.5.0",
      "_model_name": "HBoxModel",
      "_view_count": null,
      "_view_module": "@jupyter-widgets/controls",
      "_view_module_version": "1.5.0",
      "_view_name": "HBoxView",
      "box_style": "",
      "children": [
       "IPY_MODEL_0bedf81eadfe45ec863875a344f8a409",
       "IPY_MODEL_0fa388fa18034f21ba215c594ba90944",
       "IPY_MODEL_f06ab4350eee43fe8004c83da3372124"
      ],
      "layout": "IPY_MODEL_621d4a1da65d48238421f2c784a89d72"
     }
    },
    "6e55879a0861489780ba6b6cc97e261b": {
     "model_module": "@jupyter-widgets/base",
     "model_module_version": "1.2.0",
     "model_name": "LayoutModel",
     "state": {
      "_model_module": "@jupyter-widgets/base",
      "_model_module_version": "1.2.0",
      "_model_name": "LayoutModel",
      "_view_count": null,
      "_view_module": "@jupyter-widgets/base",
      "_view_module_version": "1.2.0",
      "_view_name": "LayoutView",
      "align_content": null,
      "align_items": null,
      "align_self": null,
      "border": null,
      "bottom": null,
      "display": null,
      "flex": null,
      "flex_flow": null,
      "grid_area": null,
      "grid_auto_columns": null,
      "grid_auto_flow": null,
      "grid_auto_rows": null,
      "grid_column": null,
      "grid_gap": null,
      "grid_row": null,
      "grid_template_areas": null,
      "grid_template_columns": null,
      "grid_template_rows": null,
      "height": null,
      "justify_content": null,
      "justify_items": null,
      "left": null,
      "margin": null,
      "max_height": null,
      "max_width": null,
      "min_height": null,
      "min_width": null,
      "object_fit": null,
      "object_position": null,
      "order": null,
      "overflow": null,
      "overflow_x": null,
      "overflow_y": null,
      "padding": null,
      "right": null,
      "top": null,
      "visibility": null,
      "width": null
     }
    },
    "71ce97072ec846ac838460f9a7c8d676": {
     "model_module": "@jupyter-widgets/controls",
     "model_module_version": "1.5.0",
     "model_name": "DescriptionStyleModel",
     "state": {
      "_model_module": "@jupyter-widgets/controls",
      "_model_module_version": "1.5.0",
      "_model_name": "DescriptionStyleModel",
      "_view_count": null,
      "_view_module": "@jupyter-widgets/base",
      "_view_module_version": "1.2.0",
      "_view_name": "StyleView",
      "description_width": ""
     }
    },
    "76600dc85f9449fb956094d831e69b1d": {
     "model_module": "@jupyter-widgets/controls",
     "model_module_version": "1.5.0",
     "model_name": "FloatProgressModel",
     "state": {
      "_dom_classes": [],
      "_model_module": "@jupyter-widgets/controls",
      "_model_module_version": "1.5.0",
      "_model_name": "FloatProgressModel",
      "_view_count": null,
      "_view_module": "@jupyter-widgets/controls",
      "_view_module_version": "1.5.0",
      "_view_name": "ProgressView",
      "bar_style": "success",
      "description": "",
      "description_tooltip": null,
      "layout": "IPY_MODEL_a81422231f19479881e2626280d5f0d9",
      "max": 12,
      "min": 0,
      "orientation": "horizontal",
      "style": "IPY_MODEL_271085b7ff2e4b7f82d42ecc51a483bb",
      "value": 12
     }
    },
    "76826961ff1544c6ba65da887c915576": {
     "model_module": "@jupyter-widgets/controls",
     "model_module_version": "1.5.0",
     "model_name": "DescriptionStyleModel",
     "state": {
      "_model_module": "@jupyter-widgets/controls",
      "_model_module_version": "1.5.0",
      "_model_name": "DescriptionStyleModel",
      "_view_count": null,
      "_view_module": "@jupyter-widgets/base",
      "_view_module_version": "1.2.0",
      "_view_name": "StyleView",
      "description_width": ""
     }
    },
    "78ad32d39b114548aa57f4db9923b6e2": {
     "model_module": "@jupyter-widgets/controls",
     "model_module_version": "1.5.0",
     "model_name": "HTMLModel",
     "state": {
      "_dom_classes": [],
      "_model_module": "@jupyter-widgets/controls",
      "_model_module_version": "1.5.0",
      "_model_name": "HTMLModel",
      "_view_count": null,
      "_view_module": "@jupyter-widgets/controls",
      "_view_module_version": "1.5.0",
      "_view_name": "HTMLView",
      "description": "",
      "description_tooltip": null,
      "layout": "IPY_MODEL_c60ff4833d944731986d8b292f7af8e8",
      "placeholder": "​",
      "style": "IPY_MODEL_76826961ff1544c6ba65da887c915576",
      "value": "100%"
     }
    },
    "79eceb91229d407b87f5a6c273e1182b": {
     "model_module": "@jupyter-widgets/base",
     "model_module_version": "1.2.0",
     "model_name": "LayoutModel",
     "state": {
      "_model_module": "@jupyter-widgets/base",
      "_model_module_version": "1.2.0",
      "_model_name": "LayoutModel",
      "_view_count": null,
      "_view_module": "@jupyter-widgets/base",
      "_view_module_version": "1.2.0",
      "_view_name": "LayoutView",
      "align_content": null,
      "align_items": null,
      "align_self": null,
      "border": null,
      "bottom": null,
      "display": null,
      "flex": null,
      "flex_flow": null,
      "grid_area": null,
      "grid_auto_columns": null,
      "grid_auto_flow": null,
      "grid_auto_rows": null,
      "grid_column": null,
      "grid_gap": null,
      "grid_row": null,
      "grid_template_areas": null,
      "grid_template_columns": null,
      "grid_template_rows": null,
      "height": null,
      "justify_content": null,
      "justify_items": null,
      "left": null,
      "margin": null,
      "max_height": null,
      "max_width": null,
      "min_height": null,
      "min_width": null,
      "object_fit": null,
      "object_position": null,
      "order": null,
      "overflow": null,
      "overflow_x": null,
      "overflow_y": null,
      "padding": null,
      "right": null,
      "top": null,
      "visibility": null,
      "width": null
     }
    },
    "7d09180c95c84f559d7ef097c7c7855b": {
     "model_module": "@jupyter-widgets/controls",
     "model_module_version": "1.5.0",
     "model_name": "HBoxModel",
     "state": {
      "_dom_classes": [],
      "_model_module": "@jupyter-widgets/controls",
      "_model_module_version": "1.5.0",
      "_model_name": "HBoxModel",
      "_view_count": null,
      "_view_module": "@jupyter-widgets/controls",
      "_view_module_version": "1.5.0",
      "_view_name": "HBoxView",
      "box_style": "",
      "children": [
       "IPY_MODEL_2ba22147a47c4555b44474e8952aef95",
       "IPY_MODEL_e7232d1aed434a4db14fb9a6b0d64597",
       "IPY_MODEL_f461182883c54727aafc1d00f0274b12"
      ],
      "layout": "IPY_MODEL_4fcc5e1bafdb44848433d61407a4aa46"
     }
    },
    "7ebf0410b3044339bd454b205cf3b229": {
     "model_module": "@jupyter-widgets/controls",
     "model_module_version": "1.5.0",
     "model_name": "HTMLModel",
     "state": {
      "_dom_classes": [],
      "_model_module": "@jupyter-widgets/controls",
      "_model_module_version": "1.5.0",
      "_model_name": "HTMLModel",
      "_view_count": null,
      "_view_module": "@jupyter-widgets/controls",
      "_view_module_version": "1.5.0",
      "_view_name": "HTMLView",
      "description": "",
      "description_tooltip": null,
      "layout": "IPY_MODEL_fbd1d84a4c254a05ad47df273171e226",
      "placeholder": "​",
      "style": "IPY_MODEL_6bad88d458344debad49441e236fcb0c",
      "value": "100%"
     }
    },
    "7ed87da0aa164bb3a938d652dbd0621d": {
     "model_module": "@jupyter-widgets/base",
     "model_module_version": "1.2.0",
     "model_name": "LayoutModel",
     "state": {
      "_model_module": "@jupyter-widgets/base",
      "_model_module_version": "1.2.0",
      "_model_name": "LayoutModel",
      "_view_count": null,
      "_view_module": "@jupyter-widgets/base",
      "_view_module_version": "1.2.0",
      "_view_name": "LayoutView",
      "align_content": null,
      "align_items": null,
      "align_self": null,
      "border": null,
      "bottom": null,
      "display": null,
      "flex": null,
      "flex_flow": null,
      "grid_area": null,
      "grid_auto_columns": null,
      "grid_auto_flow": null,
      "grid_auto_rows": null,
      "grid_column": null,
      "grid_gap": null,
      "grid_row": null,
      "grid_template_areas": null,
      "grid_template_columns": null,
      "grid_template_rows": null,
      "height": null,
      "justify_content": null,
      "justify_items": null,
      "left": null,
      "margin": null,
      "max_height": null,
      "max_width": null,
      "min_height": null,
      "min_width": null,
      "object_fit": null,
      "object_position": null,
      "order": null,
      "overflow": null,
      "overflow_x": null,
      "overflow_y": null,
      "padding": null,
      "right": null,
      "top": null,
      "visibility": null,
      "width": null
     }
    },
    "8194ccf9f54c436097b0f51ce51a0fde": {
     "model_module": "@jupyter-widgets/controls",
     "model_module_version": "1.5.0",
     "model_name": "ProgressStyleModel",
     "state": {
      "_model_module": "@jupyter-widgets/controls",
      "_model_module_version": "1.5.0",
      "_model_name": "ProgressStyleModel",
      "_view_count": null,
      "_view_module": "@jupyter-widgets/base",
      "_view_module_version": "1.2.0",
      "_view_name": "StyleView",
      "bar_color": null,
      "description_width": ""
     }
    },
    "83992f9945204813ac8b8f6ee5348294": {
     "model_module": "@jupyter-widgets/base",
     "model_module_version": "1.2.0",
     "model_name": "LayoutModel",
     "state": {
      "_model_module": "@jupyter-widgets/base",
      "_model_module_version": "1.2.0",
      "_model_name": "LayoutModel",
      "_view_count": null,
      "_view_module": "@jupyter-widgets/base",
      "_view_module_version": "1.2.0",
      "_view_name": "LayoutView",
      "align_content": null,
      "align_items": null,
      "align_self": null,
      "border": null,
      "bottom": null,
      "display": null,
      "flex": null,
      "flex_flow": null,
      "grid_area": null,
      "grid_auto_columns": null,
      "grid_auto_flow": null,
      "grid_auto_rows": null,
      "grid_column": null,
      "grid_gap": null,
      "grid_row": null,
      "grid_template_areas": null,
      "grid_template_columns": null,
      "grid_template_rows": null,
      "height": null,
      "justify_content": null,
      "justify_items": null,
      "left": null,
      "margin": null,
      "max_height": null,
      "max_width": null,
      "min_height": null,
      "min_width": null,
      "object_fit": null,
      "object_position": null,
      "order": null,
      "overflow": null,
      "overflow_x": null,
      "overflow_y": null,
      "padding": null,
      "right": null,
      "top": null,
      "visibility": null,
      "width": null
     }
    },
    "83dd8ba703154be293e3fbe38192bfc2": {
     "model_module": "@jupyter-widgets/base",
     "model_module_version": "1.2.0",
     "model_name": "LayoutModel",
     "state": {
      "_model_module": "@jupyter-widgets/base",
      "_model_module_version": "1.2.0",
      "_model_name": "LayoutModel",
      "_view_count": null,
      "_view_module": "@jupyter-widgets/base",
      "_view_module_version": "1.2.0",
      "_view_name": "LayoutView",
      "align_content": null,
      "align_items": null,
      "align_self": null,
      "border": null,
      "bottom": null,
      "display": null,
      "flex": null,
      "flex_flow": null,
      "grid_area": null,
      "grid_auto_columns": null,
      "grid_auto_flow": null,
      "grid_auto_rows": null,
      "grid_column": null,
      "grid_gap": null,
      "grid_row": null,
      "grid_template_areas": null,
      "grid_template_columns": null,
      "grid_template_rows": null,
      "height": null,
      "justify_content": null,
      "justify_items": null,
      "left": null,
      "margin": null,
      "max_height": null,
      "max_width": null,
      "min_height": null,
      "min_width": null,
      "object_fit": null,
      "object_position": null,
      "order": null,
      "overflow": null,
      "overflow_x": null,
      "overflow_y": null,
      "padding": null,
      "right": null,
      "top": null,
      "visibility": null,
      "width": null
     }
    },
    "86945b63ef494c7e84423feb749f667c": {
     "model_module": "@jupyter-widgets/base",
     "model_module_version": "1.2.0",
     "model_name": "LayoutModel",
     "state": {
      "_model_module": "@jupyter-widgets/base",
      "_model_module_version": "1.2.0",
      "_model_name": "LayoutModel",
      "_view_count": null,
      "_view_module": "@jupyter-widgets/base",
      "_view_module_version": "1.2.0",
      "_view_name": "LayoutView",
      "align_content": null,
      "align_items": null,
      "align_self": null,
      "border": null,
      "bottom": null,
      "display": null,
      "flex": null,
      "flex_flow": null,
      "grid_area": null,
      "grid_auto_columns": null,
      "grid_auto_flow": null,
      "grid_auto_rows": null,
      "grid_column": null,
      "grid_gap": null,
      "grid_row": null,
      "grid_template_areas": null,
      "grid_template_columns": null,
      "grid_template_rows": null,
      "height": null,
      "justify_content": null,
      "justify_items": null,
      "left": null,
      "margin": null,
      "max_height": null,
      "max_width": null,
      "min_height": null,
      "min_width": null,
      "object_fit": null,
      "object_position": null,
      "order": null,
      "overflow": null,
      "overflow_x": null,
      "overflow_y": null,
      "padding": null,
      "right": null,
      "top": null,
      "visibility": null,
      "width": null
     }
    },
    "875bcf34047f4837a8cf6b0e9217c522": {
     "model_module": "@jupyter-widgets/controls",
     "model_module_version": "1.5.0",
     "model_name": "DescriptionStyleModel",
     "state": {
      "_model_module": "@jupyter-widgets/controls",
      "_model_module_version": "1.5.0",
      "_model_name": "DescriptionStyleModel",
      "_view_count": null,
      "_view_module": "@jupyter-widgets/base",
      "_view_module_version": "1.2.0",
      "_view_name": "StyleView",
      "description_width": ""
     }
    },
    "8aaa646862454774abee6bd6e8cb73f3": {
     "model_module": "@jupyter-widgets/base",
     "model_module_version": "1.2.0",
     "model_name": "LayoutModel",
     "state": {
      "_model_module": "@jupyter-widgets/base",
      "_model_module_version": "1.2.0",
      "_model_name": "LayoutModel",
      "_view_count": null,
      "_view_module": "@jupyter-widgets/base",
      "_view_module_version": "1.2.0",
      "_view_name": "LayoutView",
      "align_content": null,
      "align_items": null,
      "align_self": null,
      "border": null,
      "bottom": null,
      "display": null,
      "flex": null,
      "flex_flow": null,
      "grid_area": null,
      "grid_auto_columns": null,
      "grid_auto_flow": null,
      "grid_auto_rows": null,
      "grid_column": null,
      "grid_gap": null,
      "grid_row": null,
      "grid_template_areas": null,
      "grid_template_columns": null,
      "grid_template_rows": null,
      "height": null,
      "justify_content": null,
      "justify_items": null,
      "left": null,
      "margin": null,
      "max_height": null,
      "max_width": null,
      "min_height": null,
      "min_width": null,
      "object_fit": null,
      "object_position": null,
      "order": null,
      "overflow": null,
      "overflow_x": null,
      "overflow_y": null,
      "padding": null,
      "right": null,
      "top": null,
      "visibility": null,
      "width": null
     }
    },
    "8b06ebb85f91435b998d5f0fe61afa01": {
     "model_module": "@jupyter-widgets/base",
     "model_module_version": "1.2.0",
     "model_name": "LayoutModel",
     "state": {
      "_model_module": "@jupyter-widgets/base",
      "_model_module_version": "1.2.0",
      "_model_name": "LayoutModel",
      "_view_count": null,
      "_view_module": "@jupyter-widgets/base",
      "_view_module_version": "1.2.0",
      "_view_name": "LayoutView",
      "align_content": null,
      "align_items": null,
      "align_self": null,
      "border": null,
      "bottom": null,
      "display": null,
      "flex": null,
      "flex_flow": null,
      "grid_area": null,
      "grid_auto_columns": null,
      "grid_auto_flow": null,
      "grid_auto_rows": null,
      "grid_column": null,
      "grid_gap": null,
      "grid_row": null,
      "grid_template_areas": null,
      "grid_template_columns": null,
      "grid_template_rows": null,
      "height": null,
      "justify_content": null,
      "justify_items": null,
      "left": null,
      "margin": null,
      "max_height": null,
      "max_width": null,
      "min_height": null,
      "min_width": null,
      "object_fit": null,
      "object_position": null,
      "order": null,
      "overflow": null,
      "overflow_x": null,
      "overflow_y": null,
      "padding": null,
      "right": null,
      "top": null,
      "visibility": null,
      "width": null
     }
    },
    "8fe3763a32a047828423b820cddb85df": {
     "model_module": "@jupyter-widgets/controls",
     "model_module_version": "1.5.0",
     "model_name": "HTMLModel",
     "state": {
      "_dom_classes": [],
      "_model_module": "@jupyter-widgets/controls",
      "_model_module_version": "1.5.0",
      "_model_name": "HTMLModel",
      "_view_count": null,
      "_view_module": "@jupyter-widgets/controls",
      "_view_module_version": "1.5.0",
      "_view_name": "HTMLView",
      "description": "",
      "description_tooltip": null,
      "layout": "IPY_MODEL_c7fa9f4b8d16471fa7660b6f5e3fe6c4",
      "placeholder": "​",
      "style": "IPY_MODEL_5154f59f98fe4a849e18b9c5bf441803",
      "value": " 12/12 [00:03&lt;00:00,  3.68it/s]"
     }
    },
    "91f9e3b8729d42f48242e1b7b965c64f": {
     "model_module": "@jupyter-widgets/base",
     "model_module_version": "1.2.0",
     "model_name": "LayoutModel",
     "state": {
      "_model_module": "@jupyter-widgets/base",
      "_model_module_version": "1.2.0",
      "_model_name": "LayoutModel",
      "_view_count": null,
      "_view_module": "@jupyter-widgets/base",
      "_view_module_version": "1.2.0",
      "_view_name": "LayoutView",
      "align_content": null,
      "align_items": null,
      "align_self": null,
      "border": null,
      "bottom": null,
      "display": null,
      "flex": null,
      "flex_flow": null,
      "grid_area": null,
      "grid_auto_columns": null,
      "grid_auto_flow": null,
      "grid_auto_rows": null,
      "grid_column": null,
      "grid_gap": null,
      "grid_row": null,
      "grid_template_areas": null,
      "grid_template_columns": null,
      "grid_template_rows": null,
      "height": null,
      "justify_content": null,
      "justify_items": null,
      "left": null,
      "margin": null,
      "max_height": null,
      "max_width": null,
      "min_height": null,
      "min_width": null,
      "object_fit": null,
      "object_position": null,
      "order": null,
      "overflow": null,
      "overflow_x": null,
      "overflow_y": null,
      "padding": null,
      "right": null,
      "top": null,
      "visibility": null,
      "width": null
     }
    },
    "92445d3f44bd4f568f78b376a5573a3c": {
     "model_module": "@jupyter-widgets/controls",
     "model_module_version": "1.5.0",
     "model_name": "HBoxModel",
     "state": {
      "_dom_classes": [],
      "_model_module": "@jupyter-widgets/controls",
      "_model_module_version": "1.5.0",
      "_model_name": "HBoxModel",
      "_view_count": null,
      "_view_module": "@jupyter-widgets/controls",
      "_view_module_version": "1.5.0",
      "_view_name": "HBoxView",
      "box_style": "",
      "children": [
       "IPY_MODEL_1cbb2ed78ae74889a25090c2820b793a",
       "IPY_MODEL_76600dc85f9449fb956094d831e69b1d",
       "IPY_MODEL_5b5c4791e5274d31843fd3e1af840a0e"
      ],
      "layout": "IPY_MODEL_017d222d23454482a42a6874157d6a15"
     }
    },
    "942ef8e1e0f042cc9ff477687ad8bc1b": {
     "model_module": "@jupyter-widgets/controls",
     "model_module_version": "1.5.0",
     "model_name": "DescriptionStyleModel",
     "state": {
      "_model_module": "@jupyter-widgets/controls",
      "_model_module_version": "1.5.0",
      "_model_name": "DescriptionStyleModel",
      "_view_count": null,
      "_view_module": "@jupyter-widgets/base",
      "_view_module_version": "1.2.0",
      "_view_name": "StyleView",
      "description_width": ""
     }
    },
    "94d3e4f3a2cc4f15a2e314330a43b84a": {
     "model_module": "@jupyter-widgets/controls",
     "model_module_version": "1.5.0",
     "model_name": "HTMLModel",
     "state": {
      "_dom_classes": [],
      "_model_module": "@jupyter-widgets/controls",
      "_model_module_version": "1.5.0",
      "_model_name": "HTMLModel",
      "_view_count": null,
      "_view_module": "@jupyter-widgets/controls",
      "_view_module_version": "1.5.0",
      "_view_name": "HTMLView",
      "description": "",
      "description_tooltip": null,
      "layout": "IPY_MODEL_e57633c29884437099f06a9398af59ba",
      "placeholder": "​",
      "style": "IPY_MODEL_4322535db72a4e0eaacbf28ceb9a20bb",
      "value": " 12/12 [00:03&lt;00:00,  3.91it/s]"
     }
    },
    "98f17478a4a4465ba0c95dc43e4613b3": {
     "model_module": "@jupyter-widgets/controls",
     "model_module_version": "1.5.0",
     "model_name": "DescriptionStyleModel",
     "state": {
      "_model_module": "@jupyter-widgets/controls",
      "_model_module_version": "1.5.0",
      "_model_name": "DescriptionStyleModel",
      "_view_count": null,
      "_view_module": "@jupyter-widgets/base",
      "_view_module_version": "1.2.0",
      "_view_name": "StyleView",
      "description_width": ""
     }
    },
    "994f3777bc0e4682b316883e07a3619e": {
     "model_module": "@jupyter-widgets/controls",
     "model_module_version": "1.5.0",
     "model_name": "ProgressStyleModel",
     "state": {
      "_model_module": "@jupyter-widgets/controls",
      "_model_module_version": "1.5.0",
      "_model_name": "ProgressStyleModel",
      "_view_count": null,
      "_view_module": "@jupyter-widgets/base",
      "_view_module_version": "1.2.0",
      "_view_name": "StyleView",
      "bar_color": null,
      "description_width": ""
     }
    },
    "996e814f2ad34d9faf49bbca69f0f8d9": {
     "model_module": "@jupyter-widgets/controls",
     "model_module_version": "1.5.0",
     "model_name": "DescriptionStyleModel",
     "state": {
      "_model_module": "@jupyter-widgets/controls",
      "_model_module_version": "1.5.0",
      "_model_name": "DescriptionStyleModel",
      "_view_count": null,
      "_view_module": "@jupyter-widgets/base",
      "_view_module_version": "1.2.0",
      "_view_name": "StyleView",
      "description_width": ""
     }
    },
    "9a03bf6f04334671b01a5bf819dcdcf0": {
     "model_module": "@jupyter-widgets/controls",
     "model_module_version": "1.5.0",
     "model_name": "HBoxModel",
     "state": {
      "_dom_classes": [],
      "_model_module": "@jupyter-widgets/controls",
      "_model_module_version": "1.5.0",
      "_model_name": "HBoxModel",
      "_view_count": null,
      "_view_module": "@jupyter-widgets/controls",
      "_view_module_version": "1.5.0",
      "_view_name": "HBoxView",
      "box_style": "",
      "children": [
       "IPY_MODEL_7ebf0410b3044339bd454b205cf3b229",
       "IPY_MODEL_fe5849bfc0294b4b9f39f6a848f84c90",
       "IPY_MODEL_3d02ced912a54b96ae50a3923ef29ab1"
      ],
      "layout": "IPY_MODEL_7ed87da0aa164bb3a938d652dbd0621d"
     }
    },
    "9d1ed1b42f3540a997faa4150e2ebc76": {
     "model_module": "@jupyter-widgets/controls",
     "model_module_version": "1.5.0",
     "model_name": "FloatProgressModel",
     "state": {
      "_dom_classes": [],
      "_model_module": "@jupyter-widgets/controls",
      "_model_module_version": "1.5.0",
      "_model_name": "FloatProgressModel",
      "_view_count": null,
      "_view_module": "@jupyter-widgets/controls",
      "_view_module_version": "1.5.0",
      "_view_name": "ProgressView",
      "bar_style": "success",
      "description": "",
      "description_tooltip": null,
      "layout": "IPY_MODEL_fce656040200494cbd72de1c33adf299",
      "max": 12,
      "min": 0,
      "orientation": "horizontal",
      "style": "IPY_MODEL_6313d636eec24ce4be602b37e8a9cc83",
      "value": 12
     }
    },
    "9e427b3d29964daa8a5dea245918abb0": {
     "model_module": "@jupyter-widgets/base",
     "model_module_version": "1.2.0",
     "model_name": "LayoutModel",
     "state": {
      "_model_module": "@jupyter-widgets/base",
      "_model_module_version": "1.2.0",
      "_model_name": "LayoutModel",
      "_view_count": null,
      "_view_module": "@jupyter-widgets/base",
      "_view_module_version": "1.2.0",
      "_view_name": "LayoutView",
      "align_content": null,
      "align_items": null,
      "align_self": null,
      "border": null,
      "bottom": null,
      "display": null,
      "flex": null,
      "flex_flow": null,
      "grid_area": null,
      "grid_auto_columns": null,
      "grid_auto_flow": null,
      "grid_auto_rows": null,
      "grid_column": null,
      "grid_gap": null,
      "grid_row": null,
      "grid_template_areas": null,
      "grid_template_columns": null,
      "grid_template_rows": null,
      "height": null,
      "justify_content": null,
      "justify_items": null,
      "left": null,
      "margin": null,
      "max_height": null,
      "max_width": null,
      "min_height": null,
      "min_width": null,
      "object_fit": null,
      "object_position": null,
      "order": null,
      "overflow": null,
      "overflow_x": null,
      "overflow_y": null,
      "padding": null,
      "right": null,
      "top": null,
      "visibility": null,
      "width": null
     }
    },
    "a046a31fca504e59b15e8e681f57da65": {
     "model_module": "@jupyter-widgets/controls",
     "model_module_version": "1.5.0",
     "model_name": "HBoxModel",
     "state": {
      "_dom_classes": [],
      "_model_module": "@jupyter-widgets/controls",
      "_model_module_version": "1.5.0",
      "_model_name": "HBoxModel",
      "_view_count": null,
      "_view_module": "@jupyter-widgets/controls",
      "_view_module_version": "1.5.0",
      "_view_name": "HBoxView",
      "box_style": "",
      "children": [
       "IPY_MODEL_3c28a96063834ee0a30e9bfed35c3c7c",
       "IPY_MODEL_0bba9f981003466cbbb67ec199b7969a",
       "IPY_MODEL_34f9023a7a4847f8bbded6e2a80841fa"
      ],
      "layout": "IPY_MODEL_d7c5df7cadbc4fa584b281d26f11a720"
     }
    },
    "a423c111a05e4473bd9a559509189412": {
     "model_module": "@jupyter-widgets/controls",
     "model_module_version": "1.5.0",
     "model_name": "HTMLModel",
     "state": {
      "_dom_classes": [],
      "_model_module": "@jupyter-widgets/controls",
      "_model_module_version": "1.5.0",
      "_model_name": "HTMLModel",
      "_view_count": null,
      "_view_module": "@jupyter-widgets/controls",
      "_view_module_version": "1.5.0",
      "_view_name": "HTMLView",
      "description": "",
      "description_tooltip": null,
      "layout": "IPY_MODEL_e1f13971de6a49cfbd8452092f086f43",
      "placeholder": "​",
      "style": "IPY_MODEL_b433b47a2f7345609f59c57db3aeee1d",
      "value": " 12/12 [00:00&lt;00:00, 33.16it/s]"
     }
    },
    "a51ead915f75424aad2aa272932d7349": {
     "model_module": "@jupyter-widgets/controls",
     "model_module_version": "1.5.0",
     "model_name": "FloatProgressModel",
     "state": {
      "_dom_classes": [],
      "_model_module": "@jupyter-widgets/controls",
      "_model_module_version": "1.5.0",
      "_model_name": "FloatProgressModel",
      "_view_count": null,
      "_view_module": "@jupyter-widgets/controls",
      "_view_module_version": "1.5.0",
      "_view_name": "ProgressView",
      "bar_style": "success",
      "description": "",
      "description_tooltip": null,
      "layout": "IPY_MODEL_8b06ebb85f91435b998d5f0fe61afa01",
      "max": 12,
      "min": 0,
      "orientation": "horizontal",
      "style": "IPY_MODEL_abc231bfa0fd4904bbfc7a65182ce544",
      "value": 12
     }
    },
    "a5f6263ef61545a2b0a8f686ac5775bf": {
     "model_module": "@jupyter-widgets/controls",
     "model_module_version": "1.5.0",
     "model_name": "DescriptionStyleModel",
     "state": {
      "_model_module": "@jupyter-widgets/controls",
      "_model_module_version": "1.5.0",
      "_model_name": "DescriptionStyleModel",
      "_view_count": null,
      "_view_module": "@jupyter-widgets/base",
      "_view_module_version": "1.2.0",
      "_view_name": "StyleView",
      "description_width": ""
     }
    },
    "a76b7984b0e04a26a78de77c9799d240": {
     "model_module": "@jupyter-widgets/base",
     "model_module_version": "1.2.0",
     "model_name": "LayoutModel",
     "state": {
      "_model_module": "@jupyter-widgets/base",
      "_model_module_version": "1.2.0",
      "_model_name": "LayoutModel",
      "_view_count": null,
      "_view_module": "@jupyter-widgets/base",
      "_view_module_version": "1.2.0",
      "_view_name": "LayoutView",
      "align_content": null,
      "align_items": null,
      "align_self": null,
      "border": null,
      "bottom": null,
      "display": null,
      "flex": null,
      "flex_flow": null,
      "grid_area": null,
      "grid_auto_columns": null,
      "grid_auto_flow": null,
      "grid_auto_rows": null,
      "grid_column": null,
      "grid_gap": null,
      "grid_row": null,
      "grid_template_areas": null,
      "grid_template_columns": null,
      "grid_template_rows": null,
      "height": null,
      "justify_content": null,
      "justify_items": null,
      "left": null,
      "margin": null,
      "max_height": null,
      "max_width": null,
      "min_height": null,
      "min_width": null,
      "object_fit": null,
      "object_position": null,
      "order": null,
      "overflow": null,
      "overflow_x": null,
      "overflow_y": null,
      "padding": null,
      "right": null,
      "top": null,
      "visibility": null,
      "width": null
     }
    },
    "a81422231f19479881e2626280d5f0d9": {
     "model_module": "@jupyter-widgets/base",
     "model_module_version": "1.2.0",
     "model_name": "LayoutModel",
     "state": {
      "_model_module": "@jupyter-widgets/base",
      "_model_module_version": "1.2.0",
      "_model_name": "LayoutModel",
      "_view_count": null,
      "_view_module": "@jupyter-widgets/base",
      "_view_module_version": "1.2.0",
      "_view_name": "LayoutView",
      "align_content": null,
      "align_items": null,
      "align_self": null,
      "border": null,
      "bottom": null,
      "display": null,
      "flex": null,
      "flex_flow": null,
      "grid_area": null,
      "grid_auto_columns": null,
      "grid_auto_flow": null,
      "grid_auto_rows": null,
      "grid_column": null,
      "grid_gap": null,
      "grid_row": null,
      "grid_template_areas": null,
      "grid_template_columns": null,
      "grid_template_rows": null,
      "height": null,
      "justify_content": null,
      "justify_items": null,
      "left": null,
      "margin": null,
      "max_height": null,
      "max_width": null,
      "min_height": null,
      "min_width": null,
      "object_fit": null,
      "object_position": null,
      "order": null,
      "overflow": null,
      "overflow_x": null,
      "overflow_y": null,
      "padding": null,
      "right": null,
      "top": null,
      "visibility": null,
      "width": null
     }
    },
    "a985bd35442248cbbdf96b85e342f637": {
     "model_module": "@jupyter-widgets/controls",
     "model_module_version": "1.5.0",
     "model_name": "DescriptionStyleModel",
     "state": {
      "_model_module": "@jupyter-widgets/controls",
      "_model_module_version": "1.5.0",
      "_model_name": "DescriptionStyleModel",
      "_view_count": null,
      "_view_module": "@jupyter-widgets/base",
      "_view_module_version": "1.2.0",
      "_view_name": "StyleView",
      "description_width": ""
     }
    },
    "abc231bfa0fd4904bbfc7a65182ce544": {
     "model_module": "@jupyter-widgets/controls",
     "model_module_version": "1.5.0",
     "model_name": "ProgressStyleModel",
     "state": {
      "_model_module": "@jupyter-widgets/controls",
      "_model_module_version": "1.5.0",
      "_model_name": "ProgressStyleModel",
      "_view_count": null,
      "_view_module": "@jupyter-widgets/base",
      "_view_module_version": "1.2.0",
      "_view_name": "StyleView",
      "bar_color": null,
      "description_width": ""
     }
    },
    "ac42803b1eb843599c23b3065598d0e5": {
     "model_module": "@jupyter-widgets/controls",
     "model_module_version": "1.5.0",
     "model_name": "FloatProgressModel",
     "state": {
      "_dom_classes": [],
      "_model_module": "@jupyter-widgets/controls",
      "_model_module_version": "1.5.0",
      "_model_name": "FloatProgressModel",
      "_view_count": null,
      "_view_module": "@jupyter-widgets/controls",
      "_view_module_version": "1.5.0",
      "_view_name": "ProgressView",
      "bar_style": "success",
      "description": "",
      "description_tooltip": null,
      "layout": "IPY_MODEL_248375a34db54f8999f776b6a8ac4127",
      "max": 12,
      "min": 0,
      "orientation": "horizontal",
      "style": "IPY_MODEL_eb05e0bcdb9a4fadbd9bd3a0fd9a1aa0",
      "value": 12
     }
    },
    "acace21fa57c479cb8e8a3c508939ba7": {
     "model_module": "@jupyter-widgets/controls",
     "model_module_version": "1.5.0",
     "model_name": "DescriptionStyleModel",
     "state": {
      "_model_module": "@jupyter-widgets/controls",
      "_model_module_version": "1.5.0",
      "_model_name": "DescriptionStyleModel",
      "_view_count": null,
      "_view_module": "@jupyter-widgets/base",
      "_view_module_version": "1.2.0",
      "_view_name": "StyleView",
      "description_width": ""
     }
    },
    "adbd3c9d1b914e65921a6cb109814a78": {
     "model_module": "@jupyter-widgets/controls",
     "model_module_version": "1.5.0",
     "model_name": "HTMLModel",
     "state": {
      "_dom_classes": [],
      "_model_module": "@jupyter-widgets/controls",
      "_model_module_version": "1.5.0",
      "_model_name": "HTMLModel",
      "_view_count": null,
      "_view_module": "@jupyter-widgets/controls",
      "_view_module_version": "1.5.0",
      "_view_name": "HTMLView",
      "description": "",
      "description_tooltip": null,
      "layout": "IPY_MODEL_a76b7984b0e04a26a78de77c9799d240",
      "placeholder": "​",
      "style": "IPY_MODEL_f81c31cfbd32402681dcecf4fc75823d",
      "value": "100%"
     }
    },
    "af7b1f91d88c4545bf2f75be61dc7310": {
     "model_module": "@jupyter-widgets/controls",
     "model_module_version": "1.5.0",
     "model_name": "ProgressStyleModel",
     "state": {
      "_model_module": "@jupyter-widgets/controls",
      "_model_module_version": "1.5.0",
      "_model_name": "ProgressStyleModel",
      "_view_count": null,
      "_view_module": "@jupyter-widgets/base",
      "_view_module_version": "1.2.0",
      "_view_name": "StyleView",
      "bar_color": null,
      "description_width": ""
     }
    },
    "b1719c8e3f584e7ba687a16913b7bb8d": {
     "model_module": "@jupyter-widgets/base",
     "model_module_version": "1.2.0",
     "model_name": "LayoutModel",
     "state": {
      "_model_module": "@jupyter-widgets/base",
      "_model_module_version": "1.2.0",
      "_model_name": "LayoutModel",
      "_view_count": null,
      "_view_module": "@jupyter-widgets/base",
      "_view_module_version": "1.2.0",
      "_view_name": "LayoutView",
      "align_content": null,
      "align_items": null,
      "align_self": null,
      "border": null,
      "bottom": null,
      "display": null,
      "flex": null,
      "flex_flow": null,
      "grid_area": null,
      "grid_auto_columns": null,
      "grid_auto_flow": null,
      "grid_auto_rows": null,
      "grid_column": null,
      "grid_gap": null,
      "grid_row": null,
      "grid_template_areas": null,
      "grid_template_columns": null,
      "grid_template_rows": null,
      "height": null,
      "justify_content": null,
      "justify_items": null,
      "left": null,
      "margin": null,
      "max_height": null,
      "max_width": null,
      "min_height": null,
      "min_width": null,
      "object_fit": null,
      "object_position": null,
      "order": null,
      "overflow": null,
      "overflow_x": null,
      "overflow_y": null,
      "padding": null,
      "right": null,
      "top": null,
      "visibility": null,
      "width": null
     }
    },
    "b2d8bc94e8ce4747aafd5e5fef9ecf7c": {
     "model_module": "@jupyter-widgets/controls",
     "model_module_version": "1.5.0",
     "model_name": "FloatProgressModel",
     "state": {
      "_dom_classes": [],
      "_model_module": "@jupyter-widgets/controls",
      "_model_module_version": "1.5.0",
      "_model_name": "FloatProgressModel",
      "_view_count": null,
      "_view_module": "@jupyter-widgets/controls",
      "_view_module_version": "1.5.0",
      "_view_name": "ProgressView",
      "bar_style": "success",
      "description": "",
      "description_tooltip": null,
      "layout": "IPY_MODEL_9e427b3d29964daa8a5dea245918abb0",
      "max": 12,
      "min": 0,
      "orientation": "horizontal",
      "style": "IPY_MODEL_d4007f62b0fa4631ade30c034376b49f",
      "value": 12
     }
    },
    "b4179b4340614864bed16aae0531fd34": {
     "model_module": "@jupyter-widgets/base",
     "model_module_version": "1.2.0",
     "model_name": "LayoutModel",
     "state": {
      "_model_module": "@jupyter-widgets/base",
      "_model_module_version": "1.2.0",
      "_model_name": "LayoutModel",
      "_view_count": null,
      "_view_module": "@jupyter-widgets/base",
      "_view_module_version": "1.2.0",
      "_view_name": "LayoutView",
      "align_content": null,
      "align_items": null,
      "align_self": null,
      "border": null,
      "bottom": null,
      "display": null,
      "flex": null,
      "flex_flow": null,
      "grid_area": null,
      "grid_auto_columns": null,
      "grid_auto_flow": null,
      "grid_auto_rows": null,
      "grid_column": null,
      "grid_gap": null,
      "grid_row": null,
      "grid_template_areas": null,
      "grid_template_columns": null,
      "grid_template_rows": null,
      "height": null,
      "justify_content": null,
      "justify_items": null,
      "left": null,
      "margin": null,
      "max_height": null,
      "max_width": null,
      "min_height": null,
      "min_width": null,
      "object_fit": null,
      "object_position": null,
      "order": null,
      "overflow": null,
      "overflow_x": null,
      "overflow_y": null,
      "padding": null,
      "right": null,
      "top": null,
      "visibility": null,
      "width": null
     }
    },
    "b41d5225b9ec4ee18ac5ca525c87c000": {
     "model_module": "@jupyter-widgets/base",
     "model_module_version": "1.2.0",
     "model_name": "LayoutModel",
     "state": {
      "_model_module": "@jupyter-widgets/base",
      "_model_module_version": "1.2.0",
      "_model_name": "LayoutModel",
      "_view_count": null,
      "_view_module": "@jupyter-widgets/base",
      "_view_module_version": "1.2.0",
      "_view_name": "LayoutView",
      "align_content": null,
      "align_items": null,
      "align_self": null,
      "border": null,
      "bottom": null,
      "display": null,
      "flex": null,
      "flex_flow": null,
      "grid_area": null,
      "grid_auto_columns": null,
      "grid_auto_flow": null,
      "grid_auto_rows": null,
      "grid_column": null,
      "grid_gap": null,
      "grid_row": null,
      "grid_template_areas": null,
      "grid_template_columns": null,
      "grid_template_rows": null,
      "height": null,
      "justify_content": null,
      "justify_items": null,
      "left": null,
      "margin": null,
      "max_height": null,
      "max_width": null,
      "min_height": null,
      "min_width": null,
      "object_fit": null,
      "object_position": null,
      "order": null,
      "overflow": null,
      "overflow_x": null,
      "overflow_y": null,
      "padding": null,
      "right": null,
      "top": null,
      "visibility": null,
      "width": null
     }
    },
    "b433b47a2f7345609f59c57db3aeee1d": {
     "model_module": "@jupyter-widgets/controls",
     "model_module_version": "1.5.0",
     "model_name": "DescriptionStyleModel",
     "state": {
      "_model_module": "@jupyter-widgets/controls",
      "_model_module_version": "1.5.0",
      "_model_name": "DescriptionStyleModel",
      "_view_count": null,
      "_view_module": "@jupyter-widgets/base",
      "_view_module_version": "1.2.0",
      "_view_name": "StyleView",
      "description_width": ""
     }
    },
    "b7440e40f33249f7b8c48fcb49924a92": {
     "model_module": "@jupyter-widgets/controls",
     "model_module_version": "1.5.0",
     "model_name": "DescriptionStyleModel",
     "state": {
      "_model_module": "@jupyter-widgets/controls",
      "_model_module_version": "1.5.0",
      "_model_name": "DescriptionStyleModel",
      "_view_count": null,
      "_view_module": "@jupyter-widgets/base",
      "_view_module_version": "1.2.0",
      "_view_name": "StyleView",
      "description_width": ""
     }
    },
    "b93edaa22fd447eb819a583cb1f0b18e": {
     "model_module": "@jupyter-widgets/controls",
     "model_module_version": "1.5.0",
     "model_name": "FloatProgressModel",
     "state": {
      "_dom_classes": [],
      "_model_module": "@jupyter-widgets/controls",
      "_model_module_version": "1.5.0",
      "_model_name": "FloatProgressModel",
      "_view_count": null,
      "_view_module": "@jupyter-widgets/controls",
      "_view_module_version": "1.5.0",
      "_view_name": "ProgressView",
      "bar_style": "success",
      "description": "",
      "description_tooltip": null,
      "layout": "IPY_MODEL_8aaa646862454774abee6bd6e8cb73f3",
      "max": 12,
      "min": 0,
      "orientation": "horizontal",
      "style": "IPY_MODEL_e152ff3bd5c54bbcb8697d2399ecc9c4",
      "value": 12
     }
    },
    "b98f49b07729464382d6c4501d8fd954": {
     "model_module": "@jupyter-widgets/base",
     "model_module_version": "1.2.0",
     "model_name": "LayoutModel",
     "state": {
      "_model_module": "@jupyter-widgets/base",
      "_model_module_version": "1.2.0",
      "_model_name": "LayoutModel",
      "_view_count": null,
      "_view_module": "@jupyter-widgets/base",
      "_view_module_version": "1.2.0",
      "_view_name": "LayoutView",
      "align_content": null,
      "align_items": null,
      "align_self": null,
      "border": null,
      "bottom": null,
      "display": null,
      "flex": null,
      "flex_flow": null,
      "grid_area": null,
      "grid_auto_columns": null,
      "grid_auto_flow": null,
      "grid_auto_rows": null,
      "grid_column": null,
      "grid_gap": null,
      "grid_row": null,
      "grid_template_areas": null,
      "grid_template_columns": null,
      "grid_template_rows": null,
      "height": null,
      "justify_content": null,
      "justify_items": null,
      "left": null,
      "margin": null,
      "max_height": null,
      "max_width": null,
      "min_height": null,
      "min_width": null,
      "object_fit": null,
      "object_position": null,
      "order": null,
      "overflow": null,
      "overflow_x": null,
      "overflow_y": null,
      "padding": null,
      "right": null,
      "top": null,
      "visibility": null,
      "width": null
     }
    },
    "ba63439eae5e4eccba22305b43691483": {
     "model_module": "@jupyter-widgets/controls",
     "model_module_version": "1.5.0",
     "model_name": "DescriptionStyleModel",
     "state": {
      "_model_module": "@jupyter-widgets/controls",
      "_model_module_version": "1.5.0",
      "_model_name": "DescriptionStyleModel",
      "_view_count": null,
      "_view_module": "@jupyter-widgets/base",
      "_view_module_version": "1.2.0",
      "_view_name": "StyleView",
      "description_width": ""
     }
    },
    "baed878fe30947a9aac57f48c38561d6": {
     "model_module": "@jupyter-widgets/controls",
     "model_module_version": "1.5.0",
     "model_name": "HBoxModel",
     "state": {
      "_dom_classes": [],
      "_model_module": "@jupyter-widgets/controls",
      "_model_module_version": "1.5.0",
      "_model_name": "HBoxModel",
      "_view_count": null,
      "_view_module": "@jupyter-widgets/controls",
      "_view_module_version": "1.5.0",
      "_view_name": "HBoxView",
      "box_style": "",
      "children": [
       "IPY_MODEL_52af4f5a6cea43148d5b31697bbdaa34",
       "IPY_MODEL_9d1ed1b42f3540a997faa4150e2ebc76",
       "IPY_MODEL_eb77c81bed904f00b075086aef17920c"
      ],
      "layout": "IPY_MODEL_b1719c8e3f584e7ba687a16913b7bb8d"
     }
    },
    "baf61a90fb4845dbb7186d5eac5e426c": {
     "model_module": "@jupyter-widgets/base",
     "model_module_version": "1.2.0",
     "model_name": "LayoutModel",
     "state": {
      "_model_module": "@jupyter-widgets/base",
      "_model_module_version": "1.2.0",
      "_model_name": "LayoutModel",
      "_view_count": null,
      "_view_module": "@jupyter-widgets/base",
      "_view_module_version": "1.2.0",
      "_view_name": "LayoutView",
      "align_content": null,
      "align_items": null,
      "align_self": null,
      "border": null,
      "bottom": null,
      "display": null,
      "flex": null,
      "flex_flow": null,
      "grid_area": null,
      "grid_auto_columns": null,
      "grid_auto_flow": null,
      "grid_auto_rows": null,
      "grid_column": null,
      "grid_gap": null,
      "grid_row": null,
      "grid_template_areas": null,
      "grid_template_columns": null,
      "grid_template_rows": null,
      "height": null,
      "justify_content": null,
      "justify_items": null,
      "left": null,
      "margin": null,
      "max_height": null,
      "max_width": null,
      "min_height": null,
      "min_width": null,
      "object_fit": null,
      "object_position": null,
      "order": null,
      "overflow": null,
      "overflow_x": null,
      "overflow_y": null,
      "padding": null,
      "right": null,
      "top": null,
      "visibility": null,
      "width": null
     }
    },
    "bd3a0f38d74649a99b4c993e37600f74": {
     "model_module": "@jupyter-widgets/base",
     "model_module_version": "1.2.0",
     "model_name": "LayoutModel",
     "state": {
      "_model_module": "@jupyter-widgets/base",
      "_model_module_version": "1.2.0",
      "_model_name": "LayoutModel",
      "_view_count": null,
      "_view_module": "@jupyter-widgets/base",
      "_view_module_version": "1.2.0",
      "_view_name": "LayoutView",
      "align_content": null,
      "align_items": null,
      "align_self": null,
      "border": null,
      "bottom": null,
      "display": null,
      "flex": null,
      "flex_flow": null,
      "grid_area": null,
      "grid_auto_columns": null,
      "grid_auto_flow": null,
      "grid_auto_rows": null,
      "grid_column": null,
      "grid_gap": null,
      "grid_row": null,
      "grid_template_areas": null,
      "grid_template_columns": null,
      "grid_template_rows": null,
      "height": null,
      "justify_content": null,
      "justify_items": null,
      "left": null,
      "margin": null,
      "max_height": null,
      "max_width": null,
      "min_height": null,
      "min_width": null,
      "object_fit": null,
      "object_position": null,
      "order": null,
      "overflow": null,
      "overflow_x": null,
      "overflow_y": null,
      "padding": null,
      "right": null,
      "top": null,
      "visibility": null,
      "width": null
     }
    },
    "bdcdfd85fa664fedade586a361421901": {
     "model_module": "@jupyter-widgets/base",
     "model_module_version": "1.2.0",
     "model_name": "LayoutModel",
     "state": {
      "_model_module": "@jupyter-widgets/base",
      "_model_module_version": "1.2.0",
      "_model_name": "LayoutModel",
      "_view_count": null,
      "_view_module": "@jupyter-widgets/base",
      "_view_module_version": "1.2.0",
      "_view_name": "LayoutView",
      "align_content": null,
      "align_items": null,
      "align_self": null,
      "border": null,
      "bottom": null,
      "display": null,
      "flex": null,
      "flex_flow": null,
      "grid_area": null,
      "grid_auto_columns": null,
      "grid_auto_flow": null,
      "grid_auto_rows": null,
      "grid_column": null,
      "grid_gap": null,
      "grid_row": null,
      "grid_template_areas": null,
      "grid_template_columns": null,
      "grid_template_rows": null,
      "height": null,
      "justify_content": null,
      "justify_items": null,
      "left": null,
      "margin": null,
      "max_height": null,
      "max_width": null,
      "min_height": null,
      "min_width": null,
      "object_fit": null,
      "object_position": null,
      "order": null,
      "overflow": null,
      "overflow_x": null,
      "overflow_y": null,
      "padding": null,
      "right": null,
      "top": null,
      "visibility": null,
      "width": null
     }
    },
    "bf505ddee4384c86abff792e60683282": {
     "model_module": "@jupyter-widgets/controls",
     "model_module_version": "1.5.0",
     "model_name": "HBoxModel",
     "state": {
      "_dom_classes": [],
      "_model_module": "@jupyter-widgets/controls",
      "_model_module_version": "1.5.0",
      "_model_name": "HBoxModel",
      "_view_count": null,
      "_view_module": "@jupyter-widgets/controls",
      "_view_module_version": "1.5.0",
      "_view_name": "HBoxView",
      "box_style": "",
      "children": [
       "IPY_MODEL_df3efc2291a548bbbedc54bdf86815e9",
       "IPY_MODEL_4486da00ffa64f0e897ead8eee311a7a",
       "IPY_MODEL_68b66df0277f470488ebe5033969ba51"
      ],
      "layout": "IPY_MODEL_cea3548aa4564ccfbd6f2267f95258fc"
     }
    },
    "c12c1d37f6d84d4db4ee3eb26104ab12": {
     "model_module": "@jupyter-widgets/controls",
     "model_module_version": "1.5.0",
     "model_name": "HBoxModel",
     "state": {
      "_dom_classes": [],
      "_model_module": "@jupyter-widgets/controls",
      "_model_module_version": "1.5.0",
      "_model_name": "HBoxModel",
      "_view_count": null,
      "_view_module": "@jupyter-widgets/controls",
      "_view_module_version": "1.5.0",
      "_view_name": "HBoxView",
      "box_style": "",
      "children": [
       "IPY_MODEL_78ad32d39b114548aa57f4db9923b6e2",
       "IPY_MODEL_ac42803b1eb843599c23b3065598d0e5",
       "IPY_MODEL_a423c111a05e4473bd9a559509189412"
      ],
      "layout": "IPY_MODEL_6e55879a0861489780ba6b6cc97e261b"
     }
    },
    "c4078fec428f4f2489efe43c5ba03ef5": {
     "model_module": "@jupyter-widgets/controls",
     "model_module_version": "1.5.0",
     "model_name": "HBoxModel",
     "state": {
      "_dom_classes": [],
      "_model_module": "@jupyter-widgets/controls",
      "_model_module_version": "1.5.0",
      "_model_name": "HBoxModel",
      "_view_count": null,
      "_view_module": "@jupyter-widgets/controls",
      "_view_module_version": "1.5.0",
      "_view_name": "HBoxView",
      "box_style": "",
      "children": [
       "IPY_MODEL_3c9c5e815b0b4e6fb999731c83bed9e8",
       "IPY_MODEL_b2d8bc94e8ce4747aafd5e5fef9ecf7c",
       "IPY_MODEL_2d4bbbcfe05d49209b725bf24e6733ee"
      ],
      "layout": "IPY_MODEL_4fc2ab27145e4500829dfa9992a75c2c"
     }
    },
    "c409e6d41ab242c198714b85e5c1bbb2": {
     "model_module": "@jupyter-widgets/base",
     "model_module_version": "1.2.0",
     "model_name": "LayoutModel",
     "state": {
      "_model_module": "@jupyter-widgets/base",
      "_model_module_version": "1.2.0",
      "_model_name": "LayoutModel",
      "_view_count": null,
      "_view_module": "@jupyter-widgets/base",
      "_view_module_version": "1.2.0",
      "_view_name": "LayoutView",
      "align_content": null,
      "align_items": null,
      "align_self": null,
      "border": null,
      "bottom": null,
      "display": null,
      "flex": null,
      "flex_flow": null,
      "grid_area": null,
      "grid_auto_columns": null,
      "grid_auto_flow": null,
      "grid_auto_rows": null,
      "grid_column": null,
      "grid_gap": null,
      "grid_row": null,
      "grid_template_areas": null,
      "grid_template_columns": null,
      "grid_template_rows": null,
      "height": null,
      "justify_content": null,
      "justify_items": null,
      "left": null,
      "margin": null,
      "max_height": null,
      "max_width": null,
      "min_height": null,
      "min_width": null,
      "object_fit": null,
      "object_position": null,
      "order": null,
      "overflow": null,
      "overflow_x": null,
      "overflow_y": null,
      "padding": null,
      "right": null,
      "top": null,
      "visibility": null,
      "width": null
     }
    },
    "c60ff4833d944731986d8b292f7af8e8": {
     "model_module": "@jupyter-widgets/base",
     "model_module_version": "1.2.0",
     "model_name": "LayoutModel",
     "state": {
      "_model_module": "@jupyter-widgets/base",
      "_model_module_version": "1.2.0",
      "_model_name": "LayoutModel",
      "_view_count": null,
      "_view_module": "@jupyter-widgets/base",
      "_view_module_version": "1.2.0",
      "_view_name": "LayoutView",
      "align_content": null,
      "align_items": null,
      "align_self": null,
      "border": null,
      "bottom": null,
      "display": null,
      "flex": null,
      "flex_flow": null,
      "grid_area": null,
      "grid_auto_columns": null,
      "grid_auto_flow": null,
      "grid_auto_rows": null,
      "grid_column": null,
      "grid_gap": null,
      "grid_row": null,
      "grid_template_areas": null,
      "grid_template_columns": null,
      "grid_template_rows": null,
      "height": null,
      "justify_content": null,
      "justify_items": null,
      "left": null,
      "margin": null,
      "max_height": null,
      "max_width": null,
      "min_height": null,
      "min_width": null,
      "object_fit": null,
      "object_position": null,
      "order": null,
      "overflow": null,
      "overflow_x": null,
      "overflow_y": null,
      "padding": null,
      "right": null,
      "top": null,
      "visibility": null,
      "width": null
     }
    },
    "c7fa9f4b8d16471fa7660b6f5e3fe6c4": {
     "model_module": "@jupyter-widgets/base",
     "model_module_version": "1.2.0",
     "model_name": "LayoutModel",
     "state": {
      "_model_module": "@jupyter-widgets/base",
      "_model_module_version": "1.2.0",
      "_model_name": "LayoutModel",
      "_view_count": null,
      "_view_module": "@jupyter-widgets/base",
      "_view_module_version": "1.2.0",
      "_view_name": "LayoutView",
      "align_content": null,
      "align_items": null,
      "align_self": null,
      "border": null,
      "bottom": null,
      "display": null,
      "flex": null,
      "flex_flow": null,
      "grid_area": null,
      "grid_auto_columns": null,
      "grid_auto_flow": null,
      "grid_auto_rows": null,
      "grid_column": null,
      "grid_gap": null,
      "grid_row": null,
      "grid_template_areas": null,
      "grid_template_columns": null,
      "grid_template_rows": null,
      "height": null,
      "justify_content": null,
      "justify_items": null,
      "left": null,
      "margin": null,
      "max_height": null,
      "max_width": null,
      "min_height": null,
      "min_width": null,
      "object_fit": null,
      "object_position": null,
      "order": null,
      "overflow": null,
      "overflow_x": null,
      "overflow_y": null,
      "padding": null,
      "right": null,
      "top": null,
      "visibility": null,
      "width": null
     }
    },
    "cabff6c5288d429e97db9c30c722286e": {
     "model_module": "@jupyter-widgets/controls",
     "model_module_version": "1.5.0",
     "model_name": "DescriptionStyleModel",
     "state": {
      "_model_module": "@jupyter-widgets/controls",
      "_model_module_version": "1.5.0",
      "_model_name": "DescriptionStyleModel",
      "_view_count": null,
      "_view_module": "@jupyter-widgets/base",
      "_view_module_version": "1.2.0",
      "_view_name": "StyleView",
      "description_width": ""
     }
    },
    "cc4a97ad57734c988af3405d76b4f2b4": {
     "model_module": "@jupyter-widgets/base",
     "model_module_version": "1.2.0",
     "model_name": "LayoutModel",
     "state": {
      "_model_module": "@jupyter-widgets/base",
      "_model_module_version": "1.2.0",
      "_model_name": "LayoutModel",
      "_view_count": null,
      "_view_module": "@jupyter-widgets/base",
      "_view_module_version": "1.2.0",
      "_view_name": "LayoutView",
      "align_content": null,
      "align_items": null,
      "align_self": null,
      "border": null,
      "bottom": null,
      "display": null,
      "flex": null,
      "flex_flow": null,
      "grid_area": null,
      "grid_auto_columns": null,
      "grid_auto_flow": null,
      "grid_auto_rows": null,
      "grid_column": null,
      "grid_gap": null,
      "grid_row": null,
      "grid_template_areas": null,
      "grid_template_columns": null,
      "grid_template_rows": null,
      "height": null,
      "justify_content": null,
      "justify_items": null,
      "left": null,
      "margin": null,
      "max_height": null,
      "max_width": null,
      "min_height": null,
      "min_width": null,
      "object_fit": null,
      "object_position": null,
      "order": null,
      "overflow": null,
      "overflow_x": null,
      "overflow_y": null,
      "padding": null,
      "right": null,
      "top": null,
      "visibility": null,
      "width": null
     }
    },
    "ce047a2aa237498c8f69f06d23237481": {
     "model_module": "@jupyter-widgets/base",
     "model_module_version": "1.2.0",
     "model_name": "LayoutModel",
     "state": {
      "_model_module": "@jupyter-widgets/base",
      "_model_module_version": "1.2.0",
      "_model_name": "LayoutModel",
      "_view_count": null,
      "_view_module": "@jupyter-widgets/base",
      "_view_module_version": "1.2.0",
      "_view_name": "LayoutView",
      "align_content": null,
      "align_items": null,
      "align_self": null,
      "border": null,
      "bottom": null,
      "display": null,
      "flex": null,
      "flex_flow": null,
      "grid_area": null,
      "grid_auto_columns": null,
      "grid_auto_flow": null,
      "grid_auto_rows": null,
      "grid_column": null,
      "grid_gap": null,
      "grid_row": null,
      "grid_template_areas": null,
      "grid_template_columns": null,
      "grid_template_rows": null,
      "height": null,
      "justify_content": null,
      "justify_items": null,
      "left": null,
      "margin": null,
      "max_height": null,
      "max_width": null,
      "min_height": null,
      "min_width": null,
      "object_fit": null,
      "object_position": null,
      "order": null,
      "overflow": null,
      "overflow_x": null,
      "overflow_y": null,
      "padding": null,
      "right": null,
      "top": null,
      "visibility": null,
      "width": null
     }
    },
    "cea3548aa4564ccfbd6f2267f95258fc": {
     "model_module": "@jupyter-widgets/base",
     "model_module_version": "1.2.0",
     "model_name": "LayoutModel",
     "state": {
      "_model_module": "@jupyter-widgets/base",
      "_model_module_version": "1.2.0",
      "_model_name": "LayoutModel",
      "_view_count": null,
      "_view_module": "@jupyter-widgets/base",
      "_view_module_version": "1.2.0",
      "_view_name": "LayoutView",
      "align_content": null,
      "align_items": null,
      "align_self": null,
      "border": null,
      "bottom": null,
      "display": null,
      "flex": null,
      "flex_flow": null,
      "grid_area": null,
      "grid_auto_columns": null,
      "grid_auto_flow": null,
      "grid_auto_rows": null,
      "grid_column": null,
      "grid_gap": null,
      "grid_row": null,
      "grid_template_areas": null,
      "grid_template_columns": null,
      "grid_template_rows": null,
      "height": null,
      "justify_content": null,
      "justify_items": null,
      "left": null,
      "margin": null,
      "max_height": null,
      "max_width": null,
      "min_height": null,
      "min_width": null,
      "object_fit": null,
      "object_position": null,
      "order": null,
      "overflow": null,
      "overflow_x": null,
      "overflow_y": null,
      "padding": null,
      "right": null,
      "top": null,
      "visibility": null,
      "width": null
     }
    },
    "cf63261f255243a8b5d6f3e9e8735bbf": {
     "model_module": "@jupyter-widgets/controls",
     "model_module_version": "1.5.0",
     "model_name": "DescriptionStyleModel",
     "state": {
      "_model_module": "@jupyter-widgets/controls",
      "_model_module_version": "1.5.0",
      "_model_name": "DescriptionStyleModel",
      "_view_count": null,
      "_view_module": "@jupyter-widgets/base",
      "_view_module_version": "1.2.0",
      "_view_name": "StyleView",
      "description_width": ""
     }
    },
    "d2d1dde7c0be4282b0cc8bf869fcc9bb": {
     "model_module": "@jupyter-widgets/controls",
     "model_module_version": "1.5.0",
     "model_name": "HTMLModel",
     "state": {
      "_dom_classes": [],
      "_model_module": "@jupyter-widgets/controls",
      "_model_module_version": "1.5.0",
      "_model_name": "HTMLModel",
      "_view_count": null,
      "_view_module": "@jupyter-widgets/controls",
      "_view_module_version": "1.5.0",
      "_view_name": "HTMLView",
      "description": "",
      "description_tooltip": null,
      "layout": "IPY_MODEL_410b7c506f18489db04454abfb6a7b0f",
      "placeholder": "​",
      "style": "IPY_MODEL_d3c5b686da0e4567b7689aa1e866d791",
      "value": "100%"
     }
    },
    "d3c5b686da0e4567b7689aa1e866d791": {
     "model_module": "@jupyter-widgets/controls",
     "model_module_version": "1.5.0",
     "model_name": "DescriptionStyleModel",
     "state": {
      "_model_module": "@jupyter-widgets/controls",
      "_model_module_version": "1.5.0",
      "_model_name": "DescriptionStyleModel",
      "_view_count": null,
      "_view_module": "@jupyter-widgets/base",
      "_view_module_version": "1.2.0",
      "_view_name": "StyleView",
      "description_width": ""
     }
    },
    "d4007f62b0fa4631ade30c034376b49f": {
     "model_module": "@jupyter-widgets/controls",
     "model_module_version": "1.5.0",
     "model_name": "ProgressStyleModel",
     "state": {
      "_model_module": "@jupyter-widgets/controls",
      "_model_module_version": "1.5.0",
      "_model_name": "ProgressStyleModel",
      "_view_count": null,
      "_view_module": "@jupyter-widgets/base",
      "_view_module_version": "1.2.0",
      "_view_name": "StyleView",
      "bar_color": null,
      "description_width": ""
     }
    },
    "d480036adc0b4b4e92c5de2368b5fb1b": {
     "model_module": "@jupyter-widgets/base",
     "model_module_version": "1.2.0",
     "model_name": "LayoutModel",
     "state": {
      "_model_module": "@jupyter-widgets/base",
      "_model_module_version": "1.2.0",
      "_model_name": "LayoutModel",
      "_view_count": null,
      "_view_module": "@jupyter-widgets/base",
      "_view_module_version": "1.2.0",
      "_view_name": "LayoutView",
      "align_content": null,
      "align_items": null,
      "align_self": null,
      "border": null,
      "bottom": null,
      "display": null,
      "flex": null,
      "flex_flow": null,
      "grid_area": null,
      "grid_auto_columns": null,
      "grid_auto_flow": null,
      "grid_auto_rows": null,
      "grid_column": null,
      "grid_gap": null,
      "grid_row": null,
      "grid_template_areas": null,
      "grid_template_columns": null,
      "grid_template_rows": null,
      "height": null,
      "justify_content": null,
      "justify_items": null,
      "left": null,
      "margin": null,
      "max_height": null,
      "max_width": null,
      "min_height": null,
      "min_width": null,
      "object_fit": null,
      "object_position": null,
      "order": null,
      "overflow": null,
      "overflow_x": null,
      "overflow_y": null,
      "padding": null,
      "right": null,
      "top": null,
      "visibility": null,
      "width": null
     }
    },
    "d7c5df7cadbc4fa584b281d26f11a720": {
     "model_module": "@jupyter-widgets/base",
     "model_module_version": "1.2.0",
     "model_name": "LayoutModel",
     "state": {
      "_model_module": "@jupyter-widgets/base",
      "_model_module_version": "1.2.0",
      "_model_name": "LayoutModel",
      "_view_count": null,
      "_view_module": "@jupyter-widgets/base",
      "_view_module_version": "1.2.0",
      "_view_name": "LayoutView",
      "align_content": null,
      "align_items": null,
      "align_self": null,
      "border": null,
      "bottom": null,
      "display": null,
      "flex": null,
      "flex_flow": null,
      "grid_area": null,
      "grid_auto_columns": null,
      "grid_auto_flow": null,
      "grid_auto_rows": null,
      "grid_column": null,
      "grid_gap": null,
      "grid_row": null,
      "grid_template_areas": null,
      "grid_template_columns": null,
      "grid_template_rows": null,
      "height": null,
      "justify_content": null,
      "justify_items": null,
      "left": null,
      "margin": null,
      "max_height": null,
      "max_width": null,
      "min_height": null,
      "min_width": null,
      "object_fit": null,
      "object_position": null,
      "order": null,
      "overflow": null,
      "overflow_x": null,
      "overflow_y": null,
      "padding": null,
      "right": null,
      "top": null,
      "visibility": null,
      "width": null
     }
    },
    "d7d20f71ef784c98b2757124a8409f3f": {
     "model_module": "@jupyter-widgets/controls",
     "model_module_version": "1.5.0",
     "model_name": "DescriptionStyleModel",
     "state": {
      "_model_module": "@jupyter-widgets/controls",
      "_model_module_version": "1.5.0",
      "_model_name": "DescriptionStyleModel",
      "_view_count": null,
      "_view_module": "@jupyter-widgets/base",
      "_view_module_version": "1.2.0",
      "_view_name": "StyleView",
      "description_width": ""
     }
    },
    "d8d86e18261d40c9bf5e0d7bdb63ec57": {
     "model_module": "@jupyter-widgets/controls",
     "model_module_version": "1.5.0",
     "model_name": "DescriptionStyleModel",
     "state": {
      "_model_module": "@jupyter-widgets/controls",
      "_model_module_version": "1.5.0",
      "_model_name": "DescriptionStyleModel",
      "_view_count": null,
      "_view_module": "@jupyter-widgets/base",
      "_view_module_version": "1.2.0",
      "_view_name": "StyleView",
      "description_width": ""
     }
    },
    "de9e6da741214fdeafb20187ee4c1593": {
     "model_module": "@jupyter-widgets/controls",
     "model_module_version": "1.5.0",
     "model_name": "DescriptionStyleModel",
     "state": {
      "_model_module": "@jupyter-widgets/controls",
      "_model_module_version": "1.5.0",
      "_model_name": "DescriptionStyleModel",
      "_view_count": null,
      "_view_module": "@jupyter-widgets/base",
      "_view_module_version": "1.2.0",
      "_view_name": "StyleView",
      "description_width": ""
     }
    },
    "df3efc2291a548bbbedc54bdf86815e9": {
     "model_module": "@jupyter-widgets/controls",
     "model_module_version": "1.5.0",
     "model_name": "HTMLModel",
     "state": {
      "_dom_classes": [],
      "_model_module": "@jupyter-widgets/controls",
      "_model_module_version": "1.5.0",
      "_model_name": "HTMLModel",
      "_view_count": null,
      "_view_module": "@jupyter-widgets/controls",
      "_view_module_version": "1.5.0",
      "_view_name": "HTMLView",
      "description": "",
      "description_tooltip": null,
      "layout": "IPY_MODEL_e95fea71350e45ecbb942b04ded4eb59",
      "placeholder": "​",
      "style": "IPY_MODEL_61d71cd1e906412f852e3274e5daf696",
      "value": "100%"
     }
    },
    "dfbc555f23ce426791f05ad782491265": {
     "model_module": "@jupyter-widgets/base",
     "model_module_version": "1.2.0",
     "model_name": "LayoutModel",
     "state": {
      "_model_module": "@jupyter-widgets/base",
      "_model_module_version": "1.2.0",
      "_model_name": "LayoutModel",
      "_view_count": null,
      "_view_module": "@jupyter-widgets/base",
      "_view_module_version": "1.2.0",
      "_view_name": "LayoutView",
      "align_content": null,
      "align_items": null,
      "align_self": null,
      "border": null,
      "bottom": null,
      "display": null,
      "flex": null,
      "flex_flow": null,
      "grid_area": null,
      "grid_auto_columns": null,
      "grid_auto_flow": null,
      "grid_auto_rows": null,
      "grid_column": null,
      "grid_gap": null,
      "grid_row": null,
      "grid_template_areas": null,
      "grid_template_columns": null,
      "grid_template_rows": null,
      "height": null,
      "justify_content": null,
      "justify_items": null,
      "left": null,
      "margin": null,
      "max_height": null,
      "max_width": null,
      "min_height": null,
      "min_width": null,
      "object_fit": null,
      "object_position": null,
      "order": null,
      "overflow": null,
      "overflow_x": null,
      "overflow_y": null,
      "padding": null,
      "right": null,
      "top": null,
      "visibility": null,
      "width": null
     }
    },
    "e009c1b44f4b411582bc97d6a2ae76d7": {
     "model_module": "@jupyter-widgets/controls",
     "model_module_version": "1.5.0",
     "model_name": "DescriptionStyleModel",
     "state": {
      "_model_module": "@jupyter-widgets/controls",
      "_model_module_version": "1.5.0",
      "_model_name": "DescriptionStyleModel",
      "_view_count": null,
      "_view_module": "@jupyter-widgets/base",
      "_view_module_version": "1.2.0",
      "_view_name": "StyleView",
      "description_width": ""
     }
    },
    "e0309cee5da440c9b60439fdbfa2b25f": {
     "model_module": "@jupyter-widgets/controls",
     "model_module_version": "1.5.0",
     "model_name": "HBoxModel",
     "state": {
      "_dom_classes": [],
      "_model_module": "@jupyter-widgets/controls",
      "_model_module_version": "1.5.0",
      "_model_name": "HBoxModel",
      "_view_count": null,
      "_view_module": "@jupyter-widgets/controls",
      "_view_module_version": "1.5.0",
      "_view_name": "HBoxView",
      "box_style": "",
      "children": [
       "IPY_MODEL_4a73e06e0d094b739c198a7c72d849cb",
       "IPY_MODEL_a51ead915f75424aad2aa272932d7349",
       "IPY_MODEL_8fe3763a32a047828423b820cddb85df"
      ],
      "layout": "IPY_MODEL_b41d5225b9ec4ee18ac5ca525c87c000"
     }
    },
    "e067f7d027a14fe898f2c6fc9b3d3a2f": {
     "model_module": "@jupyter-widgets/controls",
     "model_module_version": "1.5.0",
     "model_name": "DescriptionStyleModel",
     "state": {
      "_model_module": "@jupyter-widgets/controls",
      "_model_module_version": "1.5.0",
      "_model_name": "DescriptionStyleModel",
      "_view_count": null,
      "_view_module": "@jupyter-widgets/base",
      "_view_module_version": "1.2.0",
      "_view_name": "StyleView",
      "description_width": ""
     }
    },
    "e152ff3bd5c54bbcb8697d2399ecc9c4": {
     "model_module": "@jupyter-widgets/controls",
     "model_module_version": "1.5.0",
     "model_name": "ProgressStyleModel",
     "state": {
      "_model_module": "@jupyter-widgets/controls",
      "_model_module_version": "1.5.0",
      "_model_name": "ProgressStyleModel",
      "_view_count": null,
      "_view_module": "@jupyter-widgets/base",
      "_view_module_version": "1.2.0",
      "_view_name": "StyleView",
      "bar_color": null,
      "description_width": ""
     }
    },
    "e1f13971de6a49cfbd8452092f086f43": {
     "model_module": "@jupyter-widgets/base",
     "model_module_version": "1.2.0",
     "model_name": "LayoutModel",
     "state": {
      "_model_module": "@jupyter-widgets/base",
      "_model_module_version": "1.2.0",
      "_model_name": "LayoutModel",
      "_view_count": null,
      "_view_module": "@jupyter-widgets/base",
      "_view_module_version": "1.2.0",
      "_view_name": "LayoutView",
      "align_content": null,
      "align_items": null,
      "align_self": null,
      "border": null,
      "bottom": null,
      "display": null,
      "flex": null,
      "flex_flow": null,
      "grid_area": null,
      "grid_auto_columns": null,
      "grid_auto_flow": null,
      "grid_auto_rows": null,
      "grid_column": null,
      "grid_gap": null,
      "grid_row": null,
      "grid_template_areas": null,
      "grid_template_columns": null,
      "grid_template_rows": null,
      "height": null,
      "justify_content": null,
      "justify_items": null,
      "left": null,
      "margin": null,
      "max_height": null,
      "max_width": null,
      "min_height": null,
      "min_width": null,
      "object_fit": null,
      "object_position": null,
      "order": null,
      "overflow": null,
      "overflow_x": null,
      "overflow_y": null,
      "padding": null,
      "right": null,
      "top": null,
      "visibility": null,
      "width": null
     }
    },
    "e57633c29884437099f06a9398af59ba": {
     "model_module": "@jupyter-widgets/base",
     "model_module_version": "1.2.0",
     "model_name": "LayoutModel",
     "state": {
      "_model_module": "@jupyter-widgets/base",
      "_model_module_version": "1.2.0",
      "_model_name": "LayoutModel",
      "_view_count": null,
      "_view_module": "@jupyter-widgets/base",
      "_view_module_version": "1.2.0",
      "_view_name": "LayoutView",
      "align_content": null,
      "align_items": null,
      "align_self": null,
      "border": null,
      "bottom": null,
      "display": null,
      "flex": null,
      "flex_flow": null,
      "grid_area": null,
      "grid_auto_columns": null,
      "grid_auto_flow": null,
      "grid_auto_rows": null,
      "grid_column": null,
      "grid_gap": null,
      "grid_row": null,
      "grid_template_areas": null,
      "grid_template_columns": null,
      "grid_template_rows": null,
      "height": null,
      "justify_content": null,
      "justify_items": null,
      "left": null,
      "margin": null,
      "max_height": null,
      "max_width": null,
      "min_height": null,
      "min_width": null,
      "object_fit": null,
      "object_position": null,
      "order": null,
      "overflow": null,
      "overflow_x": null,
      "overflow_y": null,
      "padding": null,
      "right": null,
      "top": null,
      "visibility": null,
      "width": null
     }
    },
    "e7232d1aed434a4db14fb9a6b0d64597": {
     "model_module": "@jupyter-widgets/controls",
     "model_module_version": "1.5.0",
     "model_name": "FloatProgressModel",
     "state": {
      "_dom_classes": [],
      "_model_module": "@jupyter-widgets/controls",
      "_model_module_version": "1.5.0",
      "_model_name": "FloatProgressModel",
      "_view_count": null,
      "_view_module": "@jupyter-widgets/controls",
      "_view_module_version": "1.5.0",
      "_view_name": "ProgressView",
      "bar_style": "success",
      "description": "",
      "description_tooltip": null,
      "layout": "IPY_MODEL_f2c7cc1bcfd6426cba33455b111a73a3",
      "max": 12,
      "min": 0,
      "orientation": "horizontal",
      "style": "IPY_MODEL_5835ea80ca7f4e0f95581e5ff78585c5",
      "value": 12
     }
    },
    "e78650c7dc614ab5a80a3e55f491c8e2": {
     "model_module": "@jupyter-widgets/base",
     "model_module_version": "1.2.0",
     "model_name": "LayoutModel",
     "state": {
      "_model_module": "@jupyter-widgets/base",
      "_model_module_version": "1.2.0",
      "_model_name": "LayoutModel",
      "_view_count": null,
      "_view_module": "@jupyter-widgets/base",
      "_view_module_version": "1.2.0",
      "_view_name": "LayoutView",
      "align_content": null,
      "align_items": null,
      "align_self": null,
      "border": null,
      "bottom": null,
      "display": null,
      "flex": null,
      "flex_flow": null,
      "grid_area": null,
      "grid_auto_columns": null,
      "grid_auto_flow": null,
      "grid_auto_rows": null,
      "grid_column": null,
      "grid_gap": null,
      "grid_row": null,
      "grid_template_areas": null,
      "grid_template_columns": null,
      "grid_template_rows": null,
      "height": null,
      "justify_content": null,
      "justify_items": null,
      "left": null,
      "margin": null,
      "max_height": null,
      "max_width": null,
      "min_height": null,
      "min_width": null,
      "object_fit": null,
      "object_position": null,
      "order": null,
      "overflow": null,
      "overflow_x": null,
      "overflow_y": null,
      "padding": null,
      "right": null,
      "top": null,
      "visibility": null,
      "width": null
     }
    },
    "e95fea71350e45ecbb942b04ded4eb59": {
     "model_module": "@jupyter-widgets/base",
     "model_module_version": "1.2.0",
     "model_name": "LayoutModel",
     "state": {
      "_model_module": "@jupyter-widgets/base",
      "_model_module_version": "1.2.0",
      "_model_name": "LayoutModel",
      "_view_count": null,
      "_view_module": "@jupyter-widgets/base",
      "_view_module_version": "1.2.0",
      "_view_name": "LayoutView",
      "align_content": null,
      "align_items": null,
      "align_self": null,
      "border": null,
      "bottom": null,
      "display": null,
      "flex": null,
      "flex_flow": null,
      "grid_area": null,
      "grid_auto_columns": null,
      "grid_auto_flow": null,
      "grid_auto_rows": null,
      "grid_column": null,
      "grid_gap": null,
      "grid_row": null,
      "grid_template_areas": null,
      "grid_template_columns": null,
      "grid_template_rows": null,
      "height": null,
      "justify_content": null,
      "justify_items": null,
      "left": null,
      "margin": null,
      "max_height": null,
      "max_width": null,
      "min_height": null,
      "min_width": null,
      "object_fit": null,
      "object_position": null,
      "order": null,
      "overflow": null,
      "overflow_x": null,
      "overflow_y": null,
      "padding": null,
      "right": null,
      "top": null,
      "visibility": null,
      "width": null
     }
    },
    "eb05e0bcdb9a4fadbd9bd3a0fd9a1aa0": {
     "model_module": "@jupyter-widgets/controls",
     "model_module_version": "1.5.0",
     "model_name": "ProgressStyleModel",
     "state": {
      "_model_module": "@jupyter-widgets/controls",
      "_model_module_version": "1.5.0",
      "_model_name": "ProgressStyleModel",
      "_view_count": null,
      "_view_module": "@jupyter-widgets/base",
      "_view_module_version": "1.2.0",
      "_view_name": "StyleView",
      "bar_color": null,
      "description_width": ""
     }
    },
    "eb77c81bed904f00b075086aef17920c": {
     "model_module": "@jupyter-widgets/controls",
     "model_module_version": "1.5.0",
     "model_name": "HTMLModel",
     "state": {
      "_dom_classes": [],
      "_model_module": "@jupyter-widgets/controls",
      "_model_module_version": "1.5.0",
      "_model_name": "HTMLModel",
      "_view_count": null,
      "_view_module": "@jupyter-widgets/controls",
      "_view_module_version": "1.5.0",
      "_view_name": "HTMLView",
      "description": "",
      "description_tooltip": null,
      "layout": "IPY_MODEL_fb94a03cae154b77940f2c2bf9a6be2b",
      "placeholder": "​",
      "style": "IPY_MODEL_cf63261f255243a8b5d6f3e9e8735bbf",
      "value": " 12/12 [00:00&lt;00:00, 32.21it/s]"
     }
    },
    "eb855385ec034d2d8a29f79982309b62": {
     "model_module": "@jupyter-widgets/controls",
     "model_module_version": "1.5.0",
     "model_name": "ProgressStyleModel",
     "state": {
      "_model_module": "@jupyter-widgets/controls",
      "_model_module_version": "1.5.0",
      "_model_name": "ProgressStyleModel",
      "_view_count": null,
      "_view_module": "@jupyter-widgets/base",
      "_view_module_version": "1.2.0",
      "_view_name": "StyleView",
      "bar_color": null,
      "description_width": ""
     }
    },
    "ec792887698d448db3605a76efde3b7f": {
     "model_module": "@jupyter-widgets/base",
     "model_module_version": "1.2.0",
     "model_name": "LayoutModel",
     "state": {
      "_model_module": "@jupyter-widgets/base",
      "_model_module_version": "1.2.0",
      "_model_name": "LayoutModel",
      "_view_count": null,
      "_view_module": "@jupyter-widgets/base",
      "_view_module_version": "1.2.0",
      "_view_name": "LayoutView",
      "align_content": null,
      "align_items": null,
      "align_self": null,
      "border": null,
      "bottom": null,
      "display": null,
      "flex": null,
      "flex_flow": null,
      "grid_area": null,
      "grid_auto_columns": null,
      "grid_auto_flow": null,
      "grid_auto_rows": null,
      "grid_column": null,
      "grid_gap": null,
      "grid_row": null,
      "grid_template_areas": null,
      "grid_template_columns": null,
      "grid_template_rows": null,
      "height": null,
      "justify_content": null,
      "justify_items": null,
      "left": null,
      "margin": null,
      "max_height": null,
      "max_width": null,
      "min_height": null,
      "min_width": null,
      "object_fit": null,
      "object_position": null,
      "order": null,
      "overflow": null,
      "overflow_x": null,
      "overflow_y": null,
      "padding": null,
      "right": null,
      "top": null,
      "visibility": null,
      "width": null
     }
    },
    "ed299181d5934147879c39d639d5c2ee": {
     "model_module": "@jupyter-widgets/base",
     "model_module_version": "1.2.0",
     "model_name": "LayoutModel",
     "state": {
      "_model_module": "@jupyter-widgets/base",
      "_model_module_version": "1.2.0",
      "_model_name": "LayoutModel",
      "_view_count": null,
      "_view_module": "@jupyter-widgets/base",
      "_view_module_version": "1.2.0",
      "_view_name": "LayoutView",
      "align_content": null,
      "align_items": null,
      "align_self": null,
      "border": null,
      "bottom": null,
      "display": null,
      "flex": null,
      "flex_flow": null,
      "grid_area": null,
      "grid_auto_columns": null,
      "grid_auto_flow": null,
      "grid_auto_rows": null,
      "grid_column": null,
      "grid_gap": null,
      "grid_row": null,
      "grid_template_areas": null,
      "grid_template_columns": null,
      "grid_template_rows": null,
      "height": null,
      "justify_content": null,
      "justify_items": null,
      "left": null,
      "margin": null,
      "max_height": null,
      "max_width": null,
      "min_height": null,
      "min_width": null,
      "object_fit": null,
      "object_position": null,
      "order": null,
      "overflow": null,
      "overflow_x": null,
      "overflow_y": null,
      "padding": null,
      "right": null,
      "top": null,
      "visibility": null,
      "width": null
     }
    },
    "eff2f4580ac54a7cbc5e35319bd3c8de": {
     "model_module": "@jupyter-widgets/controls",
     "model_module_version": "1.5.0",
     "model_name": "ProgressStyleModel",
     "state": {
      "_model_module": "@jupyter-widgets/controls",
      "_model_module_version": "1.5.0",
      "_model_name": "ProgressStyleModel",
      "_view_count": null,
      "_view_module": "@jupyter-widgets/base",
      "_view_module_version": "1.2.0",
      "_view_name": "StyleView",
      "bar_color": null,
      "description_width": ""
     }
    },
    "f06ab4350eee43fe8004c83da3372124": {
     "model_module": "@jupyter-widgets/controls",
     "model_module_version": "1.5.0",
     "model_name": "HTMLModel",
     "state": {
      "_dom_classes": [],
      "_model_module": "@jupyter-widgets/controls",
      "_model_module_version": "1.5.0",
      "_model_name": "HTMLModel",
      "_view_count": null,
      "_view_module": "@jupyter-widgets/controls",
      "_view_module_version": "1.5.0",
      "_view_name": "HTMLView",
      "description": "",
      "description_tooltip": null,
      "layout": "IPY_MODEL_42dcb4f3be064aaf84c463c283ebdca3",
      "placeholder": "​",
      "style": "IPY_MODEL_d8d86e18261d40c9bf5e0d7bdb63ec57",
      "value": " 12/12 [00:00&lt;00:00, 25.28it/s]"
     }
    },
    "f2c7cc1bcfd6426cba33455b111a73a3": {
     "model_module": "@jupyter-widgets/base",
     "model_module_version": "1.2.0",
     "model_name": "LayoutModel",
     "state": {
      "_model_module": "@jupyter-widgets/base",
      "_model_module_version": "1.2.0",
      "_model_name": "LayoutModel",
      "_view_count": null,
      "_view_module": "@jupyter-widgets/base",
      "_view_module_version": "1.2.0",
      "_view_name": "LayoutView",
      "align_content": null,
      "align_items": null,
      "align_self": null,
      "border": null,
      "bottom": null,
      "display": null,
      "flex": null,
      "flex_flow": null,
      "grid_area": null,
      "grid_auto_columns": null,
      "grid_auto_flow": null,
      "grid_auto_rows": null,
      "grid_column": null,
      "grid_gap": null,
      "grid_row": null,
      "grid_template_areas": null,
      "grid_template_columns": null,
      "grid_template_rows": null,
      "height": null,
      "justify_content": null,
      "justify_items": null,
      "left": null,
      "margin": null,
      "max_height": null,
      "max_width": null,
      "min_height": null,
      "min_width": null,
      "object_fit": null,
      "object_position": null,
      "order": null,
      "overflow": null,
      "overflow_x": null,
      "overflow_y": null,
      "padding": null,
      "right": null,
      "top": null,
      "visibility": null,
      "width": null
     }
    },
    "f461182883c54727aafc1d00f0274b12": {
     "model_module": "@jupyter-widgets/controls",
     "model_module_version": "1.5.0",
     "model_name": "HTMLModel",
     "state": {
      "_dom_classes": [],
      "_model_module": "@jupyter-widgets/controls",
      "_model_module_version": "1.5.0",
      "_model_name": "HTMLModel",
      "_view_count": null,
      "_view_module": "@jupyter-widgets/controls",
      "_view_module_version": "1.5.0",
      "_view_name": "HTMLView",
      "description": "",
      "description_tooltip": null,
      "layout": "IPY_MODEL_ec792887698d448db3605a76efde3b7f",
      "placeholder": "​",
      "style": "IPY_MODEL_acace21fa57c479cb8e8a3c508939ba7",
      "value": " 12/12 [00:00&lt;00:00, 50.76it/s]"
     }
    },
    "f4ef363f73a04fe68f5f8e3445e606ab": {
     "model_module": "@jupyter-widgets/base",
     "model_module_version": "1.2.0",
     "model_name": "LayoutModel",
     "state": {
      "_model_module": "@jupyter-widgets/base",
      "_model_module_version": "1.2.0",
      "_model_name": "LayoutModel",
      "_view_count": null,
      "_view_module": "@jupyter-widgets/base",
      "_view_module_version": "1.2.0",
      "_view_name": "LayoutView",
      "align_content": null,
      "align_items": null,
      "align_self": null,
      "border": null,
      "bottom": null,
      "display": null,
      "flex": null,
      "flex_flow": null,
      "grid_area": null,
      "grid_auto_columns": null,
      "grid_auto_flow": null,
      "grid_auto_rows": null,
      "grid_column": null,
      "grid_gap": null,
      "grid_row": null,
      "grid_template_areas": null,
      "grid_template_columns": null,
      "grid_template_rows": null,
      "height": null,
      "justify_content": null,
      "justify_items": null,
      "left": null,
      "margin": null,
      "max_height": null,
      "max_width": null,
      "min_height": null,
      "min_width": null,
      "object_fit": null,
      "object_position": null,
      "order": null,
      "overflow": null,
      "overflow_x": null,
      "overflow_y": null,
      "padding": null,
      "right": null,
      "top": null,
      "visibility": null,
      "width": null
     }
    },
    "f7ff3f6876a848a899a1905b48ada10b": {
     "model_module": "@jupyter-widgets/base",
     "model_module_version": "1.2.0",
     "model_name": "LayoutModel",
     "state": {
      "_model_module": "@jupyter-widgets/base",
      "_model_module_version": "1.2.0",
      "_model_name": "LayoutModel",
      "_view_count": null,
      "_view_module": "@jupyter-widgets/base",
      "_view_module_version": "1.2.0",
      "_view_name": "LayoutView",
      "align_content": null,
      "align_items": null,
      "align_self": null,
      "border": null,
      "bottom": null,
      "display": null,
      "flex": null,
      "flex_flow": null,
      "grid_area": null,
      "grid_auto_columns": null,
      "grid_auto_flow": null,
      "grid_auto_rows": null,
      "grid_column": null,
      "grid_gap": null,
      "grid_row": null,
      "grid_template_areas": null,
      "grid_template_columns": null,
      "grid_template_rows": null,
      "height": null,
      "justify_content": null,
      "justify_items": null,
      "left": null,
      "margin": null,
      "max_height": null,
      "max_width": null,
      "min_height": null,
      "min_width": null,
      "object_fit": null,
      "object_position": null,
      "order": null,
      "overflow": null,
      "overflow_x": null,
      "overflow_y": null,
      "padding": null,
      "right": null,
      "top": null,
      "visibility": null,
      "width": null
     }
    },
    "f81c31cfbd32402681dcecf4fc75823d": {
     "model_module": "@jupyter-widgets/controls",
     "model_module_version": "1.5.0",
     "model_name": "DescriptionStyleModel",
     "state": {
      "_model_module": "@jupyter-widgets/controls",
      "_model_module_version": "1.5.0",
      "_model_name": "DescriptionStyleModel",
      "_view_count": null,
      "_view_module": "@jupyter-widgets/base",
      "_view_module_version": "1.2.0",
      "_view_name": "StyleView",
      "description_width": ""
     }
    },
    "f9a8adb7e645492e8a6140540284640b": {
     "model_module": "@jupyter-widgets/controls",
     "model_module_version": "1.5.0",
     "model_name": "HTMLModel",
     "state": {
      "_dom_classes": [],
      "_model_module": "@jupyter-widgets/controls",
      "_model_module_version": "1.5.0",
      "_model_name": "HTMLModel",
      "_view_count": null,
      "_view_module": "@jupyter-widgets/controls",
      "_view_module_version": "1.5.0",
      "_view_name": "HTMLView",
      "description": "",
      "description_tooltip": null,
      "layout": "IPY_MODEL_ce047a2aa237498c8f69f06d23237481",
      "placeholder": "​",
      "style": "IPY_MODEL_942ef8e1e0f042cc9ff477687ad8bc1b",
      "value": "100%"
     }
    },
    "fb94a03cae154b77940f2c2bf9a6be2b": {
     "model_module": "@jupyter-widgets/base",
     "model_module_version": "1.2.0",
     "model_name": "LayoutModel",
     "state": {
      "_model_module": "@jupyter-widgets/base",
      "_model_module_version": "1.2.0",
      "_model_name": "LayoutModel",
      "_view_count": null,
      "_view_module": "@jupyter-widgets/base",
      "_view_module_version": "1.2.0",
      "_view_name": "LayoutView",
      "align_content": null,
      "align_items": null,
      "align_self": null,
      "border": null,
      "bottom": null,
      "display": null,
      "flex": null,
      "flex_flow": null,
      "grid_area": null,
      "grid_auto_columns": null,
      "grid_auto_flow": null,
      "grid_auto_rows": null,
      "grid_column": null,
      "grid_gap": null,
      "grid_row": null,
      "grid_template_areas": null,
      "grid_template_columns": null,
      "grid_template_rows": null,
      "height": null,
      "justify_content": null,
      "justify_items": null,
      "left": null,
      "margin": null,
      "max_height": null,
      "max_width": null,
      "min_height": null,
      "min_width": null,
      "object_fit": null,
      "object_position": null,
      "order": null,
      "overflow": null,
      "overflow_x": null,
      "overflow_y": null,
      "padding": null,
      "right": null,
      "top": null,
      "visibility": null,
      "width": null
     }
    },
    "fbd1d84a4c254a05ad47df273171e226": {
     "model_module": "@jupyter-widgets/base",
     "model_module_version": "1.2.0",
     "model_name": "LayoutModel",
     "state": {
      "_model_module": "@jupyter-widgets/base",
      "_model_module_version": "1.2.0",
      "_model_name": "LayoutModel",
      "_view_count": null,
      "_view_module": "@jupyter-widgets/base",
      "_view_module_version": "1.2.0",
      "_view_name": "LayoutView",
      "align_content": null,
      "align_items": null,
      "align_self": null,
      "border": null,
      "bottom": null,
      "display": null,
      "flex": null,
      "flex_flow": null,
      "grid_area": null,
      "grid_auto_columns": null,
      "grid_auto_flow": null,
      "grid_auto_rows": null,
      "grid_column": null,
      "grid_gap": null,
      "grid_row": null,
      "grid_template_areas": null,
      "grid_template_columns": null,
      "grid_template_rows": null,
      "height": null,
      "justify_content": null,
      "justify_items": null,
      "left": null,
      "margin": null,
      "max_height": null,
      "max_width": null,
      "min_height": null,
      "min_width": null,
      "object_fit": null,
      "object_position": null,
      "order": null,
      "overflow": null,
      "overflow_x": null,
      "overflow_y": null,
      "padding": null,
      "right": null,
      "top": null,
      "visibility": null,
      "width": null
     }
    },
    "fce656040200494cbd72de1c33adf299": {
     "model_module": "@jupyter-widgets/base",
     "model_module_version": "1.2.0",
     "model_name": "LayoutModel",
     "state": {
      "_model_module": "@jupyter-widgets/base",
      "_model_module_version": "1.2.0",
      "_model_name": "LayoutModel",
      "_view_count": null,
      "_view_module": "@jupyter-widgets/base",
      "_view_module_version": "1.2.0",
      "_view_name": "LayoutView",
      "align_content": null,
      "align_items": null,
      "align_self": null,
      "border": null,
      "bottom": null,
      "display": null,
      "flex": null,
      "flex_flow": null,
      "grid_area": null,
      "grid_auto_columns": null,
      "grid_auto_flow": null,
      "grid_auto_rows": null,
      "grid_column": null,
      "grid_gap": null,
      "grid_row": null,
      "grid_template_areas": null,
      "grid_template_columns": null,
      "grid_template_rows": null,
      "height": null,
      "justify_content": null,
      "justify_items": null,
      "left": null,
      "margin": null,
      "max_height": null,
      "max_width": null,
      "min_height": null,
      "min_width": null,
      "object_fit": null,
      "object_position": null,
      "order": null,
      "overflow": null,
      "overflow_x": null,
      "overflow_y": null,
      "padding": null,
      "right": null,
      "top": null,
      "visibility": null,
      "width": null
     }
    },
    "fe5849bfc0294b4b9f39f6a848f84c90": {
     "model_module": "@jupyter-widgets/controls",
     "model_module_version": "1.5.0",
     "model_name": "FloatProgressModel",
     "state": {
      "_dom_classes": [],
      "_model_module": "@jupyter-widgets/controls",
      "_model_module_version": "1.5.0",
      "_model_name": "FloatProgressModel",
      "_view_count": null,
      "_view_module": "@jupyter-widgets/controls",
      "_view_module_version": "1.5.0",
      "_view_name": "ProgressView",
      "bar_style": "success",
      "description": "",
      "description_tooltip": null,
      "layout": "IPY_MODEL_00716804436e4903b89be8c79a5e8a2f",
      "max": 12,
      "min": 0,
      "orientation": "horizontal",
      "style": "IPY_MODEL_56ddfc8e108648b58de49d480722e4ac",
      "value": 12
     }
    },
    "fe909a03c3cc4965ac8ef62985468542": {
     "model_module": "@jupyter-widgets/controls",
     "model_module_version": "1.5.0",
     "model_name": "ProgressStyleModel",
     "state": {
      "_model_module": "@jupyter-widgets/controls",
      "_model_module_version": "1.5.0",
      "_model_name": "ProgressStyleModel",
      "_view_count": null,
      "_view_module": "@jupyter-widgets/base",
      "_view_module_version": "1.2.0",
      "_view_name": "StyleView",
      "bar_color": null,
      "description_width": ""
     }
    },
    "ff9995df8ce04e5b968c84c195bd8cc3": {
     "model_module": "@jupyter-widgets/base",
     "model_module_version": "1.2.0",
     "model_name": "LayoutModel",
     "state": {
      "_model_module": "@jupyter-widgets/base",
      "_model_module_version": "1.2.0",
      "_model_name": "LayoutModel",
      "_view_count": null,
      "_view_module": "@jupyter-widgets/base",
      "_view_module_version": "1.2.0",
      "_view_name": "LayoutView",
      "align_content": null,
      "align_items": null,
      "align_self": null,
      "border": null,
      "bottom": null,
      "display": null,
      "flex": null,
      "flex_flow": null,
      "grid_area": null,
      "grid_auto_columns": null,
      "grid_auto_flow": null,
      "grid_auto_rows": null,
      "grid_column": null,
      "grid_gap": null,
      "grid_row": null,
      "grid_template_areas": null,
      "grid_template_columns": null,
      "grid_template_rows": null,
      "height": null,
      "justify_content": null,
      "justify_items": null,
      "left": null,
      "margin": null,
      "max_height": null,
      "max_width": null,
      "min_height": null,
      "min_width": null,
      "object_fit": null,
      "object_position": null,
      "order": null,
      "overflow": null,
      "overflow_x": null,
      "overflow_y": null,
      "padding": null,
      "right": null,
      "top": null,
      "visibility": null,
      "width": null
     }
    }
   }
  }
 },
 "nbformat": 4,
 "nbformat_minor": 1
}
