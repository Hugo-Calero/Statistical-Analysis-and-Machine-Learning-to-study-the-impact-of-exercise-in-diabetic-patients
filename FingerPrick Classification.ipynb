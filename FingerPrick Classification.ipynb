{
 "cells": [
  {
   "cell_type": "markdown",
   "metadata": {
    "id": "p1BTk8drJbi6"
   },
   "source": [
    "<div class=\"alert alert-block alert-danger\">\n",
    "\n",
    "# **Performance of the Eversense versus the Free Style Libre Flash glucose monitor during exercise and normal daily activities in subjects with type 1 diabetes mellitus**\n",
    "    \n",
    "</div>"
   ]
  },
  {
   "cell_type": "code",
   "execution_count": null,
   "metadata": {
    "ExecuteTime": {
     "end_time": "2023-01-04T12:06:27.364953Z",
     "start_time": "2023-01-04T12:06:12.360966Z"
    },
    "colab": {
     "base_uri": "https://localhost:8080/"
    },
    "id": "wfgEx2FbNqNH",
    "outputId": "691c905d-4e69-4218-9f03-fa249fa48939"
   },
   "outputs": [],
   "source": [
    "import numpy as np\n",
    "import pandas as pd\n",
    "import matplotlib.pyplot as plt\n",
    "import itertools\n",
    "from collections import Counter\n",
    "import scipy.stats as stats\n",
    "\n",
    "import pandas as pd\n",
    "import numpy as np\n",
    "import matplotlib.pyplot as plt\n",
    "import seaborn as sns\n",
    "from sklearn.model_selection import train_test_split\n",
    "from sklearn import linear_model\n",
    "from sklearn import preprocessing\n",
    "from sklearn.preprocessing import StandardScaler\n",
    "from sklearn.linear_model import LogisticRegression\n",
    "from sklearn.metrics import confusion_matrix, mean_squared_error\n",
    "from sklearn.model_selection import cross_val_score, cross_val_predict\n",
    "from sklearn.model_selection import GridSearchCV\n",
    "from sklearn.model_selection import KFold\n",
    "from sklearn.feature_selection import RFE\n",
    "from sklearn import metrics\n",
    "from sklearn.metrics import r2_score, accuracy_score, confusion_matrix, roc_curve, f1_score\n",
    "import statsmodels.api as sm\n",
    "from sklearn.svm import SVC\n",
    "from sklearn import svm\n",
    "from scipy.optimize import curve_fit\n",
    "from sklearn.pipeline import make_pipeline\n",
    "from sklearn.neighbors import KNeighborsRegressor\n",
    "from sklearn.metrics import mean_squared_error\n",
    "from math import sqrt\n",
    "from scipy import stats\n",
    "import seaborn as sn\n",
    "# from mlxtend.feature_selection import SequentialFeatureSelector as SFS\n",
    "from sklearn import tree\n",
    "# import pydotplus\n",
    "from sklearn.tree import DecisionTreeClassifier\n",
    "import matplotlib.pyplot as plt\n",
    "import matplotlib.image as pltimg\n",
    "from sklearn.feature_selection import SelectKBest\n",
    "from sklearn.feature_selection import chi2\n",
    "from sklearn.neighbors import KNeighborsClassifier\n",
    "from sklearn.ensemble import RandomForestClassifier\n",
    "from sklearn.datasets import make_classification\n",
    "from sklearn.model_selection import LeaveOneOut\n",
    "from scipy.stats import fisher_exact\n",
    "from scipy.stats import chi2_contingency, mood\n",
    "from sklearn.neural_network import MLPClassifier\n",
    "from sklearn.feature_selection import mutual_info_classif, f_regression, mutual_info_regression, f_classif\n",
    "from random import choices\n",
    "import shap"
   ]
  },
  {
   "cell_type": "code",
   "execution_count": null,
   "metadata": {
    "ExecuteTime": {
     "end_time": "2022-12-13T09:27:33.363024Z",
     "start_time": "2022-12-13T09:27:32.768178Z"
    },
    "id": "IzJwPgB9NqNH"
   },
   "outputs": [],
   "source": [
    "dfw1 = pd.read_excel(\"Week 1.xlsx\")\n",
    "dfw2 = pd.read_excel(\"Week 2.xlsx\")\n",
    "\n",
    "dfw1['Datum'] = dfw1['Datum'].astype(str)\n",
    "dfw2['Datum'] = dfw2['Datum'].astype(str)\n",
    "\n",
    "dfw1.rename(columns={\"Fingerprick  (mg/dL)\": \"Fingerprick (mg/dL)\"}, inplace = True)\n",
    "\n",
    "feature = \"Patiënt ID\"\n",
    "elset = list(set(dfw1[feature].tolist()))\n",
    "\n",
    "dfw1_dict = {idd: dfw1.loc[dfw1['Patiënt ID'] == idd] for idd in elset}\n",
    "dfw2_dict = {idd: dfw2.loc[dfw2['Patiënt ID'] == idd] for idd in elset}"
   ]
  },
  {
   "cell_type": "code",
   "execution_count": null,
   "metadata": {
    "ExecuteTime": {
     "end_time": "2022-12-13T09:27:34.869305Z",
     "start_time": "2022-12-13T09:27:34.835823Z"
    },
    "id": "MLvzfQAHlFLd"
   },
   "outputs": [],
   "source": [
    "dfw1[\"Period\"] = ['PA']*dfw1.shape[0]\n",
    "dfw2[\"Period\"] = ['NDA']*dfw2.shape[0]\n",
    "\n",
    "dff = pd.concat([dfw1, dfw2], axis=0)"
   ]
  },
  {
   "cell_type": "code",
   "execution_count": null,
   "metadata": {
    "ExecuteTime": {
     "end_time": "2022-12-13T09:27:36.457373Z",
     "start_time": "2022-12-13T09:27:36.383330Z"
    },
    "id": "WW2DWPLZIJZh"
   },
   "outputs": [],
   "source": [
    "dfw1['Datum'] = dfw1['Datum'].str[0:10]\n",
    "dfw2['Datum'] = dfw2['Datum'].str[0:10]\n",
    "\n",
    "dfw1_dict = {idd: dfw1.loc[dfw1['Patiënt ID'] == idd] for idd in elset}\n",
    "dfw2_dict = {idd: dfw2.loc[dfw2['Patiënt ID'] == idd] for idd in elset}"
   ]
  },
  {
   "cell_type": "code",
   "execution_count": null,
   "metadata": {
    "ExecuteTime": {
     "end_time": "2022-12-13T09:27:38.091172Z",
     "start_time": "2022-12-13T09:27:38.024142Z"
    },
    "id": "p__bV7AuNqNP"
   },
   "outputs": [],
   "source": [
    "# FSL\n",
    "w170_fsl = dfw1[dfw1[\"FSL (mg/dL)\"] <= 70]\n",
    "w270_fsl = dfw2[dfw2[\"FSL (mg/dL)\"] <= 70]\n",
    "w1180_fsl = dfw1.loc[(dfw1[\"FSL (mg/dL)\"] <= 180) & (dfw1[\"FSL (mg/dL)\"] > 70)]\n",
    "w2180_fsl = dfw2.loc[(dfw2[\"FSL (mg/dL)\"] <= 180) & (dfw2[\"FSL (mg/dL)\"] > 70)]\n",
    "w1max_fsl = dfw1[dfw1[\"FSL (mg/dL)\"] > 180]\n",
    "w2max_fsl = dfw2[dfw2[\"FSL (mg/dL)\"] > 180]\n",
    "\n",
    "#Eversense\n",
    "w170_es = dfw1[dfw1[\"Eversense (mg/dl)\"] <= 70]\n",
    "w270_es = dfw2[dfw2[\"Eversense (mg/dl)\"] <= 70]\n",
    "w1180_es = dfw1.loc[(dfw1[\"Eversense (mg/dl)\"] <= 180) & (dfw1[\"Eversense (mg/dl)\"] > 70)]\n",
    "w2180_es = dfw2.loc[(dfw2[\"Eversense (mg/dl)\"] <= 180) & (dfw2[\"Eversense (mg/dl)\"] > 70)]\n",
    "w1max_es = dfw1[dfw1[\"Eversense (mg/dl)\"] > 180]\n",
    "w2max_es = dfw2[dfw2[\"Eversense (mg/dl)\"] > 180]\n",
    "\n",
    "#Fingerprick\n",
    "w170_fp = dfw1[dfw1[\"Fingerprick (mg/dL)\"] <= 70]\n",
    "w270_fp = dfw2[dfw2[\"Fingerprick (mg/dL)\"] <= 70]\n",
    "w1180_fp = dfw1.loc[(dfw1[\"Fingerprick (mg/dL)\"] <= 180) & (dfw1[\"Fingerprick (mg/dL)\"] > 70)]\n",
    "w2180_fp = dfw2.loc[(dfw2[\"Fingerprick (mg/dL)\"] <= 180) & (dfw2[\"Fingerprick (mg/dL)\"] > 70)]\n",
    "w1max_fp = dfw1[dfw1[\"Fingerprick (mg/dL)\"] > 180]\n",
    "w2max_fp = dfw2[dfw2[\"Fingerprick (mg/dL)\"] > 180]"
   ]
  },
  {
   "cell_type": "code",
   "execution_count": null,
   "metadata": {
    "ExecuteTime": {
     "end_time": "2022-12-13T09:27:41.139847Z",
     "start_time": "2022-12-13T09:27:39.626268Z"
    },
    "id": "Ud8HzLgVS82Q"
   },
   "outputs": [],
   "source": [
    "dfw1 = pd.read_excel(\"Week 1.xlsx\")\n",
    "dfw2 = pd.read_excel(\"Week 2.xlsx\")\n",
    "\n",
    "\n",
    "dfw1['Datum'] = dfw1['Datum'].astype(str)\n",
    "dfw2['Datum'] = dfw2['Datum'].astype(str)\n",
    "\n",
    "dfw1.rename(columns={\"Fingerprick  (mg/dL)\": \"Fingerprick (mg/dL)\"}, inplace = True)\n",
    "\n",
    "dfw1['Datum'] = dfw1['Datum'].str[11:13]\n",
    "dfw2['Datum'] = dfw2['Datum'].str[11:13]\n",
    "dfw1['Datum'] = dfw1['Datum'].astype(float)\n",
    "dfw2['Datum'] = dfw2['Datum'].astype(float)"
   ]
  },
  {
   "cell_type": "code",
   "execution_count": null,
   "metadata": {
    "ExecuteTime": {
     "end_time": "2022-12-13T09:27:42.874528Z",
     "start_time": "2022-12-13T09:27:42.823547Z"
    }
   },
   "outputs": [],
   "source": [
    "madrugadaw1 = dfw1.loc[(dfw1[\"Datum\"] < 6)]\n",
    "mañanaw1 = dfw1.loc[(dfw1[\"Datum\"] >= 6) & (dfw1[\"Datum\"] < 12)]\n",
    "tardew1 = dfw1.loc[(dfw1[\"Datum\"] >= 12) & (dfw1[\"Datum\"] < 18)]\n",
    "nochew1 = dfw1.loc[(dfw1[\"Datum\"] >= 18)]\n",
    "\n",
    "madrugadaw2 = dfw2.loc[(dfw2[\"Datum\"] < 6)]\n",
    "mañanaw2 = dfw2.loc[(dfw2[\"Datum\"] >= 6) & (dfw2[\"Datum\"] < 12)]\n",
    "tardew2 = dfw2.loc[(dfw2[\"Datum\"] >= 12) & (dfw2[\"Datum\"] < 18)]\n",
    "nochew2 = dfw2.loc[(dfw2[\"Datum\"] >= 18)]"
   ]
  },
  {
   "cell_type": "markdown",
   "metadata": {
    "id": "vM_0HE-WL0_D"
   },
   "source": [
    "<div class=\"alert alert-block alert-danger\">\n",
    "    \n",
    "# **CLASSIFICATION**\n",
    "    \n",
    "</div>"
   ]
  },
  {
   "cell_type": "markdown",
   "metadata": {
    "id": "adSBxMC2yHwk"
   },
   "source": [
    "<div class=\"alert alert-block alert-warning\">\n",
    "    \n",
    "## FEATURE EXTRACTION\n",
    "    \n",
    "</div>"
   ]
  },
  {
   "cell_type": "code",
   "execution_count": null,
   "metadata": {
    "ExecuteTime": {
     "end_time": "2022-12-13T09:27:44.413591Z",
     "start_time": "2022-12-13T09:27:44.381970Z"
    },
    "id": "wzXON3zHMATG"
   },
   "outputs": [],
   "source": [
    "cols = [\"Index\", \"FullSumValues\",\"FullMedian\",\"FullVar\",\"FullEntropy\", \"FullHyper\", \"FullHypo\", \"FullAdverse\",\n",
    "        \"DawnSumValues\",\"DawnMedian\",\"DawnVar\",\"DawnEntropy\",\"DawnHyper\", \"DawnHypo\", \"DawnAdverse\",\n",
    "        \"MorningSumValues\",\"MorningMedian\", \"MorningVar\",\"MorningEntropy\",\"MorningHyper\", \"MorningHypo\", \"MorningAdverse\",\n",
    "        \"AftSumValues\",\"AftMedian\",\"AftVar\",\"AftEntropy\",\"AftHyper\", \"AftHypo\", \"AftAdverse\", \"NightSumValues\",\"NightMedian\",\n",
    "        \"NightVar\",\"NightEntropy\",\"NightHyper\", \"NightHypo\", \"NightAdverse\",\"Cat\"] \n",
    "tabdf = pd.DataFrame(columns = cols)"
   ]
  },
  {
   "cell_type": "code",
   "execution_count": null,
   "metadata": {
    "ExecuteTime": {
     "end_time": "2022-12-13T09:27:50.610745Z",
     "start_time": "2022-12-13T09:27:46.060435Z"
    },
    "id": "folLINubnRyj"
   },
   "outputs": [],
   "source": [
    "h = \"Fingerprick (mg/dL)\"\n",
    "elsettt = [1,2,3,5,6,8,9,10,11,12,13,14,15,17,18,19,20,21,22,23,24,25]\n",
    "\n",
    "for e in elsettt:\n",
    "    tabdf = tabdf.append({\"Index\" : e,\n",
    "    \"FullSumValues\" : dfw1[h].loc[(dfw1['Patiënt ID'] == e)].sum(),\n",
    "    \"FullMedian\" : dfw1[h].loc[(dfw1['Patiënt ID'] == e)].median(),\n",
    "    \"FullVar\" : dfw1[h].loc[(dfw1['Patiënt ID'] == e)].var(),\n",
    "    \"FullEntropy\": stats.entropy(dfw1[h].loc[(dfw1['Patiënt ID'] == e)].to_list()),\n",
    "    \"FullHyper\" : dfw1[h].loc[(dfw1['Patiënt ID'] == e) & (dfw1[h] > 180)].count(),\n",
    "    \"FullHypo\" : dfw1[h].loc[(dfw1['Patiënt ID'] == e) & (dfw1[h] < 70)].count(),\n",
    "    \"FullAdverse\" : dfw1[h].loc[(dfw1['Patiënt ID'] == e) & (dfw1[h] < 70)].count() + dfw1[h].loc[(dfw1['Patiënt ID'] == e) & (dfw1[h] >180)].count(),\n",
    "    \"DawnSumValues\" : dfw1[h].loc[(dfw1['Patiënt ID'] == e) & (dfw1[\"Datum\"] < 6)].sum(),\n",
    "    \"DawnMedian\" : dfw1[h].loc[(dfw1['Patiënt ID'] == e) & (dfw1[\"Datum\"] < 6)].median(),\n",
    "    \"DawnVar\" : dfw1[h].loc[(dfw1['Patiënt ID'] == e) & (dfw1[\"Datum\"] < 6)].var(),\n",
    "    \"DawnEntropy\": stats.entropy(dfw1[h].loc[(dfw1['Patiënt ID'] == e) & (dfw1[\"Datum\"] < 6)].to_list()),\n",
    "    \"DawnHyper\" : dfw1[h].loc[(dfw1['Patiënt ID'] == e) & (dfw1[h] > 180) & (dfw1[\"Datum\"] < 6)].count(),\n",
    "    \"DawnHypo\" : dfw1[h].loc[(dfw1['Patiënt ID'] == e) & (dfw1[h] < 70) & (dfw1[\"Datum\"] < 6)].count(),\n",
    "    \"DawnAdverse\" : dfw1[h].loc[(dfw1['Patiënt ID'] == e) & (dfw1[h] < 70) & (dfw1[\"Datum\"] < 6)].count() + dfw1[h].loc[(dfw1['Patiënt ID'] == e) & (dfw1[h] >180) & (dfw1[\"Datum\"] < 6)].count(),\n",
    "    \"MorningSumValues\" : dfw1[h].loc[(dfw1['Patiënt ID'] == e) & (dfw1[\"Datum\"] >= 6) & (dfw1[\"Datum\"] < 12)].sum(),\n",
    "    \"MorningMedian\" : dfw1[h].loc[(dfw1['Patiënt ID'] == e) & (dfw1[\"Datum\"] >= 6) & (dfw1[\"Datum\"] < 12)].median(),\n",
    "    \"MorningVar\" : dfw1[h].loc[(dfw1['Patiënt ID'] == e) & (dfw1[\"Datum\"] >= 6) & (dfw1[\"Datum\"] < 12)].var(),\n",
    "    \"MorningEntropy\": stats.entropy(dfw1[h].loc[(dfw1['Patiënt ID'] == e) & (dfw1[\"Datum\"] >= 6) & (dfw1[\"Datum\"] < 12)].to_list()),\n",
    "    \"MorningHyper\" : dfw1[h].loc[(dfw1['Patiënt ID'] == e) & (dfw1[h] > 180) & (dfw1[\"Datum\"] >= 6) & (dfw1[\"Datum\"] < 12)].count(),\n",
    "    \"MorningHypo\" : dfw1[h].loc[(dfw1['Patiënt ID'] == e) & (dfw1[h] < 70) & (dfw1[\"Datum\"] >= 6) & (dfw1[\"Datum\"] < 12)].count(),\n",
    "    \"MorningAdverse\" : dfw1[h].loc[(dfw1['Patiënt ID'] == e) & (dfw1[h] < 70)& (dfw1[\"Datum\"] >= 6) & (dfw1[\"Datum\"] < 12)].count() + dfw1[h].loc[(dfw1['Patiënt ID'] == e) & (dfw1[h] >180) & (dfw1[\"Datum\"] >= 6) & (dfw1[\"Datum\"] < 12)].count(),\n",
    "    \"AftSumValues\" : dfw1[h].loc[(dfw1['Patiënt ID'] == e) & (dfw1[\"Datum\"] >= 12) & (dfw1[\"Datum\"] < 18)].sum(),\n",
    "    \"AftMedian\" : dfw1[h].loc[(dfw1['Patiënt ID'] == e) & (dfw1[\"Datum\"] >= 12) & (dfw1[\"Datum\"] < 18)].median(),\n",
    "    \"AftVar\" : dfw1[h].loc[(dfw1['Patiënt ID'] == e) & (dfw1[\"Datum\"] >= 12) & (dfw1[\"Datum\"] < 18)].var(),\n",
    "    \"AftEntropy\": stats.entropy(dfw1[h].loc[(dfw1['Patiënt ID'] == e) & (dfw1[\"Datum\"] >= 12) & (dfw1[\"Datum\"] < 18)].to_list()),\n",
    "    \"AftHyper\" : dfw1[h].loc[(dfw1['Patiënt ID'] == e) & (dfw1[h] > 180) & (dfw1[\"Datum\"] >= 12) & (dfw1[\"Datum\"] < 18)].count(),\n",
    "    \"AftHypo\" : dfw1[h].loc[(dfw1['Patiënt ID'] == e) & (dfw1[h] < 70) & (dfw1[\"Datum\"] >= 12) & (dfw1[\"Datum\"] < 18)].count(),\n",
    "    \"AftAdverse\" : dfw1[h].loc[(dfw1['Patiënt ID'] == e) & (dfw1[h] < 70) & (dfw1[\"Datum\"] >= 12) & (dfw1[\"Datum\"] < 18)].count() + dfw1[h].loc[(dfw1['Patiënt ID'] == e) & (dfw1[h] >180) & (dfw1[\"Datum\"] >= 12) & (dfw1[\"Datum\"] < 18)].count(),\n",
    "    \"NightSumValues\" : dfw1[h].loc[(dfw1['Patiënt ID'] == e) & (dfw1[\"Datum\"] >= 18)].sum(),\n",
    "    \"NightMedian\" : dfw1[h].loc[(dfw1['Patiënt ID'] == e) & (dfw1[\"Datum\"] >= 18)].median(),\n",
    "    \"NightVar\" : dfw1[h].loc[(dfw1['Patiënt ID'] == e) & (dfw1[\"Datum\"] >= 18)].var(),\n",
    "    \"NightEntropy\": stats.entropy(dfw1[h].loc[(dfw1['Patiënt ID'] == e) & (dfw1[\"Datum\"] >= 18)].to_list()),\n",
    "    \"NightHyper\" : dfw1[h].loc[(dfw1['Patiënt ID'] == e) & (dfw1[h] > 180) & (dfw1[\"Datum\"] >= 18)].count(),\n",
    "    \"NightHypo\" : dfw1[h].loc[(dfw1['Patiënt ID'] == e) & (dfw1[h] < 70) & (dfw1[\"Datum\"] >= 18)].count(),\n",
    "    \"NightAdverse\" : dfw1[h].loc[(dfw1['Patiënt ID'] == e) & (dfw1[h] < 70) & (dfw1[\"Datum\"] >= 18)].count() + dfw1[h].loc[(dfw1['Patiënt ID'] == e) & (dfw1[h] >180) & (dfw1[\"Datum\"] >= 18)].count(),\n",
    "    \"Cat\" : 0}, ignore_index = True)"
   ]
  },
  {
   "cell_type": "code",
   "execution_count": null,
   "metadata": {
    "ExecuteTime": {
     "end_time": "2022-12-13T09:27:52.816069Z",
     "start_time": "2022-12-13T09:27:50.610745Z"
    },
    "id": "fptJV9esMAkz"
   },
   "outputs": [],
   "source": [
    "h = \"Fingerprick (mg/dL)\"\n",
    "for e in elsettt:\n",
    "    tabdf = tabdf.append({\"Index\" : e,\n",
    "    \"FullSumValues\" : dfw2[h].loc[(dfw2['Patiënt ID'] == e)].sum(),\n",
    "    \"FullMedian\" : dfw2[h].loc[(dfw2['Patiënt ID'] == e)].median(),\n",
    "    \"FullVar\" : dfw2[h].loc[(dfw2['Patiënt ID'] == e)].var(),\n",
    "    \"FullEntropy\": stats.entropy(dfw2[h].loc[(dfw2['Patiënt ID'] == e)].to_list()),\n",
    "    \"FullHyper\" : dfw2[h].loc[(dfw2['Patiënt ID'] == e) & (dfw2[h] > 180)].count(),\n",
    "    \"FullHypo\" : dfw2[h].loc[(dfw2['Patiënt ID'] == e) & (dfw2[h] < 70)].count(),\n",
    "    \"FullAdverse\" : dfw2[h].loc[(dfw2['Patiënt ID'] == e) & (dfw2[h] < 70)].count() + dfw2[h].loc[(dfw2['Patiënt ID'] == e) & (dfw2[h] < 70)].count(),\n",
    "    \"DawnSumValues\" : dfw2[h].loc[(dfw2['Patiënt ID'] == e) & (dfw2[\"Datum\"] < 6)].sum(),\n",
    "    \"DawnMedian\" : dfw2[h].loc[(dfw2['Patiënt ID'] == e) & (dfw2[\"Datum\"] < 6)].median(),\n",
    "    \"DawnVar\" : dfw2[h].loc[(dfw2['Patiënt ID'] == e) & (dfw2[\"Datum\"] < 6)].var(),\n",
    "    \"DawnEntropy\": stats.entropy(dfw2[h].loc[(dfw2['Patiënt ID'] == e) & (dfw2[\"Datum\"] < 6)].to_list()),\n",
    "    \"DawnHyper\" : dfw2[h].loc[(dfw2['Patiënt ID'] == e) & (dfw2[h] > 180) & (dfw2[\"Datum\"] < 6)].count(),\n",
    "    \"DawnHypo\" : dfw2[h].loc[(dfw2['Patiënt ID'] == e) & (dfw2[h] < 70) & (dfw2[\"Datum\"] < 6)].count(),\n",
    "    \"DawnAdverse\" : dfw2[h].loc[(dfw2['Patiënt ID'] == e) & (dfw2[h] < 70) & (dfw2[\"Datum\"] < 6)].count() + dfw2[h].loc[(dfw2['Patiënt ID'] == e) & (dfw2[h] >180) & (dfw2[\"Datum\"] < 6)].count(),\n",
    "    \"MorningSumValues\" : dfw2[h].loc[(dfw2['Patiënt ID'] == e) & (dfw2[\"Datum\"] >= 6) & (dfw2[\"Datum\"] < 12)].sum(),\n",
    "    \"MorningMedian\" : dfw2[h].loc[(dfw2['Patiënt ID'] == e) & (dfw2[\"Datum\"] >= 6) & (dfw2[\"Datum\"] < 12)].median(),\n",
    "    \"MorningVar\" : dfw2[h].loc[(dfw2['Patiënt ID'] == e) & (dfw2[\"Datum\"] >= 6) & (dfw2[\"Datum\"] < 12)].var(),\n",
    "    \"MorningEntropy\": stats.entropy(dfw2[h].loc[(dfw2['Patiënt ID'] == e) & (dfw2[\"Datum\"] >= 6) & (dfw2[\"Datum\"] < 12)].to_list()),\n",
    "    \"MorningHyper\" : dfw2[h].loc[(dfw2['Patiënt ID'] == e) & (dfw2[h] > 180) & (dfw2[\"Datum\"] >= 6) & (dfw2[\"Datum\"] < 12)].count(),\n",
    "    \"MorningHypo\" : dfw2[h].loc[(dfw2['Patiënt ID'] == e) & (dfw2[h] < 70) & (dfw2[\"Datum\"] >= 6) & (dfw2[\"Datum\"] < 12)].count(),\n",
    "    \"MorningAdverse\" : dfw2[h].loc[(dfw2['Patiënt ID'] == e) & (dfw2[h] < 70) & (dfw2[\"Datum\"] >= 6) & (dfw2[\"Datum\"] < 12)].count() + dfw2[h].loc[(dfw2['Patiënt ID'] == e) & (dfw2[h] >180) & (dfw2[\"Datum\"] >= 6) & (dfw2[\"Datum\"] < 12)].count(),\n",
    "    \"AftSumValues\" : dfw2[h].loc[(dfw2['Patiënt ID'] == e) & (dfw2[\"Datum\"] >= 12) & (dfw2[\"Datum\"] < 18)].sum(),\n",
    "    \"AftMedian\" : dfw2[h].loc[(dfw2['Patiënt ID'] == e) & (dfw2[\"Datum\"] >= 12) & (dfw2[\"Datum\"] < 18)].median(),\n",
    "    \"AftVar\" : dfw2[h].loc[(dfw2['Patiënt ID'] == e) & (dfw2[\"Datum\"] >= 12) & (dfw2[\"Datum\"] < 18)].var(),\n",
    "    \"AftEntropy\": stats.entropy(dfw2[h].loc[(dfw2['Patiënt ID'] == e) & (dfw2[\"Datum\"] >= 12) & (dfw2[\"Datum\"] < 18)].to_list()),\n",
    "    \"AftHyper\" : dfw2[h].loc[(dfw2['Patiënt ID'] == e) & (dfw2[h] > 180) & (dfw2[\"Datum\"] >= 12) & (dfw2[\"Datum\"] < 18)].count(),\n",
    "    \"AftHypo\" : dfw2[h].loc[(dfw2['Patiënt ID'] == e) & (dfw2[h] < 70) & (dfw2[\"Datum\"] >= 12) & (dfw2[\"Datum\"] < 18)].count(),\n",
    "    \"AftAdverse\" : dfw2[h].loc[(dfw2['Patiënt ID'] == e) & (dfw2[h] < 70) & (dfw2[\"Datum\"] >= 12) & (dfw2[\"Datum\"] < 18)].count()+ dfw2[h].loc[(dfw2['Patiënt ID'] == e) & (dfw2[h] >180) & (dfw2[\"Datum\"] >= 12) & (dfw2[\"Datum\"] < 18)].count(),\n",
    "    \"NightSumValues\" : dfw2[h].loc[(dfw2['Patiënt ID'] == e) & (dfw2[\"Datum\"] >= 18)].sum(),\n",
    "    \"NightMedian\" : dfw2[h].loc[(dfw2['Patiënt ID'] == e) & (dfw2[\"Datum\"] >= 18)].median(),\n",
    "    \"NightVar\" : dfw2[h].loc[(dfw2['Patiënt ID'] == e) & (dfw2[\"Datum\"] >= 18)].var(),\n",
    "    \"NightEntropy\": stats.entropy(dfw2[h].loc[(dfw2['Patiënt ID'] == e) & (dfw2[\"Datum\"] >= 18)].to_list()),\n",
    "    \"NightHyper\" : dfw2[h].loc[(dfw2['Patiënt ID'] == e) & (dfw2[h] > 180) & (dfw2[\"Datum\"] >= 18)].count(),\n",
    "    \"NightHypo\" : dfw2[h].loc[(dfw2['Patiënt ID'] == e) & (dfw2[h] < 70) & (dfw2[\"Datum\"] >= 18)].count(),\n",
    "    \"NightAdverse\" : dfw2[h].loc[(dfw2['Patiënt ID'] == e) & (dfw2[h] < 70) & (dfw2[\"Datum\"] >= 18)].count() + dfw2[h].loc[(dfw2['Patiënt ID'] == e) & (dfw2[h] >180) & (dfw2[\"Datum\"] >= 18)].count(),\n",
    "    \"Cat\" : 1}, ignore_index = True)"
   ]
  },
  {
   "cell_type": "code",
   "execution_count": null,
   "metadata": {
    "ExecuteTime": {
     "end_time": "2022-12-13T09:27:52.863367Z",
     "start_time": "2022-12-13T09:27:52.816069Z"
    }
   },
   "outputs": [],
   "source": [
    "tabdf.head()"
   ]
  },
  {
   "cell_type": "code",
   "execution_count": null,
   "metadata": {
    "ExecuteTime": {
     "end_time": "2022-12-13T09:27:57.599231Z",
     "start_time": "2022-12-13T09:27:57.566815Z"
    },
    "id": "u01fPQzlunCL"
   },
   "outputs": [],
   "source": [
    "tabdf = tabdf.replace(np.nan,0)"
   ]
  },
  {
   "cell_type": "code",
   "execution_count": null,
   "metadata": {
    "ExecuteTime": {
     "end_time": "2022-12-13T09:27:59.157480Z",
     "start_time": "2022-12-13T09:27:59.142686Z"
    },
    "id": "JmATJgp4X59X"
   },
   "outputs": [],
   "source": [
    "tabdf.set_index(\"Index\", inplace = True)"
   ]
  },
  {
   "cell_type": "code",
   "execution_count": null,
   "metadata": {
    "ExecuteTime": {
     "end_time": "2022-12-13T09:28:00.869980Z",
     "start_time": "2022-12-13T09:28:00.859982Z"
    },
    "id": "CKcmwjeFqVNm"
   },
   "outputs": [],
   "source": [
    "tabdf_mor = tabdf\n",
    "tabdf_aft = tabdf\n",
    "tabdf_dawn = tabdf\n",
    "tabdf_night = tabdf\n",
    "tabdf_full = tabdf"
   ]
  },
  {
   "cell_type": "code",
   "execution_count": null,
   "metadata": {
    "ExecuteTime": {
     "end_time": "2022-12-13T09:28:02.916609Z",
     "start_time": "2022-12-13T09:28:02.878128Z"
    },
    "id": "Zfx2FGFcqVNm"
   },
   "outputs": [],
   "source": [
    "tabdf_full = tabdf.copy()"
   ]
  },
  {
   "cell_type": "code",
   "execution_count": null,
   "metadata": {
    "ExecuteTime": {
     "end_time": "2022-12-13T09:28:05.149890Z",
     "start_time": "2022-12-13T09:28:05.134622Z"
    },
    "id": "JpwlsTO_2KXa"
   },
   "outputs": [],
   "source": [
    "corr_matrix = tabdf.corr()\n",
    "# plt.figure(figsize = (20,20))\n",
    "# sns.heatmap(corr_matrix, annot = False);\n",
    "\n",
    "corr_pairs = corr_matrix.unstack()\n",
    "\n",
    "sorted_pairs = corr_pairs.sort_values(kind=\"quicksort\")"
   ]
  },
  {
   "cell_type": "code",
   "execution_count": null,
   "metadata": {
    "ExecuteTime": {
     "end_time": "2022-12-13T09:28:07.353724Z",
     "start_time": "2022-12-13T09:28:07.315323Z"
    },
    "id": "WluDE72y2RLx"
   },
   "outputs": [],
   "source": [
    "upper_pairs = sorted_pairs[(sorted_pairs >= 0.7) & (sorted_pairs != 1)]\n",
    "upper = pd.DataFrame(upper_pairs)\n",
    "upper.columns = [\"Corr\"]"
   ]
  },
  {
   "cell_type": "code",
   "execution_count": null,
   "metadata": {
    "ExecuteTime": {
     "end_time": "2022-12-13T09:28:09.718190Z",
     "start_time": "2022-12-13T09:28:09.680782Z"
    },
    "id": "FmuwPiTe2X5i",
    "scrolled": true
   },
   "outputs": [],
   "source": [
    "upper_res = upper.drop_duplicates(subset=['Corr'], keep='first')"
   ]
  },
  {
   "cell_type": "code",
   "execution_count": null,
   "metadata": {
    "ExecuteTime": {
     "end_time": "2022-12-13T09:28:11.886513Z",
     "start_time": "2022-12-13T09:28:11.856010Z"
    },
    "id": "IaF9ycvhx-E8"
   },
   "outputs": [],
   "source": [
    "tabdf[\"Patients\"] = list(tabdf.index)\n",
    "tabdf_later = tabdf.copy()"
   ]
  },
  {
   "cell_type": "code",
   "execution_count": null,
   "metadata": {
    "ExecuteTime": {
     "end_time": "2022-12-13T09:28:14.122446Z",
     "start_time": "2022-12-13T09:28:14.093967Z"
    },
    "id": "i4RceGLZ3_So",
    "scrolled": true
   },
   "outputs": [],
   "source": [
    "eliminate_feat = [i[1] for i in upper_res.index]"
   ]
  },
  {
   "cell_type": "code",
   "execution_count": null,
   "metadata": {
    "ExecuteTime": {
     "end_time": "2022-12-13T09:28:16.174805Z",
     "start_time": "2022-12-13T09:28:16.153013Z"
    },
    "id": "XbwVlPzA5IHO"
   },
   "outputs": [],
   "source": [
    "tabdf.drop(eliminate_feat, axis = 1, inplace= True)"
   ]
  },
  {
   "cell_type": "markdown",
   "metadata": {
    "id": "72UK6sSHyKaU"
   },
   "source": [
    "<div class=\"alert alert-block alert-warning\">\n",
    "    \n",
    "## FEATURE SELECTION\n",
    "    \n",
    "</div>"
   ]
  },
  {
   "cell_type": "code",
   "execution_count": null,
   "metadata": {
    "ExecuteTime": {
     "end_time": "2022-12-13T09:28:20.554371Z",
     "start_time": "2022-12-13T09:28:20.544460Z"
    },
    "id": "XNFIfRxiOCEA"
   },
   "outputs": [],
   "source": [
    "import random"
   ]
  },
  {
   "cell_type": "code",
   "execution_count": null,
   "metadata": {
    "ExecuteTime": {
     "end_time": "2022-12-13T09:28:22.845850Z",
     "start_time": "2022-12-13T09:28:22.810781Z"
    },
    "id": "eRv0LY_CqVNn"
   },
   "outputs": [],
   "source": [
    "elsettt = [1,2,3,5,6,8,9,10,11,12,13,14,15,17,18,19,20,21,22,23,24,25]\n",
    "\n",
    "#train_idx = random.sample(elsettt, 16)\n",
    "train_idx = [22, 21, 2, 10, 1, 3, 6, 11, 24, 9, 19, 8, 5, 17, 25, 14]\n",
    "#test_idx = list(set(elsettt) - set(train_idx))\n",
    "test_idx = [12, 13, 15, 18, 20, 23]\n",
    "\n",
    "tabdf[\"Patients\"] = list(tabdf.index)\n",
    "tabdf_full[\"Patients\"] = list(tabdf.index)\n",
    "\n",
    "X = tabdf.drop(columns = \"Cat\")\n",
    "y = tabdf[[\"Cat\", \"Patients\"]]"
   ]
  },
  {
   "cell_type": "code",
   "execution_count": null,
   "metadata": {
    "ExecuteTime": {
     "end_time": "2022-12-13T09:28:25.140354Z",
     "start_time": "2022-12-13T09:28:25.096874Z"
    },
    "id": "54hV5vHzqVNn"
   },
   "outputs": [],
   "source": [
    "X_train = X[X[\"Patients\"].isin(train_idx)]\n",
    "X_test = X[X[\"Patients\"].isin(test_idx)]\n",
    "y_train = y[y[\"Patients\"].isin(train_idx)]\n",
    "y_test = y[y[\"Patients\"].isin(test_idx)]\n",
    "\n",
    "X_norm = preprocessing.scale(X_train)\n",
    "scaler = preprocessing.StandardScaler().fit(X_train)\n",
    "X_train_norm = pd.DataFrame(scaler.transform(X_train))\n",
    "X_train_norm.columns = X.columns\n",
    "X_test_norm = pd.DataFrame(scaler.transform(X_test))\n",
    "X_test_norm.columns = X.columns"
   ]
  },
  {
   "cell_type": "code",
   "execution_count": null,
   "metadata": {
    "ExecuteTime": {
     "end_time": "2022-12-13T09:28:27.094425Z",
     "start_time": "2022-12-13T09:28:27.052602Z"
    }
   },
   "outputs": [],
   "source": [
    "X_train_df = pd.DataFrame(X_train, columns = X_train_norm.columns)"
   ]
  },
  {
   "cell_type": "code",
   "execution_count": null,
   "metadata": {
    "ExecuteTime": {
     "end_time": "2022-12-13T09:28:29.060003Z",
     "start_time": "2022-12-13T09:28:29.045186Z"
    },
    "id": "PBiqeBkZ0ym_"
   },
   "outputs": [],
   "source": [
    "featnames = list(X.columns)"
   ]
  },
  {
   "cell_type": "markdown",
   "metadata": {
    "id": "jeNwxmRd0Kbo"
   },
   "source": [
    "### FILTER METHODS"
   ]
  },
  {
   "cell_type": "code",
   "execution_count": null,
   "metadata": {
    "ExecuteTime": {
     "end_time": "2022-12-12T21:01:37.362429Z",
     "start_time": "2022-12-12T21:01:37.343405Z"
    },
    "id": "TBhCYOYR0TXo"
   },
   "outputs": [],
   "source": [
    "def mutualinfo(X,y):\n",
    "    # do calculations\n",
    "    mutual = mutual_info_classif(X, y, random_state = 8)\n",
    "    mutual /= np.max(mutual)\n",
    "\n",
    "    zipped_pairs = zip(list(mutual), list(X.columns))\n",
    "    mutualinfo_var = [x for _, x in sorted(zipped_pairs, reverse = True)] \n",
    "\n",
    "    dff = pd.DataFrame({\"Var\":X.columns,\"Score\":mutual})\n",
    "    plt.figure(figsize=(20,10))\n",
    "    sns.barplot(x='Var', y=\"Score\", data=dff, order=dff.sort_values('Score',ascending = False).Var, color = \"blue\")\n",
    "    plt.xticks(rotation=90)\n",
    "    plt.xlabel('Selected features')\n",
    "    plt.ylabel('Mutual Information Score')\n",
    "    plt.title('Mutual Information Feature Selection')\n",
    "\n",
    "    plt.show()\n",
    "    \n",
    "    return mutualinfo_var"
   ]
  },
  {
   "cell_type": "code",
   "execution_count": null,
   "metadata": {
    "ExecuteTime": {
     "end_time": "2022-12-12T21:01:41.819874Z",
     "start_time": "2022-12-12T21:01:41.441378Z"
    },
    "colab": {
     "base_uri": "https://localhost:8080/",
     "height": 415
    },
    "id": "BiZZLvp_0Tbl",
    "outputId": "6aca18e5-6dd0-443e-eceb-c17e3f23f322"
   },
   "outputs": [],
   "source": [
    "mutualinfo_var = mutualinfo(X_train_df,y_train[\"Cat\"])"
   ]
  },
  {
   "cell_type": "code",
   "execution_count": null,
   "metadata": {
    "ExecuteTime": {
     "end_time": "2022-12-12T21:01:51.891248Z",
     "start_time": "2022-12-12T21:01:51.877248Z"
    },
    "id": "22zRhy1K0Tj_"
   },
   "outputs": [],
   "source": [
    "mutualinfo_var = mutualinfo_var[:11]"
   ]
  },
  {
   "cell_type": "code",
   "execution_count": null,
   "metadata": {
    "ExecuteTime": {
     "end_time": "2022-12-12T21:01:54.492067Z",
     "start_time": "2022-12-12T21:01:54.479788Z"
    },
    "id": "ZPKbU1K00ZpQ"
   },
   "outputs": [],
   "source": [
    "def chi2fs(X,y):\n",
    "\n",
    "    test = SelectKBest(score_func=chi2, k=\"all\")\n",
    "    fit = test.fit(X, y)\n",
    "\n",
    "    zipped_pairs = zip(list(fit.scores_), list(X.columns))\n",
    "    chi2_var = [x for _, x in sorted(zipped_pairs, reverse = True)]                 \n",
    "\n",
    "    dff = pd.DataFrame({\"Var\":list(X.columns),\"Score\":fit.scores_})\n",
    "    plt.figure(figsize=(20,10))\n",
    "    sns.barplot(x='Var', y=\"Score\", data=dff, order=dff.sort_values('Score',ascending = False).Var, color = \"blue\")\n",
    "    plt.xticks(rotation=90)\n",
    "    plt.xlabel('Selected features')\n",
    "    plt.ylabel('Chi Squared Score')\n",
    "    plt.title('Chi Squared Feature Selection')\n",
    "\n",
    "    return chi2_var"
   ]
  },
  {
   "cell_type": "code",
   "execution_count": null,
   "metadata": {
    "ExecuteTime": {
     "end_time": "2022-12-12T21:01:57.916632Z",
     "start_time": "2022-12-12T21:01:57.654187Z"
    },
    "colab": {
     "base_uri": "https://localhost:8080/",
     "height": 409
    },
    "id": "K2037OH_0Zt2",
    "outputId": "bdb78b5d-4a69-4ddf-824f-bab6ad0aa684"
   },
   "outputs": [],
   "source": [
    "chi2_var = chi2fs(X_train_df,y_train[\"Cat\"])"
   ]
  },
  {
   "cell_type": "code",
   "execution_count": null,
   "metadata": {
    "ExecuteTime": {
     "end_time": "2022-12-12T21:02:03.748633Z",
     "start_time": "2022-12-12T21:02:03.731409Z"
    },
    "id": "5Yozgcu40cVn"
   },
   "outputs": [],
   "source": [
    "chi2_var = chi2_var[0:7]"
   ]
  },
  {
   "cell_type": "markdown",
   "metadata": {
    "id": "tA1Lxal_0NIN"
   },
   "source": [
    "### EMBEDDED  METHODS"
   ]
  },
  {
   "cell_type": "code",
   "execution_count": null,
   "metadata": {
    "ExecuteTime": {
     "end_time": "2022-12-12T21:02:20.575467Z",
     "start_time": "2022-12-12T21:02:20.545394Z"
    },
    "id": "kNNpIHno0hSo"
   },
   "outputs": [],
   "source": [
    "def dtfs(X_train_norm, y, param_grid, featnames):\n",
    "\n",
    "    clf = GridSearchCV(DecisionTreeClassifier(random_state = 8), param_grid, cv=5, return_train_score=False)\n",
    "    clf.fit(X_train_norm, y_train)\n",
    "\n",
    "    dt_params = clf.best_params_\n",
    "    features = X_train_norm.columns\n",
    "    dt = DecisionTreeClassifier(**dt_params, random_state = 8)\n",
    "    dt.fit(X_train_norm, y_train)\n",
    "\n",
    "    dt_imp = dt.feature_importances_\n",
    "\n",
    "    zipped_pairs = zip(list(dt_imp), features)\n",
    "    dt_var = [x for _, x in sorted(zipped_pairs, reverse = True)]\n",
    "\n",
    "    dff = pd.DataFrame({\"Var\":features,\"Score\":dt_imp})\n",
    "    plt.figure(figsize=(20,10))\n",
    "    sns.barplot(x='Var', y=\"Score\", data=dff, order=dff.sort_values('Score',ascending = False).Var, color = \"blue\")\n",
    "    plt.xticks(rotation=90)\n",
    "    plt.xlabel('Selected features')\n",
    "    plt.ylabel('Decision Tree Scores')\n",
    "    plt.title('$Decision Tree$ Feature Selection')\n",
    "    \n",
    "    return dt_var, dt_params"
   ]
  },
  {
   "cell_type": "code",
   "execution_count": null,
   "metadata": {
    "ExecuteTime": {
     "end_time": "2022-12-12T21:02:40.240391Z",
     "start_time": "2022-12-12T21:02:23.307184Z"
    },
    "colab": {
     "base_uri": "https://localhost:8080/",
     "height": 505
    },
    "id": "4oWnsX_W0hXn",
    "outputId": "a306adca-d3e7-4e80-bf97-f4f469e30cab"
   },
   "outputs": [],
   "source": [
    "dt_var, dt_params = dtfs(X_train_df, y_train['Cat'].to_list(), {\"criterion\": [\"gini\", \"entropy\"],\"max_depth\": [2,5,10,15,20,25],\"min_samples_split\": [2,5,10,15,20,25],\"min_samples_leaf\": [2,5,10,15,20,25]}, featnames)"
   ]
  },
  {
   "cell_type": "code",
   "execution_count": null,
   "metadata": {
    "ExecuteTime": {
     "end_time": "2022-12-12T21:05:49.555552Z",
     "start_time": "2022-12-12T21:05:49.531178Z"
    },
    "id": "_JBGd1js0ha-"
   },
   "outputs": [],
   "source": [
    "dt_var = dt_var[0:3]"
   ]
  },
  {
   "cell_type": "code",
   "execution_count": null,
   "metadata": {
    "ExecuteTime": {
     "end_time": "2022-12-12T21:05:52.244183Z",
     "start_time": "2022-12-12T21:05:52.211853Z"
    },
    "id": "ihqv1wGR0hmL"
   },
   "outputs": [],
   "source": [
    "def rffs(X_train_norm, y, param_grid, featnames):\n",
    "\n",
    "    clf2 = GridSearchCV(RandomForestClassifier(random_state = 8), param_grid, cv=5, return_train_score=False)\n",
    "    clf2.fit(X_train_norm, y_train)\n",
    "\n",
    "    rf_params = clf2.best_params_\n",
    "    features = X_train_norm.columns\n",
    "    rforest = RandomForestClassifier(**rf_params, random_state = 8)\n",
    "    rforest.fit(X_train_norm, y_train)\n",
    "\n",
    "    rf_imp = rforest.feature_importances_\n",
    "\n",
    "    zipped_pairs = zip(list(rf_imp), list(X_train_norm.columns))\n",
    "    rf_var = [x for _, x in sorted(zipped_pairs, reverse = True)]\n",
    "\n",
    "    dff = pd.DataFrame({\"Var\":features,\"Score\":rf_imp})\n",
    "    plt.figure(figsize=(20,10))\n",
    "    sns.barplot(x='Var', y=\"Score\", data=dff, order=dff.sort_values('Score',ascending = False).Var, color = \"blue\")\n",
    "    plt.xticks(rotation=90)\n",
    "    plt.xlabel('Selected features')\n",
    "    plt.ylabel('Random Forest Scores')\n",
    "    plt.title('$Random Forest$ Feature Selection')\n",
    "\n",
    "    return rf_var, rf_params"
   ]
  },
  {
   "cell_type": "code",
   "execution_count": null,
   "metadata": {
    "ExecuteTime": {
     "end_time": "2022-12-12T21:06:46.924036Z",
     "start_time": "2022-12-12T21:05:55.507741Z"
    },
    "colab": {
     "base_uri": "https://localhost:8080/",
     "height": 413
    },
    "id": "JfbZyiLQ0hpX",
    "outputId": "5ad8899b-49e9-44fb-cba2-316201d009e2"
   },
   "outputs": [],
   "source": [
    "rf_var, rf_params = rffs(X_train_df, y_train['Cat'].to_list(), {\"n_estimators\":np.arange(1,15,5),\n",
    "    \"criterion\": [\"gini\", \"entropy\"],\n",
    "    \"max_depth\": [2,5,10,15],\n",
    "    \"min_samples_split\": [5,10,15,20,25],\n",
    "    \"min_samples_leaf\": [5,10,15,20,25]}, featnames)"
   ]
  },
  {
   "cell_type": "code",
   "execution_count": null,
   "metadata": {
    "ExecuteTime": {
     "end_time": "2022-12-12T21:06:55.970628Z",
     "start_time": "2022-12-12T21:06:55.951964Z"
    },
    "id": "8EU0_oeT0hvL"
   },
   "outputs": [],
   "source": [
    "rf_var = rf_var[:2]"
   ]
  },
  {
   "cell_type": "code",
   "execution_count": null,
   "metadata": {
    "ExecuteTime": {
     "end_time": "2022-12-12T21:06:59.799828Z",
     "start_time": "2022-12-12T21:06:59.772714Z"
    },
    "id": "e8ESnhpJ0h1r"
   },
   "outputs": [],
   "source": [
    "def lassofs(x_train, y_train, param_grid, featnames):\n",
    "\n",
    "    clf3 = GridSearchCV(LogisticRegression(max_iter = 10000,random_state = 8), param_grid, cv=5, return_train_score=False)\n",
    "    clf3.fit(x_train, y_train)\n",
    "    lr_params = clf3.best_params_\n",
    "\n",
    "    model = LogisticRegression(**lr_params, random_state = 8, penalty='l1', solver='liblinear', max_iter = 1000)\n",
    "    model.fit(x_train, y_train)\n",
    "\n",
    "    lr_imp =  np.abs(model.coef_[0])\n",
    "\n",
    "    zipped_pairs = zip(list(lr_imp), list(X.columns))\n",
    "    lr_var = [x for _, x in sorted(zipped_pairs, reverse = True)]\n",
    "\n",
    "    dff = pd.DataFrame({\"Var\":featnames,\"Score\":lr_imp})\n",
    "    plt.figure(figsize=(20,10))\n",
    "    sns.barplot(x='Var', y=\"Score\", data=dff, order=dff.sort_values('Score',ascending = False).Var, color = \"blue\")\n",
    "    plt.xticks(rotation=90)\n",
    "    plt.xlabel('Selected features')\n",
    "    plt.ylabel('LASSO Scores')\n",
    "    plt.title('$LASSO$ Feature Selection')\n",
    "\n",
    "    return lr_var, lr_params"
   ]
  },
  {
   "cell_type": "code",
   "execution_count": null,
   "metadata": {
    "ExecuteTime": {
     "end_time": "2022-12-12T21:07:12.318471Z",
     "start_time": "2022-12-12T21:07:03.902258Z"
    },
    "colab": {
     "base_uri": "https://localhost:8080/",
     "height": 716
    },
    "id": "x3n2yJyk0h63",
    "outputId": "3c426d24-f764-4b9c-87ff-34c47ee7fbd8"
   },
   "outputs": [],
   "source": [
    "lr_var, lr_params = lassofs(X_train, y_train['Cat'].to_list(), {\"C\": [0.01, 0.001, 0.1, 1, 10]}, featnames)"
   ]
  },
  {
   "cell_type": "code",
   "execution_count": null,
   "metadata": {
    "ExecuteTime": {
     "end_time": "2022-12-12T21:07:21.428919Z",
     "start_time": "2022-12-12T21:07:21.409890Z"
    },
    "id": "4modmXMh0h-h"
   },
   "outputs": [],
   "source": [
    "lr_var = lr_var[0:7]"
   ]
  },
  {
   "cell_type": "markdown",
   "metadata": {
    "id": "YK-KE7Ec0NMx"
   },
   "source": [
    "### WRAPPER METHODS"
   ]
  },
  {
   "cell_type": "code",
   "execution_count": null,
   "metadata": {
    "ExecuteTime": {
     "end_time": "2022-12-12T21:07:25.410878Z",
     "start_time": "2022-12-12T21:07:25.342272Z"
    },
    "colab": {
     "base_uri": "https://localhost:8080/",
     "height": 35
    },
    "id": "PIc84tzj01Nu",
    "outputId": "ffdb60c7-9813-4833-a3d0-bb3a387cd609"
   },
   "outputs": [],
   "source": [
    "mutual = mutual_info_classif(X, y[\"Cat\"], random_state = 8)\n",
    "mutual /= np.max(mutual)\n",
    "\n",
    "dfff = pd.DataFrame({\"Var\":X.columns,\"Score\":mutual})\n",
    "plt.figure(figsize=(20,10))\n",
    "dfff = dfff.sort_values('Score',ascending = False)\n",
    "ranking = dfff[\"Var\"].to_list()"
   ]
  },
  {
   "cell_type": "code",
   "execution_count": null,
   "metadata": {
    "ExecuteTime": {
     "end_time": "2022-12-12T21:07:27.966654Z",
     "start_time": "2022-12-12T21:07:27.954377Z"
    },
    "id": "itoVgKmz2o2k"
   },
   "outputs": [],
   "source": [
    "x_train_norm = np.array(X_train_norm)\n",
    "X_train = np.array(X_train)\n",
    "\n",
    "y_train2 = np.array(y_train[\"Cat\"])\n",
    "\n",
    "x_test_norm = np.array(X_test_norm)\n",
    "y_test2 = np.array(y_test[\"Cat\"])"
   ]
  },
  {
   "cell_type": "markdown",
   "metadata": {
    "id": "jXDDZyCQ04OR"
   },
   "source": [
    "#### KNN"
   ]
  },
  {
   "cell_type": "code",
   "execution_count": null,
   "metadata": {
    "ExecuteTime": {
     "end_time": "2022-12-12T21:07:31.524035Z",
     "start_time": "2022-12-12T21:07:31.404292Z"
    },
    "id": "AF0uiZQu01Rf",
    "scrolled": true
   },
   "outputs": [],
   "source": [
    "clf4 = GridSearchCV(KNeighborsClassifier(), {\"n_neighbors\": np.arange(1,14,2)}, cv=5, return_train_score=False)\n",
    "clf4.fit(X_train, y_train2)\n",
    "knn_params = clf4.best_params_\n",
    "knn = KNeighborsClassifier(**knn_params)"
   ]
  },
  {
   "cell_type": "code",
   "execution_count": null,
   "metadata": {
    "ExecuteTime": {
     "end_time": "2022-12-12T21:07:34.440830Z",
     "start_time": "2022-12-12T21:07:34.428623Z"
    },
    "colab": {
     "base_uri": "https://localhost:8080/"
    },
    "id": "aAz_XJyq5EEU",
    "outputId": "ea62a08c-e0d0-4b9e-c13f-1db3f7c2c77b"
   },
   "outputs": [],
   "source": [
    "N, D = X_train_norm.shape\n",
    "D"
   ]
  },
  {
   "cell_type": "code",
   "execution_count": null,
   "metadata": {
    "ExecuteTime": {
     "end_time": "2022-12-12T21:07:37.300475Z",
     "start_time": "2022-12-12T21:07:37.142862Z"
    },
    "colab": {
     "base_uri": "https://localhost:8080/"
    },
    "id": "xmcwd6F608hT",
    "outputId": "b8efd49c-636e-4ba3-b8aa-26898c178527"
   },
   "outputs": [],
   "source": [
    "### KNN\n",
    "\n",
    "N, D = X_train_norm.shape\n",
    "\n",
    "dt = DecisionTreeClassifier(**dt_params, random_state = 8)\n",
    "kf = KFold(n_splits=5, shuffle = True, random_state = 8)\n",
    "\n",
    "cv_error = []\n",
    "cv_std = []\n",
    "\n",
    "for n in range(1, D+1, 1):\n",
    "        \n",
    "    error_i = []\n",
    "    for train, validation in kf.split(X_train):\n",
    "        \n",
    "        #-- selection\n",
    "        indices = np.argsort(ranking)[::-1] \n",
    "        selected = indices[0:(D-n+1)]\n",
    "        Xs = X_train[:,selected]\n",
    "        \n",
    "        knn.fit(Xs[train],y_train2[train])\n",
    "        prediction = knn.predict(Xs[validation])\n",
    "        error = mean_squared_error(y_train2[validation], prediction)\n",
    "        error_i.append(error) \n",
    "            \n",
    "    cv_error.append(np.mean(error_i))\n",
    "    cv_std.append(np.std(error_i))"
   ]
  },
  {
   "cell_type": "code",
   "execution_count": null,
   "metadata": {
    "ExecuteTime": {
     "end_time": "2022-12-12T21:07:39.625166Z",
     "start_time": "2022-12-12T21:07:39.603997Z"
    }
   },
   "outputs": [],
   "source": [
    "cv_error"
   ]
  },
  {
   "cell_type": "code",
   "execution_count": null,
   "metadata": {
    "ExecuteTime": {
     "end_time": "2022-12-12T21:08:15.639206Z",
     "start_time": "2022-12-12T21:08:15.620009Z"
    }
   },
   "outputs": [],
   "source": [
    "index_knn = 11"
   ]
  },
  {
   "cell_type": "markdown",
   "metadata": {
    "id": "RRsZNTYU06BR"
   },
   "source": [
    "#### LR"
   ]
  },
  {
   "cell_type": "code",
   "execution_count": null,
   "metadata": {
    "ExecuteTime": {
     "end_time": "2022-12-12T21:08:25.170740Z",
     "start_time": "2022-12-12T21:08:18.638187Z"
    },
    "id": "hiqQvlS31DWI",
    "scrolled": true
   },
   "outputs": [],
   "source": [
    "### LR\n",
    "\n",
    "clf3 = GridSearchCV(LogisticRegression(max_iter = 10000,random_state = 8), {\"C\": [0.01, 0.001, 0.1, 1, 10]}, cv=5, return_train_score=False)\n",
    "clf3.fit(X_train, y_train2)\n",
    "lr_params = clf3.best_params_"
   ]
  },
  {
   "cell_type": "code",
   "execution_count": null,
   "metadata": {
    "ExecuteTime": {
     "end_time": "2022-12-12T21:08:27.877827Z",
     "start_time": "2022-12-12T21:08:27.783889Z"
    },
    "colab": {
     "base_uri": "https://localhost:8080/",
     "height": 371
    },
    "id": "DoX_xKup1DZc",
    "outputId": "088c2308-4d87-4337-fcca-f480b49e75aa"
   },
   "outputs": [],
   "source": [
    "### LR\n",
    "\n",
    "N, D = X_train.shape\n",
    "\n",
    "dt = DecisionTreeClassifier(**dt_params,random_state=8)\n",
    "kf = KFold(n_splits=3, shuffle = True, random_state=8)\n",
    "\n",
    "cv_error = []\n",
    "cv_std = []\n",
    "\n",
    "for n in range(1, D+1, 1):\n",
    "        \n",
    "    error_i = []\n",
    "    for train, validation in kf.split(X_train):\n",
    "        \n",
    "        #-- selection\n",
    "        indices = np.argsort(ranking)[::-1] \n",
    "        selected = indices[0:(D-n+1)]\n",
    "        Xs = X_train[:,selected]\n",
    "        \n",
    "        #-- fit on selected features\n",
    "        lr = LogisticRegression(**lr_params, random_state = 8,penalty='l1', solver='liblinear', max_iter = 1000)\n",
    "        lr.fit(Xs[train],y_train2[train])\n",
    "        prediction = lr.predict(Xs[validation])\n",
    "        error = mean_squared_error(y_train2[validation], prediction)\n",
    "        error_i.append(error) \n",
    "            \n",
    "    cv_error.append(np.mean(error_i))\n",
    "    cv_std.append(np.std(error_i))"
   ]
  },
  {
   "cell_type": "code",
   "execution_count": null,
   "metadata": {
    "ExecuteTime": {
     "end_time": "2022-12-12T21:08:30.731273Z",
     "start_time": "2022-12-12T21:08:30.718896Z"
    }
   },
   "outputs": [],
   "source": [
    "cv_error"
   ]
  },
  {
   "cell_type": "code",
   "execution_count": null,
   "metadata": {
    "ExecuteTime": {
     "end_time": "2022-12-12T21:08:51.350634Z",
     "start_time": "2022-12-12T21:08:51.329217Z"
    },
    "id": "qqI10XCl1Dfa"
   },
   "outputs": [],
   "source": [
    "index_lr = 13"
   ]
  },
  {
   "cell_type": "markdown",
   "metadata": {
    "id": "W6WIvL0R06H7"
   },
   "source": [
    "#### DT"
   ]
  },
  {
   "cell_type": "code",
   "execution_count": null,
   "metadata": {
    "ExecuteTime": {
     "end_time": "2022-12-12T21:09:05.676733Z",
     "start_time": "2022-12-12T21:09:05.575943Z"
    },
    "colab": {
     "base_uri": "https://localhost:8080/",
     "height": 371
    },
    "id": "z8eVWTXF1Di6",
    "outputId": "007d4b69-00c3-45c1-a375-411855691b35"
   },
   "outputs": [],
   "source": [
    "### DT\n",
    "\n",
    "N, D = x_train_norm.shape\n",
    "\n",
    "dt = DecisionTreeClassifier(**dt_params,random_state=8)\n",
    "kf = KFold(n_splits=3, shuffle = True, random_state=8)\n",
    "\n",
    "cv_error = []\n",
    "cv_std = []\n",
    "\n",
    "for n in range(1, D+1, 1):\n",
    "        \n",
    "    error_i = []\n",
    "    for train, validation in kf.split(X_train):\n",
    "        \n",
    "        #-- selection\n",
    "        indices = np.argsort(ranking)[::-1] \n",
    "        selected = indices[0:(D-n+1)]\n",
    "        Xs = X_train[:,selected]\n",
    "        \n",
    "        #-- fit on selected features\n",
    "        dt.fit(Xs[train],y_train2[train])\n",
    "        prediction = dt.predict(Xs[validation])\n",
    "        error = mean_squared_error(y_train2[validation], prediction)\n",
    "        error_i.append(error) \n",
    "            \n",
    "    cv_error.append(np.mean(error_i))\n",
    "    cv_std.append(np.std(error_i))"
   ]
  },
  {
   "cell_type": "code",
   "execution_count": null,
   "metadata": {
    "ExecuteTime": {
     "end_time": "2022-12-12T21:09:08.479783Z",
     "start_time": "2022-12-12T21:09:08.465488Z"
    }
   },
   "outputs": [],
   "source": [
    "cv_error"
   ]
  },
  {
   "cell_type": "code",
   "execution_count": null,
   "metadata": {
    "ExecuteTime": {
     "end_time": "2022-12-12T21:09:52.478091Z",
     "start_time": "2022-12-12T21:09:52.463916Z"
    },
    "id": "oqTZqYDF01VL"
   },
   "outputs": [],
   "source": [
    "index_dt = 10"
   ]
  },
  {
   "cell_type": "code",
   "execution_count": null,
   "metadata": {
    "ExecuteTime": {
     "end_time": "2022-12-12T21:09:57.584343Z",
     "start_time": "2022-12-12T21:09:57.570327Z"
    },
    "id": "IfE0nQtb1O8A"
   },
   "outputs": [],
   "source": [
    "knnw_list = ranking[0:index_knn]\n",
    "dtw_list = ranking[0:index_dt]\n",
    "lrw_list = ranking[0:index_lr]"
   ]
  },
  {
   "cell_type": "markdown",
   "metadata": {
    "id": "fe172zQQ1Q-A"
   },
   "source": [
    "<div class=\"alert alert-block alert-warning\">\n",
    "    \n",
    "### FEATURE SELECTION RESULTS\n",
    "    \n",
    "</div>"
   ]
  },
  {
   "cell_type": "code",
   "execution_count": null,
   "metadata": {
    "ExecuteTime": {
     "end_time": "2022-12-12T21:10:00.127160Z",
     "start_time": "2022-12-12T21:10:00.109620Z"
    },
    "id": "pl2AZasj1VfW"
   },
   "outputs": [],
   "source": [
    "def results_fs(listoflists):\n",
    "\n",
    "    maxLength = max(map(len, listoflists))\n",
    "\n",
    "    for i in listoflists:\n",
    "        b = ['---'] * (maxLength-len(i))\n",
    "        i.extend(b)\n",
    "\n",
    "    results = pd.DataFrame(listoflists)\n",
    "    results = results.transpose()\n",
    "    results[\"Order of importance\"] = range(0, maxLength)\n",
    "    results.set_index(\"Order of importance\", inplace=True)\n",
    "\n",
    "    freq = list(np.unique(results.values, return_counts=True)[1][1:])\n",
    "    variables = list(np.unique(results.values, return_counts=True)[0][1:])\n",
    "\n",
    "    dff = pd.DataFrame({\"Var\":variables,\"Score\":freq})\n",
    "    plt.figure(figsize=(20,10))\n",
    "    sns.barplot(x='Var', y=\"Score\", data=dff, order=dff.sort_values('Score',ascending = False).Var, color = \"blue\")\n",
    "    plt.xticks(rotation=90)\n",
    "    plt.xlabel('Features')\n",
    "    plt.ylabel('Feature frequency on FS methods')\n",
    "    plt.title('Feature frequency on FS methods')\n",
    "    plt.show()\n",
    "\n",
    "    ordered = dff.sort_values('Score',ascending = False)\n",
    "\n",
    "    return results, ordered"
   ]
  },
  {
   "cell_type": "code",
   "execution_count": null,
   "metadata": {
    "ExecuteTime": {
     "end_time": "2022-12-12T21:10:06.837426Z",
     "start_time": "2022-12-12T21:10:06.550367Z"
    },
    "colab": {
     "base_uri": "https://localhost:8080/",
     "height": 418
    },
    "id": "YCA85lXG1VkX",
    "outputId": "2896de06-474f-48f3-9719-c3d124487ec0"
   },
   "outputs": [],
   "source": [
    "results, ordered = results_fs([mutualinfo_var,chi2_var,dt_var,rf_var,lr_var, knnw_list, dtw_list, lrw_list])"
   ]
  },
  {
   "cell_type": "code",
   "execution_count": null,
   "metadata": {
    "ExecuteTime": {
     "end_time": "2022-12-12T21:13:18.180495Z",
     "start_time": "2022-12-12T21:13:18.169267Z"
    },
    "id": "lVlUzx-03pHa"
   },
   "outputs": [],
   "source": [
    "selectedvariablesmi = [\"FullAdverse\",\"DawnMedian\", \"DawnSumValues\", \"DawnVar\", \"NightMedian\",\"AftVar\",\"NightHyper\",\n",
    "                       \"DawnHypo\", \"MorningEntropy\", \"MorningHypo\",\"NightHypo\"]"
   ]
  },
  {
   "cell_type": "code",
   "execution_count": null,
   "metadata": {},
   "outputs": [],
   "source": [
    "F\\_Adverse, N\\_Median, N\\_Sum, N\\_Var, E\\_Median, A\\_Var, E\\_Hyper, N\\_Hypo, M\\_Entropy, M\\_Hypo, E\\_Hypo"
   ]
  },
  {
   "cell_type": "code",
   "execution_count": null,
   "metadata": {
    "ExecuteTime": {
     "end_time": "2022-12-12T21:13:33.298516Z",
     "start_time": "2022-12-12T21:13:33.273779Z"
    },
    "id": "aetYhADJqVNr"
   },
   "outputs": [],
   "source": [
    "selection_res = pd.DataFrame()\n",
    "names = [\"Mutual Information\",\"Chi Squared Test of Independence\", \"DT FI\", \"RF FI\", \"LR FI\", \"KNN Wrapper\", \"DT Wrapper\", \"LR Wrapper\"]\n",
    "e = 0\n",
    "for i in [mutualinfo_var,chi2_var,dt_var,rf_var,lr_var, knnw_list, dtw_list, lrw_list]:\n",
    "    selection_res[names[e]] = i\n",
    "    e = e + 1"
   ]
  },
  {
   "cell_type": "code",
   "execution_count": null,
   "metadata": {
    "ExecuteTime": {
     "end_time": "2022-12-12T23:07:51.922944Z",
     "start_time": "2022-12-12T23:07:51.879205Z"
    },
    "colab": {
     "base_uri": "https://localhost:8080/",
     "height": 543
    },
    "id": "zitXrki1qVNr",
    "outputId": "3ac3a0ab-9d19-4cda-fe9b-e416319c293d"
   },
   "outputs": [],
   "source": [
    "selection_res[:]"
   ]
  },
  {
   "cell_type": "code",
   "execution_count": null,
   "metadata": {
    "ExecuteTime": {
     "end_time": "2022-12-19T16:51:43.606831Z",
     "start_time": "2022-12-19T16:51:41.076409Z"
    }
   },
   "outputs": [],
   "source": [
    "import pandas as pd\n",
    "import matplotlib.pyplot as plt\n",
    "import seaborn as sns"
   ]
  },
  {
   "cell_type": "code",
   "execution_count": null,
   "metadata": {
    "ExecuteTime": {
     "end_time": "2022-12-19T16:51:44.650573Z",
     "start_time": "2022-12-19T16:51:44.579135Z"
    }
   },
   "outputs": [],
   "source": [
    "overall_selection = pd.DataFrame()\n",
    "overall_selection['Device']= ['Fingerprick', 'Eversense', 'FSL']\n",
    "overall_selection['F_Adverse']= [8, 7, 6]\n",
    "overall_selection['N_Median']= [7, 6, 4]\n",
    "overall_selection['N_Var']= [6, 6, 5]\n",
    "overall_selection['A_Var']= [5, 4, 6]\n",
    "overall_selection['M_Var']= [1, 5, 6]\n",
    "overall_selection['E_Hypo']= [4, 4, 4]\n",
    "overall_selection['M_Sum']  = [0, 4, 7]\n",
    "overall_selection['E_Median']= [6, 3, 1]\n",
    "overall_selection['M_Entropy']= [4, 4, 0]\n",
    "overall_selection['M_Hypo']= [3, 4, 1]\n",
    "overall_selection['E_Var']= [2, 4, 2]\n",
    "overall_selection['N_Sum']      = [6, 0, 0]\n",
    "overall_selection['E_Hyper']= [5, 0, 1]\n",
    "overall_selection['N_Hypo']= [4, 2, 0]\n",
    "overall_selection['N_Adverse']= [0, 6, 0]\n",
    "overall_selection['A_Hypo']= [1, 0, 4]\n",
    "overall_selection['M_Median']= [1, 3, 0]\n",
    "overall_selection['F_Sum']    = [0, 4, 0]\n",
    "overall_selection['E_Sum']    = [0, 4, 0]\n",
    "overall_selection['N_Hyper']   = [0, 0, 4]\n",
    "overall_selection['N_Entropy']  = [0, 0, 3]\n",
    "overall_selection['A_Adverse']= [1, 2, 0]\n",
    "overall_selection['F_Entropy']  = [0, 0, 2]\n",
    "overall_selection.set_index(['Device'], inplace = True)"
   ]
  },
  {
   "cell_type": "code",
   "execution_count": null,
   "metadata": {
    "ExecuteTime": {
     "end_time": "2022-12-19T16:51:45.915094Z",
     "start_time": "2022-12-19T16:51:45.890724Z"
    }
   },
   "outputs": [],
   "source": [
    "plt.rcdefaults()"
   ]
  },
  {
   "cell_type": "code",
   "execution_count": null,
   "metadata": {
    "ExecuteTime": {
     "end_time": "2022-12-19T16:51:46.230048Z",
     "start_time": "2022-12-19T16:51:46.213141Z"
    }
   },
   "outputs": [],
   "source": [
    "font = {'size' : 14}\n",
    "plt.rc('font', **font)"
   ]
  },
  {
   "cell_type": "code",
   "execution_count": null,
   "metadata": {
    "ExecuteTime": {
     "end_time": "2022-12-19T16:55:52.864399Z",
     "start_time": "2022-12-19T16:55:51.973758Z"
    }
   },
   "outputs": [],
   "source": [
    "plt.figure(figsize = (20,2))\n",
    "plt.tight_layout()\n",
    "ax = sns.heatmap(overall_selection, annot = True)\n",
    "bottom, top = ax.get_ylim()\n",
    "ax.set_ylim(bottom, top - 0.5)\n",
    "plt.xticks(rotation = 45,fontsize = 14)\n",
    "plt.yticks(fontsize = 14)\n",
    "plt.savefig('feature_selection_Results.png', bbox_inches='tight')"
   ]
  },
  {
   "cell_type": "code",
   "execution_count": null,
   "metadata": {
    "ExecuteTime": {
     "end_time": "2022-12-18T21:25:44.064506Z",
     "start_time": "2022-12-18T21:25:43.888592Z"
    }
   },
   "outputs": [],
   "source": [
    "overall_selection.to_excel('heatmap_features.xlsx')"
   ]
  },
  {
   "cell_type": "markdown",
   "metadata": {
    "id": "Fzv-Em4gyDll"
   },
   "source": [
    "<div class=\"alert alert-block alert-warning\">\n",
    "    \n",
    "# GENERAL EVALUATION\n",
    "    \n",
    "</div>"
   ]
  },
  {
   "cell_type": "code",
   "execution_count": null,
   "metadata": {
    "ExecuteTime": {
     "end_time": "2022-12-13T09:28:31.147777Z",
     "start_time": "2022-12-13T09:28:31.135598Z"
    },
    "colab": {
     "base_uri": "https://localhost:8080/"
    },
    "id": "BSCu_r1fMAsp",
    "outputId": "294735a7-0b4b-40d6-fbda-eceb65363cb4"
   },
   "outputs": [],
   "source": [
    "loo = LeaveOneOut()\n",
    "loo.get_n_splits(X_train)"
   ]
  },
  {
   "cell_type": "code",
   "execution_count": null,
   "metadata": {
    "ExecuteTime": {
     "end_time": "2022-12-13T09:28:33.266561Z",
     "start_time": "2022-12-13T09:28:33.224625Z"
    },
    "id": "gkp8CyNeMAwa"
   },
   "outputs": [],
   "source": [
    "lr_param_grid = {\"penalty\": [\"l1\", \"l2\", \"none\"],\n",
    "                \"C\": [0.01, 0.001, 0.1, 1, 10]}\n",
    "\n",
    "svm_param_grid = {\"kernel\": [\"linear\", \"poly\", \"rbf\", \"sigmoid\"],\n",
    "                 \"C\": [0.01, 0.001, 0.1, 1, 10],\n",
    "                 \"gamma\": [0.01, 0.001, 0.1, 1, 10]}\n",
    "\n",
    "dt_param_grid = {\"criterion\": [\"gini\", \"entropy\"],\n",
    "                \"max_depth\": [2,3,4,5,6,7,8],\n",
    "                \"min_samples_split\": [2,3,4,5,6,7,8,9,10],\n",
    "                \"min_samples_leaf\": [2,3,4,5,6,7,8,9,10]}\n",
    "\n",
    "rf_param_grid = {\"n_estimators\":np.arange(1,25,5),\n",
    "                \"criterion\": [\"gini\", \"entropy\"],\n",
    "                \"max_depth\": [2,3,4,5,6],\n",
    "                \"min_samples_split\": [2,3,4,5,6],\n",
    "                \"min_samples_leaf\": [2,3,4,5,6]}"
   ]
  },
  {
   "cell_type": "code",
   "execution_count": null,
   "metadata": {
    "ExecuteTime": {
     "end_time": "2022-12-13T09:28:35.426370Z",
     "start_time": "2022-12-13T09:28:35.391834Z"
    },
    "colab": {
     "base_uri": "https://localhost:8080/"
    },
    "id": "J22sEPch2OCU",
    "outputId": "5ebce2de-fb32-4672-937b-811015c66265",
    "scrolled": true
   },
   "outputs": [],
   "source": [
    "shap.initjs()"
   ]
  },
  {
   "cell_type": "markdown",
   "metadata": {
    "id": "U615ESiS8FyC"
   },
   "source": [
    "<div class=\"alert alert-block alert-warning\">\n",
    "    \n",
    "## REPEATED EVALUATION\n",
    "    \n",
    "</div>"
   ]
  },
  {
   "cell_type": "code",
   "execution_count": null,
   "metadata": {
    "ExecuteTime": {
     "end_time": "2022-12-13T09:28:37.637977Z",
     "start_time": "2022-12-13T09:28:37.618448Z"
    },
    "id": "l4kamuzJyDqw"
   },
   "outputs": [],
   "source": [
    "def meanl(p):\n",
    "    globallist = []\n",
    "\n",
    "    for idx in range(len(p[0])):\n",
    "        listametric = []\n",
    "        for lst in p:\n",
    "            listametric.append(lst[idx])\n",
    "        media = np.round(np.mean(listametric),3)\n",
    "        desv = np.round(np.std(listametric),3)\n",
    "        name = str(media) + \"+/-\" + str(desv)\n",
    "        globallist.append(name)\n",
    "\n",
    "    return globallist"
   ]
  },
  {
   "cell_type": "code",
   "execution_count": null,
   "metadata": {
    "ExecuteTime": {
     "end_time": "2022-12-13T09:45:44.279112Z",
     "start_time": "2022-12-13T09:45:44.201679Z"
    }
   },
   "outputs": [],
   "source": [
    "def repeated_evaluation(classifier_name, tabdf_later, selected_variables):\n",
    "    acc = []\n",
    "    f1list = []\n",
    "    sensitivitylist = []\n",
    "    specificitylist = []\n",
    "    MAX_ITERS = 20000\n",
    "    train_indexes = [[22, 21, 2, 10, 1, 3, 6, 11, 24, 9, 19, 8, 5, 17, 25, 14], [6, 4, 21, 24, 10, 18, 9, 1, 14, 23, 3, 13, 17, 11, 25, 8], [10, 25, 19, 24, 13, 8, 6, 18, 21, 11, 14, 17, 9, 5, 23, 2], [17, 18, 9, 19, 3, 12, 14, 23, 20, 24, 5, 13, 11, 4, 2, 15], [2, 24, 13, 10, 19, 5, 8, 4, 25, 3, 18, 12, 20, 21, 1, 22]]\n",
    "    test_indexes = [[12, 13, 15, 18, 20, 23], [2, 5, 12, 15, 19, 20, 22], [1, 3, 4, 12, 15, 20, 22], [1, 6, 8, 10, 21, 22, 25], [6, 9, 11, 14, 15, 17, 23]]\n",
    "#     print('preee', selected_variables)\n",
    "    selected_variables.append(\"Patients\")\n",
    "#     print('pooost', selected_variables)\n",
    "    \n",
    "    X = tabdf_later[selected_variables]\n",
    "    y = tabdf_later[[\"Cat\", \"Patients\"]]\n",
    "    \n",
    "    for idx, values in enumerate(train_indexes):\n",
    "        X_train = X[X[\"Patients\"].isin(train_indexes[idx])]\n",
    "        X_train = X_train[selected_variables]\n",
    "        \n",
    "#         print('traaain', X_train.columns)\n",
    "        X_train.drop('Patients', axis = 1, inplace = True)\n",
    "        X_test = X[X[\"Patients\"].isin(test_indexes[idx])]\n",
    "        X_test = X_test[selected_variables]\n",
    "        X_test.drop('Patients', axis = 1,inplace = True)\n",
    "        y_train = y[y[\"Patients\"].isin(train_indexes[idx])]\n",
    "        y_train = y_train['Cat']\n",
    "        y_test = y[y[\"Patients\"].isin(test_indexes[idx])]\n",
    "        y_test = y_test['Cat']\n",
    "        \n",
    "        scaler = StandardScaler()\n",
    "        x_train_raw = X_train.copy()\n",
    "        x_test_raw = X_test.copy()\n",
    "        scaler.fit(X_train)\n",
    "        X_train_norm = pd.DataFrame(data = scaler.transform(X_train), columns = list(x_train_raw.columns))\n",
    "        X_test_norm = pd.DataFrame(data = scaler.transform(X_test), columns = list(x_train_raw.columns))\n",
    "\n",
    "        seed_value = 8\n",
    "\n",
    "        if classifier_name == 'svm':\n",
    "            dict_param_grid_classifier = {'C': np.linspace(0.01, 10),'gamma': ['auto', 'scale']}\n",
    "            \n",
    "            grid = GridSearchCV(SVC(max_iter=MAX_ITERS, random_state=seed_value, probability = True), dict_param_grid_classifier, cv = loo, scoring = 'accuracy',return_train_score=True)\n",
    "            grid.fit(X_train_norm,y_train)\n",
    "            best_params = grid.best_params_\n",
    "\n",
    "            modelo = SVC(**best_params, max_iter=MAX_ITERS, random_state=seed_value, probability = True).fit(X_train_norm, y_train)\n",
    "            y_pred = modelo.predict(X_test_norm)\n",
    "\n",
    "            acc_test = acc.append(accuracy_score(y_test, y_pred))\n",
    "            f1list.append(f1_score(y_test, y_pred))               \n",
    "            cmknn = confusion_matrix(y_test,y_pred)\n",
    "            sensitivitylist.append(cmknn[0][0]/(cmknn[0][0]+cmknn[1][0]))\n",
    "            specificitylist.append(cmknn[1][1]/(cmknn[1][1]+cmknn[0][1]))\n",
    "            \n",
    "            # SHAP\n",
    "            explainer = shap.KernelExplainer(modelo.predict_proba, X_test_norm)\n",
    "            shap_values = explainer.shap_values(X_test_norm)\n",
    "            shap_expected = explainer.expected_value\n",
    "            plt.figure()\n",
    "            shap.summary_plot(shap_values[1], X_test_norm, plot_type=\"bar\", show = False)\n",
    "            name_sum = 'fp_shapbar_'+classifier_name+str(idx)+'.pdf'\n",
    "            plt.savefig(name_sum, bbox_inches='tight')\n",
    "\n",
    "\n",
    "        elif classifier_name == 'knn':\n",
    "            dict_param_grid_classifier = {'n_neighbors': np.arange(1, 12, 1)}\n",
    "            grid = GridSearchCV(KNeighborsClassifier(), dict_param_grid_classifier, cv = loo, scoring = 'accuracy',return_train_score=True)\n",
    "            grid.fit(X_train_norm,y_train)\n",
    "            best_params = grid.best_params_\n",
    "\n",
    "            modelo = KNeighborsClassifier(**best_params).fit(X_train_norm, y_train)\n",
    "            y_pred = modelo.predict(X_test_norm)\n",
    "\n",
    "            acc_test = acc.append(accuracy_score(y_test, y_pred))\n",
    "            f1list.append(f1_score(y_test, y_pred))               \n",
    "            cmknn = confusion_matrix(y_test,y_pred)\n",
    "            sensitivitylist.append(cmknn[0][0]/(cmknn[0][0]+cmknn[1][0]))\n",
    "            specificitylist.append(cmknn[1][1]/(cmknn[1][1]+cmknn[0][1]))\n",
    "            \n",
    "            # SHAP\n",
    "            explainer = shap.KernelExplainer(modelo.predict_proba, X_test_norm)\n",
    "            shap_values = explainer.shap_values(X_test_norm)\n",
    "#             print(shap_values)\n",
    "            shap_expected = explainer.expected_value\n",
    "#             print(shap_expected)\n",
    "\n",
    "            plt.figure()\n",
    "            shap.summary_plot(shap_values[1], X_test_norm, plot_type=\"bar\", show = False)\n",
    "            name_sum = 'fp_shapbar_'+classifier_name+str(idx)+'.pdf'\n",
    "            plt.savefig(name_sum, bbox_inches='tight')\n",
    "\n",
    "\n",
    "        elif classifier_name == 'lr':\n",
    "            dict_param_grid_classifier = {'penalty': ['l1', 'l2', 'elasticnet', None]}\n",
    "            grid = GridSearchCV(LogisticRegression(random_state=seed_value), dict_param_grid_classifier, cv = loo, scoring = 'accuracy',return_train_score=True)\n",
    "            grid.fit(X_train_norm,y_train)\n",
    "            best_params = grid.best_params_\n",
    "\n",
    "            modelo = LogisticRegression(**best_params,random_state=seed_value).fit(X_train_norm, y_train)\n",
    "            y_pred = modelo.predict(X_test_norm)\n",
    "\n",
    "            acc_test = acc.append(accuracy_score(y_test, y_pred))\n",
    "            f1list.append(f1_score(y_test, y_pred))               \n",
    "            cmknn = confusion_matrix(y_test,y_pred)\n",
    "            sensitivitylist.append(cmknn[0][0]/(cmknn[0][0]+cmknn[1][0]))\n",
    "            specificitylist.append(cmknn[1][1]/(cmknn[1][1]+cmknn[0][1]))\n",
    "            \n",
    "            # SHAP\n",
    "            explainer = shap.KernelExplainer(modelo.predict_proba, X_test_norm)\n",
    "            shap_values = explainer.shap_values(X_test_norm)\n",
    "#             print(shap_values)\n",
    "            shap_expected = explainer.expected_value\n",
    "#             print(shap_expected)\n",
    "\n",
    "            plt.figure()\n",
    "            shap.summary_plot(shap_values[1], X_test_norm, plot_type=\"bar\", show = False)\n",
    "            name_sum = 'fp_shapbar_'+classifier_name+str(idx)+'.pdf'\n",
    "            plt.savefig(name_sum, bbox_inches='tight')\n",
    "\n",
    "        \n",
    "    print('acc',np.mean(acc), np.std(acc))\n",
    "    print('sensit',np.mean(sensitivitylist), np.std(sensitivitylist))\n",
    "    print('specfic',np.mean(specificitylist), np.std(specificitylist))\n",
    "    print('f1',np.mean(f1list), np.std(f1list))"
   ]
  },
  {
   "cell_type": "code",
   "execution_count": null,
   "metadata": {
    "ExecuteTime": {
     "end_time": "2022-12-12T21:14:01.124479Z",
     "start_time": "2022-12-12T21:14:01.112486Z"
    }
   },
   "outputs": [],
   "source": [
    "random.seed(3)\n",
    "np.random.seed(3)"
   ]
  },
  {
   "cell_type": "code",
   "execution_count": null,
   "metadata": {
    "ExecuteTime": {
     "end_time": "2022-12-12T21:14:05.732173Z",
     "start_time": "2022-12-12T21:14:03.841942Z"
    }
   },
   "outputs": [],
   "source": [
    "selectedvar = [\"FullAdverse\",\"DawnMedian\", \"DawnSumValues\", \"DawnVar\", \"NightMedian\",\"AftVar\",\"NightHyper\",\n",
    "                       \"DawnHypo\", \"MorningEntropy\", \"MorningHypo\",\"NightHypo\"]\n",
    "repeated_evaluation('lr', tabdf_later, selectedvar)"
   ]
  },
  {
   "cell_type": "code",
   "execution_count": null,
   "metadata": {
    "ExecuteTime": {
     "end_time": "2022-12-12T21:14:33.451892Z",
     "start_time": "2022-12-12T21:14:21.610542Z"
    }
   },
   "outputs": [],
   "source": [
    "selectedvar = [\"FullAdverse\",\"DawnMedian\", \"DawnSumValues\", \"DawnVar\", \"NightMedian\",\"AftVar\",\"NightHyper\",\n",
    "                       \"DawnHypo\", \"MorningEntropy\", \"MorningHypo\",\"NightHypo\"]\n",
    "repeated_evaluation('knn', tabdf_later, selectedvar)"
   ]
  },
  {
   "cell_type": "code",
   "execution_count": null,
   "metadata": {
    "ExecuteTime": {
     "end_time": "2022-12-13T09:50:54.520890Z",
     "start_time": "2022-12-13T09:45:47.919475Z"
    }
   },
   "outputs": [],
   "source": [
    "selectedvar = [\"FullAdverse\",\"DawnMedian\", \"DawnSumValues\", \"DawnVar\", \"NightMedian\",\"AftVar\",\"NightHyper\",\n",
    "                       \"DawnHypo\", \"MorningEntropy\", \"MorningHypo\",\"NightHypo\"]\n",
    "repeated_evaluation('svm', tabdf_later, selectedvar)"
   ]
  },
  {
   "cell_type": "markdown",
   "metadata": {
    "id": "47wxZVG5qVNy"
   },
   "source": [
    "<div class=\"alert alert-block alert-warning\">\n",
    "    \n",
    "# MORNING EVALUATION\n",
    "    \n",
    "</div>"
   ]
  },
  {
   "cell_type": "code",
   "execution_count": null,
   "metadata": {
    "ExecuteTime": {
     "end_time": "2022-12-12T20:32:22.665061Z",
     "start_time": "2022-12-12T20:32:22.651160Z"
    },
    "id": "9Ew5_WF_qVNy"
   },
   "outputs": [],
   "source": [
    "morning_feat = [i for i in tabdf_full.columns if \"Morn\" in i]\n",
    "morning_feat.append(\"Cat\")\n",
    "morning_feat.append(\"Patients\")"
   ]
  },
  {
   "cell_type": "code",
   "execution_count": null,
   "metadata": {
    "ExecuteTime": {
     "end_time": "2022-12-12T20:32:25.264765Z",
     "start_time": "2022-12-12T20:32:25.249065Z"
    },
    "id": "kVMoNIhfqVNy"
   },
   "outputs": [],
   "source": [
    "tabdf = tabdf_full\n",
    "tabdf = tabdf[morning_feat]"
   ]
  },
  {
   "cell_type": "code",
   "execution_count": null,
   "metadata": {
    "ExecuteTime": {
     "end_time": "2022-12-12T20:32:27.995015Z",
     "start_time": "2022-12-12T20:32:27.953788Z"
    },
    "colab": {
     "base_uri": "https://localhost:8080/"
    },
    "id": "ZNGKd4zmqVNz",
    "outputId": "7c15e1da-cf7e-4cca-8e91-2d73dae2d9b2"
   },
   "outputs": [],
   "source": [
    "tabdf[\"Patients\"] = list(tabdf.index)"
   ]
  },
  {
   "cell_type": "code",
   "execution_count": null,
   "metadata": {
    "ExecuteTime": {
     "end_time": "2022-12-12T20:32:31.667021Z",
     "start_time": "2022-12-12T20:32:30.738985Z"
    },
    "id": "qxyyjLwRqVNz"
   },
   "outputs": [],
   "source": [
    "corr_matrix = tabdf.corr()\n",
    "# plt.figure(figsize = (40,40))\n",
    "#sns.heatmap(corr_matrix, annot = True)\n",
    "\n",
    "corr_pairs = corr_matrix.unstack()\n",
    "\n",
    "sorted_pairs = corr_pairs.sort_values(kind=\"quicksort\")\n",
    "\n",
    "# g = sorted_pairs.hist(bins = 100)"
   ]
  },
  {
   "cell_type": "code",
   "execution_count": null,
   "metadata": {
    "ExecuteTime": {
     "end_time": "2022-12-12T20:32:34.601951Z",
     "start_time": "2022-12-12T20:32:34.589485Z"
    },
    "id": "YP2-wCnqqVNz"
   },
   "outputs": [],
   "source": [
    "upper_pairs = sorted_pairs[(sorted_pairs >= 0.85) & (sorted_pairs != 1)]\n",
    "upper = pd.DataFrame(upper_pairs)\n",
    "upper.columns = [\"Corr\"]"
   ]
  },
  {
   "cell_type": "code",
   "execution_count": null,
   "metadata": {
    "ExecuteTime": {
     "end_time": "2022-12-12T20:32:37.990913Z",
     "start_time": "2022-12-12T20:32:37.977181Z"
    },
    "colab": {
     "base_uri": "https://localhost:8080/"
    },
    "id": "2LA8ceSsqVNz",
    "outputId": "14dd67d4-9239-423f-a349-28de98641824"
   },
   "outputs": [],
   "source": [
    "upper_res = upper.drop_duplicates(subset=['Corr'], keep='first')\n",
    "print(upper_res)"
   ]
  },
  {
   "cell_type": "code",
   "execution_count": null,
   "metadata": {
    "ExecuteTime": {
     "end_time": "2022-12-12T20:32:40.842833Z",
     "start_time": "2022-12-12T20:32:40.828066Z"
    },
    "colab": {
     "base_uri": "https://localhost:8080/"
    },
    "id": "BcT2gUzmqVNz",
    "outputId": "0151daf5-420a-48f9-c380-fdb68bd05761"
   },
   "outputs": [],
   "source": [
    "eliminate_feat = [i[0] for i in upper_res.index]"
   ]
  },
  {
   "cell_type": "code",
   "execution_count": null,
   "metadata": {
    "ExecuteTime": {
     "end_time": "2022-12-12T20:32:43.553905Z",
     "start_time": "2022-12-12T20:32:43.519477Z"
    },
    "id": "3a0G3yMrqVNz"
   },
   "outputs": [],
   "source": [
    "tabdf.drop(eliminate_feat, axis = 1, inplace= True)"
   ]
  },
  {
   "cell_type": "code",
   "execution_count": null,
   "metadata": {
    "ExecuteTime": {
     "end_time": "2022-12-12T20:32:46.228425Z",
     "start_time": "2022-12-12T20:32:46.216796Z"
    }
   },
   "outputs": [],
   "source": [
    "tabdf.columns"
   ]
  },
  {
   "cell_type": "code",
   "execution_count": null,
   "metadata": {
    "ExecuteTime": {
     "end_time": "2022-12-12T20:42:24.425777Z",
     "start_time": "2022-12-12T20:42:22.626991Z"
    }
   },
   "outputs": [],
   "source": [
    "selectedvariablesmi = ['MorningSumValues', 'MorningMedian', 'MorningVar', 'MorningHypo','MorningAdverse']\n",
    "repeated_evaluation('lr', tabdf_later, selectedvariablesmi)"
   ]
  },
  {
   "cell_type": "code",
   "execution_count": null,
   "metadata": {
    "ExecuteTime": {
     "end_time": "2022-12-12T20:42:40.430960Z",
     "start_time": "2022-12-12T20:42:26.196633Z"
    }
   },
   "outputs": [],
   "source": [
    "selectedvariablesmi = ['MorningSumValues', 'MorningMedian', 'MorningVar', 'MorningHypo','MorningAdverse']\n",
    "repeated_evaluation('knn', tabdf_later, selectedvariablesmi)"
   ]
  },
  {
   "cell_type": "code",
   "execution_count": null,
   "metadata": {
    "ExecuteTime": {
     "end_time": "2022-12-12T20:44:27.958365Z",
     "start_time": "2022-12-12T20:42:43.039962Z"
    }
   },
   "outputs": [],
   "source": [
    "selectedvariablesmi = ['MorningSumValues', 'MorningMedian', 'MorningVar', 'MorningHypo','MorningAdverse']\n",
    "repeated_evaluation('svm', tabdf_later, selectedvariablesmi)"
   ]
  },
  {
   "cell_type": "markdown",
   "metadata": {
    "id": "pivfB-DNqVOA"
   },
   "source": [
    "\n",
    "---\n",
    "\n",
    "\n"
   ]
  },
  {
   "cell_type": "markdown",
   "metadata": {
    "id": "6twtIKaFqVOC"
   },
   "source": [
    "<div class=\"alert alert-block alert-warning\">\n",
    "    \n",
    "# AFTERNOON EVALUATION\n",
    "    \n",
    "</div>"
   ]
  },
  {
   "cell_type": "code",
   "execution_count": null,
   "metadata": {
    "ExecuteTime": {
     "end_time": "2022-12-12T20:44:34.734632Z",
     "start_time": "2022-12-12T20:44:34.692575Z"
    },
    "colab": {
     "base_uri": "https://localhost:8080/"
    },
    "id": "09tAZazAqVOC",
    "outputId": "5054039d-f78e-4ba3-870e-a2bf97f80538"
   },
   "outputs": [],
   "source": [
    "aft_feat = [i for i in tabdf_full.columns if \"Aft\" in i]\n",
    "aft_feat.append(\"Cat\")\n",
    "aft_feat.append(\"Patients\")\n",
    "\n",
    "tabdf = tabdf_full\n",
    "tabdf = tabdf[aft_feat]\n",
    "\n",
    "tabdf[\"Patients\"] = list(tabdf.index)"
   ]
  },
  {
   "cell_type": "code",
   "execution_count": null,
   "metadata": {
    "ExecuteTime": {
     "end_time": "2022-12-12T20:44:38.635607Z",
     "start_time": "2022-12-12T20:44:38.044993Z"
    },
    "colab": {
     "base_uri": "https://localhost:8080/",
     "height": 630
    },
    "id": "LpI8xMCqqVOC",
    "outputId": "588762cf-cca8-4cd8-842d-c049d7fd680f"
   },
   "outputs": [],
   "source": [
    "corr_matrix = tabdf.corr()\n",
    "# plt.figure(figsize = (40,40))\n",
    "#sns.heatmap(corr_matrix, annot = True)\n",
    "\n",
    "corr_pairs = corr_matrix.unstack()\n",
    "\n",
    "sorted_pairs = corr_pairs.sort_values(kind=\"quicksort\")\n",
    "\n",
    "# g = sorted_pairs.hist(bins = 100)"
   ]
  },
  {
   "cell_type": "code",
   "execution_count": null,
   "metadata": {
    "ExecuteTime": {
     "end_time": "2022-12-12T20:44:41.500984Z",
     "start_time": "2022-12-12T20:44:41.486736Z"
    },
    "id": "egCPru92qVOC"
   },
   "outputs": [],
   "source": [
    "upper_pairs = sorted_pairs[(sorted_pairs >= 0.85) & (sorted_pairs != 1)]\n",
    "upper = pd.DataFrame(upper_pairs)\n",
    "upper.columns = [\"Corr\"]"
   ]
  },
  {
   "cell_type": "code",
   "execution_count": null,
   "metadata": {
    "ExecuteTime": {
     "end_time": "2022-12-12T20:44:44.284891Z",
     "start_time": "2022-12-12T20:44:44.271738Z"
    },
    "colab": {
     "base_uri": "https://localhost:8080/"
    },
    "id": "jxxN633jqVOD",
    "outputId": "707240ee-7598-4eb7-d109-a31b958c7e11"
   },
   "outputs": [],
   "source": [
    "upper_res = upper.drop_duplicates(subset=['Corr'], keep='first')\n",
    "print(upper_res)"
   ]
  },
  {
   "cell_type": "code",
   "execution_count": null,
   "metadata": {
    "ExecuteTime": {
     "end_time": "2022-12-12T20:44:47.090804Z",
     "start_time": "2022-12-12T20:44:47.078284Z"
    },
    "colab": {
     "base_uri": "https://localhost:8080/"
    },
    "id": "cD3m2ZpHqVOD",
    "outputId": "bd50464a-9ebd-4bf6-a380-e0d5565c84d5"
   },
   "outputs": [],
   "source": [
    "eliminate_feat = [i[1] for i in upper_res.index]\n",
    "eliminate_feat"
   ]
  },
  {
   "cell_type": "code",
   "execution_count": null,
   "metadata": {
    "ExecuteTime": {
     "end_time": "2022-12-12T20:44:49.992279Z",
     "start_time": "2022-12-12T20:44:49.948057Z"
    },
    "colab": {
     "base_uri": "https://localhost:8080/"
    },
    "id": "nCrKNV0BqVOD",
    "outputId": "6a159451-2b49-4da1-a978-0613f669666f"
   },
   "outputs": [],
   "source": [
    "tabdf.drop(eliminate_feat, axis = 1, inplace= True)"
   ]
  },
  {
   "cell_type": "code",
   "execution_count": null,
   "metadata": {
    "ExecuteTime": {
     "end_time": "2022-12-12T20:44:55.931036Z",
     "start_time": "2022-12-12T20:44:55.922449Z"
    }
   },
   "outputs": [],
   "source": [
    "tabdf.columns"
   ]
  },
  {
   "cell_type": "code",
   "execution_count": null,
   "metadata": {
    "ExecuteTime": {
     "end_time": "2022-12-12T20:46:16.091158Z",
     "start_time": "2022-12-12T20:46:14.207524Z"
    }
   },
   "outputs": [],
   "source": [
    "selectedvariablesmi = ['AftMedian', 'AftVar', 'AftEntropy', 'AftHyper', 'AftHypo']\n",
    "repeated_evaluation('lr', tabdf_later, selectedvariablesmi)"
   ]
  },
  {
   "cell_type": "code",
   "execution_count": null,
   "metadata": {
    "ExecuteTime": {
     "end_time": "2022-12-12T20:46:29.951225Z",
     "start_time": "2022-12-12T20:46:18.412095Z"
    }
   },
   "outputs": [],
   "source": [
    "selectedvariablesmi = ['AftMedian', 'AftVar', 'AftEntropy', 'AftHyper', 'AftHypo']\n",
    "repeated_evaluation('knn', tabdf_later, selectedvariablesmi)"
   ]
  },
  {
   "cell_type": "code",
   "execution_count": null,
   "metadata": {
    "ExecuteTime": {
     "end_time": "2022-12-12T20:48:03.944251Z",
     "start_time": "2022-12-12T20:46:32.871371Z"
    }
   },
   "outputs": [],
   "source": [
    "selectedvariablesmi = ['AftMedian', 'AftVar', 'AftEntropy', 'AftHyper', 'AftHypo']\n",
    "repeated_evaluation('svm', tabdf_later, selectedvariablesmi)"
   ]
  },
  {
   "cell_type": "markdown",
   "metadata": {
    "id": "MpUPsY54qVOL"
   },
   "source": [
    "\n",
    "---\n",
    "\n",
    "\n"
   ]
  },
  {
   "cell_type": "markdown",
   "metadata": {
    "id": "f-5t9OtzqVOO"
   },
   "source": [
    "<div class=\"alert alert-block alert-warning\">\n",
    "    \n",
    "# NIGHT EVALUATION\n",
    "    \n",
    "</div>"
   ]
  },
  {
   "cell_type": "code",
   "execution_count": null,
   "metadata": {
    "ExecuteTime": {
     "end_time": "2022-12-12T20:48:13.752732Z",
     "start_time": "2022-12-12T20:48:13.708724Z"
    },
    "colab": {
     "base_uri": "https://localhost:8080/"
    },
    "id": "qmgVSCdNqVOO",
    "outputId": "c97dc43b-69a1-4c96-ce73-8484fe8298d6"
   },
   "outputs": [],
   "source": [
    "night_feat = [i for i in tabdf_full.columns if \"Night\" in i]\n",
    "night_feat.append(\"Cat\")\n",
    "night_feat.append(\"Patients\")\n",
    "\n",
    "tabdf = tabdf_full\n",
    "tabdf = tabdf[night_feat]\n",
    "\n",
    "tabdf[\"Patients\"] = list(tabdf.index)"
   ]
  },
  {
   "cell_type": "code",
   "execution_count": null,
   "metadata": {
    "ExecuteTime": {
     "end_time": "2022-12-12T20:48:15.706467Z",
     "start_time": "2022-12-12T20:48:15.692654Z"
    },
    "colab": {
     "base_uri": "https://localhost:8080/",
     "height": 630
    },
    "id": "LpKFNAwBqVOO",
    "outputId": "bad70c1a-52e1-4346-d0e0-c0d7e0b101da"
   },
   "outputs": [],
   "source": [
    "corr_matrix = tabdf.corr()\n",
    "# plt.figure(figsize = (40,40))\n",
    "#sns.heatmap(corr_matrix, annot = True)\n",
    "\n",
    "corr_pairs = corr_matrix.unstack()\n",
    "\n",
    "sorted_pairs = corr_pairs.sort_values(kind=\"quicksort\")\n"
   ]
  },
  {
   "cell_type": "code",
   "execution_count": null,
   "metadata": {
    "ExecuteTime": {
     "end_time": "2022-12-12T20:48:17.428308Z",
     "start_time": "2022-12-12T20:48:17.415159Z"
    },
    "id": "vX6-lxo6qVOO"
   },
   "outputs": [],
   "source": [
    "upper_pairs = sorted_pairs[(sorted_pairs >= 0.85) & (sorted_pairs != 1)]\n",
    "upper = pd.DataFrame(upper_pairs)\n",
    "upper.columns = [\"Corr\"]"
   ]
  },
  {
   "cell_type": "code",
   "execution_count": null,
   "metadata": {
    "ExecuteTime": {
     "end_time": "2022-12-12T20:48:19.238208Z",
     "start_time": "2022-12-12T20:48:19.222533Z"
    },
    "colab": {
     "base_uri": "https://localhost:8080/"
    },
    "id": "DYtXBkNbqVOO",
    "outputId": "7c119ef8-c3d4-496c-e50e-33ad98ca9f3a"
   },
   "outputs": [],
   "source": [
    "upper_res = upper.drop_duplicates(subset=['Corr'], keep='first')\n",
    "print(upper_res)"
   ]
  },
  {
   "cell_type": "code",
   "execution_count": null,
   "metadata": {
    "ExecuteTime": {
     "end_time": "2022-12-12T20:48:21.610444Z",
     "start_time": "2022-12-12T20:48:21.597588Z"
    },
    "colab": {
     "base_uri": "https://localhost:8080/"
    },
    "id": "sTsFfnL1qVOP",
    "outputId": "68f55186-ab6e-4e5d-8fd9-fd8d403c885b"
   },
   "outputs": [],
   "source": [
    "eliminate_feat = [i[1] for i in upper_res.index]\n",
    "eliminate_feat"
   ]
  },
  {
   "cell_type": "code",
   "execution_count": null,
   "metadata": {
    "ExecuteTime": {
     "end_time": "2022-12-12T20:48:23.536443Z",
     "start_time": "2022-12-12T20:48:23.503896Z"
    },
    "colab": {
     "base_uri": "https://localhost:8080/"
    },
    "id": "EImn9u8_qVOP",
    "outputId": "48089fd4-2b2f-44bc-bfd4-fd4f474c8388"
   },
   "outputs": [],
   "source": [
    "tabdf.drop(eliminate_feat, axis = 1, inplace= True)"
   ]
  },
  {
   "cell_type": "code",
   "execution_count": null,
   "metadata": {
    "ExecuteTime": {
     "end_time": "2022-12-12T20:48:25.580551Z",
     "start_time": "2022-12-12T20:48:25.552562Z"
    }
   },
   "outputs": [],
   "source": [
    "tabdf.columns"
   ]
  },
  {
   "cell_type": "code",
   "execution_count": null,
   "metadata": {
    "ExecuteTime": {
     "end_time": "2022-12-12T20:55:40.814264Z",
     "start_time": "2022-12-12T20:54:19.065305Z"
    }
   },
   "outputs": [],
   "source": [
    "selectedvariablesmi = ['NightMedian', 'NightVar', 'NightEntropy', 'NightHyper', 'NightHypo']\n",
    "repeated_evaluation('lr', tabdf_later, selectedvariablesmi)"
   ]
  },
  {
   "cell_type": "code",
   "execution_count": null,
   "metadata": {
    "ExecuteTime": {
     "end_time": "2022-12-12T20:49:17.163134Z",
     "start_time": "2022-12-12T20:49:05.427347Z"
    }
   },
   "outputs": [],
   "source": [
    "selectedvariablesmi = ['NightMedian', 'NightVar', 'NightEntropy', 'NightHyper', 'NightHypo']\n",
    "repeated_evaluation('knn', tabdf_later, selectedvariablesmi)"
   ]
  },
  {
   "cell_type": "code",
   "execution_count": null,
   "metadata": {
    "ExecuteTime": {
     "end_time": "2022-12-12T20:50:42.077799Z",
     "start_time": "2022-12-12T20:49:19.046699Z"
    }
   },
   "outputs": [],
   "source": [
    "selectedvariablesmi = ['NightMedian', 'NightVar', 'NightEntropy', 'NightHyper', 'NightHypo']\n",
    "repeated_evaluation('svm', tabdf_later, selectedvariablesmi)"
   ]
  },
  {
   "cell_type": "markdown",
   "metadata": {
    "id": "eFpMFon-qVOU"
   },
   "source": [
    "\n",
    "---\n",
    "\n",
    "\n"
   ]
  },
  {
   "cell_type": "markdown",
   "metadata": {
    "id": "jLTjWR-UqVN7"
   },
   "source": [
    "<div class=\"alert alert-block alert-warning\">\n",
    "    \n",
    "# DAWN EVALUATION\n",
    "    \n",
    "</div>"
   ]
  },
  {
   "cell_type": "code",
   "execution_count": null,
   "metadata": {
    "ExecuteTime": {
     "end_time": "2022-12-12T20:50:44.797074Z",
     "start_time": "2022-12-12T20:50:44.786706Z"
    },
    "id": "KA4mUfxqqVN8"
   },
   "outputs": [],
   "source": [
    "dawn_feat = [i for i in tabdf_full.columns if \"Dawn\" in i]\n",
    "dawn_feat.append(\"Cat\")\n",
    "dawn_feat.append(\"Patients\")"
   ]
  },
  {
   "cell_type": "code",
   "execution_count": null,
   "metadata": {
    "ExecuteTime": {
     "end_time": "2022-12-12T20:50:47.672578Z",
     "start_time": "2022-12-12T20:50:47.630243Z"
    },
    "colab": {
     "base_uri": "https://localhost:8080/"
    },
    "id": "INhbc-9RqVN8",
    "outputId": "9a2eee85-2b97-499a-8dbd-7f4ee40146ac"
   },
   "outputs": [],
   "source": [
    "tabdf = tabdf_full\n",
    "tabdf = tabdf[dawn_feat]\n",
    "\n",
    "tabdf[\"Patients\"] = list(tabdf.index)"
   ]
  },
  {
   "cell_type": "code",
   "execution_count": null,
   "metadata": {
    "ExecuteTime": {
     "end_time": "2022-12-12T20:50:50.300524Z",
     "start_time": "2022-12-12T20:50:50.286440Z"
    },
    "id": "NaZNcpG0qVN8"
   },
   "outputs": [],
   "source": [
    "corr_matrix = tabdf.corr()\n",
    "#sns.heatmap(corr_matrix, annot = True)\n",
    "\n",
    "corr_pairs = corr_matrix.unstack()\n",
    "\n",
    "sorted_pairs = corr_pairs.sort_values(kind=\"quicksort\")\n"
   ]
  },
  {
   "cell_type": "code",
   "execution_count": null,
   "metadata": {
    "ExecuteTime": {
     "end_time": "2022-12-12T20:50:52.898388Z",
     "start_time": "2022-12-12T20:50:52.884940Z"
    },
    "id": "RFX8kryvqVN8"
   },
   "outputs": [],
   "source": [
    "upper_pairs = sorted_pairs[(sorted_pairs >= 0.85) & (sorted_pairs != 1)]\n",
    "upper = pd.DataFrame(upper_pairs)\n",
    "upper.columns = [\"Corr\"]"
   ]
  },
  {
   "cell_type": "code",
   "execution_count": null,
   "metadata": {
    "ExecuteTime": {
     "end_time": "2022-12-12T20:50:55.307468Z",
     "start_time": "2022-12-12T20:50:55.294467Z"
    },
    "colab": {
     "base_uri": "https://localhost:8080/"
    },
    "id": "NUXVCnqXqVN8",
    "outputId": "d5a2dbe9-507d-45ea-daeb-6a9cae7ae46a"
   },
   "outputs": [],
   "source": [
    "upper_res = upper.drop_duplicates(subset=['Corr'], keep='first')\n",
    "print(upper_res)"
   ]
  },
  {
   "cell_type": "code",
   "execution_count": null,
   "metadata": {
    "ExecuteTime": {
     "end_time": "2022-12-12T20:50:58.044397Z",
     "start_time": "2022-12-12T20:50:58.030674Z"
    },
    "colab": {
     "base_uri": "https://localhost:8080/"
    },
    "id": "PGo0EDesqVN8",
    "outputId": "56d55128-c4c2-4079-bec8-2b551cc3f558"
   },
   "outputs": [],
   "source": [
    "eliminate_feat = [i[1] for i in upper_res.index]\n",
    "eliminate_feat"
   ]
  },
  {
   "cell_type": "code",
   "execution_count": null,
   "metadata": {
    "ExecuteTime": {
     "end_time": "2022-12-12T20:51:01.003717Z",
     "start_time": "2022-12-12T20:51:00.956897Z"
    },
    "colab": {
     "base_uri": "https://localhost:8080/"
    },
    "id": "Byr2Y43pqVN8",
    "outputId": "3b520dde-db2c-4c79-fcc7-9c0c2fee65be"
   },
   "outputs": [],
   "source": [
    "tabdf.drop(eliminate_feat, axis = 1, inplace= True)"
   ]
  },
  {
   "cell_type": "code",
   "execution_count": null,
   "metadata": {
    "ExecuteTime": {
     "end_time": "2022-12-12T20:51:03.857134Z",
     "start_time": "2022-12-12T20:51:03.843732Z"
    }
   },
   "outputs": [],
   "source": [
    "tabdf.columns"
   ]
  },
  {
   "cell_type": "code",
   "execution_count": null,
   "metadata": {
    "ExecuteTime": {
     "end_time": "2022-12-12T20:51:23.962448Z",
     "start_time": "2022-12-12T20:51:22.025334Z"
    }
   },
   "outputs": [],
   "source": [
    "selectedvariablesmi =['DawnMedian', 'DawnVar', 'DawnEntropy', 'DawnHyper', 'DawnHypo']\n",
    "repeated_evaluation('lr', tabdf_later, selectedvariablesmi)"
   ]
  },
  {
   "cell_type": "code",
   "execution_count": null,
   "metadata": {
    "ExecuteTime": {
     "end_time": "2022-12-12T20:51:39.433988Z",
     "start_time": "2022-12-12T20:51:28.602824Z"
    }
   },
   "outputs": [],
   "source": [
    "selectedvariablesmi =['DawnMedian', 'DawnVar', 'DawnEntropy', 'DawnHyper', 'DawnHypo']\n",
    "repeated_evaluation('knn', tabdf_later, selectedvariablesmi)"
   ]
  },
  {
   "cell_type": "code",
   "execution_count": null,
   "metadata": {
    "ExecuteTime": {
     "end_time": "2022-12-12T20:53:07.444803Z",
     "start_time": "2022-12-12T20:51:41.235118Z"
    }
   },
   "outputs": [],
   "source": [
    "selectedvariablesmi =['DawnMedian', 'DawnVar', 'DawnEntropy', 'DawnHyper', 'DawnHypo']\n",
    "repeated_evaluation('svm', tabdf_later, selectedvariablesmi)"
   ]
  },
  {
   "cell_type": "markdown",
   "metadata": {},
   "source": [
    "---"
   ]
  },
  {
   "cell_type": "markdown",
   "metadata": {
    "id": "tRot_3viqVOb"
   },
   "source": [
    "<div class=\"alert alert-block alert-warning\">\n",
    "    \n",
    "# FULL EVALUATION\n",
    "    \n",
    "</div>"
   ]
  },
  {
   "cell_type": "code",
   "execution_count": null,
   "metadata": {
    "ExecuteTime": {
     "end_time": "2022-12-12T20:53:10.550730Z",
     "start_time": "2022-12-12T20:53:10.539388Z"
    },
    "id": "eKVX8GU9qVOb"
   },
   "outputs": [],
   "source": [
    "full_feat = [i for i in tabdf_full.columns if \"Full\" in i]\n",
    "full_feat.append(\"Cat\")\n",
    "full_feat.append(\"Patients\")"
   ]
  },
  {
   "cell_type": "code",
   "execution_count": null,
   "metadata": {
    "ExecuteTime": {
     "end_time": "2022-12-12T20:53:13.174640Z",
     "start_time": "2022-12-12T20:53:13.161119Z"
    },
    "colab": {
     "base_uri": "https://localhost:8080/"
    },
    "id": "KVRbkruFqVOb",
    "outputId": "6d9b1a69-0201-499a-bdf1-4cba5782f7af"
   },
   "outputs": [],
   "source": [
    "tabdf.columns"
   ]
  },
  {
   "cell_type": "code",
   "execution_count": null,
   "metadata": {
    "ExecuteTime": {
     "end_time": "2022-12-12T20:53:16.870617Z",
     "start_time": "2022-12-12T20:53:16.849607Z"
    },
    "id": "4znbC7qOqVOb"
   },
   "outputs": [],
   "source": [
    "tabdf = tabdf_full.copy()\n",
    "tabdf = tabdf[full_feat[:-1]]"
   ]
  },
  {
   "cell_type": "code",
   "execution_count": null,
   "metadata": {
    "ExecuteTime": {
     "end_time": "2022-12-12T20:53:18.761922Z",
     "start_time": "2022-12-12T20:53:18.748211Z"
    },
    "id": "JqD0MGYZqVOb"
   },
   "outputs": [],
   "source": [
    "tabdf[\"Patients\"] = list(tabdf.index)"
   ]
  },
  {
   "cell_type": "code",
   "execution_count": null,
   "metadata": {
    "ExecuteTime": {
     "end_time": "2022-12-12T20:53:20.786152Z",
     "start_time": "2022-12-12T20:53:20.771980Z"
    },
    "id": "lCjcekWZqVOb"
   },
   "outputs": [],
   "source": [
    "corr_matrix = tabdf.corr()\n",
    "# plt.figure(figsize = (40,40))\n",
    "corr_pairs = corr_matrix.unstack()\n",
    "sorted_pairs = corr_pairs.sort_values(kind=\"quicksort\")\n",
    "# g = sorted_pairs.hist(bins = 100)"
   ]
  },
  {
   "cell_type": "code",
   "execution_count": null,
   "metadata": {
    "ExecuteTime": {
     "end_time": "2022-12-12T20:53:22.559955Z",
     "start_time": "2022-12-12T20:53:22.546980Z"
    },
    "id": "tc3BTG4lqVOb"
   },
   "outputs": [],
   "source": [
    "upper_pairs = sorted_pairs[(sorted_pairs >= 0.85) & (sorted_pairs != 1)]\n",
    "upper = pd.DataFrame(upper_pairs)\n",
    "upper.columns = [\"Corr\"]"
   ]
  },
  {
   "cell_type": "code",
   "execution_count": null,
   "metadata": {
    "ExecuteTime": {
     "end_time": "2022-12-12T20:53:24.695650Z",
     "start_time": "2022-12-12T20:53:24.681835Z"
    },
    "colab": {
     "base_uri": "https://localhost:8080/"
    },
    "id": "hoC7k7qaqVOc",
    "outputId": "2a400cb3-d387-4340-be9a-72e3369d5c1b",
    "scrolled": true
   },
   "outputs": [],
   "source": [
    "upper_res = upper.drop_duplicates(subset=['Corr'], keep='first')\n",
    "print(upper_res)"
   ]
  },
  {
   "cell_type": "code",
   "execution_count": null,
   "metadata": {
    "ExecuteTime": {
     "end_time": "2022-12-12T20:53:26.960756Z",
     "start_time": "2022-12-12T20:53:26.948264Z"
    },
    "colab": {
     "base_uri": "https://localhost:8080/"
    },
    "id": "hy_u84gpqVOc",
    "outputId": "2ff65355-cce1-4f6a-b58f-258655584160"
   },
   "outputs": [],
   "source": [
    "eliminate_feat = [i[0] for i in upper_res.index]\n",
    "eliminate_feat"
   ]
  },
  {
   "cell_type": "code",
   "execution_count": null,
   "metadata": {
    "ExecuteTime": {
     "end_time": "2022-12-12T20:53:29.086011Z",
     "start_time": "2022-12-12T20:53:29.073588Z"
    },
    "id": "iPW1-NYLqVOc"
   },
   "outputs": [],
   "source": [
    "tabdf.drop(eliminate_feat, axis = 1, inplace= True)"
   ]
  },
  {
   "cell_type": "code",
   "execution_count": null,
   "metadata": {
    "ExecuteTime": {
     "end_time": "2022-12-12T20:53:31.137518Z",
     "start_time": "2022-12-12T20:53:31.123876Z"
    }
   },
   "outputs": [],
   "source": [
    "tabdf.columns"
   ]
  },
  {
   "cell_type": "code",
   "execution_count": null,
   "metadata": {
    "ExecuteTime": {
     "end_time": "2022-12-12T20:54:03.622111Z",
     "start_time": "2022-12-12T20:54:01.788363Z"
    }
   },
   "outputs": [],
   "source": [
    "selectedvariablesmi = ['FullSumValues', 'FullMedian', 'FullVar', 'FullEntropy', 'FullHypo','FullAdverse']\n",
    "repeated_evaluation('lr', tabdf_later, selectedvariablesmi)"
   ]
  },
  {
   "cell_type": "code",
   "execution_count": null,
   "metadata": {
    "ExecuteTime": {
     "end_time": "2022-12-12T20:54:17.245000Z",
     "start_time": "2022-12-12T20:54:05.924884Z"
    }
   },
   "outputs": [],
   "source": [
    "selectedvariablesmi = ['FullSumValues', 'FullMedian', 'FullVar', 'FullEntropy', 'FullHypo','FullAdverse']\n",
    "repeated_evaluation('knn', tabdf_later, selectedvariablesmi)"
   ]
  },
  {
   "cell_type": "code",
   "execution_count": null,
   "metadata": {
    "ExecuteTime": {
     "end_time": "2022-12-12T20:55:40.814264Z",
     "start_time": "2022-12-12T20:54:19.065305Z"
    }
   },
   "outputs": [],
   "source": [
    "selectedvariablesmi = ['FullSumValues', 'FullMedian', 'FullVar', 'FullEntropy', 'FullHypo','FullAdverse']\n",
    "repeated_evaluation('svm', tabdf_later, selectedvariablesmi)"
   ]
  }
 ],
 "metadata": {
  "colab": {
   "collapsed_sections": [
    "N1u2-Y0eYzfO",
    "UOOBJhXIpR6k",
    "WDZoHeIxsgeq",
    "3r1I9ujcZL1P",
    "8pPsPoKRMZQV",
    "jb37E4gIntk6",
    "cxw7_cxhTAfG",
    "thprdpS5bxbL",
    "k_eGyoRMG5cL",
    "7n78R_RArqq7",
    "HKSPp42eaFDJ",
    "MOgtcloI-LaR",
    "47wxZVG5qVNy",
    "jLTjWR-UqVN7",
    "6twtIKaFqVOC",
    "f-5t9OtzqVOO",
    "tRot_3viqVOb",
    "hjGFQpm9_fxh",
    "bwDHBFDTqVOk",
    "mgbfFo7eqVOl",
    "bhp0kXiZqVOl"
   ],
   "name": "Exercise_final.ipynb",
   "provenance": []
  },
  "hide_input": false,
  "kernelspec": {
   "display_name": "Python 3 (ipykernel)",
   "language": "python",
   "name": "python3"
  },
  "language_info": {
   "codemirror_mode": {
    "name": "ipython",
    "version": 3
   },
   "file_extension": ".py",
   "mimetype": "text/x-python",
   "name": "python",
   "nbconvert_exporter": "python",
   "pygments_lexer": "ipython3",
   "version": "3.9.13"
  },
  "toc": {
   "base_numbering": 1,
   "nav_menu": {},
   "number_sections": true,
   "sideBar": true,
   "skip_h1_title": false,
   "title_cell": "Table of Contents",
   "title_sidebar": "Contents",
   "toc_cell": false,
   "toc_position": {},
   "toc_section_display": true,
   "toc_window_display": false
  },
  "varInspector": {
   "cols": {
    "lenName": 16,
    "lenType": 16,
    "lenVar": 40
   },
   "kernels_config": {
    "python": {
     "delete_cmd_postfix": "",
     "delete_cmd_prefix": "del ",
     "library": "var_list.py",
     "varRefreshCmd": "print(var_dic_list())"
    },
    "r": {
     "delete_cmd_postfix": ") ",
     "delete_cmd_prefix": "rm(",
     "library": "var_list.r",
     "varRefreshCmd": "cat(var_dic_list()) "
    }
   },
   "types_to_exclude": [
    "module",
    "function",
    "builtin_function_or_method",
    "instance",
    "_Feature"
   ],
   "window_display": false
  },
  "widgets": {
   "application/vnd.jupyter.widget-state+json": {
    "00716804436e4903b89be8c79a5e8a2f": {
     "model_module": "@jupyter-widgets/base",
     "model_module_version": "1.2.0",
     "model_name": "LayoutModel",
     "state": {
      "_model_module": "@jupyter-widgets/base",
      "_model_module_version": "1.2.0",
      "_model_name": "LayoutModel",
      "_view_count": null,
      "_view_module": "@jupyter-widgets/base",
      "_view_module_version": "1.2.0",
      "_view_name": "LayoutView",
      "align_content": null,
      "align_items": null,
      "align_self": null,
      "border": null,
      "bottom": null,
      "display": null,
      "flex": null,
      "flex_flow": null,
      "grid_area": null,
      "grid_auto_columns": null,
      "grid_auto_flow": null,
      "grid_auto_rows": null,
      "grid_column": null,
      "grid_gap": null,
      "grid_row": null,
      "grid_template_areas": null,
      "grid_template_columns": null,
      "grid_template_rows": null,
      "height": null,
      "justify_content": null,
      "justify_items": null,
      "left": null,
      "margin": null,
      "max_height": null,
      "max_width": null,
      "min_height": null,
      "min_width": null,
      "object_fit": null,
      "object_position": null,
      "order": null,
      "overflow": null,
      "overflow_x": null,
      "overflow_y": null,
      "padding": null,
      "right": null,
      "top": null,
      "visibility": null,
      "width": null
     }
    },
    "00b8d6ead3544964aaab202d76283a00": {
     "model_module": "@jupyter-widgets/controls",
     "model_module_version": "1.5.0",
     "model_name": "DescriptionStyleModel",
     "state": {
      "_model_module": "@jupyter-widgets/controls",
      "_model_module_version": "1.5.0",
      "_model_name": "DescriptionStyleModel",
      "_view_count": null,
      "_view_module": "@jupyter-widgets/base",
      "_view_module_version": "1.2.0",
      "_view_name": "StyleView",
      "description_width": ""
     }
    },
    "017d222d23454482a42a6874157d6a15": {
     "model_module": "@jupyter-widgets/base",
     "model_module_version": "1.2.0",
     "model_name": "LayoutModel",
     "state": {
      "_model_module": "@jupyter-widgets/base",
      "_model_module_version": "1.2.0",
      "_model_name": "LayoutModel",
      "_view_count": null,
      "_view_module": "@jupyter-widgets/base",
      "_view_module_version": "1.2.0",
      "_view_name": "LayoutView",
      "align_content": null,
      "align_items": null,
      "align_self": null,
      "border": null,
      "bottom": null,
      "display": null,
      "flex": null,
      "flex_flow": null,
      "grid_area": null,
      "grid_auto_columns": null,
      "grid_auto_flow": null,
      "grid_auto_rows": null,
      "grid_column": null,
      "grid_gap": null,
      "grid_row": null,
      "grid_template_areas": null,
      "grid_template_columns": null,
      "grid_template_rows": null,
      "height": null,
      "justify_content": null,
      "justify_items": null,
      "left": null,
      "margin": null,
      "max_height": null,
      "max_width": null,
      "min_height": null,
      "min_width": null,
      "object_fit": null,
      "object_position": null,
      "order": null,
      "overflow": null,
      "overflow_x": null,
      "overflow_y": null,
      "padding": null,
      "right": null,
      "top": null,
      "visibility": null,
      "width": null
     }
    },
    "0445e26bfe0742b291db49a3c57f004f": {
     "model_module": "@jupyter-widgets/base",
     "model_module_version": "1.2.0",
     "model_name": "LayoutModel",
     "state": {
      "_model_module": "@jupyter-widgets/base",
      "_model_module_version": "1.2.0",
      "_model_name": "LayoutModel",
      "_view_count": null,
      "_view_module": "@jupyter-widgets/base",
      "_view_module_version": "1.2.0",
      "_view_name": "LayoutView",
      "align_content": null,
      "align_items": null,
      "align_self": null,
      "border": null,
      "bottom": null,
      "display": null,
      "flex": null,
      "flex_flow": null,
      "grid_area": null,
      "grid_auto_columns": null,
      "grid_auto_flow": null,
      "grid_auto_rows": null,
      "grid_column": null,
      "grid_gap": null,
      "grid_row": null,
      "grid_template_areas": null,
      "grid_template_columns": null,
      "grid_template_rows": null,
      "height": null,
      "justify_content": null,
      "justify_items": null,
      "left": null,
      "margin": null,
      "max_height": null,
      "max_width": null,
      "min_height": null,
      "min_width": null,
      "object_fit": null,
      "object_position": null,
      "order": null,
      "overflow": null,
      "overflow_x": null,
      "overflow_y": null,
      "padding": null,
      "right": null,
      "top": null,
      "visibility": null,
      "width": null
     }
    },
    "07d380b6c7e84b6f89773b070fb05450": {
     "model_module": "@jupyter-widgets/base",
     "model_module_version": "1.2.0",
     "model_name": "LayoutModel",
     "state": {
      "_model_module": "@jupyter-widgets/base",
      "_model_module_version": "1.2.0",
      "_model_name": "LayoutModel",
      "_view_count": null,
      "_view_module": "@jupyter-widgets/base",
      "_view_module_version": "1.2.0",
      "_view_name": "LayoutView",
      "align_content": null,
      "align_items": null,
      "align_self": null,
      "border": null,
      "bottom": null,
      "display": null,
      "flex": null,
      "flex_flow": null,
      "grid_area": null,
      "grid_auto_columns": null,
      "grid_auto_flow": null,
      "grid_auto_rows": null,
      "grid_column": null,
      "grid_gap": null,
      "grid_row": null,
      "grid_template_areas": null,
      "grid_template_columns": null,
      "grid_template_rows": null,
      "height": null,
      "justify_content": null,
      "justify_items": null,
      "left": null,
      "margin": null,
      "max_height": null,
      "max_width": null,
      "min_height": null,
      "min_width": null,
      "object_fit": null,
      "object_position": null,
      "order": null,
      "overflow": null,
      "overflow_x": null,
      "overflow_y": null,
      "padding": null,
      "right": null,
      "top": null,
      "visibility": null,
      "width": null
     }
    },
    "08078e9dd9424f098cd4742518f5b90f": {
     "model_module": "@jupyter-widgets/base",
     "model_module_version": "1.2.0",
     "model_name": "LayoutModel",
     "state": {
      "_model_module": "@jupyter-widgets/base",
      "_model_module_version": "1.2.0",
      "_model_name": "LayoutModel",
      "_view_count": null,
      "_view_module": "@jupyter-widgets/base",
      "_view_module_version": "1.2.0",
      "_view_name": "LayoutView",
      "align_content": null,
      "align_items": null,
      "align_self": null,
      "border": null,
      "bottom": null,
      "display": null,
      "flex": null,
      "flex_flow": null,
      "grid_area": null,
      "grid_auto_columns": null,
      "grid_auto_flow": null,
      "grid_auto_rows": null,
      "grid_column": null,
      "grid_gap": null,
      "grid_row": null,
      "grid_template_areas": null,
      "grid_template_columns": null,
      "grid_template_rows": null,
      "height": null,
      "justify_content": null,
      "justify_items": null,
      "left": null,
      "margin": null,
      "max_height": null,
      "max_width": null,
      "min_height": null,
      "min_width": null,
      "object_fit": null,
      "object_position": null,
      "order": null,
      "overflow": null,
      "overflow_x": null,
      "overflow_y": null,
      "padding": null,
      "right": null,
      "top": null,
      "visibility": null,
      "width": null
     }
    },
    "09c8d0bceba94142a60117e5b3be6190": {
     "model_module": "@jupyter-widgets/controls",
     "model_module_version": "1.5.0",
     "model_name": "HTMLModel",
     "state": {
      "_dom_classes": [],
      "_model_module": "@jupyter-widgets/controls",
      "_model_module_version": "1.5.0",
      "_model_name": "HTMLModel",
      "_view_count": null,
      "_view_module": "@jupyter-widgets/controls",
      "_view_module_version": "1.5.0",
      "_view_name": "HTMLView",
      "description": "",
      "description_tooltip": null,
      "layout": "IPY_MODEL_91f9e3b8729d42f48242e1b7b965c64f",
      "placeholder": "​",
      "style": "IPY_MODEL_31a412a409ad4195be91389fcd46caa8",
      "value": " 12/12 [00:00&lt;00:00, 53.15it/s]"
     }
    },
    "0bba9f981003466cbbb67ec199b7969a": {
     "model_module": "@jupyter-widgets/controls",
     "model_module_version": "1.5.0",
     "model_name": "FloatProgressModel",
     "state": {
      "_dom_classes": [],
      "_model_module": "@jupyter-widgets/controls",
      "_model_module_version": "1.5.0",
      "_model_name": "FloatProgressModel",
      "_view_count": null,
      "_view_module": "@jupyter-widgets/controls",
      "_view_module_version": "1.5.0",
      "_view_name": "ProgressView",
      "bar_style": "success",
      "description": "",
      "description_tooltip": null,
      "layout": "IPY_MODEL_0f117b4468fa4ba8a56d73513bf095ba",
      "max": 12,
      "min": 0,
      "orientation": "horizontal",
      "style": "IPY_MODEL_994f3777bc0e4682b316883e07a3619e",
      "value": 12
     }
    },
    "0bd6b8d509464a1798a5fbe4cfc7d573": {
     "model_module": "@jupyter-widgets/controls",
     "model_module_version": "1.5.0",
     "model_name": "HBoxModel",
     "state": {
      "_dom_classes": [],
      "_model_module": "@jupyter-widgets/controls",
      "_model_module_version": "1.5.0",
      "_model_name": "HBoxModel",
      "_view_count": null,
      "_view_module": "@jupyter-widgets/controls",
      "_view_module_version": "1.5.0",
      "_view_name": "HBoxView",
      "box_style": "",
      "children": [
       "IPY_MODEL_1aed17bf79864652a614d91c0ef99ce3",
       "IPY_MODEL_1c5017a496a9458c90a73e9ee19479e5",
       "IPY_MODEL_470b8b74501c444fb732b77b340cec08"
      ],
      "layout": "IPY_MODEL_ed299181d5934147879c39d639d5c2ee"
     }
    },
    "0bedf81eadfe45ec863875a344f8a409": {
     "model_module": "@jupyter-widgets/controls",
     "model_module_version": "1.5.0",
     "model_name": "HTMLModel",
     "state": {
      "_dom_classes": [],
      "_model_module": "@jupyter-widgets/controls",
      "_model_module_version": "1.5.0",
      "_model_name": "HTMLModel",
      "_view_count": null,
      "_view_module": "@jupyter-widgets/controls",
      "_view_module_version": "1.5.0",
      "_view_name": "HTMLView",
      "description": "",
      "description_tooltip": null,
      "layout": "IPY_MODEL_3c44e67badac42038a75824bff7f4d6e",
      "placeholder": "​",
      "style": "IPY_MODEL_e009c1b44f4b411582bc97d6a2ae76d7",
      "value": "100%"
     }
    },
    "0c01d0d89c984da0bea23e625f873c7f": {
     "model_module": "@jupyter-widgets/base",
     "model_module_version": "1.2.0",
     "model_name": "LayoutModel",
     "state": {
      "_model_module": "@jupyter-widgets/base",
      "_model_module_version": "1.2.0",
      "_model_name": "LayoutModel",
      "_view_count": null,
      "_view_module": "@jupyter-widgets/base",
      "_view_module_version": "1.2.0",
      "_view_name": "LayoutView",
      "align_content": null,
      "align_items": null,
      "align_self": null,
      "border": null,
      "bottom": null,
      "display": null,
      "flex": null,
      "flex_flow": null,
      "grid_area": null,
      "grid_auto_columns": null,
      "grid_auto_flow": null,
      "grid_auto_rows": null,
      "grid_column": null,
      "grid_gap": null,
      "grid_row": null,
      "grid_template_areas": null,
      "grid_template_columns": null,
      "grid_template_rows": null,
      "height": null,
      "justify_content": null,
      "justify_items": null,
      "left": null,
      "margin": null,
      "max_height": null,
      "max_width": null,
      "min_height": null,
      "min_width": null,
      "object_fit": null,
      "object_position": null,
      "order": null,
      "overflow": null,
      "overflow_x": null,
      "overflow_y": null,
      "padding": null,
      "right": null,
      "top": null,
      "visibility": null,
      "width": null
     }
    },
    "0c7ff7a14fbd4766ae3303230fd76ac3": {
     "model_module": "@jupyter-widgets/base",
     "model_module_version": "1.2.0",
     "model_name": "LayoutModel",
     "state": {
      "_model_module": "@jupyter-widgets/base",
      "_model_module_version": "1.2.0",
      "_model_name": "LayoutModel",
      "_view_count": null,
      "_view_module": "@jupyter-widgets/base",
      "_view_module_version": "1.2.0",
      "_view_name": "LayoutView",
      "align_content": null,
      "align_items": null,
      "align_self": null,
      "border": null,
      "bottom": null,
      "display": null,
      "flex": null,
      "flex_flow": null,
      "grid_area": null,
      "grid_auto_columns": null,
      "grid_auto_flow": null,
      "grid_auto_rows": null,
      "grid_column": null,
      "grid_gap": null,
      "grid_row": null,
      "grid_template_areas": null,
      "grid_template_columns": null,
      "grid_template_rows": null,
      "height": null,
      "justify_content": null,
      "justify_items": null,
      "left": null,
      "margin": null,
      "max_height": null,
      "max_width": null,
      "min_height": null,
      "min_width": null,
      "object_fit": null,
      "object_position": null,
      "order": null,
      "overflow": null,
      "overflow_x": null,
      "overflow_y": null,
      "padding": null,
      "right": null,
      "top": null,
      "visibility": null,
      "width": null
     }
    },
    "0d76e3ad77144c1aa714e5af64299acf": {
     "model_module": "@jupyter-widgets/base",
     "model_module_version": "1.2.0",
     "model_name": "LayoutModel",
     "state": {
      "_model_module": "@jupyter-widgets/base",
      "_model_module_version": "1.2.0",
      "_model_name": "LayoutModel",
      "_view_count": null,
      "_view_module": "@jupyter-widgets/base",
      "_view_module_version": "1.2.0",
      "_view_name": "LayoutView",
      "align_content": null,
      "align_items": null,
      "align_self": null,
      "border": null,
      "bottom": null,
      "display": null,
      "flex": null,
      "flex_flow": null,
      "grid_area": null,
      "grid_auto_columns": null,
      "grid_auto_flow": null,
      "grid_auto_rows": null,
      "grid_column": null,
      "grid_gap": null,
      "grid_row": null,
      "grid_template_areas": null,
      "grid_template_columns": null,
      "grid_template_rows": null,
      "height": null,
      "justify_content": null,
      "justify_items": null,
      "left": null,
      "margin": null,
      "max_height": null,
      "max_width": null,
      "min_height": null,
      "min_width": null,
      "object_fit": null,
      "object_position": null,
      "order": null,
      "overflow": null,
      "overflow_x": null,
      "overflow_y": null,
      "padding": null,
      "right": null,
      "top": null,
      "visibility": null,
      "width": null
     }
    },
    "0d81b509986b4419af803f75a12d4f22": {
     "model_module": "@jupyter-widgets/controls",
     "model_module_version": "1.5.0",
     "model_name": "FloatProgressModel",
     "state": {
      "_dom_classes": [],
      "_model_module": "@jupyter-widgets/controls",
      "_model_module_version": "1.5.0",
      "_model_name": "FloatProgressModel",
      "_view_count": null,
      "_view_module": "@jupyter-widgets/controls",
      "_view_module_version": "1.5.0",
      "_view_name": "ProgressView",
      "bar_style": "success",
      "description": "",
      "description_tooltip": null,
      "layout": "IPY_MODEL_86945b63ef494c7e84423feb749f667c",
      "max": 12,
      "min": 0,
      "orientation": "horizontal",
      "style": "IPY_MODEL_eff2f4580ac54a7cbc5e35319bd3c8de",
      "value": 12
     }
    },
    "0f117b4468fa4ba8a56d73513bf095ba": {
     "model_module": "@jupyter-widgets/base",
     "model_module_version": "1.2.0",
     "model_name": "LayoutModel",
     "state": {
      "_model_module": "@jupyter-widgets/base",
      "_model_module_version": "1.2.0",
      "_model_name": "LayoutModel",
      "_view_count": null,
      "_view_module": "@jupyter-widgets/base",
      "_view_module_version": "1.2.0",
      "_view_name": "LayoutView",
      "align_content": null,
      "align_items": null,
      "align_self": null,
      "border": null,
      "bottom": null,
      "display": null,
      "flex": null,
      "flex_flow": null,
      "grid_area": null,
      "grid_auto_columns": null,
      "grid_auto_flow": null,
      "grid_auto_rows": null,
      "grid_column": null,
      "grid_gap": null,
      "grid_row": null,
      "grid_template_areas": null,
      "grid_template_columns": null,
      "grid_template_rows": null,
      "height": null,
      "justify_content": null,
      "justify_items": null,
      "left": null,
      "margin": null,
      "max_height": null,
      "max_width": null,
      "min_height": null,
      "min_width": null,
      "object_fit": null,
      "object_position": null,
      "order": null,
      "overflow": null,
      "overflow_x": null,
      "overflow_y": null,
      "padding": null,
      "right": null,
      "top": null,
      "visibility": null,
      "width": null
     }
    },
    "0f7161cf34cb4917a26d2227f57689c0": {
     "model_module": "@jupyter-widgets/base",
     "model_module_version": "1.2.0",
     "model_name": "LayoutModel",
     "state": {
      "_model_module": "@jupyter-widgets/base",
      "_model_module_version": "1.2.0",
      "_model_name": "LayoutModel",
      "_view_count": null,
      "_view_module": "@jupyter-widgets/base",
      "_view_module_version": "1.2.0",
      "_view_name": "LayoutView",
      "align_content": null,
      "align_items": null,
      "align_self": null,
      "border": null,
      "bottom": null,
      "display": null,
      "flex": null,
      "flex_flow": null,
      "grid_area": null,
      "grid_auto_columns": null,
      "grid_auto_flow": null,
      "grid_auto_rows": null,
      "grid_column": null,
      "grid_gap": null,
      "grid_row": null,
      "grid_template_areas": null,
      "grid_template_columns": null,
      "grid_template_rows": null,
      "height": null,
      "justify_content": null,
      "justify_items": null,
      "left": null,
      "margin": null,
      "max_height": null,
      "max_width": null,
      "min_height": null,
      "min_width": null,
      "object_fit": null,
      "object_position": null,
      "order": null,
      "overflow": null,
      "overflow_x": null,
      "overflow_y": null,
      "padding": null,
      "right": null,
      "top": null,
      "visibility": null,
      "width": null
     }
    },
    "0fa388fa18034f21ba215c594ba90944": {
     "model_module": "@jupyter-widgets/controls",
     "model_module_version": "1.5.0",
     "model_name": "FloatProgressModel",
     "state": {
      "_dom_classes": [],
      "_model_module": "@jupyter-widgets/controls",
      "_model_module_version": "1.5.0",
      "_model_name": "FloatProgressModel",
      "_view_count": null,
      "_view_module": "@jupyter-widgets/controls",
      "_view_module_version": "1.5.0",
      "_view_name": "ProgressView",
      "bar_style": "success",
      "description": "",
      "description_tooltip": null,
      "layout": "IPY_MODEL_c409e6d41ab242c198714b85e5c1bbb2",
      "max": 12,
      "min": 0,
      "orientation": "horizontal",
      "style": "IPY_MODEL_eb855385ec034d2d8a29f79982309b62",
      "value": 12
     }
    },
    "0fabe465c43f4d359708e2be58ebf11a": {
     "model_module": "@jupyter-widgets/controls",
     "model_module_version": "1.5.0",
     "model_name": "HBoxModel",
     "state": {
      "_dom_classes": [],
      "_model_module": "@jupyter-widgets/controls",
      "_model_module_version": "1.5.0",
      "_model_name": "HBoxModel",
      "_view_count": null,
      "_view_module": "@jupyter-widgets/controls",
      "_view_module_version": "1.5.0",
      "_view_name": "HBoxView",
      "box_style": "",
      "children": [
       "IPY_MODEL_d2d1dde7c0be4282b0cc8bf869fcc9bb",
       "IPY_MODEL_0d81b509986b4419af803f75a12d4f22",
       "IPY_MODEL_658504b0e4914b8ab1d6a32b19091e38"
      ],
      "layout": "IPY_MODEL_64eb04c05b50414fb11a3ee92c17a134"
     }
    },
    "10cd1c51c0c847ae8ac98e48954641b3": {
     "model_module": "@jupyter-widgets/controls",
     "model_module_version": "1.5.0",
     "model_name": "ProgressStyleModel",
     "state": {
      "_model_module": "@jupyter-widgets/controls",
      "_model_module_version": "1.5.0",
      "_model_name": "ProgressStyleModel",
      "_view_count": null,
      "_view_module": "@jupyter-widgets/base",
      "_view_module_version": "1.2.0",
      "_view_name": "StyleView",
      "bar_color": null,
      "description_width": ""
     }
    },
    "113e2ad08e02496cbf04758378af18df": {
     "model_module": "@jupyter-widgets/controls",
     "model_module_version": "1.5.0",
     "model_name": "FloatProgressModel",
     "state": {
      "_dom_classes": [],
      "_model_module": "@jupyter-widgets/controls",
      "_model_module_version": "1.5.0",
      "_model_name": "FloatProgressModel",
      "_view_count": null,
      "_view_module": "@jupyter-widgets/controls",
      "_view_module_version": "1.5.0",
      "_view_name": "ProgressView",
      "bar_style": "success",
      "description": "",
      "description_tooltip": null,
      "layout": "IPY_MODEL_b4179b4340614864bed16aae0531fd34",
      "max": 12,
      "min": 0,
      "orientation": "horizontal",
      "style": "IPY_MODEL_10cd1c51c0c847ae8ac98e48954641b3",
      "value": 12
     }
    },
    "12eaed73b1af4c5da842ea845fd77b9c": {
     "model_module": "@jupyter-widgets/controls",
     "model_module_version": "1.5.0",
     "model_name": "DescriptionStyleModel",
     "state": {
      "_model_module": "@jupyter-widgets/controls",
      "_model_module_version": "1.5.0",
      "_model_name": "DescriptionStyleModel",
      "_view_count": null,
      "_view_module": "@jupyter-widgets/base",
      "_view_module_version": "1.2.0",
      "_view_name": "StyleView",
      "description_width": ""
     }
    },
    "12f09208dbad4c91bf88f66502c3938a": {
     "model_module": "@jupyter-widgets/base",
     "model_module_version": "1.2.0",
     "model_name": "LayoutModel",
     "state": {
      "_model_module": "@jupyter-widgets/base",
      "_model_module_version": "1.2.0",
      "_model_name": "LayoutModel",
      "_view_count": null,
      "_view_module": "@jupyter-widgets/base",
      "_view_module_version": "1.2.0",
      "_view_name": "LayoutView",
      "align_content": null,
      "align_items": null,
      "align_self": null,
      "border": null,
      "bottom": null,
      "display": null,
      "flex": null,
      "flex_flow": null,
      "grid_area": null,
      "grid_auto_columns": null,
      "grid_auto_flow": null,
      "grid_auto_rows": null,
      "grid_column": null,
      "grid_gap": null,
      "grid_row": null,
      "grid_template_areas": null,
      "grid_template_columns": null,
      "grid_template_rows": null,
      "height": null,
      "justify_content": null,
      "justify_items": null,
      "left": null,
      "margin": null,
      "max_height": null,
      "max_width": null,
      "min_height": null,
      "min_width": null,
      "object_fit": null,
      "object_position": null,
      "order": null,
      "overflow": null,
      "overflow_x": null,
      "overflow_y": null,
      "padding": null,
      "right": null,
      "top": null,
      "visibility": null,
      "width": null
     }
    },
    "17fb130087234441bf0f588e6634d590": {
     "model_module": "@jupyter-widgets/controls",
     "model_module_version": "1.5.0",
     "model_name": "HBoxModel",
     "state": {
      "_dom_classes": [],
      "_model_module": "@jupyter-widgets/controls",
      "_model_module_version": "1.5.0",
      "_model_name": "HBoxModel",
      "_view_count": null,
      "_view_module": "@jupyter-widgets/controls",
      "_view_module_version": "1.5.0",
      "_view_name": "HBoxView",
      "box_style": "",
      "children": [
       "IPY_MODEL_66ffc3fcfdb7407d99f8e1cf1bb46944",
       "IPY_MODEL_219ef5452c1841828310f7744423e07a",
       "IPY_MODEL_94d3e4f3a2cc4f15a2e314330a43b84a"
      ],
      "layout": "IPY_MODEL_0d76e3ad77144c1aa714e5af64299acf"
     }
    },
    "1913bb2651e24acd94a9735d6a091faf": {
     "model_module": "@jupyter-widgets/controls",
     "model_module_version": "1.5.0",
     "model_name": "DescriptionStyleModel",
     "state": {
      "_model_module": "@jupyter-widgets/controls",
      "_model_module_version": "1.5.0",
      "_model_name": "DescriptionStyleModel",
      "_view_count": null,
      "_view_module": "@jupyter-widgets/base",
      "_view_module_version": "1.2.0",
      "_view_name": "StyleView",
      "description_width": ""
     }
    },
    "19639c108ab444a0b8a413bac972cb10": {
     "model_module": "@jupyter-widgets/base",
     "model_module_version": "1.2.0",
     "model_name": "LayoutModel",
     "state": {
      "_model_module": "@jupyter-widgets/base",
      "_model_module_version": "1.2.0",
      "_model_name": "LayoutModel",
      "_view_count": null,
      "_view_module": "@jupyter-widgets/base",
      "_view_module_version": "1.2.0",
      "_view_name": "LayoutView",
      "align_content": null,
      "align_items": null,
      "align_self": null,
      "border": null,
      "bottom": null,
      "display": null,
      "flex": null,
      "flex_flow": null,
      "grid_area": null,
      "grid_auto_columns": null,
      "grid_auto_flow": null,
      "grid_auto_rows": null,
      "grid_column": null,
      "grid_gap": null,
      "grid_row": null,
      "grid_template_areas": null,
      "grid_template_columns": null,
      "grid_template_rows": null,
      "height": null,
      "justify_content": null,
      "justify_items": null,
      "left": null,
      "margin": null,
      "max_height": null,
      "max_width": null,
      "min_height": null,
      "min_width": null,
      "object_fit": null,
      "object_position": null,
      "order": null,
      "overflow": null,
      "overflow_x": null,
      "overflow_y": null,
      "padding": null,
      "right": null,
      "top": null,
      "visibility": null,
      "width": null
     }
    },
    "1aed17bf79864652a614d91c0ef99ce3": {
     "model_module": "@jupyter-widgets/controls",
     "model_module_version": "1.5.0",
     "model_name": "HTMLModel",
     "state": {
      "_dom_classes": [],
      "_model_module": "@jupyter-widgets/controls",
      "_model_module_version": "1.5.0",
      "_model_name": "HTMLModel",
      "_view_count": null,
      "_view_module": "@jupyter-widgets/controls",
      "_view_module_version": "1.5.0",
      "_view_name": "HTMLView",
      "description": "",
      "description_tooltip": null,
      "layout": "IPY_MODEL_baf61a90fb4845dbb7186d5eac5e426c",
      "placeholder": "​",
      "style": "IPY_MODEL_b7440e40f33249f7b8c48fcb49924a92",
      "value": "100%"
     }
    },
    "1b3ba863083d48d0a6aba3796778a07d": {
     "model_module": "@jupyter-widgets/base",
     "model_module_version": "1.2.0",
     "model_name": "LayoutModel",
     "state": {
      "_model_module": "@jupyter-widgets/base",
      "_model_module_version": "1.2.0",
      "_model_name": "LayoutModel",
      "_view_count": null,
      "_view_module": "@jupyter-widgets/base",
      "_view_module_version": "1.2.0",
      "_view_name": "LayoutView",
      "align_content": null,
      "align_items": null,
      "align_self": null,
      "border": null,
      "bottom": null,
      "display": null,
      "flex": null,
      "flex_flow": null,
      "grid_area": null,
      "grid_auto_columns": null,
      "grid_auto_flow": null,
      "grid_auto_rows": null,
      "grid_column": null,
      "grid_gap": null,
      "grid_row": null,
      "grid_template_areas": null,
      "grid_template_columns": null,
      "grid_template_rows": null,
      "height": null,
      "justify_content": null,
      "justify_items": null,
      "left": null,
      "margin": null,
      "max_height": null,
      "max_width": null,
      "min_height": null,
      "min_width": null,
      "object_fit": null,
      "object_position": null,
      "order": null,
      "overflow": null,
      "overflow_x": null,
      "overflow_y": null,
      "padding": null,
      "right": null,
      "top": null,
      "visibility": null,
      "width": null
     }
    },
    "1c5017a496a9458c90a73e9ee19479e5": {
     "model_module": "@jupyter-widgets/controls",
     "model_module_version": "1.5.0",
     "model_name": "FloatProgressModel",
     "state": {
      "_dom_classes": [],
      "_model_module": "@jupyter-widgets/controls",
      "_model_module_version": "1.5.0",
      "_model_name": "FloatProgressModel",
      "_view_count": null,
      "_view_module": "@jupyter-widgets/controls",
      "_view_module_version": "1.5.0",
      "_view_name": "ProgressView",
      "bar_style": "success",
      "description": "",
      "description_tooltip": null,
      "layout": "IPY_MODEL_0f7161cf34cb4917a26d2227f57689c0",
      "max": 12,
      "min": 0,
      "orientation": "horizontal",
      "style": "IPY_MODEL_fe909a03c3cc4965ac8ef62985468542",
      "value": 12
     }
    },
    "1c72bb092fb943b1bab15d8ccec40f71": {
     "model_module": "@jupyter-widgets/controls",
     "model_module_version": "1.5.0",
     "model_name": "FloatProgressModel",
     "state": {
      "_dom_classes": [],
      "_model_module": "@jupyter-widgets/controls",
      "_model_module_version": "1.5.0",
      "_model_name": "FloatProgressModel",
      "_view_count": null,
      "_view_module": "@jupyter-widgets/controls",
      "_view_module_version": "1.5.0",
      "_view_name": "ProgressView",
      "bar_style": "success",
      "description": "",
      "description_tooltip": null,
      "layout": "IPY_MODEL_83992f9945204813ac8b8f6ee5348294",
      "max": 14,
      "min": 0,
      "orientation": "horizontal",
      "style": "IPY_MODEL_65977c82113b4786b55d2ba2dba3415b",
      "value": 14
     }
    },
    "1cbb2ed78ae74889a25090c2820b793a": {
     "model_module": "@jupyter-widgets/controls",
     "model_module_version": "1.5.0",
     "model_name": "HTMLModel",
     "state": {
      "_dom_classes": [],
      "_model_module": "@jupyter-widgets/controls",
      "_model_module_version": "1.5.0",
      "_model_name": "HTMLModel",
      "_view_count": null,
      "_view_module": "@jupyter-widgets/controls",
      "_view_module_version": "1.5.0",
      "_view_name": "HTMLView",
      "description": "",
      "description_tooltip": null,
      "layout": "IPY_MODEL_f7ff3f6876a848a899a1905b48ada10b",
      "placeholder": "​",
      "style": "IPY_MODEL_e067f7d027a14fe898f2c6fc9b3d3a2f",
      "value": "100%"
     }
    },
    "1d81bd1c76014c61bdd6e322567ab256": {
     "model_module": "@jupyter-widgets/controls",
     "model_module_version": "1.5.0",
     "model_name": "HBoxModel",
     "state": {
      "_dom_classes": [],
      "_model_module": "@jupyter-widgets/controls",
      "_model_module_version": "1.5.0",
      "_model_name": "HBoxModel",
      "_view_count": null,
      "_view_module": "@jupyter-widgets/controls",
      "_view_module_version": "1.5.0",
      "_view_name": "HBoxView",
      "box_style": "",
      "children": [
       "IPY_MODEL_4b1c03a7e5304ceeb600ec5ba5209d6d",
       "IPY_MODEL_1c72bb092fb943b1bab15d8ccec40f71",
       "IPY_MODEL_488fe20f11e148c88112871887be3216"
      ],
      "layout": "IPY_MODEL_0445e26bfe0742b291db49a3c57f004f"
     }
    },
    "21792ec25eff4adea7fe03c588d323d4": {
     "model_module": "@jupyter-widgets/controls",
     "model_module_version": "1.5.0",
     "model_name": "DescriptionStyleModel",
     "state": {
      "_model_module": "@jupyter-widgets/controls",
      "_model_module_version": "1.5.0",
      "_model_name": "DescriptionStyleModel",
      "_view_count": null,
      "_view_module": "@jupyter-widgets/base",
      "_view_module_version": "1.2.0",
      "_view_name": "StyleView",
      "description_width": ""
     }
    },
    "219ef5452c1841828310f7744423e07a": {
     "model_module": "@jupyter-widgets/controls",
     "model_module_version": "1.5.0",
     "model_name": "FloatProgressModel",
     "state": {
      "_dom_classes": [],
      "_model_module": "@jupyter-widgets/controls",
      "_model_module_version": "1.5.0",
      "_model_name": "FloatProgressModel",
      "_view_count": null,
      "_view_module": "@jupyter-widgets/controls",
      "_view_module_version": "1.5.0",
      "_view_name": "ProgressView",
      "bar_style": "success",
      "description": "",
      "description_tooltip": null,
      "layout": "IPY_MODEL_28132283d499491a8f1f69a874c922cd",
      "max": 12,
      "min": 0,
      "orientation": "horizontal",
      "style": "IPY_MODEL_af7b1f91d88c4545bf2f75be61dc7310",
      "value": 12
     }
    },
    "248375a34db54f8999f776b6a8ac4127": {
     "model_module": "@jupyter-widgets/base",
     "model_module_version": "1.2.0",
     "model_name": "LayoutModel",
     "state": {
      "_model_module": "@jupyter-widgets/base",
      "_model_module_version": "1.2.0",
      "_model_name": "LayoutModel",
      "_view_count": null,
      "_view_module": "@jupyter-widgets/base",
      "_view_module_version": "1.2.0",
      "_view_name": "LayoutView",
      "align_content": null,
      "align_items": null,
      "align_self": null,
      "border": null,
      "bottom": null,
      "display": null,
      "flex": null,
      "flex_flow": null,
      "grid_area": null,
      "grid_auto_columns": null,
      "grid_auto_flow": null,
      "grid_auto_rows": null,
      "grid_column": null,
      "grid_gap": null,
      "grid_row": null,
      "grid_template_areas": null,
      "grid_template_columns": null,
      "grid_template_rows": null,
      "height": null,
      "justify_content": null,
      "justify_items": null,
      "left": null,
      "margin": null,
      "max_height": null,
      "max_width": null,
      "min_height": null,
      "min_width": null,
      "object_fit": null,
      "object_position": null,
      "order": null,
      "overflow": null,
      "overflow_x": null,
      "overflow_y": null,
      "padding": null,
      "right": null,
      "top": null,
      "visibility": null,
      "width": null
     }
    },
    "263a2673431546d79f9aa834d432088b": {
     "model_module": "@jupyter-widgets/controls",
     "model_module_version": "1.5.0",
     "model_name": "FloatProgressModel",
     "state": {
      "_dom_classes": [],
      "_model_module": "@jupyter-widgets/controls",
      "_model_module_version": "1.5.0",
      "_model_name": "FloatProgressModel",
      "_view_count": null,
      "_view_module": "@jupyter-widgets/controls",
      "_view_module_version": "1.5.0",
      "_view_name": "ProgressView",
      "bar_style": "success",
      "description": "",
      "description_tooltip": null,
      "layout": "IPY_MODEL_bdcdfd85fa664fedade586a361421901",
      "max": 12,
      "min": 0,
      "orientation": "horizontal",
      "style": "IPY_MODEL_8194ccf9f54c436097b0f51ce51a0fde",
      "value": 12
     }
    },
    "271085b7ff2e4b7f82d42ecc51a483bb": {
     "model_module": "@jupyter-widgets/controls",
     "model_module_version": "1.5.0",
     "model_name": "ProgressStyleModel",
     "state": {
      "_model_module": "@jupyter-widgets/controls",
      "_model_module_version": "1.5.0",
      "_model_name": "ProgressStyleModel",
      "_view_count": null,
      "_view_module": "@jupyter-widgets/base",
      "_view_module_version": "1.2.0",
      "_view_name": "StyleView",
      "bar_color": null,
      "description_width": ""
     }
    },
    "28132283d499491a8f1f69a874c922cd": {
     "model_module": "@jupyter-widgets/base",
     "model_module_version": "1.2.0",
     "model_name": "LayoutModel",
     "state": {
      "_model_module": "@jupyter-widgets/base",
      "_model_module_version": "1.2.0",
      "_model_name": "LayoutModel",
      "_view_count": null,
      "_view_module": "@jupyter-widgets/base",
      "_view_module_version": "1.2.0",
      "_view_name": "LayoutView",
      "align_content": null,
      "align_items": null,
      "align_self": null,
      "border": null,
      "bottom": null,
      "display": null,
      "flex": null,
      "flex_flow": null,
      "grid_area": null,
      "grid_auto_columns": null,
      "grid_auto_flow": null,
      "grid_auto_rows": null,
      "grid_column": null,
      "grid_gap": null,
      "grid_row": null,
      "grid_template_areas": null,
      "grid_template_columns": null,
      "grid_template_rows": null,
      "height": null,
      "justify_content": null,
      "justify_items": null,
      "left": null,
      "margin": null,
      "max_height": null,
      "max_width": null,
      "min_height": null,
      "min_width": null,
      "object_fit": null,
      "object_position": null,
      "order": null,
      "overflow": null,
      "overflow_x": null,
      "overflow_y": null,
      "padding": null,
      "right": null,
      "top": null,
      "visibility": null,
      "width": null
     }
    },
    "2ba22147a47c4555b44474e8952aef95": {
     "model_module": "@jupyter-widgets/controls",
     "model_module_version": "1.5.0",
     "model_name": "HTMLModel",
     "state": {
      "_dom_classes": [],
      "_model_module": "@jupyter-widgets/controls",
      "_model_module_version": "1.5.0",
      "_model_name": "HTMLModel",
      "_view_count": null,
      "_view_module": "@jupyter-widgets/controls",
      "_view_module_version": "1.5.0",
      "_view_name": "HTMLView",
      "description": "",
      "description_tooltip": null,
      "layout": "IPY_MODEL_12f09208dbad4c91bf88f66502c3938a",
      "placeholder": "​",
      "style": "IPY_MODEL_6a34d77da1bf4e829dd55c881d808db5",
      "value": "100%"
     }
    },
    "2d4bbbcfe05d49209b725bf24e6733ee": {
     "model_module": "@jupyter-widgets/controls",
     "model_module_version": "1.5.0",
     "model_name": "HTMLModel",
     "state": {
      "_dom_classes": [],
      "_model_module": "@jupyter-widgets/controls",
      "_model_module_version": "1.5.0",
      "_model_name": "HTMLModel",
      "_view_count": null,
      "_view_module": "@jupyter-widgets/controls",
      "_view_module_version": "1.5.0",
      "_view_name": "HTMLView",
      "description": "",
      "description_tooltip": null,
      "layout": "IPY_MODEL_dfbc555f23ce426791f05ad782491265",
      "placeholder": "​",
      "style": "IPY_MODEL_996e814f2ad34d9faf49bbca69f0f8d9",
      "value": " 12/12 [00:00&lt;00:00, 55.97it/s]"
     }
    },
    "3141c230e3f140fe8d074187518bf09e": {
     "model_module": "@jupyter-widgets/controls",
     "model_module_version": "1.5.0",
     "model_name": "DescriptionStyleModel",
     "state": {
      "_model_module": "@jupyter-widgets/controls",
      "_model_module_version": "1.5.0",
      "_model_name": "DescriptionStyleModel",
      "_view_count": null,
      "_view_module": "@jupyter-widgets/base",
      "_view_module_version": "1.2.0",
      "_view_name": "StyleView",
      "description_width": ""
     }
    },
    "31a412a409ad4195be91389fcd46caa8": {
     "model_module": "@jupyter-widgets/controls",
     "model_module_version": "1.5.0",
     "model_name": "DescriptionStyleModel",
     "state": {
      "_model_module": "@jupyter-widgets/controls",
      "_model_module_version": "1.5.0",
      "_model_name": "DescriptionStyleModel",
      "_view_count": null,
      "_view_module": "@jupyter-widgets/base",
      "_view_module_version": "1.2.0",
      "_view_name": "StyleView",
      "description_width": ""
     }
    },
    "34f9023a7a4847f8bbded6e2a80841fa": {
     "model_module": "@jupyter-widgets/controls",
     "model_module_version": "1.5.0",
     "model_name": "HTMLModel",
     "state": {
      "_dom_classes": [],
      "_model_module": "@jupyter-widgets/controls",
      "_model_module_version": "1.5.0",
      "_model_name": "HTMLModel",
      "_view_count": null,
      "_view_module": "@jupyter-widgets/controls",
      "_view_module_version": "1.5.0",
      "_view_name": "HTMLView",
      "description": "",
      "description_tooltip": null,
      "layout": "IPY_MODEL_5bf808129bc34c93b177ebccf63e40c5",
      "placeholder": "​",
      "style": "IPY_MODEL_98f17478a4a4465ba0c95dc43e4613b3",
      "value": " 12/12 [00:03&lt;00:00,  4.05it/s]"
     }
    },
    "3523ecafca704833b056ddf0ac238b12": {
     "model_module": "@jupyter-widgets/controls",
     "model_module_version": "1.5.0",
     "model_name": "HBoxModel",
     "state": {
      "_dom_classes": [],
      "_model_module": "@jupyter-widgets/controls",
      "_model_module_version": "1.5.0",
      "_model_name": "HBoxModel",
      "_view_count": null,
      "_view_module": "@jupyter-widgets/controls",
      "_view_module_version": "1.5.0",
      "_view_name": "HBoxView",
      "box_style": "",
      "children": [
       "IPY_MODEL_adbd3c9d1b914e65921a6cb109814a78",
       "IPY_MODEL_113e2ad08e02496cbf04758378af18df",
       "IPY_MODEL_4aa8f28225854485a442843d8c3340a7"
      ],
      "layout": "IPY_MODEL_60fc8012b1b74283ac0fb7acba31aaa2"
     }
    },
    "35c080c5524c42349ca532764bd9925f": {
     "model_module": "@jupyter-widgets/controls",
     "model_module_version": "1.5.0",
     "model_name": "DescriptionStyleModel",
     "state": {
      "_model_module": "@jupyter-widgets/controls",
      "_model_module_version": "1.5.0",
      "_model_name": "DescriptionStyleModel",
      "_view_count": null,
      "_view_module": "@jupyter-widgets/base",
      "_view_module_version": "1.2.0",
      "_view_name": "StyleView",
      "description_width": ""
     }
    },
    "3c28a96063834ee0a30e9bfed35c3c7c": {
     "model_module": "@jupyter-widgets/controls",
     "model_module_version": "1.5.0",
     "model_name": "HTMLModel",
     "state": {
      "_dom_classes": [],
      "_model_module": "@jupyter-widgets/controls",
      "_model_module_version": "1.5.0",
      "_model_name": "HTMLModel",
      "_view_count": null,
      "_view_module": "@jupyter-widgets/controls",
      "_view_module_version": "1.5.0",
      "_view_name": "HTMLView",
      "description": "",
      "description_tooltip": null,
      "layout": "IPY_MODEL_b98f49b07729464382d6c4501d8fd954",
      "placeholder": "​",
      "style": "IPY_MODEL_d7d20f71ef784c98b2757124a8409f3f",
      "value": "100%"
     }
    },
    "3c44e67badac42038a75824bff7f4d6e": {
     "model_module": "@jupyter-widgets/base",
     "model_module_version": "1.2.0",
     "model_name": "LayoutModel",
     "state": {
      "_model_module": "@jupyter-widgets/base",
      "_model_module_version": "1.2.0",
      "_model_name": "LayoutModel",
      "_view_count": null,
      "_view_module": "@jupyter-widgets/base",
      "_view_module_version": "1.2.0",
      "_view_name": "LayoutView",
      "align_content": null,
      "align_items": null,
      "align_self": null,
      "border": null,
      "bottom": null,
      "display": null,
      "flex": null,
      "flex_flow": null,
      "grid_area": null,
      "grid_auto_columns": null,
      "grid_auto_flow": null,
      "grid_auto_rows": null,
      "grid_column": null,
      "grid_gap": null,
      "grid_row": null,
      "grid_template_areas": null,
      "grid_template_columns": null,
      "grid_template_rows": null,
      "height": null,
      "justify_content": null,
      "justify_items": null,
      "left": null,
      "margin": null,
      "max_height": null,
      "max_width": null,
      "min_height": null,
      "min_width": null,
      "object_fit": null,
      "object_position": null,
      "order": null,
      "overflow": null,
      "overflow_x": null,
      "overflow_y": null,
      "padding": null,
      "right": null,
      "top": null,
      "visibility": null,
      "width": null
     }
    },
    "3c9c5e815b0b4e6fb999731c83bed9e8": {
     "model_module": "@jupyter-widgets/controls",
     "model_module_version": "1.5.0",
     "model_name": "HTMLModel",
     "state": {
      "_dom_classes": [],
      "_model_module": "@jupyter-widgets/controls",
      "_model_module_version": "1.5.0",
      "_model_name": "HTMLModel",
      "_view_count": null,
      "_view_module": "@jupyter-widgets/controls",
      "_view_module_version": "1.5.0",
      "_view_name": "HTMLView",
      "description": "",
      "description_tooltip": null,
      "layout": "IPY_MODEL_1b3ba863083d48d0a6aba3796778a07d",
      "placeholder": "​",
      "style": "IPY_MODEL_1913bb2651e24acd94a9735d6a091faf",
      "value": "100%"
     }
    },
    "3d02ced912a54b96ae50a3923ef29ab1": {
     "model_module": "@jupyter-widgets/controls",
     "model_module_version": "1.5.0",
     "model_name": "HTMLModel",
     "state": {
      "_dom_classes": [],
      "_model_module": "@jupyter-widgets/controls",
      "_model_module_version": "1.5.0",
      "_model_name": "HTMLModel",
      "_view_count": null,
      "_view_module": "@jupyter-widgets/controls",
      "_view_module_version": "1.5.0",
      "_view_name": "HTMLView",
      "description": "",
      "description_tooltip": null,
      "layout": "IPY_MODEL_07d380b6c7e84b6f89773b070fb05450",
      "placeholder": "​",
      "style": "IPY_MODEL_21792ec25eff4adea7fe03c588d323d4",
      "value": " 12/12 [00:00&lt;00:00, 60.28it/s]"
     }
    },
    "3d2844cd18044c76ad6e5d2027047d2f": {
     "model_module": "@jupyter-widgets/controls",
     "model_module_version": "1.5.0",
     "model_name": "ProgressStyleModel",
     "state": {
      "_model_module": "@jupyter-widgets/controls",
      "_model_module_version": "1.5.0",
      "_model_name": "ProgressStyleModel",
      "_view_count": null,
      "_view_module": "@jupyter-widgets/base",
      "_view_module_version": "1.2.0",
      "_view_name": "StyleView",
      "bar_color": null,
      "description_width": ""
     }
    },
    "3f65575144794a8c9a40c86154ff5718": {
     "model_module": "@jupyter-widgets/base",
     "model_module_version": "1.2.0",
     "model_name": "LayoutModel",
     "state": {
      "_model_module": "@jupyter-widgets/base",
      "_model_module_version": "1.2.0",
      "_model_name": "LayoutModel",
      "_view_count": null,
      "_view_module": "@jupyter-widgets/base",
      "_view_module_version": "1.2.0",
      "_view_name": "LayoutView",
      "align_content": null,
      "align_items": null,
      "align_self": null,
      "border": null,
      "bottom": null,
      "display": null,
      "flex": null,
      "flex_flow": null,
      "grid_area": null,
      "grid_auto_columns": null,
      "grid_auto_flow": null,
      "grid_auto_rows": null,
      "grid_column": null,
      "grid_gap": null,
      "grid_row": null,
      "grid_template_areas": null,
      "grid_template_columns": null,
      "grid_template_rows": null,
      "height": null,
      "justify_content": null,
      "justify_items": null,
      "left": null,
      "margin": null,
      "max_height": null,
      "max_width": null,
      "min_height": null,
      "min_width": null,
      "object_fit": null,
      "object_position": null,
      "order": null,
      "overflow": null,
      "overflow_x": null,
      "overflow_y": null,
      "padding": null,
      "right": null,
      "top": null,
      "visibility": null,
      "width": null
     }
    },
    "410b7c506f18489db04454abfb6a7b0f": {
     "model_module": "@jupyter-widgets/base",
     "model_module_version": "1.2.0",
     "model_name": "LayoutModel",
     "state": {
      "_model_module": "@jupyter-widgets/base",
      "_model_module_version": "1.2.0",
      "_model_name": "LayoutModel",
      "_view_count": null,
      "_view_module": "@jupyter-widgets/base",
      "_view_module_version": "1.2.0",
      "_view_name": "LayoutView",
      "align_content": null,
      "align_items": null,
      "align_self": null,
      "border": null,
      "bottom": null,
      "display": null,
      "flex": null,
      "flex_flow": null,
      "grid_area": null,
      "grid_auto_columns": null,
      "grid_auto_flow": null,
      "grid_auto_rows": null,
      "grid_column": null,
      "grid_gap": null,
      "grid_row": null,
      "grid_template_areas": null,
      "grid_template_columns": null,
      "grid_template_rows": null,
      "height": null,
      "justify_content": null,
      "justify_items": null,
      "left": null,
      "margin": null,
      "max_height": null,
      "max_width": null,
      "min_height": null,
      "min_width": null,
      "object_fit": null,
      "object_position": null,
      "order": null,
      "overflow": null,
      "overflow_x": null,
      "overflow_y": null,
      "padding": null,
      "right": null,
      "top": null,
      "visibility": null,
      "width": null
     }
    },
    "420d1752f6944c9e84bb496af823b04f": {
     "model_module": "@jupyter-widgets/controls",
     "model_module_version": "1.5.0",
     "model_name": "HTMLModel",
     "state": {
      "_dom_classes": [],
      "_model_module": "@jupyter-widgets/controls",
      "_model_module_version": "1.5.0",
      "_model_name": "HTMLModel",
      "_view_count": null,
      "_view_module": "@jupyter-widgets/controls",
      "_view_module_version": "1.5.0",
      "_view_name": "HTMLView",
      "description": "",
      "description_tooltip": null,
      "layout": "IPY_MODEL_83dd8ba703154be293e3fbe38192bfc2",
      "placeholder": "​",
      "style": "IPY_MODEL_a5f6263ef61545a2b0a8f686ac5775bf",
      "value": "100%"
     }
    },
    "42dcb4f3be064aaf84c463c283ebdca3": {
     "model_module": "@jupyter-widgets/base",
     "model_module_version": "1.2.0",
     "model_name": "LayoutModel",
     "state": {
      "_model_module": "@jupyter-widgets/base",
      "_model_module_version": "1.2.0",
      "_model_name": "LayoutModel",
      "_view_count": null,
      "_view_module": "@jupyter-widgets/base",
      "_view_module_version": "1.2.0",
      "_view_name": "LayoutView",
      "align_content": null,
      "align_items": null,
      "align_self": null,
      "border": null,
      "bottom": null,
      "display": null,
      "flex": null,
      "flex_flow": null,
      "grid_area": null,
      "grid_auto_columns": null,
      "grid_auto_flow": null,
      "grid_auto_rows": null,
      "grid_column": null,
      "grid_gap": null,
      "grid_row": null,
      "grid_template_areas": null,
      "grid_template_columns": null,
      "grid_template_rows": null,
      "height": null,
      "justify_content": null,
      "justify_items": null,
      "left": null,
      "margin": null,
      "max_height": null,
      "max_width": null,
      "min_height": null,
      "min_width": null,
      "object_fit": null,
      "object_position": null,
      "order": null,
      "overflow": null,
      "overflow_x": null,
      "overflow_y": null,
      "padding": null,
      "right": null,
      "top": null,
      "visibility": null,
      "width": null
     }
    },
    "4322535db72a4e0eaacbf28ceb9a20bb": {
     "model_module": "@jupyter-widgets/controls",
     "model_module_version": "1.5.0",
     "model_name": "DescriptionStyleModel",
     "state": {
      "_model_module": "@jupyter-widgets/controls",
      "_model_module_version": "1.5.0",
      "_model_name": "DescriptionStyleModel",
      "_view_count": null,
      "_view_module": "@jupyter-widgets/base",
      "_view_module_version": "1.2.0",
      "_view_name": "StyleView",
      "description_width": ""
     }
    },
    "4486da00ffa64f0e897ead8eee311a7a": {
     "model_module": "@jupyter-widgets/controls",
     "model_module_version": "1.5.0",
     "model_name": "FloatProgressModel",
     "state": {
      "_dom_classes": [],
      "_model_module": "@jupyter-widgets/controls",
      "_model_module_version": "1.5.0",
      "_model_name": "FloatProgressModel",
      "_view_count": null,
      "_view_module": "@jupyter-widgets/controls",
      "_view_module_version": "1.5.0",
      "_view_name": "ProgressView",
      "bar_style": "success",
      "description": "",
      "description_tooltip": null,
      "layout": "IPY_MODEL_19639c108ab444a0b8a413bac972cb10",
      "max": 12,
      "min": 0,
      "orientation": "horizontal",
      "style": "IPY_MODEL_3d2844cd18044c76ad6e5d2027047d2f",
      "value": 12
     }
    },
    "470b8b74501c444fb732b77b340cec08": {
     "model_module": "@jupyter-widgets/controls",
     "model_module_version": "1.5.0",
     "model_name": "HTMLModel",
     "state": {
      "_dom_classes": [],
      "_model_module": "@jupyter-widgets/controls",
      "_model_module_version": "1.5.0",
      "_model_name": "HTMLModel",
      "_view_count": null,
      "_view_module": "@jupyter-widgets/controls",
      "_view_module_version": "1.5.0",
      "_view_name": "HTMLView",
      "description": "",
      "description_tooltip": null,
      "layout": "IPY_MODEL_e78650c7dc614ab5a80a3e55f491c8e2",
      "placeholder": "​",
      "style": "IPY_MODEL_00b8d6ead3544964aaab202d76283a00",
      "value": " 12/12 [00:02&lt;00:00,  4.62it/s]"
     }
    },
    "488fe20f11e148c88112871887be3216": {
     "model_module": "@jupyter-widgets/controls",
     "model_module_version": "1.5.0",
     "model_name": "HTMLModel",
     "state": {
      "_dom_classes": [],
      "_model_module": "@jupyter-widgets/controls",
      "_model_module_version": "1.5.0",
      "_model_name": "HTMLModel",
      "_view_count": null,
      "_view_module": "@jupyter-widgets/controls",
      "_view_module_version": "1.5.0",
      "_view_name": "HTMLView",
      "description": "",
      "description_tooltip": null,
      "layout": "IPY_MODEL_d480036adc0b4b4e92c5de2368b5fb1b",
      "placeholder": "​",
      "style": "IPY_MODEL_de9e6da741214fdeafb20187ee4c1593",
      "value": " 14/14 [00:13&lt;00:00,  1.06it/s]"
     }
    },
    "4a73e06e0d094b739c198a7c72d849cb": {
     "model_module": "@jupyter-widgets/controls",
     "model_module_version": "1.5.0",
     "model_name": "HTMLModel",
     "state": {
      "_dom_classes": [],
      "_model_module": "@jupyter-widgets/controls",
      "_model_module_version": "1.5.0",
      "_model_name": "HTMLModel",
      "_view_count": null,
      "_view_module": "@jupyter-widgets/controls",
      "_view_module_version": "1.5.0",
      "_view_name": "HTMLView",
      "description": "",
      "description_tooltip": null,
      "layout": "IPY_MODEL_f4ef363f73a04fe68f5f8e3445e606ab",
      "placeholder": "​",
      "style": "IPY_MODEL_12eaed73b1af4c5da842ea845fd77b9c",
      "value": "100%"
     }
    },
    "4aa8f28225854485a442843d8c3340a7": {
     "model_module": "@jupyter-widgets/controls",
     "model_module_version": "1.5.0",
     "model_name": "HTMLModel",
     "state": {
      "_dom_classes": [],
      "_model_module": "@jupyter-widgets/controls",
      "_model_module_version": "1.5.0",
      "_model_name": "HTMLModel",
      "_view_count": null,
      "_view_module": "@jupyter-widgets/controls",
      "_view_module_version": "1.5.0",
      "_view_name": "HTMLView",
      "description": "",
      "description_tooltip": null,
      "layout": "IPY_MODEL_08078e9dd9424f098cd4742518f5b90f",
      "placeholder": "​",
      "style": "IPY_MODEL_6724f380ef7b46cc8ae4488aa9cdecaf",
      "value": " 12/12 [00:00&lt;00:00, 33.47it/s]"
     }
    },
    "4b126d3bd38d4163a52e586f0a87da81": {
     "model_module": "@jupyter-widgets/controls",
     "model_module_version": "1.5.0",
     "model_name": "HBoxModel",
     "state": {
      "_dom_classes": [],
      "_model_module": "@jupyter-widgets/controls",
      "_model_module_version": "1.5.0",
      "_model_name": "HBoxModel",
      "_view_count": null,
      "_view_module": "@jupyter-widgets/controls",
      "_view_module_version": "1.5.0",
      "_view_name": "HBoxView",
      "box_style": "",
      "children": [
       "IPY_MODEL_f9a8adb7e645492e8a6140540284640b",
       "IPY_MODEL_b93edaa22fd447eb819a583cb1f0b18e",
       "IPY_MODEL_60b0970d17cf427f960bc660b1f918fe"
      ],
      "layout": "IPY_MODEL_52edd7dec06343d384ddf4384a726b9b"
     }
    },
    "4b1c03a7e5304ceeb600ec5ba5209d6d": {
     "model_module": "@jupyter-widgets/controls",
     "model_module_version": "1.5.0",
     "model_name": "HTMLModel",
     "state": {
      "_dom_classes": [],
      "_model_module": "@jupyter-widgets/controls",
      "_model_module_version": "1.5.0",
      "_model_name": "HTMLModel",
      "_view_count": null,
      "_view_module": "@jupyter-widgets/controls",
      "_view_module_version": "1.5.0",
      "_view_name": "HTMLView",
      "description": "",
      "description_tooltip": null,
      "layout": "IPY_MODEL_5ea18ae55bb04374bf1b217139caa67c",
      "placeholder": "​",
      "style": "IPY_MODEL_875bcf34047f4837a8cf6b0e9217c522",
      "value": "Classifying examples (process 1): 100%"
     }
    },
    "4e4e8472b92349018377c6233c7634d3": {
     "model_module": "@jupyter-widgets/controls",
     "model_module_version": "1.5.0",
     "model_name": "HBoxModel",
     "state": {
      "_dom_classes": [],
      "_model_module": "@jupyter-widgets/controls",
      "_model_module_version": "1.5.0",
      "_model_name": "HBoxModel",
      "_view_count": null,
      "_view_module": "@jupyter-widgets/controls",
      "_view_module_version": "1.5.0",
      "_view_name": "HBoxView",
      "box_style": "",
      "children": [
       "IPY_MODEL_420d1752f6944c9e84bb496af823b04f",
       "IPY_MODEL_263a2673431546d79f9aa834d432088b",
       "IPY_MODEL_09c8d0bceba94142a60117e5b3be6190"
      ],
      "layout": "IPY_MODEL_bd3a0f38d74649a99b4c993e37600f74"
     }
    },
    "4fc2ab27145e4500829dfa9992a75c2c": {
     "model_module": "@jupyter-widgets/base",
     "model_module_version": "1.2.0",
     "model_name": "LayoutModel",
     "state": {
      "_model_module": "@jupyter-widgets/base",
      "_model_module_version": "1.2.0",
      "_model_name": "LayoutModel",
      "_view_count": null,
      "_view_module": "@jupyter-widgets/base",
      "_view_module_version": "1.2.0",
      "_view_name": "LayoutView",
      "align_content": null,
      "align_items": null,
      "align_self": null,
      "border": null,
      "bottom": null,
      "display": null,
      "flex": null,
      "flex_flow": null,
      "grid_area": null,
      "grid_auto_columns": null,
      "grid_auto_flow": null,
      "grid_auto_rows": null,
      "grid_column": null,
      "grid_gap": null,
      "grid_row": null,
      "grid_template_areas": null,
      "grid_template_columns": null,
      "grid_template_rows": null,
      "height": null,
      "justify_content": null,
      "justify_items": null,
      "left": null,
      "margin": null,
      "max_height": null,
      "max_width": null,
      "min_height": null,
      "min_width": null,
      "object_fit": null,
      "object_position": null,
      "order": null,
      "overflow": null,
      "overflow_x": null,
      "overflow_y": null,
      "padding": null,
      "right": null,
      "top": null,
      "visibility": null,
      "width": null
     }
    },
    "4fcc5e1bafdb44848433d61407a4aa46": {
     "model_module": "@jupyter-widgets/base",
     "model_module_version": "1.2.0",
     "model_name": "LayoutModel",
     "state": {
      "_model_module": "@jupyter-widgets/base",
      "_model_module_version": "1.2.0",
      "_model_name": "LayoutModel",
      "_view_count": null,
      "_view_module": "@jupyter-widgets/base",
      "_view_module_version": "1.2.0",
      "_view_name": "LayoutView",
      "align_content": null,
      "align_items": null,
      "align_self": null,
      "border": null,
      "bottom": null,
      "display": null,
      "flex": null,
      "flex_flow": null,
      "grid_area": null,
      "grid_auto_columns": null,
      "grid_auto_flow": null,
      "grid_auto_rows": null,
      "grid_column": null,
      "grid_gap": null,
      "grid_row": null,
      "grid_template_areas": null,
      "grid_template_columns": null,
      "grid_template_rows": null,
      "height": null,
      "justify_content": null,
      "justify_items": null,
      "left": null,
      "margin": null,
      "max_height": null,
      "max_width": null,
      "min_height": null,
      "min_width": null,
      "object_fit": null,
      "object_position": null,
      "order": null,
      "overflow": null,
      "overflow_x": null,
      "overflow_y": null,
      "padding": null,
      "right": null,
      "top": null,
      "visibility": null,
      "width": null
     }
    },
    "5154f59f98fe4a849e18b9c5bf441803": {
     "model_module": "@jupyter-widgets/controls",
     "model_module_version": "1.5.0",
     "model_name": "DescriptionStyleModel",
     "state": {
      "_model_module": "@jupyter-widgets/controls",
      "_model_module_version": "1.5.0",
      "_model_name": "DescriptionStyleModel",
      "_view_count": null,
      "_view_module": "@jupyter-widgets/base",
      "_view_module_version": "1.2.0",
      "_view_name": "StyleView",
      "description_width": ""
     }
    },
    "52af4f5a6cea43148d5b31697bbdaa34": {
     "model_module": "@jupyter-widgets/controls",
     "model_module_version": "1.5.0",
     "model_name": "HTMLModel",
     "state": {
      "_dom_classes": [],
      "_model_module": "@jupyter-widgets/controls",
      "_model_module_version": "1.5.0",
      "_model_name": "HTMLModel",
      "_view_count": null,
      "_view_module": "@jupyter-widgets/controls",
      "_view_module_version": "1.5.0",
      "_view_name": "HTMLView",
      "description": "",
      "description_tooltip": null,
      "layout": "IPY_MODEL_79eceb91229d407b87f5a6c273e1182b",
      "placeholder": "​",
      "style": "IPY_MODEL_3141c230e3f140fe8d074187518bf09e",
      "value": "100%"
     }
    },
    "52edd7dec06343d384ddf4384a726b9b": {
     "model_module": "@jupyter-widgets/base",
     "model_module_version": "1.2.0",
     "model_name": "LayoutModel",
     "state": {
      "_model_module": "@jupyter-widgets/base",
      "_model_module_version": "1.2.0",
      "_model_name": "LayoutModel",
      "_view_count": null,
      "_view_module": "@jupyter-widgets/base",
      "_view_module_version": "1.2.0",
      "_view_name": "LayoutView",
      "align_content": null,
      "align_items": null,
      "align_self": null,
      "border": null,
      "bottom": null,
      "display": null,
      "flex": null,
      "flex_flow": null,
      "grid_area": null,
      "grid_auto_columns": null,
      "grid_auto_flow": null,
      "grid_auto_rows": null,
      "grid_column": null,
      "grid_gap": null,
      "grid_row": null,
      "grid_template_areas": null,
      "grid_template_columns": null,
      "grid_template_rows": null,
      "height": null,
      "justify_content": null,
      "justify_items": null,
      "left": null,
      "margin": null,
      "max_height": null,
      "max_width": null,
      "min_height": null,
      "min_width": null,
      "object_fit": null,
      "object_position": null,
      "order": null,
      "overflow": null,
      "overflow_x": null,
      "overflow_y": null,
      "padding": null,
      "right": null,
      "top": null,
      "visibility": null,
      "width": null
     }
    },
    "56ddfc8e108648b58de49d480722e4ac": {
     "model_module": "@jupyter-widgets/controls",
     "model_module_version": "1.5.0",
     "model_name": "ProgressStyleModel",
     "state": {
      "_model_module": "@jupyter-widgets/controls",
      "_model_module_version": "1.5.0",
      "_model_name": "ProgressStyleModel",
      "_view_count": null,
      "_view_module": "@jupyter-widgets/base",
      "_view_module_version": "1.2.0",
      "_view_name": "StyleView",
      "bar_color": null,
      "description_width": ""
     }
    },
    "5835ea80ca7f4e0f95581e5ff78585c5": {
     "model_module": "@jupyter-widgets/controls",
     "model_module_version": "1.5.0",
     "model_name": "ProgressStyleModel",
     "state": {
      "_model_module": "@jupyter-widgets/controls",
      "_model_module_version": "1.5.0",
      "_model_name": "ProgressStyleModel",
      "_view_count": null,
      "_view_module": "@jupyter-widgets/base",
      "_view_module_version": "1.2.0",
      "_view_name": "StyleView",
      "bar_color": null,
      "description_width": ""
     }
    },
    "5b5c4791e5274d31843fd3e1af840a0e": {
     "model_module": "@jupyter-widgets/controls",
     "model_module_version": "1.5.0",
     "model_name": "HTMLModel",
     "state": {
      "_dom_classes": [],
      "_model_module": "@jupyter-widgets/controls",
      "_model_module_version": "1.5.0",
      "_model_name": "HTMLModel",
      "_view_count": null,
      "_view_module": "@jupyter-widgets/controls",
      "_view_module_version": "1.5.0",
      "_view_name": "HTMLView",
      "description": "",
      "description_tooltip": null,
      "layout": "IPY_MODEL_3f65575144794a8c9a40c86154ff5718",
      "placeholder": "​",
      "style": "IPY_MODEL_71ce97072ec846ac838460f9a7c8d676",
      "value": " 12/12 [00:00&lt;00:00, 17.56it/s]"
     }
    },
    "5bf808129bc34c93b177ebccf63e40c5": {
     "model_module": "@jupyter-widgets/base",
     "model_module_version": "1.2.0",
     "model_name": "LayoutModel",
     "state": {
      "_model_module": "@jupyter-widgets/base",
      "_model_module_version": "1.2.0",
      "_model_name": "LayoutModel",
      "_view_count": null,
      "_view_module": "@jupyter-widgets/base",
      "_view_module_version": "1.2.0",
      "_view_name": "LayoutView",
      "align_content": null,
      "align_items": null,
      "align_self": null,
      "border": null,
      "bottom": null,
      "display": null,
      "flex": null,
      "flex_flow": null,
      "grid_area": null,
      "grid_auto_columns": null,
      "grid_auto_flow": null,
      "grid_auto_rows": null,
      "grid_column": null,
      "grid_gap": null,
      "grid_row": null,
      "grid_template_areas": null,
      "grid_template_columns": null,
      "grid_template_rows": null,
      "height": null,
      "justify_content": null,
      "justify_items": null,
      "left": null,
      "margin": null,
      "max_height": null,
      "max_width": null,
      "min_height": null,
      "min_width": null,
      "object_fit": null,
      "object_position": null,
      "order": null,
      "overflow": null,
      "overflow_x": null,
      "overflow_y": null,
      "padding": null,
      "right": null,
      "top": null,
      "visibility": null,
      "width": null
     }
    },
    "5ea18ae55bb04374bf1b217139caa67c": {
     "model_module": "@jupyter-widgets/base",
     "model_module_version": "1.2.0",
     "model_name": "LayoutModel",
     "state": {
      "_model_module": "@jupyter-widgets/base",
      "_model_module_version": "1.2.0",
      "_model_name": "LayoutModel",
      "_view_count": null,
      "_view_module": "@jupyter-widgets/base",
      "_view_module_version": "1.2.0",
      "_view_name": "LayoutView",
      "align_content": null,
      "align_items": null,
      "align_self": null,
      "border": null,
      "bottom": null,
      "display": null,
      "flex": null,
      "flex_flow": null,
      "grid_area": null,
      "grid_auto_columns": null,
      "grid_auto_flow": null,
      "grid_auto_rows": null,
      "grid_column": null,
      "grid_gap": null,
      "grid_row": null,
      "grid_template_areas": null,
      "grid_template_columns": null,
      "grid_template_rows": null,
      "height": null,
      "justify_content": null,
      "justify_items": null,
      "left": null,
      "margin": null,
      "max_height": null,
      "max_width": null,
      "min_height": null,
      "min_width": null,
      "object_fit": null,
      "object_position": null,
      "order": null,
      "overflow": null,
      "overflow_x": null,
      "overflow_y": null,
      "padding": null,
      "right": null,
      "top": null,
      "visibility": null,
      "width": null
     }
    },
    "60b0970d17cf427f960bc660b1f918fe": {
     "model_module": "@jupyter-widgets/controls",
     "model_module_version": "1.5.0",
     "model_name": "HTMLModel",
     "state": {
      "_dom_classes": [],
      "_model_module": "@jupyter-widgets/controls",
      "_model_module_version": "1.5.0",
      "_model_name": "HTMLModel",
      "_view_count": null,
      "_view_module": "@jupyter-widgets/controls",
      "_view_module_version": "1.5.0",
      "_view_name": "HTMLView",
      "description": "",
      "description_tooltip": null,
      "layout": "IPY_MODEL_0c01d0d89c984da0bea23e625f873c7f",
      "placeholder": "​",
      "style": "IPY_MODEL_cabff6c5288d429e97db9c30c722286e",
      "value": " 12/12 [00:00&lt;00:00, 46.39it/s]"
     }
    },
    "60fc8012b1b74283ac0fb7acba31aaa2": {
     "model_module": "@jupyter-widgets/base",
     "model_module_version": "1.2.0",
     "model_name": "LayoutModel",
     "state": {
      "_model_module": "@jupyter-widgets/base",
      "_model_module_version": "1.2.0",
      "_model_name": "LayoutModel",
      "_view_count": null,
      "_view_module": "@jupyter-widgets/base",
      "_view_module_version": "1.2.0",
      "_view_name": "LayoutView",
      "align_content": null,
      "align_items": null,
      "align_self": null,
      "border": null,
      "bottom": null,
      "display": null,
      "flex": null,
      "flex_flow": null,
      "grid_area": null,
      "grid_auto_columns": null,
      "grid_auto_flow": null,
      "grid_auto_rows": null,
      "grid_column": null,
      "grid_gap": null,
      "grid_row": null,
      "grid_template_areas": null,
      "grid_template_columns": null,
      "grid_template_rows": null,
      "height": null,
      "justify_content": null,
      "justify_items": null,
      "left": null,
      "margin": null,
      "max_height": null,
      "max_width": null,
      "min_height": null,
      "min_width": null,
      "object_fit": null,
      "object_position": null,
      "order": null,
      "overflow": null,
      "overflow_x": null,
      "overflow_y": null,
      "padding": null,
      "right": null,
      "top": null,
      "visibility": null,
      "width": null
     }
    },
    "61d71cd1e906412f852e3274e5daf696": {
     "model_module": "@jupyter-widgets/controls",
     "model_module_version": "1.5.0",
     "model_name": "DescriptionStyleModel",
     "state": {
      "_model_module": "@jupyter-widgets/controls",
      "_model_module_version": "1.5.0",
      "_model_name": "DescriptionStyleModel",
      "_view_count": null,
      "_view_module": "@jupyter-widgets/base",
      "_view_module_version": "1.2.0",
      "_view_name": "StyleView",
      "description_width": ""
     }
    },
    "621d4a1da65d48238421f2c784a89d72": {
     "model_module": "@jupyter-widgets/base",
     "model_module_version": "1.2.0",
     "model_name": "LayoutModel",
     "state": {
      "_model_module": "@jupyter-widgets/base",
      "_model_module_version": "1.2.0",
      "_model_name": "LayoutModel",
      "_view_count": null,
      "_view_module": "@jupyter-widgets/base",
      "_view_module_version": "1.2.0",
      "_view_name": "LayoutView",
      "align_content": null,
      "align_items": null,
      "align_self": null,
      "border": null,
      "bottom": null,
      "display": null,
      "flex": null,
      "flex_flow": null,
      "grid_area": null,
      "grid_auto_columns": null,
      "grid_auto_flow": null,
      "grid_auto_rows": null,
      "grid_column": null,
      "grid_gap": null,
      "grid_row": null,
      "grid_template_areas": null,
      "grid_template_columns": null,
      "grid_template_rows": null,
      "height": null,
      "justify_content": null,
      "justify_items": null,
      "left": null,
      "margin": null,
      "max_height": null,
      "max_width": null,
      "min_height": null,
      "min_width": null,
      "object_fit": null,
      "object_position": null,
      "order": null,
      "overflow": null,
      "overflow_x": null,
      "overflow_y": null,
      "padding": null,
      "right": null,
      "top": null,
      "visibility": null,
      "width": null
     }
    },
    "6313d636eec24ce4be602b37e8a9cc83": {
     "model_module": "@jupyter-widgets/controls",
     "model_module_version": "1.5.0",
     "model_name": "ProgressStyleModel",
     "state": {
      "_model_module": "@jupyter-widgets/controls",
      "_model_module_version": "1.5.0",
      "_model_name": "ProgressStyleModel",
      "_view_count": null,
      "_view_module": "@jupyter-widgets/base",
      "_view_module_version": "1.2.0",
      "_view_name": "StyleView",
      "bar_color": null,
      "description_width": ""
     }
    },
    "64eb04c05b50414fb11a3ee92c17a134": {
     "model_module": "@jupyter-widgets/base",
     "model_module_version": "1.2.0",
     "model_name": "LayoutModel",
     "state": {
      "_model_module": "@jupyter-widgets/base",
      "_model_module_version": "1.2.0",
      "_model_name": "LayoutModel",
      "_view_count": null,
      "_view_module": "@jupyter-widgets/base",
      "_view_module_version": "1.2.0",
      "_view_name": "LayoutView",
      "align_content": null,
      "align_items": null,
      "align_self": null,
      "border": null,
      "bottom": null,
      "display": null,
      "flex": null,
      "flex_flow": null,
      "grid_area": null,
      "grid_auto_columns": null,
      "grid_auto_flow": null,
      "grid_auto_rows": null,
      "grid_column": null,
      "grid_gap": null,
      "grid_row": null,
      "grid_template_areas": null,
      "grid_template_columns": null,
      "grid_template_rows": null,
      "height": null,
      "justify_content": null,
      "justify_items": null,
      "left": null,
      "margin": null,
      "max_height": null,
      "max_width": null,
      "min_height": null,
      "min_width": null,
      "object_fit": null,
      "object_position": null,
      "order": null,
      "overflow": null,
      "overflow_x": null,
      "overflow_y": null,
      "padding": null,
      "right": null,
      "top": null,
      "visibility": null,
      "width": null
     }
    },
    "658504b0e4914b8ab1d6a32b19091e38": {
     "model_module": "@jupyter-widgets/controls",
     "model_module_version": "1.5.0",
     "model_name": "HTMLModel",
     "state": {
      "_dom_classes": [],
      "_model_module": "@jupyter-widgets/controls",
      "_model_module_version": "1.5.0",
      "_model_name": "HTMLModel",
      "_view_count": null,
      "_view_module": "@jupyter-widgets/controls",
      "_view_module_version": "1.5.0",
      "_view_name": "HTMLView",
      "description": "",
      "description_tooltip": null,
      "layout": "IPY_MODEL_ff9995df8ce04e5b968c84c195bd8cc3",
      "placeholder": "​",
      "style": "IPY_MODEL_35c080c5524c42349ca532764bd9925f",
      "value": " 12/12 [00:00&lt;00:00, 35.54it/s]"
     }
    },
    "65977c82113b4786b55d2ba2dba3415b": {
     "model_module": "@jupyter-widgets/controls",
     "model_module_version": "1.5.0",
     "model_name": "ProgressStyleModel",
     "state": {
      "_model_module": "@jupyter-widgets/controls",
      "_model_module_version": "1.5.0",
      "_model_name": "ProgressStyleModel",
      "_view_count": null,
      "_view_module": "@jupyter-widgets/base",
      "_view_module_version": "1.2.0",
      "_view_name": "StyleView",
      "bar_color": null,
      "description_width": ""
     }
    },
    "66ffc3fcfdb7407d99f8e1cf1bb46944": {
     "model_module": "@jupyter-widgets/controls",
     "model_module_version": "1.5.0",
     "model_name": "HTMLModel",
     "state": {
      "_dom_classes": [],
      "_model_module": "@jupyter-widgets/controls",
      "_model_module_version": "1.5.0",
      "_model_name": "HTMLModel",
      "_view_count": null,
      "_view_module": "@jupyter-widgets/controls",
      "_view_module_version": "1.5.0",
      "_view_name": "HTMLView",
      "description": "",
      "description_tooltip": null,
      "layout": "IPY_MODEL_cc4a97ad57734c988af3405d76b4f2b4",
      "placeholder": "​",
      "style": "IPY_MODEL_ba63439eae5e4eccba22305b43691483",
      "value": "100%"
     }
    },
    "6724f380ef7b46cc8ae4488aa9cdecaf": {
     "model_module": "@jupyter-widgets/controls",
     "model_module_version": "1.5.0",
     "model_name": "DescriptionStyleModel",
     "state": {
      "_model_module": "@jupyter-widgets/controls",
      "_model_module_version": "1.5.0",
      "_model_name": "DescriptionStyleModel",
      "_view_count": null,
      "_view_module": "@jupyter-widgets/base",
      "_view_module_version": "1.2.0",
      "_view_name": "StyleView",
      "description_width": ""
     }
    },
    "68b66df0277f470488ebe5033969ba51": {
     "model_module": "@jupyter-widgets/controls",
     "model_module_version": "1.5.0",
     "model_name": "HTMLModel",
     "state": {
      "_dom_classes": [],
      "_model_module": "@jupyter-widgets/controls",
      "_model_module_version": "1.5.0",
      "_model_name": "HTMLModel",
      "_view_count": null,
      "_view_module": "@jupyter-widgets/controls",
      "_view_module_version": "1.5.0",
      "_view_name": "HTMLView",
      "description": "",
      "description_tooltip": null,
      "layout": "IPY_MODEL_0c7ff7a14fbd4766ae3303230fd76ac3",
      "placeholder": "​",
      "style": "IPY_MODEL_a985bd35442248cbbdf96b85e342f637",
      "value": " 12/12 [00:00&lt;00:00, 33.13it/s]"
     }
    },
    "6a34d77da1bf4e829dd55c881d808db5": {
     "model_module": "@jupyter-widgets/controls",
     "model_module_version": "1.5.0",
     "model_name": "DescriptionStyleModel",
     "state": {
      "_model_module": "@jupyter-widgets/controls",
      "_model_module_version": "1.5.0",
      "_model_name": "DescriptionStyleModel",
      "_view_count": null,
      "_view_module": "@jupyter-widgets/base",
      "_view_module_version": "1.2.0",
      "_view_name": "StyleView",
      "description_width": ""
     }
    },
    "6bad88d458344debad49441e236fcb0c": {
     "model_module": "@jupyter-widgets/controls",
     "model_module_version": "1.5.0",
     "model_name": "DescriptionStyleModel",
     "state": {
      "_model_module": "@jupyter-widgets/controls",
      "_model_module_version": "1.5.0",
      "_model_name": "DescriptionStyleModel",
      "_view_count": null,
      "_view_module": "@jupyter-widgets/base",
      "_view_module_version": "1.2.0",
      "_view_name": "StyleView",
      "description_width": ""
     }
    },
    "6bc2e686b73f4880be191eeb44e7ea13": {
     "model_module": "@jupyter-widgets/controls",
     "model_module_version": "1.5.0",
     "model_name": "HBoxModel",
     "state": {
      "_dom_classes": [],
      "_model_module": "@jupyter-widgets/controls",
      "_model_module_version": "1.5.0",
      "_model_name": "HBoxModel",
      "_view_count": null,
      "_view_module": "@jupyter-widgets/controls",
      "_view_module_version": "1.5.0",
      "_view_name": "HBoxView",
      "box_style": "",
      "children": [
       "IPY_MODEL_0bedf81eadfe45ec863875a344f8a409",
       "IPY_MODEL_0fa388fa18034f21ba215c594ba90944",
       "IPY_MODEL_f06ab4350eee43fe8004c83da3372124"
      ],
      "layout": "IPY_MODEL_621d4a1da65d48238421f2c784a89d72"
     }
    },
    "6e55879a0861489780ba6b6cc97e261b": {
     "model_module": "@jupyter-widgets/base",
     "model_module_version": "1.2.0",
     "model_name": "LayoutModel",
     "state": {
      "_model_module": "@jupyter-widgets/base",
      "_model_module_version": "1.2.0",
      "_model_name": "LayoutModel",
      "_view_count": null,
      "_view_module": "@jupyter-widgets/base",
      "_view_module_version": "1.2.0",
      "_view_name": "LayoutView",
      "align_content": null,
      "align_items": null,
      "align_self": null,
      "border": null,
      "bottom": null,
      "display": null,
      "flex": null,
      "flex_flow": null,
      "grid_area": null,
      "grid_auto_columns": null,
      "grid_auto_flow": null,
      "grid_auto_rows": null,
      "grid_column": null,
      "grid_gap": null,
      "grid_row": null,
      "grid_template_areas": null,
      "grid_template_columns": null,
      "grid_template_rows": null,
      "height": null,
      "justify_content": null,
      "justify_items": null,
      "left": null,
      "margin": null,
      "max_height": null,
      "max_width": null,
      "min_height": null,
      "min_width": null,
      "object_fit": null,
      "object_position": null,
      "order": null,
      "overflow": null,
      "overflow_x": null,
      "overflow_y": null,
      "padding": null,
      "right": null,
      "top": null,
      "visibility": null,
      "width": null
     }
    },
    "71ce97072ec846ac838460f9a7c8d676": {
     "model_module": "@jupyter-widgets/controls",
     "model_module_version": "1.5.0",
     "model_name": "DescriptionStyleModel",
     "state": {
      "_model_module": "@jupyter-widgets/controls",
      "_model_module_version": "1.5.0",
      "_model_name": "DescriptionStyleModel",
      "_view_count": null,
      "_view_module": "@jupyter-widgets/base",
      "_view_module_version": "1.2.0",
      "_view_name": "StyleView",
      "description_width": ""
     }
    },
    "76600dc85f9449fb956094d831e69b1d": {
     "model_module": "@jupyter-widgets/controls",
     "model_module_version": "1.5.0",
     "model_name": "FloatProgressModel",
     "state": {
      "_dom_classes": [],
      "_model_module": "@jupyter-widgets/controls",
      "_model_module_version": "1.5.0",
      "_model_name": "FloatProgressModel",
      "_view_count": null,
      "_view_module": "@jupyter-widgets/controls",
      "_view_module_version": "1.5.0",
      "_view_name": "ProgressView",
      "bar_style": "success",
      "description": "",
      "description_tooltip": null,
      "layout": "IPY_MODEL_a81422231f19479881e2626280d5f0d9",
      "max": 12,
      "min": 0,
      "orientation": "horizontal",
      "style": "IPY_MODEL_271085b7ff2e4b7f82d42ecc51a483bb",
      "value": 12
     }
    },
    "76826961ff1544c6ba65da887c915576": {
     "model_module": "@jupyter-widgets/controls",
     "model_module_version": "1.5.0",
     "model_name": "DescriptionStyleModel",
     "state": {
      "_model_module": "@jupyter-widgets/controls",
      "_model_module_version": "1.5.0",
      "_model_name": "DescriptionStyleModel",
      "_view_count": null,
      "_view_module": "@jupyter-widgets/base",
      "_view_module_version": "1.2.0",
      "_view_name": "StyleView",
      "description_width": ""
     }
    },
    "78ad32d39b114548aa57f4db9923b6e2": {
     "model_module": "@jupyter-widgets/controls",
     "model_module_version": "1.5.0",
     "model_name": "HTMLModel",
     "state": {
      "_dom_classes": [],
      "_model_module": "@jupyter-widgets/controls",
      "_model_module_version": "1.5.0",
      "_model_name": "HTMLModel",
      "_view_count": null,
      "_view_module": "@jupyter-widgets/controls",
      "_view_module_version": "1.5.0",
      "_view_name": "HTMLView",
      "description": "",
      "description_tooltip": null,
      "layout": "IPY_MODEL_c60ff4833d944731986d8b292f7af8e8",
      "placeholder": "​",
      "style": "IPY_MODEL_76826961ff1544c6ba65da887c915576",
      "value": "100%"
     }
    },
    "79eceb91229d407b87f5a6c273e1182b": {
     "model_module": "@jupyter-widgets/base",
     "model_module_version": "1.2.0",
     "model_name": "LayoutModel",
     "state": {
      "_model_module": "@jupyter-widgets/base",
      "_model_module_version": "1.2.0",
      "_model_name": "LayoutModel",
      "_view_count": null,
      "_view_module": "@jupyter-widgets/base",
      "_view_module_version": "1.2.0",
      "_view_name": "LayoutView",
      "align_content": null,
      "align_items": null,
      "align_self": null,
      "border": null,
      "bottom": null,
      "display": null,
      "flex": null,
      "flex_flow": null,
      "grid_area": null,
      "grid_auto_columns": null,
      "grid_auto_flow": null,
      "grid_auto_rows": null,
      "grid_column": null,
      "grid_gap": null,
      "grid_row": null,
      "grid_template_areas": null,
      "grid_template_columns": null,
      "grid_template_rows": null,
      "height": null,
      "justify_content": null,
      "justify_items": null,
      "left": null,
      "margin": null,
      "max_height": null,
      "max_width": null,
      "min_height": null,
      "min_width": null,
      "object_fit": null,
      "object_position": null,
      "order": null,
      "overflow": null,
      "overflow_x": null,
      "overflow_y": null,
      "padding": null,
      "right": null,
      "top": null,
      "visibility": null,
      "width": null
     }
    },
    "7d09180c95c84f559d7ef097c7c7855b": {
     "model_module": "@jupyter-widgets/controls",
     "model_module_version": "1.5.0",
     "model_name": "HBoxModel",
     "state": {
      "_dom_classes": [],
      "_model_module": "@jupyter-widgets/controls",
      "_model_module_version": "1.5.0",
      "_model_name": "HBoxModel",
      "_view_count": null,
      "_view_module": "@jupyter-widgets/controls",
      "_view_module_version": "1.5.0",
      "_view_name": "HBoxView",
      "box_style": "",
      "children": [
       "IPY_MODEL_2ba22147a47c4555b44474e8952aef95",
       "IPY_MODEL_e7232d1aed434a4db14fb9a6b0d64597",
       "IPY_MODEL_f461182883c54727aafc1d00f0274b12"
      ],
      "layout": "IPY_MODEL_4fcc5e1bafdb44848433d61407a4aa46"
     }
    },
    "7ebf0410b3044339bd454b205cf3b229": {
     "model_module": "@jupyter-widgets/controls",
     "model_module_version": "1.5.0",
     "model_name": "HTMLModel",
     "state": {
      "_dom_classes": [],
      "_model_module": "@jupyter-widgets/controls",
      "_model_module_version": "1.5.0",
      "_model_name": "HTMLModel",
      "_view_count": null,
      "_view_module": "@jupyter-widgets/controls",
      "_view_module_version": "1.5.0",
      "_view_name": "HTMLView",
      "description": "",
      "description_tooltip": null,
      "layout": "IPY_MODEL_fbd1d84a4c254a05ad47df273171e226",
      "placeholder": "​",
      "style": "IPY_MODEL_6bad88d458344debad49441e236fcb0c",
      "value": "100%"
     }
    },
    "7ed87da0aa164bb3a938d652dbd0621d": {
     "model_module": "@jupyter-widgets/base",
     "model_module_version": "1.2.0",
     "model_name": "LayoutModel",
     "state": {
      "_model_module": "@jupyter-widgets/base",
      "_model_module_version": "1.2.0",
      "_model_name": "LayoutModel",
      "_view_count": null,
      "_view_module": "@jupyter-widgets/base",
      "_view_module_version": "1.2.0",
      "_view_name": "LayoutView",
      "align_content": null,
      "align_items": null,
      "align_self": null,
      "border": null,
      "bottom": null,
      "display": null,
      "flex": null,
      "flex_flow": null,
      "grid_area": null,
      "grid_auto_columns": null,
      "grid_auto_flow": null,
      "grid_auto_rows": null,
      "grid_column": null,
      "grid_gap": null,
      "grid_row": null,
      "grid_template_areas": null,
      "grid_template_columns": null,
      "grid_template_rows": null,
      "height": null,
      "justify_content": null,
      "justify_items": null,
      "left": null,
      "margin": null,
      "max_height": null,
      "max_width": null,
      "min_height": null,
      "min_width": null,
      "object_fit": null,
      "object_position": null,
      "order": null,
      "overflow": null,
      "overflow_x": null,
      "overflow_y": null,
      "padding": null,
      "right": null,
      "top": null,
      "visibility": null,
      "width": null
     }
    },
    "8194ccf9f54c436097b0f51ce51a0fde": {
     "model_module": "@jupyter-widgets/controls",
     "model_module_version": "1.5.0",
     "model_name": "ProgressStyleModel",
     "state": {
      "_model_module": "@jupyter-widgets/controls",
      "_model_module_version": "1.5.0",
      "_model_name": "ProgressStyleModel",
      "_view_count": null,
      "_view_module": "@jupyter-widgets/base",
      "_view_module_version": "1.2.0",
      "_view_name": "StyleView",
      "bar_color": null,
      "description_width": ""
     }
    },
    "83992f9945204813ac8b8f6ee5348294": {
     "model_module": "@jupyter-widgets/base",
     "model_module_version": "1.2.0",
     "model_name": "LayoutModel",
     "state": {
      "_model_module": "@jupyter-widgets/base",
      "_model_module_version": "1.2.0",
      "_model_name": "LayoutModel",
      "_view_count": null,
      "_view_module": "@jupyter-widgets/base",
      "_view_module_version": "1.2.0",
      "_view_name": "LayoutView",
      "align_content": null,
      "align_items": null,
      "align_self": null,
      "border": null,
      "bottom": null,
      "display": null,
      "flex": null,
      "flex_flow": null,
      "grid_area": null,
      "grid_auto_columns": null,
      "grid_auto_flow": null,
      "grid_auto_rows": null,
      "grid_column": null,
      "grid_gap": null,
      "grid_row": null,
      "grid_template_areas": null,
      "grid_template_columns": null,
      "grid_template_rows": null,
      "height": null,
      "justify_content": null,
      "justify_items": null,
      "left": null,
      "margin": null,
      "max_height": null,
      "max_width": null,
      "min_height": null,
      "min_width": null,
      "object_fit": null,
      "object_position": null,
      "order": null,
      "overflow": null,
      "overflow_x": null,
      "overflow_y": null,
      "padding": null,
      "right": null,
      "top": null,
      "visibility": null,
      "width": null
     }
    },
    "83dd8ba703154be293e3fbe38192bfc2": {
     "model_module": "@jupyter-widgets/base",
     "model_module_version": "1.2.0",
     "model_name": "LayoutModel",
     "state": {
      "_model_module": "@jupyter-widgets/base",
      "_model_module_version": "1.2.0",
      "_model_name": "LayoutModel",
      "_view_count": null,
      "_view_module": "@jupyter-widgets/base",
      "_view_module_version": "1.2.0",
      "_view_name": "LayoutView",
      "align_content": null,
      "align_items": null,
      "align_self": null,
      "border": null,
      "bottom": null,
      "display": null,
      "flex": null,
      "flex_flow": null,
      "grid_area": null,
      "grid_auto_columns": null,
      "grid_auto_flow": null,
      "grid_auto_rows": null,
      "grid_column": null,
      "grid_gap": null,
      "grid_row": null,
      "grid_template_areas": null,
      "grid_template_columns": null,
      "grid_template_rows": null,
      "height": null,
      "justify_content": null,
      "justify_items": null,
      "left": null,
      "margin": null,
      "max_height": null,
      "max_width": null,
      "min_height": null,
      "min_width": null,
      "object_fit": null,
      "object_position": null,
      "order": null,
      "overflow": null,
      "overflow_x": null,
      "overflow_y": null,
      "padding": null,
      "right": null,
      "top": null,
      "visibility": null,
      "width": null
     }
    },
    "86945b63ef494c7e84423feb749f667c": {
     "model_module": "@jupyter-widgets/base",
     "model_module_version": "1.2.0",
     "model_name": "LayoutModel",
     "state": {
      "_model_module": "@jupyter-widgets/base",
      "_model_module_version": "1.2.0",
      "_model_name": "LayoutModel",
      "_view_count": null,
      "_view_module": "@jupyter-widgets/base",
      "_view_module_version": "1.2.0",
      "_view_name": "LayoutView",
      "align_content": null,
      "align_items": null,
      "align_self": null,
      "border": null,
      "bottom": null,
      "display": null,
      "flex": null,
      "flex_flow": null,
      "grid_area": null,
      "grid_auto_columns": null,
      "grid_auto_flow": null,
      "grid_auto_rows": null,
      "grid_column": null,
      "grid_gap": null,
      "grid_row": null,
      "grid_template_areas": null,
      "grid_template_columns": null,
      "grid_template_rows": null,
      "height": null,
      "justify_content": null,
      "justify_items": null,
      "left": null,
      "margin": null,
      "max_height": null,
      "max_width": null,
      "min_height": null,
      "min_width": null,
      "object_fit": null,
      "object_position": null,
      "order": null,
      "overflow": null,
      "overflow_x": null,
      "overflow_y": null,
      "padding": null,
      "right": null,
      "top": null,
      "visibility": null,
      "width": null
     }
    },
    "875bcf34047f4837a8cf6b0e9217c522": {
     "model_module": "@jupyter-widgets/controls",
     "model_module_version": "1.5.0",
     "model_name": "DescriptionStyleModel",
     "state": {
      "_model_module": "@jupyter-widgets/controls",
      "_model_module_version": "1.5.0",
      "_model_name": "DescriptionStyleModel",
      "_view_count": null,
      "_view_module": "@jupyter-widgets/base",
      "_view_module_version": "1.2.0",
      "_view_name": "StyleView",
      "description_width": ""
     }
    },
    "8aaa646862454774abee6bd6e8cb73f3": {
     "model_module": "@jupyter-widgets/base",
     "model_module_version": "1.2.0",
     "model_name": "LayoutModel",
     "state": {
      "_model_module": "@jupyter-widgets/base",
      "_model_module_version": "1.2.0",
      "_model_name": "LayoutModel",
      "_view_count": null,
      "_view_module": "@jupyter-widgets/base",
      "_view_module_version": "1.2.0",
      "_view_name": "LayoutView",
      "align_content": null,
      "align_items": null,
      "align_self": null,
      "border": null,
      "bottom": null,
      "display": null,
      "flex": null,
      "flex_flow": null,
      "grid_area": null,
      "grid_auto_columns": null,
      "grid_auto_flow": null,
      "grid_auto_rows": null,
      "grid_column": null,
      "grid_gap": null,
      "grid_row": null,
      "grid_template_areas": null,
      "grid_template_columns": null,
      "grid_template_rows": null,
      "height": null,
      "justify_content": null,
      "justify_items": null,
      "left": null,
      "margin": null,
      "max_height": null,
      "max_width": null,
      "min_height": null,
      "min_width": null,
      "object_fit": null,
      "object_position": null,
      "order": null,
      "overflow": null,
      "overflow_x": null,
      "overflow_y": null,
      "padding": null,
      "right": null,
      "top": null,
      "visibility": null,
      "width": null
     }
    },
    "8b06ebb85f91435b998d5f0fe61afa01": {
     "model_module": "@jupyter-widgets/base",
     "model_module_version": "1.2.0",
     "model_name": "LayoutModel",
     "state": {
      "_model_module": "@jupyter-widgets/base",
      "_model_module_version": "1.2.0",
      "_model_name": "LayoutModel",
      "_view_count": null,
      "_view_module": "@jupyter-widgets/base",
      "_view_module_version": "1.2.0",
      "_view_name": "LayoutView",
      "align_content": null,
      "align_items": null,
      "align_self": null,
      "border": null,
      "bottom": null,
      "display": null,
      "flex": null,
      "flex_flow": null,
      "grid_area": null,
      "grid_auto_columns": null,
      "grid_auto_flow": null,
      "grid_auto_rows": null,
      "grid_column": null,
      "grid_gap": null,
      "grid_row": null,
      "grid_template_areas": null,
      "grid_template_columns": null,
      "grid_template_rows": null,
      "height": null,
      "justify_content": null,
      "justify_items": null,
      "left": null,
      "margin": null,
      "max_height": null,
      "max_width": null,
      "min_height": null,
      "min_width": null,
      "object_fit": null,
      "object_position": null,
      "order": null,
      "overflow": null,
      "overflow_x": null,
      "overflow_y": null,
      "padding": null,
      "right": null,
      "top": null,
      "visibility": null,
      "width": null
     }
    },
    "8fe3763a32a047828423b820cddb85df": {
     "model_module": "@jupyter-widgets/controls",
     "model_module_version": "1.5.0",
     "model_name": "HTMLModel",
     "state": {
      "_dom_classes": [],
      "_model_module": "@jupyter-widgets/controls",
      "_model_module_version": "1.5.0",
      "_model_name": "HTMLModel",
      "_view_count": null,
      "_view_module": "@jupyter-widgets/controls",
      "_view_module_version": "1.5.0",
      "_view_name": "HTMLView",
      "description": "",
      "description_tooltip": null,
      "layout": "IPY_MODEL_c7fa9f4b8d16471fa7660b6f5e3fe6c4",
      "placeholder": "​",
      "style": "IPY_MODEL_5154f59f98fe4a849e18b9c5bf441803",
      "value": " 12/12 [00:03&lt;00:00,  3.68it/s]"
     }
    },
    "91f9e3b8729d42f48242e1b7b965c64f": {
     "model_module": "@jupyter-widgets/base",
     "model_module_version": "1.2.0",
     "model_name": "LayoutModel",
     "state": {
      "_model_module": "@jupyter-widgets/base",
      "_model_module_version": "1.2.0",
      "_model_name": "LayoutModel",
      "_view_count": null,
      "_view_module": "@jupyter-widgets/base",
      "_view_module_version": "1.2.0",
      "_view_name": "LayoutView",
      "align_content": null,
      "align_items": null,
      "align_self": null,
      "border": null,
      "bottom": null,
      "display": null,
      "flex": null,
      "flex_flow": null,
      "grid_area": null,
      "grid_auto_columns": null,
      "grid_auto_flow": null,
      "grid_auto_rows": null,
      "grid_column": null,
      "grid_gap": null,
      "grid_row": null,
      "grid_template_areas": null,
      "grid_template_columns": null,
      "grid_template_rows": null,
      "height": null,
      "justify_content": null,
      "justify_items": null,
      "left": null,
      "margin": null,
      "max_height": null,
      "max_width": null,
      "min_height": null,
      "min_width": null,
      "object_fit": null,
      "object_position": null,
      "order": null,
      "overflow": null,
      "overflow_x": null,
      "overflow_y": null,
      "padding": null,
      "right": null,
      "top": null,
      "visibility": null,
      "width": null
     }
    },
    "92445d3f44bd4f568f78b376a5573a3c": {
     "model_module": "@jupyter-widgets/controls",
     "model_module_version": "1.5.0",
     "model_name": "HBoxModel",
     "state": {
      "_dom_classes": [],
      "_model_module": "@jupyter-widgets/controls",
      "_model_module_version": "1.5.0",
      "_model_name": "HBoxModel",
      "_view_count": null,
      "_view_module": "@jupyter-widgets/controls",
      "_view_module_version": "1.5.0",
      "_view_name": "HBoxView",
      "box_style": "",
      "children": [
       "IPY_MODEL_1cbb2ed78ae74889a25090c2820b793a",
       "IPY_MODEL_76600dc85f9449fb956094d831e69b1d",
       "IPY_MODEL_5b5c4791e5274d31843fd3e1af840a0e"
      ],
      "layout": "IPY_MODEL_017d222d23454482a42a6874157d6a15"
     }
    },
    "942ef8e1e0f042cc9ff477687ad8bc1b": {
     "model_module": "@jupyter-widgets/controls",
     "model_module_version": "1.5.0",
     "model_name": "DescriptionStyleModel",
     "state": {
      "_model_module": "@jupyter-widgets/controls",
      "_model_module_version": "1.5.0",
      "_model_name": "DescriptionStyleModel",
      "_view_count": null,
      "_view_module": "@jupyter-widgets/base",
      "_view_module_version": "1.2.0",
      "_view_name": "StyleView",
      "description_width": ""
     }
    },
    "94d3e4f3a2cc4f15a2e314330a43b84a": {
     "model_module": "@jupyter-widgets/controls",
     "model_module_version": "1.5.0",
     "model_name": "HTMLModel",
     "state": {
      "_dom_classes": [],
      "_model_module": "@jupyter-widgets/controls",
      "_model_module_version": "1.5.0",
      "_model_name": "HTMLModel",
      "_view_count": null,
      "_view_module": "@jupyter-widgets/controls",
      "_view_module_version": "1.5.0",
      "_view_name": "HTMLView",
      "description": "",
      "description_tooltip": null,
      "layout": "IPY_MODEL_e57633c29884437099f06a9398af59ba",
      "placeholder": "​",
      "style": "IPY_MODEL_4322535db72a4e0eaacbf28ceb9a20bb",
      "value": " 12/12 [00:03&lt;00:00,  3.91it/s]"
     }
    },
    "98f17478a4a4465ba0c95dc43e4613b3": {
     "model_module": "@jupyter-widgets/controls",
     "model_module_version": "1.5.0",
     "model_name": "DescriptionStyleModel",
     "state": {
      "_model_module": "@jupyter-widgets/controls",
      "_model_module_version": "1.5.0",
      "_model_name": "DescriptionStyleModel",
      "_view_count": null,
      "_view_module": "@jupyter-widgets/base",
      "_view_module_version": "1.2.0",
      "_view_name": "StyleView",
      "description_width": ""
     }
    },
    "994f3777bc0e4682b316883e07a3619e": {
     "model_module": "@jupyter-widgets/controls",
     "model_module_version": "1.5.0",
     "model_name": "ProgressStyleModel",
     "state": {
      "_model_module": "@jupyter-widgets/controls",
      "_model_module_version": "1.5.0",
      "_model_name": "ProgressStyleModel",
      "_view_count": null,
      "_view_module": "@jupyter-widgets/base",
      "_view_module_version": "1.2.0",
      "_view_name": "StyleView",
      "bar_color": null,
      "description_width": ""
     }
    },
    "996e814f2ad34d9faf49bbca69f0f8d9": {
     "model_module": "@jupyter-widgets/controls",
     "model_module_version": "1.5.0",
     "model_name": "DescriptionStyleModel",
     "state": {
      "_model_module": "@jupyter-widgets/controls",
      "_model_module_version": "1.5.0",
      "_model_name": "DescriptionStyleModel",
      "_view_count": null,
      "_view_module": "@jupyter-widgets/base",
      "_view_module_version": "1.2.0",
      "_view_name": "StyleView",
      "description_width": ""
     }
    },
    "9a03bf6f04334671b01a5bf819dcdcf0": {
     "model_module": "@jupyter-widgets/controls",
     "model_module_version": "1.5.0",
     "model_name": "HBoxModel",
     "state": {
      "_dom_classes": [],
      "_model_module": "@jupyter-widgets/controls",
      "_model_module_version": "1.5.0",
      "_model_name": "HBoxModel",
      "_view_count": null,
      "_view_module": "@jupyter-widgets/controls",
      "_view_module_version": "1.5.0",
      "_view_name": "HBoxView",
      "box_style": "",
      "children": [
       "IPY_MODEL_7ebf0410b3044339bd454b205cf3b229",
       "IPY_MODEL_fe5849bfc0294b4b9f39f6a848f84c90",
       "IPY_MODEL_3d02ced912a54b96ae50a3923ef29ab1"
      ],
      "layout": "IPY_MODEL_7ed87da0aa164bb3a938d652dbd0621d"
     }
    },
    "9d1ed1b42f3540a997faa4150e2ebc76": {
     "model_module": "@jupyter-widgets/controls",
     "model_module_version": "1.5.0",
     "model_name": "FloatProgressModel",
     "state": {
      "_dom_classes": [],
      "_model_module": "@jupyter-widgets/controls",
      "_model_module_version": "1.5.0",
      "_model_name": "FloatProgressModel",
      "_view_count": null,
      "_view_module": "@jupyter-widgets/controls",
      "_view_module_version": "1.5.0",
      "_view_name": "ProgressView",
      "bar_style": "success",
      "description": "",
      "description_tooltip": null,
      "layout": "IPY_MODEL_fce656040200494cbd72de1c33adf299",
      "max": 12,
      "min": 0,
      "orientation": "horizontal",
      "style": "IPY_MODEL_6313d636eec24ce4be602b37e8a9cc83",
      "value": 12
     }
    },
    "9e427b3d29964daa8a5dea245918abb0": {
     "model_module": "@jupyter-widgets/base",
     "model_module_version": "1.2.0",
     "model_name": "LayoutModel",
     "state": {
      "_model_module": "@jupyter-widgets/base",
      "_model_module_version": "1.2.0",
      "_model_name": "LayoutModel",
      "_view_count": null,
      "_view_module": "@jupyter-widgets/base",
      "_view_module_version": "1.2.0",
      "_view_name": "LayoutView",
      "align_content": null,
      "align_items": null,
      "align_self": null,
      "border": null,
      "bottom": null,
      "display": null,
      "flex": null,
      "flex_flow": null,
      "grid_area": null,
      "grid_auto_columns": null,
      "grid_auto_flow": null,
      "grid_auto_rows": null,
      "grid_column": null,
      "grid_gap": null,
      "grid_row": null,
      "grid_template_areas": null,
      "grid_template_columns": null,
      "grid_template_rows": null,
      "height": null,
      "justify_content": null,
      "justify_items": null,
      "left": null,
      "margin": null,
      "max_height": null,
      "max_width": null,
      "min_height": null,
      "min_width": null,
      "object_fit": null,
      "object_position": null,
      "order": null,
      "overflow": null,
      "overflow_x": null,
      "overflow_y": null,
      "padding": null,
      "right": null,
      "top": null,
      "visibility": null,
      "width": null
     }
    },
    "a046a31fca504e59b15e8e681f57da65": {
     "model_module": "@jupyter-widgets/controls",
     "model_module_version": "1.5.0",
     "model_name": "HBoxModel",
     "state": {
      "_dom_classes": [],
      "_model_module": "@jupyter-widgets/controls",
      "_model_module_version": "1.5.0",
      "_model_name": "HBoxModel",
      "_view_count": null,
      "_view_module": "@jupyter-widgets/controls",
      "_view_module_version": "1.5.0",
      "_view_name": "HBoxView",
      "box_style": "",
      "children": [
       "IPY_MODEL_3c28a96063834ee0a30e9bfed35c3c7c",
       "IPY_MODEL_0bba9f981003466cbbb67ec199b7969a",
       "IPY_MODEL_34f9023a7a4847f8bbded6e2a80841fa"
      ],
      "layout": "IPY_MODEL_d7c5df7cadbc4fa584b281d26f11a720"
     }
    },
    "a423c111a05e4473bd9a559509189412": {
     "model_module": "@jupyter-widgets/controls",
     "model_module_version": "1.5.0",
     "model_name": "HTMLModel",
     "state": {
      "_dom_classes": [],
      "_model_module": "@jupyter-widgets/controls",
      "_model_module_version": "1.5.0",
      "_model_name": "HTMLModel",
      "_view_count": null,
      "_view_module": "@jupyter-widgets/controls",
      "_view_module_version": "1.5.0",
      "_view_name": "HTMLView",
      "description": "",
      "description_tooltip": null,
      "layout": "IPY_MODEL_e1f13971de6a49cfbd8452092f086f43",
      "placeholder": "​",
      "style": "IPY_MODEL_b433b47a2f7345609f59c57db3aeee1d",
      "value": " 12/12 [00:00&lt;00:00, 33.16it/s]"
     }
    },
    "a51ead915f75424aad2aa272932d7349": {
     "model_module": "@jupyter-widgets/controls",
     "model_module_version": "1.5.0",
     "model_name": "FloatProgressModel",
     "state": {
      "_dom_classes": [],
      "_model_module": "@jupyter-widgets/controls",
      "_model_module_version": "1.5.0",
      "_model_name": "FloatProgressModel",
      "_view_count": null,
      "_view_module": "@jupyter-widgets/controls",
      "_view_module_version": "1.5.0",
      "_view_name": "ProgressView",
      "bar_style": "success",
      "description": "",
      "description_tooltip": null,
      "layout": "IPY_MODEL_8b06ebb85f91435b998d5f0fe61afa01",
      "max": 12,
      "min": 0,
      "orientation": "horizontal",
      "style": "IPY_MODEL_abc231bfa0fd4904bbfc7a65182ce544",
      "value": 12
     }
    },
    "a5f6263ef61545a2b0a8f686ac5775bf": {
     "model_module": "@jupyter-widgets/controls",
     "model_module_version": "1.5.0",
     "model_name": "DescriptionStyleModel",
     "state": {
      "_model_module": "@jupyter-widgets/controls",
      "_model_module_version": "1.5.0",
      "_model_name": "DescriptionStyleModel",
      "_view_count": null,
      "_view_module": "@jupyter-widgets/base",
      "_view_module_version": "1.2.0",
      "_view_name": "StyleView",
      "description_width": ""
     }
    },
    "a76b7984b0e04a26a78de77c9799d240": {
     "model_module": "@jupyter-widgets/base",
     "model_module_version": "1.2.0",
     "model_name": "LayoutModel",
     "state": {
      "_model_module": "@jupyter-widgets/base",
      "_model_module_version": "1.2.0",
      "_model_name": "LayoutModel",
      "_view_count": null,
      "_view_module": "@jupyter-widgets/base",
      "_view_module_version": "1.2.0",
      "_view_name": "LayoutView",
      "align_content": null,
      "align_items": null,
      "align_self": null,
      "border": null,
      "bottom": null,
      "display": null,
      "flex": null,
      "flex_flow": null,
      "grid_area": null,
      "grid_auto_columns": null,
      "grid_auto_flow": null,
      "grid_auto_rows": null,
      "grid_column": null,
      "grid_gap": null,
      "grid_row": null,
      "grid_template_areas": null,
      "grid_template_columns": null,
      "grid_template_rows": null,
      "height": null,
      "justify_content": null,
      "justify_items": null,
      "left": null,
      "margin": null,
      "max_height": null,
      "max_width": null,
      "min_height": null,
      "min_width": null,
      "object_fit": null,
      "object_position": null,
      "order": null,
      "overflow": null,
      "overflow_x": null,
      "overflow_y": null,
      "padding": null,
      "right": null,
      "top": null,
      "visibility": null,
      "width": null
     }
    },
    "a81422231f19479881e2626280d5f0d9": {
     "model_module": "@jupyter-widgets/base",
     "model_module_version": "1.2.0",
     "model_name": "LayoutModel",
     "state": {
      "_model_module": "@jupyter-widgets/base",
      "_model_module_version": "1.2.0",
      "_model_name": "LayoutModel",
      "_view_count": null,
      "_view_module": "@jupyter-widgets/base",
      "_view_module_version": "1.2.0",
      "_view_name": "LayoutView",
      "align_content": null,
      "align_items": null,
      "align_self": null,
      "border": null,
      "bottom": null,
      "display": null,
      "flex": null,
      "flex_flow": null,
      "grid_area": null,
      "grid_auto_columns": null,
      "grid_auto_flow": null,
      "grid_auto_rows": null,
      "grid_column": null,
      "grid_gap": null,
      "grid_row": null,
      "grid_template_areas": null,
      "grid_template_columns": null,
      "grid_template_rows": null,
      "height": null,
      "justify_content": null,
      "justify_items": null,
      "left": null,
      "margin": null,
      "max_height": null,
      "max_width": null,
      "min_height": null,
      "min_width": null,
      "object_fit": null,
      "object_position": null,
      "order": null,
      "overflow": null,
      "overflow_x": null,
      "overflow_y": null,
      "padding": null,
      "right": null,
      "top": null,
      "visibility": null,
      "width": null
     }
    },
    "a985bd35442248cbbdf96b85e342f637": {
     "model_module": "@jupyter-widgets/controls",
     "model_module_version": "1.5.0",
     "model_name": "DescriptionStyleModel",
     "state": {
      "_model_module": "@jupyter-widgets/controls",
      "_model_module_version": "1.5.0",
      "_model_name": "DescriptionStyleModel",
      "_view_count": null,
      "_view_module": "@jupyter-widgets/base",
      "_view_module_version": "1.2.0",
      "_view_name": "StyleView",
      "description_width": ""
     }
    },
    "abc231bfa0fd4904bbfc7a65182ce544": {
     "model_module": "@jupyter-widgets/controls",
     "model_module_version": "1.5.0",
     "model_name": "ProgressStyleModel",
     "state": {
      "_model_module": "@jupyter-widgets/controls",
      "_model_module_version": "1.5.0",
      "_model_name": "ProgressStyleModel",
      "_view_count": null,
      "_view_module": "@jupyter-widgets/base",
      "_view_module_version": "1.2.0",
      "_view_name": "StyleView",
      "bar_color": null,
      "description_width": ""
     }
    },
    "ac42803b1eb843599c23b3065598d0e5": {
     "model_module": "@jupyter-widgets/controls",
     "model_module_version": "1.5.0",
     "model_name": "FloatProgressModel",
     "state": {
      "_dom_classes": [],
      "_model_module": "@jupyter-widgets/controls",
      "_model_module_version": "1.5.0",
      "_model_name": "FloatProgressModel",
      "_view_count": null,
      "_view_module": "@jupyter-widgets/controls",
      "_view_module_version": "1.5.0",
      "_view_name": "ProgressView",
      "bar_style": "success",
      "description": "",
      "description_tooltip": null,
      "layout": "IPY_MODEL_248375a34db54f8999f776b6a8ac4127",
      "max": 12,
      "min": 0,
      "orientation": "horizontal",
      "style": "IPY_MODEL_eb05e0bcdb9a4fadbd9bd3a0fd9a1aa0",
      "value": 12
     }
    },
    "acace21fa57c479cb8e8a3c508939ba7": {
     "model_module": "@jupyter-widgets/controls",
     "model_module_version": "1.5.0",
     "model_name": "DescriptionStyleModel",
     "state": {
      "_model_module": "@jupyter-widgets/controls",
      "_model_module_version": "1.5.0",
      "_model_name": "DescriptionStyleModel",
      "_view_count": null,
      "_view_module": "@jupyter-widgets/base",
      "_view_module_version": "1.2.0",
      "_view_name": "StyleView",
      "description_width": ""
     }
    },
    "adbd3c9d1b914e65921a6cb109814a78": {
     "model_module": "@jupyter-widgets/controls",
     "model_module_version": "1.5.0",
     "model_name": "HTMLModel",
     "state": {
      "_dom_classes": [],
      "_model_module": "@jupyter-widgets/controls",
      "_model_module_version": "1.5.0",
      "_model_name": "HTMLModel",
      "_view_count": null,
      "_view_module": "@jupyter-widgets/controls",
      "_view_module_version": "1.5.0",
      "_view_name": "HTMLView",
      "description": "",
      "description_tooltip": null,
      "layout": "IPY_MODEL_a76b7984b0e04a26a78de77c9799d240",
      "placeholder": "​",
      "style": "IPY_MODEL_f81c31cfbd32402681dcecf4fc75823d",
      "value": "100%"
     }
    },
    "af7b1f91d88c4545bf2f75be61dc7310": {
     "model_module": "@jupyter-widgets/controls",
     "model_module_version": "1.5.0",
     "model_name": "ProgressStyleModel",
     "state": {
      "_model_module": "@jupyter-widgets/controls",
      "_model_module_version": "1.5.0",
      "_model_name": "ProgressStyleModel",
      "_view_count": null,
      "_view_module": "@jupyter-widgets/base",
      "_view_module_version": "1.2.0",
      "_view_name": "StyleView",
      "bar_color": null,
      "description_width": ""
     }
    },
    "b1719c8e3f584e7ba687a16913b7bb8d": {
     "model_module": "@jupyter-widgets/base",
     "model_module_version": "1.2.0",
     "model_name": "LayoutModel",
     "state": {
      "_model_module": "@jupyter-widgets/base",
      "_model_module_version": "1.2.0",
      "_model_name": "LayoutModel",
      "_view_count": null,
      "_view_module": "@jupyter-widgets/base",
      "_view_module_version": "1.2.0",
      "_view_name": "LayoutView",
      "align_content": null,
      "align_items": null,
      "align_self": null,
      "border": null,
      "bottom": null,
      "display": null,
      "flex": null,
      "flex_flow": null,
      "grid_area": null,
      "grid_auto_columns": null,
      "grid_auto_flow": null,
      "grid_auto_rows": null,
      "grid_column": null,
      "grid_gap": null,
      "grid_row": null,
      "grid_template_areas": null,
      "grid_template_columns": null,
      "grid_template_rows": null,
      "height": null,
      "justify_content": null,
      "justify_items": null,
      "left": null,
      "margin": null,
      "max_height": null,
      "max_width": null,
      "min_height": null,
      "min_width": null,
      "object_fit": null,
      "object_position": null,
      "order": null,
      "overflow": null,
      "overflow_x": null,
      "overflow_y": null,
      "padding": null,
      "right": null,
      "top": null,
      "visibility": null,
      "width": null
     }
    },
    "b2d8bc94e8ce4747aafd5e5fef9ecf7c": {
     "model_module": "@jupyter-widgets/controls",
     "model_module_version": "1.5.0",
     "model_name": "FloatProgressModel",
     "state": {
      "_dom_classes": [],
      "_model_module": "@jupyter-widgets/controls",
      "_model_module_version": "1.5.0",
      "_model_name": "FloatProgressModel",
      "_view_count": null,
      "_view_module": "@jupyter-widgets/controls",
      "_view_module_version": "1.5.0",
      "_view_name": "ProgressView",
      "bar_style": "success",
      "description": "",
      "description_tooltip": null,
      "layout": "IPY_MODEL_9e427b3d29964daa8a5dea245918abb0",
      "max": 12,
      "min": 0,
      "orientation": "horizontal",
      "style": "IPY_MODEL_d4007f62b0fa4631ade30c034376b49f",
      "value": 12
     }
    },
    "b4179b4340614864bed16aae0531fd34": {
     "model_module": "@jupyter-widgets/base",
     "model_module_version": "1.2.0",
     "model_name": "LayoutModel",
     "state": {
      "_model_module": "@jupyter-widgets/base",
      "_model_module_version": "1.2.0",
      "_model_name": "LayoutModel",
      "_view_count": null,
      "_view_module": "@jupyter-widgets/base",
      "_view_module_version": "1.2.0",
      "_view_name": "LayoutView",
      "align_content": null,
      "align_items": null,
      "align_self": null,
      "border": null,
      "bottom": null,
      "display": null,
      "flex": null,
      "flex_flow": null,
      "grid_area": null,
      "grid_auto_columns": null,
      "grid_auto_flow": null,
      "grid_auto_rows": null,
      "grid_column": null,
      "grid_gap": null,
      "grid_row": null,
      "grid_template_areas": null,
      "grid_template_columns": null,
      "grid_template_rows": null,
      "height": null,
      "justify_content": null,
      "justify_items": null,
      "left": null,
      "margin": null,
      "max_height": null,
      "max_width": null,
      "min_height": null,
      "min_width": null,
      "object_fit": null,
      "object_position": null,
      "order": null,
      "overflow": null,
      "overflow_x": null,
      "overflow_y": null,
      "padding": null,
      "right": null,
      "top": null,
      "visibility": null,
      "width": null
     }
    },
    "b41d5225b9ec4ee18ac5ca525c87c000": {
     "model_module": "@jupyter-widgets/base",
     "model_module_version": "1.2.0",
     "model_name": "LayoutModel",
     "state": {
      "_model_module": "@jupyter-widgets/base",
      "_model_module_version": "1.2.0",
      "_model_name": "LayoutModel",
      "_view_count": null,
      "_view_module": "@jupyter-widgets/base",
      "_view_module_version": "1.2.0",
      "_view_name": "LayoutView",
      "align_content": null,
      "align_items": null,
      "align_self": null,
      "border": null,
      "bottom": null,
      "display": null,
      "flex": null,
      "flex_flow": null,
      "grid_area": null,
      "grid_auto_columns": null,
      "grid_auto_flow": null,
      "grid_auto_rows": null,
      "grid_column": null,
      "grid_gap": null,
      "grid_row": null,
      "grid_template_areas": null,
      "grid_template_columns": null,
      "grid_template_rows": null,
      "height": null,
      "justify_content": null,
      "justify_items": null,
      "left": null,
      "margin": null,
      "max_height": null,
      "max_width": null,
      "min_height": null,
      "min_width": null,
      "object_fit": null,
      "object_position": null,
      "order": null,
      "overflow": null,
      "overflow_x": null,
      "overflow_y": null,
      "padding": null,
      "right": null,
      "top": null,
      "visibility": null,
      "width": null
     }
    },
    "b433b47a2f7345609f59c57db3aeee1d": {
     "model_module": "@jupyter-widgets/controls",
     "model_module_version": "1.5.0",
     "model_name": "DescriptionStyleModel",
     "state": {
      "_model_module": "@jupyter-widgets/controls",
      "_model_module_version": "1.5.0",
      "_model_name": "DescriptionStyleModel",
      "_view_count": null,
      "_view_module": "@jupyter-widgets/base",
      "_view_module_version": "1.2.0",
      "_view_name": "StyleView",
      "description_width": ""
     }
    },
    "b7440e40f33249f7b8c48fcb49924a92": {
     "model_module": "@jupyter-widgets/controls",
     "model_module_version": "1.5.0",
     "model_name": "DescriptionStyleModel",
     "state": {
      "_model_module": "@jupyter-widgets/controls",
      "_model_module_version": "1.5.0",
      "_model_name": "DescriptionStyleModel",
      "_view_count": null,
      "_view_module": "@jupyter-widgets/base",
      "_view_module_version": "1.2.0",
      "_view_name": "StyleView",
      "description_width": ""
     }
    },
    "b93edaa22fd447eb819a583cb1f0b18e": {
     "model_module": "@jupyter-widgets/controls",
     "model_module_version": "1.5.0",
     "model_name": "FloatProgressModel",
     "state": {
      "_dom_classes": [],
      "_model_module": "@jupyter-widgets/controls",
      "_model_module_version": "1.5.0",
      "_model_name": "FloatProgressModel",
      "_view_count": null,
      "_view_module": "@jupyter-widgets/controls",
      "_view_module_version": "1.5.0",
      "_view_name": "ProgressView",
      "bar_style": "success",
      "description": "",
      "description_tooltip": null,
      "layout": "IPY_MODEL_8aaa646862454774abee6bd6e8cb73f3",
      "max": 12,
      "min": 0,
      "orientation": "horizontal",
      "style": "IPY_MODEL_e152ff3bd5c54bbcb8697d2399ecc9c4",
      "value": 12
     }
    },
    "b98f49b07729464382d6c4501d8fd954": {
     "model_module": "@jupyter-widgets/base",
     "model_module_version": "1.2.0",
     "model_name": "LayoutModel",
     "state": {
      "_model_module": "@jupyter-widgets/base",
      "_model_module_version": "1.2.0",
      "_model_name": "LayoutModel",
      "_view_count": null,
      "_view_module": "@jupyter-widgets/base",
      "_view_module_version": "1.2.0",
      "_view_name": "LayoutView",
      "align_content": null,
      "align_items": null,
      "align_self": null,
      "border": null,
      "bottom": null,
      "display": null,
      "flex": null,
      "flex_flow": null,
      "grid_area": null,
      "grid_auto_columns": null,
      "grid_auto_flow": null,
      "grid_auto_rows": null,
      "grid_column": null,
      "grid_gap": null,
      "grid_row": null,
      "grid_template_areas": null,
      "grid_template_columns": null,
      "grid_template_rows": null,
      "height": null,
      "justify_content": null,
      "justify_items": null,
      "left": null,
      "margin": null,
      "max_height": null,
      "max_width": null,
      "min_height": null,
      "min_width": null,
      "object_fit": null,
      "object_position": null,
      "order": null,
      "overflow": null,
      "overflow_x": null,
      "overflow_y": null,
      "padding": null,
      "right": null,
      "top": null,
      "visibility": null,
      "width": null
     }
    },
    "ba63439eae5e4eccba22305b43691483": {
     "model_module": "@jupyter-widgets/controls",
     "model_module_version": "1.5.0",
     "model_name": "DescriptionStyleModel",
     "state": {
      "_model_module": "@jupyter-widgets/controls",
      "_model_module_version": "1.5.0",
      "_model_name": "DescriptionStyleModel",
      "_view_count": null,
      "_view_module": "@jupyter-widgets/base",
      "_view_module_version": "1.2.0",
      "_view_name": "StyleView",
      "description_width": ""
     }
    },
    "baed878fe30947a9aac57f48c38561d6": {
     "model_module": "@jupyter-widgets/controls",
     "model_module_version": "1.5.0",
     "model_name": "HBoxModel",
     "state": {
      "_dom_classes": [],
      "_model_module": "@jupyter-widgets/controls",
      "_model_module_version": "1.5.0",
      "_model_name": "HBoxModel",
      "_view_count": null,
      "_view_module": "@jupyter-widgets/controls",
      "_view_module_version": "1.5.0",
      "_view_name": "HBoxView",
      "box_style": "",
      "children": [
       "IPY_MODEL_52af4f5a6cea43148d5b31697bbdaa34",
       "IPY_MODEL_9d1ed1b42f3540a997faa4150e2ebc76",
       "IPY_MODEL_eb77c81bed904f00b075086aef17920c"
      ],
      "layout": "IPY_MODEL_b1719c8e3f584e7ba687a16913b7bb8d"
     }
    },
    "baf61a90fb4845dbb7186d5eac5e426c": {
     "model_module": "@jupyter-widgets/base",
     "model_module_version": "1.2.0",
     "model_name": "LayoutModel",
     "state": {
      "_model_module": "@jupyter-widgets/base",
      "_model_module_version": "1.2.0",
      "_model_name": "LayoutModel",
      "_view_count": null,
      "_view_module": "@jupyter-widgets/base",
      "_view_module_version": "1.2.0",
      "_view_name": "LayoutView",
      "align_content": null,
      "align_items": null,
      "align_self": null,
      "border": null,
      "bottom": null,
      "display": null,
      "flex": null,
      "flex_flow": null,
      "grid_area": null,
      "grid_auto_columns": null,
      "grid_auto_flow": null,
      "grid_auto_rows": null,
      "grid_column": null,
      "grid_gap": null,
      "grid_row": null,
      "grid_template_areas": null,
      "grid_template_columns": null,
      "grid_template_rows": null,
      "height": null,
      "justify_content": null,
      "justify_items": null,
      "left": null,
      "margin": null,
      "max_height": null,
      "max_width": null,
      "min_height": null,
      "min_width": null,
      "object_fit": null,
      "object_position": null,
      "order": null,
      "overflow": null,
      "overflow_x": null,
      "overflow_y": null,
      "padding": null,
      "right": null,
      "top": null,
      "visibility": null,
      "width": null
     }
    },
    "bd3a0f38d74649a99b4c993e37600f74": {
     "model_module": "@jupyter-widgets/base",
     "model_module_version": "1.2.0",
     "model_name": "LayoutModel",
     "state": {
      "_model_module": "@jupyter-widgets/base",
      "_model_module_version": "1.2.0",
      "_model_name": "LayoutModel",
      "_view_count": null,
      "_view_module": "@jupyter-widgets/base",
      "_view_module_version": "1.2.0",
      "_view_name": "LayoutView",
      "align_content": null,
      "align_items": null,
      "align_self": null,
      "border": null,
      "bottom": null,
      "display": null,
      "flex": null,
      "flex_flow": null,
      "grid_area": null,
      "grid_auto_columns": null,
      "grid_auto_flow": null,
      "grid_auto_rows": null,
      "grid_column": null,
      "grid_gap": null,
      "grid_row": null,
      "grid_template_areas": null,
      "grid_template_columns": null,
      "grid_template_rows": null,
      "height": null,
      "justify_content": null,
      "justify_items": null,
      "left": null,
      "margin": null,
      "max_height": null,
      "max_width": null,
      "min_height": null,
      "min_width": null,
      "object_fit": null,
      "object_position": null,
      "order": null,
      "overflow": null,
      "overflow_x": null,
      "overflow_y": null,
      "padding": null,
      "right": null,
      "top": null,
      "visibility": null,
      "width": null
     }
    },
    "bdcdfd85fa664fedade586a361421901": {
     "model_module": "@jupyter-widgets/base",
     "model_module_version": "1.2.0",
     "model_name": "LayoutModel",
     "state": {
      "_model_module": "@jupyter-widgets/base",
      "_model_module_version": "1.2.0",
      "_model_name": "LayoutModel",
      "_view_count": null,
      "_view_module": "@jupyter-widgets/base",
      "_view_module_version": "1.2.0",
      "_view_name": "LayoutView",
      "align_content": null,
      "align_items": null,
      "align_self": null,
      "border": null,
      "bottom": null,
      "display": null,
      "flex": null,
      "flex_flow": null,
      "grid_area": null,
      "grid_auto_columns": null,
      "grid_auto_flow": null,
      "grid_auto_rows": null,
      "grid_column": null,
      "grid_gap": null,
      "grid_row": null,
      "grid_template_areas": null,
      "grid_template_columns": null,
      "grid_template_rows": null,
      "height": null,
      "justify_content": null,
      "justify_items": null,
      "left": null,
      "margin": null,
      "max_height": null,
      "max_width": null,
      "min_height": null,
      "min_width": null,
      "object_fit": null,
      "object_position": null,
      "order": null,
      "overflow": null,
      "overflow_x": null,
      "overflow_y": null,
      "padding": null,
      "right": null,
      "top": null,
      "visibility": null,
      "width": null
     }
    },
    "bf505ddee4384c86abff792e60683282": {
     "model_module": "@jupyter-widgets/controls",
     "model_module_version": "1.5.0",
     "model_name": "HBoxModel",
     "state": {
      "_dom_classes": [],
      "_model_module": "@jupyter-widgets/controls",
      "_model_module_version": "1.5.0",
      "_model_name": "HBoxModel",
      "_view_count": null,
      "_view_module": "@jupyter-widgets/controls",
      "_view_module_version": "1.5.0",
      "_view_name": "HBoxView",
      "box_style": "",
      "children": [
       "IPY_MODEL_df3efc2291a548bbbedc54bdf86815e9",
       "IPY_MODEL_4486da00ffa64f0e897ead8eee311a7a",
       "IPY_MODEL_68b66df0277f470488ebe5033969ba51"
      ],
      "layout": "IPY_MODEL_cea3548aa4564ccfbd6f2267f95258fc"
     }
    },
    "c12c1d37f6d84d4db4ee3eb26104ab12": {
     "model_module": "@jupyter-widgets/controls",
     "model_module_version": "1.5.0",
     "model_name": "HBoxModel",
     "state": {
      "_dom_classes": [],
      "_model_module": "@jupyter-widgets/controls",
      "_model_module_version": "1.5.0",
      "_model_name": "HBoxModel",
      "_view_count": null,
      "_view_module": "@jupyter-widgets/controls",
      "_view_module_version": "1.5.0",
      "_view_name": "HBoxView",
      "box_style": "",
      "children": [
       "IPY_MODEL_78ad32d39b114548aa57f4db9923b6e2",
       "IPY_MODEL_ac42803b1eb843599c23b3065598d0e5",
       "IPY_MODEL_a423c111a05e4473bd9a559509189412"
      ],
      "layout": "IPY_MODEL_6e55879a0861489780ba6b6cc97e261b"
     }
    },
    "c4078fec428f4f2489efe43c5ba03ef5": {
     "model_module": "@jupyter-widgets/controls",
     "model_module_version": "1.5.0",
     "model_name": "HBoxModel",
     "state": {
      "_dom_classes": [],
      "_model_module": "@jupyter-widgets/controls",
      "_model_module_version": "1.5.0",
      "_model_name": "HBoxModel",
      "_view_count": null,
      "_view_module": "@jupyter-widgets/controls",
      "_view_module_version": "1.5.0",
      "_view_name": "HBoxView",
      "box_style": "",
      "children": [
       "IPY_MODEL_3c9c5e815b0b4e6fb999731c83bed9e8",
       "IPY_MODEL_b2d8bc94e8ce4747aafd5e5fef9ecf7c",
       "IPY_MODEL_2d4bbbcfe05d49209b725bf24e6733ee"
      ],
      "layout": "IPY_MODEL_4fc2ab27145e4500829dfa9992a75c2c"
     }
    },
    "c409e6d41ab242c198714b85e5c1bbb2": {
     "model_module": "@jupyter-widgets/base",
     "model_module_version": "1.2.0",
     "model_name": "LayoutModel",
     "state": {
      "_model_module": "@jupyter-widgets/base",
      "_model_module_version": "1.2.0",
      "_model_name": "LayoutModel",
      "_view_count": null,
      "_view_module": "@jupyter-widgets/base",
      "_view_module_version": "1.2.0",
      "_view_name": "LayoutView",
      "align_content": null,
      "align_items": null,
      "align_self": null,
      "border": null,
      "bottom": null,
      "display": null,
      "flex": null,
      "flex_flow": null,
      "grid_area": null,
      "grid_auto_columns": null,
      "grid_auto_flow": null,
      "grid_auto_rows": null,
      "grid_column": null,
      "grid_gap": null,
      "grid_row": null,
      "grid_template_areas": null,
      "grid_template_columns": null,
      "grid_template_rows": null,
      "height": null,
      "justify_content": null,
      "justify_items": null,
      "left": null,
      "margin": null,
      "max_height": null,
      "max_width": null,
      "min_height": null,
      "min_width": null,
      "object_fit": null,
      "object_position": null,
      "order": null,
      "overflow": null,
      "overflow_x": null,
      "overflow_y": null,
      "padding": null,
      "right": null,
      "top": null,
      "visibility": null,
      "width": null
     }
    },
    "c60ff4833d944731986d8b292f7af8e8": {
     "model_module": "@jupyter-widgets/base",
     "model_module_version": "1.2.0",
     "model_name": "LayoutModel",
     "state": {
      "_model_module": "@jupyter-widgets/base",
      "_model_module_version": "1.2.0",
      "_model_name": "LayoutModel",
      "_view_count": null,
      "_view_module": "@jupyter-widgets/base",
      "_view_module_version": "1.2.0",
      "_view_name": "LayoutView",
      "align_content": null,
      "align_items": null,
      "align_self": null,
      "border": null,
      "bottom": null,
      "display": null,
      "flex": null,
      "flex_flow": null,
      "grid_area": null,
      "grid_auto_columns": null,
      "grid_auto_flow": null,
      "grid_auto_rows": null,
      "grid_column": null,
      "grid_gap": null,
      "grid_row": null,
      "grid_template_areas": null,
      "grid_template_columns": null,
      "grid_template_rows": null,
      "height": null,
      "justify_content": null,
      "justify_items": null,
      "left": null,
      "margin": null,
      "max_height": null,
      "max_width": null,
      "min_height": null,
      "min_width": null,
      "object_fit": null,
      "object_position": null,
      "order": null,
      "overflow": null,
      "overflow_x": null,
      "overflow_y": null,
      "padding": null,
      "right": null,
      "top": null,
      "visibility": null,
      "width": null
     }
    },
    "c7fa9f4b8d16471fa7660b6f5e3fe6c4": {
     "model_module": "@jupyter-widgets/base",
     "model_module_version": "1.2.0",
     "model_name": "LayoutModel",
     "state": {
      "_model_module": "@jupyter-widgets/base",
      "_model_module_version": "1.2.0",
      "_model_name": "LayoutModel",
      "_view_count": null,
      "_view_module": "@jupyter-widgets/base",
      "_view_module_version": "1.2.0",
      "_view_name": "LayoutView",
      "align_content": null,
      "align_items": null,
      "align_self": null,
      "border": null,
      "bottom": null,
      "display": null,
      "flex": null,
      "flex_flow": null,
      "grid_area": null,
      "grid_auto_columns": null,
      "grid_auto_flow": null,
      "grid_auto_rows": null,
      "grid_column": null,
      "grid_gap": null,
      "grid_row": null,
      "grid_template_areas": null,
      "grid_template_columns": null,
      "grid_template_rows": null,
      "height": null,
      "justify_content": null,
      "justify_items": null,
      "left": null,
      "margin": null,
      "max_height": null,
      "max_width": null,
      "min_height": null,
      "min_width": null,
      "object_fit": null,
      "object_position": null,
      "order": null,
      "overflow": null,
      "overflow_x": null,
      "overflow_y": null,
      "padding": null,
      "right": null,
      "top": null,
      "visibility": null,
      "width": null
     }
    },
    "cabff6c5288d429e97db9c30c722286e": {
     "model_module": "@jupyter-widgets/controls",
     "model_module_version": "1.5.0",
     "model_name": "DescriptionStyleModel",
     "state": {
      "_model_module": "@jupyter-widgets/controls",
      "_model_module_version": "1.5.0",
      "_model_name": "DescriptionStyleModel",
      "_view_count": null,
      "_view_module": "@jupyter-widgets/base",
      "_view_module_version": "1.2.0",
      "_view_name": "StyleView",
      "description_width": ""
     }
    },
    "cc4a97ad57734c988af3405d76b4f2b4": {
     "model_module": "@jupyter-widgets/base",
     "model_module_version": "1.2.0",
     "model_name": "LayoutModel",
     "state": {
      "_model_module": "@jupyter-widgets/base",
      "_model_module_version": "1.2.0",
      "_model_name": "LayoutModel",
      "_view_count": null,
      "_view_module": "@jupyter-widgets/base",
      "_view_module_version": "1.2.0",
      "_view_name": "LayoutView",
      "align_content": null,
      "align_items": null,
      "align_self": null,
      "border": null,
      "bottom": null,
      "display": null,
      "flex": null,
      "flex_flow": null,
      "grid_area": null,
      "grid_auto_columns": null,
      "grid_auto_flow": null,
      "grid_auto_rows": null,
      "grid_column": null,
      "grid_gap": null,
      "grid_row": null,
      "grid_template_areas": null,
      "grid_template_columns": null,
      "grid_template_rows": null,
      "height": null,
      "justify_content": null,
      "justify_items": null,
      "left": null,
      "margin": null,
      "max_height": null,
      "max_width": null,
      "min_height": null,
      "min_width": null,
      "object_fit": null,
      "object_position": null,
      "order": null,
      "overflow": null,
      "overflow_x": null,
      "overflow_y": null,
      "padding": null,
      "right": null,
      "top": null,
      "visibility": null,
      "width": null
     }
    },
    "ce047a2aa237498c8f69f06d23237481": {
     "model_module": "@jupyter-widgets/base",
     "model_module_version": "1.2.0",
     "model_name": "LayoutModel",
     "state": {
      "_model_module": "@jupyter-widgets/base",
      "_model_module_version": "1.2.0",
      "_model_name": "LayoutModel",
      "_view_count": null,
      "_view_module": "@jupyter-widgets/base",
      "_view_module_version": "1.2.0",
      "_view_name": "LayoutView",
      "align_content": null,
      "align_items": null,
      "align_self": null,
      "border": null,
      "bottom": null,
      "display": null,
      "flex": null,
      "flex_flow": null,
      "grid_area": null,
      "grid_auto_columns": null,
      "grid_auto_flow": null,
      "grid_auto_rows": null,
      "grid_column": null,
      "grid_gap": null,
      "grid_row": null,
      "grid_template_areas": null,
      "grid_template_columns": null,
      "grid_template_rows": null,
      "height": null,
      "justify_content": null,
      "justify_items": null,
      "left": null,
      "margin": null,
      "max_height": null,
      "max_width": null,
      "min_height": null,
      "min_width": null,
      "object_fit": null,
      "object_position": null,
      "order": null,
      "overflow": null,
      "overflow_x": null,
      "overflow_y": null,
      "padding": null,
      "right": null,
      "top": null,
      "visibility": null,
      "width": null
     }
    },
    "cea3548aa4564ccfbd6f2267f95258fc": {
     "model_module": "@jupyter-widgets/base",
     "model_module_version": "1.2.0",
     "model_name": "LayoutModel",
     "state": {
      "_model_module": "@jupyter-widgets/base",
      "_model_module_version": "1.2.0",
      "_model_name": "LayoutModel",
      "_view_count": null,
      "_view_module": "@jupyter-widgets/base",
      "_view_module_version": "1.2.0",
      "_view_name": "LayoutView",
      "align_content": null,
      "align_items": null,
      "align_self": null,
      "border": null,
      "bottom": null,
      "display": null,
      "flex": null,
      "flex_flow": null,
      "grid_area": null,
      "grid_auto_columns": null,
      "grid_auto_flow": null,
      "grid_auto_rows": null,
      "grid_column": null,
      "grid_gap": null,
      "grid_row": null,
      "grid_template_areas": null,
      "grid_template_columns": null,
      "grid_template_rows": null,
      "height": null,
      "justify_content": null,
      "justify_items": null,
      "left": null,
      "margin": null,
      "max_height": null,
      "max_width": null,
      "min_height": null,
      "min_width": null,
      "object_fit": null,
      "object_position": null,
      "order": null,
      "overflow": null,
      "overflow_x": null,
      "overflow_y": null,
      "padding": null,
      "right": null,
      "top": null,
      "visibility": null,
      "width": null
     }
    },
    "cf63261f255243a8b5d6f3e9e8735bbf": {
     "model_module": "@jupyter-widgets/controls",
     "model_module_version": "1.5.0",
     "model_name": "DescriptionStyleModel",
     "state": {
      "_model_module": "@jupyter-widgets/controls",
      "_model_module_version": "1.5.0",
      "_model_name": "DescriptionStyleModel",
      "_view_count": null,
      "_view_module": "@jupyter-widgets/base",
      "_view_module_version": "1.2.0",
      "_view_name": "StyleView",
      "description_width": ""
     }
    },
    "d2d1dde7c0be4282b0cc8bf869fcc9bb": {
     "model_module": "@jupyter-widgets/controls",
     "model_module_version": "1.5.0",
     "model_name": "HTMLModel",
     "state": {
      "_dom_classes": [],
      "_model_module": "@jupyter-widgets/controls",
      "_model_module_version": "1.5.0",
      "_model_name": "HTMLModel",
      "_view_count": null,
      "_view_module": "@jupyter-widgets/controls",
      "_view_module_version": "1.5.0",
      "_view_name": "HTMLView",
      "description": "",
      "description_tooltip": null,
      "layout": "IPY_MODEL_410b7c506f18489db04454abfb6a7b0f",
      "placeholder": "​",
      "style": "IPY_MODEL_d3c5b686da0e4567b7689aa1e866d791",
      "value": "100%"
     }
    },
    "d3c5b686da0e4567b7689aa1e866d791": {
     "model_module": "@jupyter-widgets/controls",
     "model_module_version": "1.5.0",
     "model_name": "DescriptionStyleModel",
     "state": {
      "_model_module": "@jupyter-widgets/controls",
      "_model_module_version": "1.5.0",
      "_model_name": "DescriptionStyleModel",
      "_view_count": null,
      "_view_module": "@jupyter-widgets/base",
      "_view_module_version": "1.2.0",
      "_view_name": "StyleView",
      "description_width": ""
     }
    },
    "d4007f62b0fa4631ade30c034376b49f": {
     "model_module": "@jupyter-widgets/controls",
     "model_module_version": "1.5.0",
     "model_name": "ProgressStyleModel",
     "state": {
      "_model_module": "@jupyter-widgets/controls",
      "_model_module_version": "1.5.0",
      "_model_name": "ProgressStyleModel",
      "_view_count": null,
      "_view_module": "@jupyter-widgets/base",
      "_view_module_version": "1.2.0",
      "_view_name": "StyleView",
      "bar_color": null,
      "description_width": ""
     }
    },
    "d480036adc0b4b4e92c5de2368b5fb1b": {
     "model_module": "@jupyter-widgets/base",
     "model_module_version": "1.2.0",
     "model_name": "LayoutModel",
     "state": {
      "_model_module": "@jupyter-widgets/base",
      "_model_module_version": "1.2.0",
      "_model_name": "LayoutModel",
      "_view_count": null,
      "_view_module": "@jupyter-widgets/base",
      "_view_module_version": "1.2.0",
      "_view_name": "LayoutView",
      "align_content": null,
      "align_items": null,
      "align_self": null,
      "border": null,
      "bottom": null,
      "display": null,
      "flex": null,
      "flex_flow": null,
      "grid_area": null,
      "grid_auto_columns": null,
      "grid_auto_flow": null,
      "grid_auto_rows": null,
      "grid_column": null,
      "grid_gap": null,
      "grid_row": null,
      "grid_template_areas": null,
      "grid_template_columns": null,
      "grid_template_rows": null,
      "height": null,
      "justify_content": null,
      "justify_items": null,
      "left": null,
      "margin": null,
      "max_height": null,
      "max_width": null,
      "min_height": null,
      "min_width": null,
      "object_fit": null,
      "object_position": null,
      "order": null,
      "overflow": null,
      "overflow_x": null,
      "overflow_y": null,
      "padding": null,
      "right": null,
      "top": null,
      "visibility": null,
      "width": null
     }
    },
    "d7c5df7cadbc4fa584b281d26f11a720": {
     "model_module": "@jupyter-widgets/base",
     "model_module_version": "1.2.0",
     "model_name": "LayoutModel",
     "state": {
      "_model_module": "@jupyter-widgets/base",
      "_model_module_version": "1.2.0",
      "_model_name": "LayoutModel",
      "_view_count": null,
      "_view_module": "@jupyter-widgets/base",
      "_view_module_version": "1.2.0",
      "_view_name": "LayoutView",
      "align_content": null,
      "align_items": null,
      "align_self": null,
      "border": null,
      "bottom": null,
      "display": null,
      "flex": null,
      "flex_flow": null,
      "grid_area": null,
      "grid_auto_columns": null,
      "grid_auto_flow": null,
      "grid_auto_rows": null,
      "grid_column": null,
      "grid_gap": null,
      "grid_row": null,
      "grid_template_areas": null,
      "grid_template_columns": null,
      "grid_template_rows": null,
      "height": null,
      "justify_content": null,
      "justify_items": null,
      "left": null,
      "margin": null,
      "max_height": null,
      "max_width": null,
      "min_height": null,
      "min_width": null,
      "object_fit": null,
      "object_position": null,
      "order": null,
      "overflow": null,
      "overflow_x": null,
      "overflow_y": null,
      "padding": null,
      "right": null,
      "top": null,
      "visibility": null,
      "width": null
     }
    },
    "d7d20f71ef784c98b2757124a8409f3f": {
     "model_module": "@jupyter-widgets/controls",
     "model_module_version": "1.5.0",
     "model_name": "DescriptionStyleModel",
     "state": {
      "_model_module": "@jupyter-widgets/controls",
      "_model_module_version": "1.5.0",
      "_model_name": "DescriptionStyleModel",
      "_view_count": null,
      "_view_module": "@jupyter-widgets/base",
      "_view_module_version": "1.2.0",
      "_view_name": "StyleView",
      "description_width": ""
     }
    },
    "d8d86e18261d40c9bf5e0d7bdb63ec57": {
     "model_module": "@jupyter-widgets/controls",
     "model_module_version": "1.5.0",
     "model_name": "DescriptionStyleModel",
     "state": {
      "_model_module": "@jupyter-widgets/controls",
      "_model_module_version": "1.5.0",
      "_model_name": "DescriptionStyleModel",
      "_view_count": null,
      "_view_module": "@jupyter-widgets/base",
      "_view_module_version": "1.2.0",
      "_view_name": "StyleView",
      "description_width": ""
     }
    },
    "de9e6da741214fdeafb20187ee4c1593": {
     "model_module": "@jupyter-widgets/controls",
     "model_module_version": "1.5.0",
     "model_name": "DescriptionStyleModel",
     "state": {
      "_model_module": "@jupyter-widgets/controls",
      "_model_module_version": "1.5.0",
      "_model_name": "DescriptionStyleModel",
      "_view_count": null,
      "_view_module": "@jupyter-widgets/base",
      "_view_module_version": "1.2.0",
      "_view_name": "StyleView",
      "description_width": ""
     }
    },
    "df3efc2291a548bbbedc54bdf86815e9": {
     "model_module": "@jupyter-widgets/controls",
     "model_module_version": "1.5.0",
     "model_name": "HTMLModel",
     "state": {
      "_dom_classes": [],
      "_model_module": "@jupyter-widgets/controls",
      "_model_module_version": "1.5.0",
      "_model_name": "HTMLModel",
      "_view_count": null,
      "_view_module": "@jupyter-widgets/controls",
      "_view_module_version": "1.5.0",
      "_view_name": "HTMLView",
      "description": "",
      "description_tooltip": null,
      "layout": "IPY_MODEL_e95fea71350e45ecbb942b04ded4eb59",
      "placeholder": "​",
      "style": "IPY_MODEL_61d71cd1e906412f852e3274e5daf696",
      "value": "100%"
     }
    },
    "dfbc555f23ce426791f05ad782491265": {
     "model_module": "@jupyter-widgets/base",
     "model_module_version": "1.2.0",
     "model_name": "LayoutModel",
     "state": {
      "_model_module": "@jupyter-widgets/base",
      "_model_module_version": "1.2.0",
      "_model_name": "LayoutModel",
      "_view_count": null,
      "_view_module": "@jupyter-widgets/base",
      "_view_module_version": "1.2.0",
      "_view_name": "LayoutView",
      "align_content": null,
      "align_items": null,
      "align_self": null,
      "border": null,
      "bottom": null,
      "display": null,
      "flex": null,
      "flex_flow": null,
      "grid_area": null,
      "grid_auto_columns": null,
      "grid_auto_flow": null,
      "grid_auto_rows": null,
      "grid_column": null,
      "grid_gap": null,
      "grid_row": null,
      "grid_template_areas": null,
      "grid_template_columns": null,
      "grid_template_rows": null,
      "height": null,
      "justify_content": null,
      "justify_items": null,
      "left": null,
      "margin": null,
      "max_height": null,
      "max_width": null,
      "min_height": null,
      "min_width": null,
      "object_fit": null,
      "object_position": null,
      "order": null,
      "overflow": null,
      "overflow_x": null,
      "overflow_y": null,
      "padding": null,
      "right": null,
      "top": null,
      "visibility": null,
      "width": null
     }
    },
    "e009c1b44f4b411582bc97d6a2ae76d7": {
     "model_module": "@jupyter-widgets/controls",
     "model_module_version": "1.5.0",
     "model_name": "DescriptionStyleModel",
     "state": {
      "_model_module": "@jupyter-widgets/controls",
      "_model_module_version": "1.5.0",
      "_model_name": "DescriptionStyleModel",
      "_view_count": null,
      "_view_module": "@jupyter-widgets/base",
      "_view_module_version": "1.2.0",
      "_view_name": "StyleView",
      "description_width": ""
     }
    },
    "e0309cee5da440c9b60439fdbfa2b25f": {
     "model_module": "@jupyter-widgets/controls",
     "model_module_version": "1.5.0",
     "model_name": "HBoxModel",
     "state": {
      "_dom_classes": [],
      "_model_module": "@jupyter-widgets/controls",
      "_model_module_version": "1.5.0",
      "_model_name": "HBoxModel",
      "_view_count": null,
      "_view_module": "@jupyter-widgets/controls",
      "_view_module_version": "1.5.0",
      "_view_name": "HBoxView",
      "box_style": "",
      "children": [
       "IPY_MODEL_4a73e06e0d094b739c198a7c72d849cb",
       "IPY_MODEL_a51ead915f75424aad2aa272932d7349",
       "IPY_MODEL_8fe3763a32a047828423b820cddb85df"
      ],
      "layout": "IPY_MODEL_b41d5225b9ec4ee18ac5ca525c87c000"
     }
    },
    "e067f7d027a14fe898f2c6fc9b3d3a2f": {
     "model_module": "@jupyter-widgets/controls",
     "model_module_version": "1.5.0",
     "model_name": "DescriptionStyleModel",
     "state": {
      "_model_module": "@jupyter-widgets/controls",
      "_model_module_version": "1.5.0",
      "_model_name": "DescriptionStyleModel",
      "_view_count": null,
      "_view_module": "@jupyter-widgets/base",
      "_view_module_version": "1.2.0",
      "_view_name": "StyleView",
      "description_width": ""
     }
    },
    "e152ff3bd5c54bbcb8697d2399ecc9c4": {
     "model_module": "@jupyter-widgets/controls",
     "model_module_version": "1.5.0",
     "model_name": "ProgressStyleModel",
     "state": {
      "_model_module": "@jupyter-widgets/controls",
      "_model_module_version": "1.5.0",
      "_model_name": "ProgressStyleModel",
      "_view_count": null,
      "_view_module": "@jupyter-widgets/base",
      "_view_module_version": "1.2.0",
      "_view_name": "StyleView",
      "bar_color": null,
      "description_width": ""
     }
    },
    "e1f13971de6a49cfbd8452092f086f43": {
     "model_module": "@jupyter-widgets/base",
     "model_module_version": "1.2.0",
     "model_name": "LayoutModel",
     "state": {
      "_model_module": "@jupyter-widgets/base",
      "_model_module_version": "1.2.0",
      "_model_name": "LayoutModel",
      "_view_count": null,
      "_view_module": "@jupyter-widgets/base",
      "_view_module_version": "1.2.0",
      "_view_name": "LayoutView",
      "align_content": null,
      "align_items": null,
      "align_self": null,
      "border": null,
      "bottom": null,
      "display": null,
      "flex": null,
      "flex_flow": null,
      "grid_area": null,
      "grid_auto_columns": null,
      "grid_auto_flow": null,
      "grid_auto_rows": null,
      "grid_column": null,
      "grid_gap": null,
      "grid_row": null,
      "grid_template_areas": null,
      "grid_template_columns": null,
      "grid_template_rows": null,
      "height": null,
      "justify_content": null,
      "justify_items": null,
      "left": null,
      "margin": null,
      "max_height": null,
      "max_width": null,
      "min_height": null,
      "min_width": null,
      "object_fit": null,
      "object_position": null,
      "order": null,
      "overflow": null,
      "overflow_x": null,
      "overflow_y": null,
      "padding": null,
      "right": null,
      "top": null,
      "visibility": null,
      "width": null
     }
    },
    "e57633c29884437099f06a9398af59ba": {
     "model_module": "@jupyter-widgets/base",
     "model_module_version": "1.2.0",
     "model_name": "LayoutModel",
     "state": {
      "_model_module": "@jupyter-widgets/base",
      "_model_module_version": "1.2.0",
      "_model_name": "LayoutModel",
      "_view_count": null,
      "_view_module": "@jupyter-widgets/base",
      "_view_module_version": "1.2.0",
      "_view_name": "LayoutView",
      "align_content": null,
      "align_items": null,
      "align_self": null,
      "border": null,
      "bottom": null,
      "display": null,
      "flex": null,
      "flex_flow": null,
      "grid_area": null,
      "grid_auto_columns": null,
      "grid_auto_flow": null,
      "grid_auto_rows": null,
      "grid_column": null,
      "grid_gap": null,
      "grid_row": null,
      "grid_template_areas": null,
      "grid_template_columns": null,
      "grid_template_rows": null,
      "height": null,
      "justify_content": null,
      "justify_items": null,
      "left": null,
      "margin": null,
      "max_height": null,
      "max_width": null,
      "min_height": null,
      "min_width": null,
      "object_fit": null,
      "object_position": null,
      "order": null,
      "overflow": null,
      "overflow_x": null,
      "overflow_y": null,
      "padding": null,
      "right": null,
      "top": null,
      "visibility": null,
      "width": null
     }
    },
    "e7232d1aed434a4db14fb9a6b0d64597": {
     "model_module": "@jupyter-widgets/controls",
     "model_module_version": "1.5.0",
     "model_name": "FloatProgressModel",
     "state": {
      "_dom_classes": [],
      "_model_module": "@jupyter-widgets/controls",
      "_model_module_version": "1.5.0",
      "_model_name": "FloatProgressModel",
      "_view_count": null,
      "_view_module": "@jupyter-widgets/controls",
      "_view_module_version": "1.5.0",
      "_view_name": "ProgressView",
      "bar_style": "success",
      "description": "",
      "description_tooltip": null,
      "layout": "IPY_MODEL_f2c7cc1bcfd6426cba33455b111a73a3",
      "max": 12,
      "min": 0,
      "orientation": "horizontal",
      "style": "IPY_MODEL_5835ea80ca7f4e0f95581e5ff78585c5",
      "value": 12
     }
    },
    "e78650c7dc614ab5a80a3e55f491c8e2": {
     "model_module": "@jupyter-widgets/base",
     "model_module_version": "1.2.0",
     "model_name": "LayoutModel",
     "state": {
      "_model_module": "@jupyter-widgets/base",
      "_model_module_version": "1.2.0",
      "_model_name": "LayoutModel",
      "_view_count": null,
      "_view_module": "@jupyter-widgets/base",
      "_view_module_version": "1.2.0",
      "_view_name": "LayoutView",
      "align_content": null,
      "align_items": null,
      "align_self": null,
      "border": null,
      "bottom": null,
      "display": null,
      "flex": null,
      "flex_flow": null,
      "grid_area": null,
      "grid_auto_columns": null,
      "grid_auto_flow": null,
      "grid_auto_rows": null,
      "grid_column": null,
      "grid_gap": null,
      "grid_row": null,
      "grid_template_areas": null,
      "grid_template_columns": null,
      "grid_template_rows": null,
      "height": null,
      "justify_content": null,
      "justify_items": null,
      "left": null,
      "margin": null,
      "max_height": null,
      "max_width": null,
      "min_height": null,
      "min_width": null,
      "object_fit": null,
      "object_position": null,
      "order": null,
      "overflow": null,
      "overflow_x": null,
      "overflow_y": null,
      "padding": null,
      "right": null,
      "top": null,
      "visibility": null,
      "width": null
     }
    },
    "e95fea71350e45ecbb942b04ded4eb59": {
     "model_module": "@jupyter-widgets/base",
     "model_module_version": "1.2.0",
     "model_name": "LayoutModel",
     "state": {
      "_model_module": "@jupyter-widgets/base",
      "_model_module_version": "1.2.0",
      "_model_name": "LayoutModel",
      "_view_count": null,
      "_view_module": "@jupyter-widgets/base",
      "_view_module_version": "1.2.0",
      "_view_name": "LayoutView",
      "align_content": null,
      "align_items": null,
      "align_self": null,
      "border": null,
      "bottom": null,
      "display": null,
      "flex": null,
      "flex_flow": null,
      "grid_area": null,
      "grid_auto_columns": null,
      "grid_auto_flow": null,
      "grid_auto_rows": null,
      "grid_column": null,
      "grid_gap": null,
      "grid_row": null,
      "grid_template_areas": null,
      "grid_template_columns": null,
      "grid_template_rows": null,
      "height": null,
      "justify_content": null,
      "justify_items": null,
      "left": null,
      "margin": null,
      "max_height": null,
      "max_width": null,
      "min_height": null,
      "min_width": null,
      "object_fit": null,
      "object_position": null,
      "order": null,
      "overflow": null,
      "overflow_x": null,
      "overflow_y": null,
      "padding": null,
      "right": null,
      "top": null,
      "visibility": null,
      "width": null
     }
    },
    "eb05e0bcdb9a4fadbd9bd3a0fd9a1aa0": {
     "model_module": "@jupyter-widgets/controls",
     "model_module_version": "1.5.0",
     "model_name": "ProgressStyleModel",
     "state": {
      "_model_module": "@jupyter-widgets/controls",
      "_model_module_version": "1.5.0",
      "_model_name": "ProgressStyleModel",
      "_view_count": null,
      "_view_module": "@jupyter-widgets/base",
      "_view_module_version": "1.2.0",
      "_view_name": "StyleView",
      "bar_color": null,
      "description_width": ""
     }
    },
    "eb77c81bed904f00b075086aef17920c": {
     "model_module": "@jupyter-widgets/controls",
     "model_module_version": "1.5.0",
     "model_name": "HTMLModel",
     "state": {
      "_dom_classes": [],
      "_model_module": "@jupyter-widgets/controls",
      "_model_module_version": "1.5.0",
      "_model_name": "HTMLModel",
      "_view_count": null,
      "_view_module": "@jupyter-widgets/controls",
      "_view_module_version": "1.5.0",
      "_view_name": "HTMLView",
      "description": "",
      "description_tooltip": null,
      "layout": "IPY_MODEL_fb94a03cae154b77940f2c2bf9a6be2b",
      "placeholder": "​",
      "style": "IPY_MODEL_cf63261f255243a8b5d6f3e9e8735bbf",
      "value": " 12/12 [00:00&lt;00:00, 32.21it/s]"
     }
    },
    "eb855385ec034d2d8a29f79982309b62": {
     "model_module": "@jupyter-widgets/controls",
     "model_module_version": "1.5.0",
     "model_name": "ProgressStyleModel",
     "state": {
      "_model_module": "@jupyter-widgets/controls",
      "_model_module_version": "1.5.0",
      "_model_name": "ProgressStyleModel",
      "_view_count": null,
      "_view_module": "@jupyter-widgets/base",
      "_view_module_version": "1.2.0",
      "_view_name": "StyleView",
      "bar_color": null,
      "description_width": ""
     }
    },
    "ec792887698d448db3605a76efde3b7f": {
     "model_module": "@jupyter-widgets/base",
     "model_module_version": "1.2.0",
     "model_name": "LayoutModel",
     "state": {
      "_model_module": "@jupyter-widgets/base",
      "_model_module_version": "1.2.0",
      "_model_name": "LayoutModel",
      "_view_count": null,
      "_view_module": "@jupyter-widgets/base",
      "_view_module_version": "1.2.0",
      "_view_name": "LayoutView",
      "align_content": null,
      "align_items": null,
      "align_self": null,
      "border": null,
      "bottom": null,
      "display": null,
      "flex": null,
      "flex_flow": null,
      "grid_area": null,
      "grid_auto_columns": null,
      "grid_auto_flow": null,
      "grid_auto_rows": null,
      "grid_column": null,
      "grid_gap": null,
      "grid_row": null,
      "grid_template_areas": null,
      "grid_template_columns": null,
      "grid_template_rows": null,
      "height": null,
      "justify_content": null,
      "justify_items": null,
      "left": null,
      "margin": null,
      "max_height": null,
      "max_width": null,
      "min_height": null,
      "min_width": null,
      "object_fit": null,
      "object_position": null,
      "order": null,
      "overflow": null,
      "overflow_x": null,
      "overflow_y": null,
      "padding": null,
      "right": null,
      "top": null,
      "visibility": null,
      "width": null
     }
    },
    "ed299181d5934147879c39d639d5c2ee": {
     "model_module": "@jupyter-widgets/base",
     "model_module_version": "1.2.0",
     "model_name": "LayoutModel",
     "state": {
      "_model_module": "@jupyter-widgets/base",
      "_model_module_version": "1.2.0",
      "_model_name": "LayoutModel",
      "_view_count": null,
      "_view_module": "@jupyter-widgets/base",
      "_view_module_version": "1.2.0",
      "_view_name": "LayoutView",
      "align_content": null,
      "align_items": null,
      "align_self": null,
      "border": null,
      "bottom": null,
      "display": null,
      "flex": null,
      "flex_flow": null,
      "grid_area": null,
      "grid_auto_columns": null,
      "grid_auto_flow": null,
      "grid_auto_rows": null,
      "grid_column": null,
      "grid_gap": null,
      "grid_row": null,
      "grid_template_areas": null,
      "grid_template_columns": null,
      "grid_template_rows": null,
      "height": null,
      "justify_content": null,
      "justify_items": null,
      "left": null,
      "margin": null,
      "max_height": null,
      "max_width": null,
      "min_height": null,
      "min_width": null,
      "object_fit": null,
      "object_position": null,
      "order": null,
      "overflow": null,
      "overflow_x": null,
      "overflow_y": null,
      "padding": null,
      "right": null,
      "top": null,
      "visibility": null,
      "width": null
     }
    },
    "eff2f4580ac54a7cbc5e35319bd3c8de": {
     "model_module": "@jupyter-widgets/controls",
     "model_module_version": "1.5.0",
     "model_name": "ProgressStyleModel",
     "state": {
      "_model_module": "@jupyter-widgets/controls",
      "_model_module_version": "1.5.0",
      "_model_name": "ProgressStyleModel",
      "_view_count": null,
      "_view_module": "@jupyter-widgets/base",
      "_view_module_version": "1.2.0",
      "_view_name": "StyleView",
      "bar_color": null,
      "description_width": ""
     }
    },
    "f06ab4350eee43fe8004c83da3372124": {
     "model_module": "@jupyter-widgets/controls",
     "model_module_version": "1.5.0",
     "model_name": "HTMLModel",
     "state": {
      "_dom_classes": [],
      "_model_module": "@jupyter-widgets/controls",
      "_model_module_version": "1.5.0",
      "_model_name": "HTMLModel",
      "_view_count": null,
      "_view_module": "@jupyter-widgets/controls",
      "_view_module_version": "1.5.0",
      "_view_name": "HTMLView",
      "description": "",
      "description_tooltip": null,
      "layout": "IPY_MODEL_42dcb4f3be064aaf84c463c283ebdca3",
      "placeholder": "​",
      "style": "IPY_MODEL_d8d86e18261d40c9bf5e0d7bdb63ec57",
      "value": " 12/12 [00:00&lt;00:00, 25.28it/s]"
     }
    },
    "f2c7cc1bcfd6426cba33455b111a73a3": {
     "model_module": "@jupyter-widgets/base",
     "model_module_version": "1.2.0",
     "model_name": "LayoutModel",
     "state": {
      "_model_module": "@jupyter-widgets/base",
      "_model_module_version": "1.2.0",
      "_model_name": "LayoutModel",
      "_view_count": null,
      "_view_module": "@jupyter-widgets/base",
      "_view_module_version": "1.2.0",
      "_view_name": "LayoutView",
      "align_content": null,
      "align_items": null,
      "align_self": null,
      "border": null,
      "bottom": null,
      "display": null,
      "flex": null,
      "flex_flow": null,
      "grid_area": null,
      "grid_auto_columns": null,
      "grid_auto_flow": null,
      "grid_auto_rows": null,
      "grid_column": null,
      "grid_gap": null,
      "grid_row": null,
      "grid_template_areas": null,
      "grid_template_columns": null,
      "grid_template_rows": null,
      "height": null,
      "justify_content": null,
      "justify_items": null,
      "left": null,
      "margin": null,
      "max_height": null,
      "max_width": null,
      "min_height": null,
      "min_width": null,
      "object_fit": null,
      "object_position": null,
      "order": null,
      "overflow": null,
      "overflow_x": null,
      "overflow_y": null,
      "padding": null,
      "right": null,
      "top": null,
      "visibility": null,
      "width": null
     }
    },
    "f461182883c54727aafc1d00f0274b12": {
     "model_module": "@jupyter-widgets/controls",
     "model_module_version": "1.5.0",
     "model_name": "HTMLModel",
     "state": {
      "_dom_classes": [],
      "_model_module": "@jupyter-widgets/controls",
      "_model_module_version": "1.5.0",
      "_model_name": "HTMLModel",
      "_view_count": null,
      "_view_module": "@jupyter-widgets/controls",
      "_view_module_version": "1.5.0",
      "_view_name": "HTMLView",
      "description": "",
      "description_tooltip": null,
      "layout": "IPY_MODEL_ec792887698d448db3605a76efde3b7f",
      "placeholder": "​",
      "style": "IPY_MODEL_acace21fa57c479cb8e8a3c508939ba7",
      "value": " 12/12 [00:00&lt;00:00, 50.76it/s]"
     }
    },
    "f4ef363f73a04fe68f5f8e3445e606ab": {
     "model_module": "@jupyter-widgets/base",
     "model_module_version": "1.2.0",
     "model_name": "LayoutModel",
     "state": {
      "_model_module": "@jupyter-widgets/base",
      "_model_module_version": "1.2.0",
      "_model_name": "LayoutModel",
      "_view_count": null,
      "_view_module": "@jupyter-widgets/base",
      "_view_module_version": "1.2.0",
      "_view_name": "LayoutView",
      "align_content": null,
      "align_items": null,
      "align_self": null,
      "border": null,
      "bottom": null,
      "display": null,
      "flex": null,
      "flex_flow": null,
      "grid_area": null,
      "grid_auto_columns": null,
      "grid_auto_flow": null,
      "grid_auto_rows": null,
      "grid_column": null,
      "grid_gap": null,
      "grid_row": null,
      "grid_template_areas": null,
      "grid_template_columns": null,
      "grid_template_rows": null,
      "height": null,
      "justify_content": null,
      "justify_items": null,
      "left": null,
      "margin": null,
      "max_height": null,
      "max_width": null,
      "min_height": null,
      "min_width": null,
      "object_fit": null,
      "object_position": null,
      "order": null,
      "overflow": null,
      "overflow_x": null,
      "overflow_y": null,
      "padding": null,
      "right": null,
      "top": null,
      "visibility": null,
      "width": null
     }
    },
    "f7ff3f6876a848a899a1905b48ada10b": {
     "model_module": "@jupyter-widgets/base",
     "model_module_version": "1.2.0",
     "model_name": "LayoutModel",
     "state": {
      "_model_module": "@jupyter-widgets/base",
      "_model_module_version": "1.2.0",
      "_model_name": "LayoutModel",
      "_view_count": null,
      "_view_module": "@jupyter-widgets/base",
      "_view_module_version": "1.2.0",
      "_view_name": "LayoutView",
      "align_content": null,
      "align_items": null,
      "align_self": null,
      "border": null,
      "bottom": null,
      "display": null,
      "flex": null,
      "flex_flow": null,
      "grid_area": null,
      "grid_auto_columns": null,
      "grid_auto_flow": null,
      "grid_auto_rows": null,
      "grid_column": null,
      "grid_gap": null,
      "grid_row": null,
      "grid_template_areas": null,
      "grid_template_columns": null,
      "grid_template_rows": null,
      "height": null,
      "justify_content": null,
      "justify_items": null,
      "left": null,
      "margin": null,
      "max_height": null,
      "max_width": null,
      "min_height": null,
      "min_width": null,
      "object_fit": null,
      "object_position": null,
      "order": null,
      "overflow": null,
      "overflow_x": null,
      "overflow_y": null,
      "padding": null,
      "right": null,
      "top": null,
      "visibility": null,
      "width": null
     }
    },
    "f81c31cfbd32402681dcecf4fc75823d": {
     "model_module": "@jupyter-widgets/controls",
     "model_module_version": "1.5.0",
     "model_name": "DescriptionStyleModel",
     "state": {
      "_model_module": "@jupyter-widgets/controls",
      "_model_module_version": "1.5.0",
      "_model_name": "DescriptionStyleModel",
      "_view_count": null,
      "_view_module": "@jupyter-widgets/base",
      "_view_module_version": "1.2.0",
      "_view_name": "StyleView",
      "description_width": ""
     }
    },
    "f9a8adb7e645492e8a6140540284640b": {
     "model_module": "@jupyter-widgets/controls",
     "model_module_version": "1.5.0",
     "model_name": "HTMLModel",
     "state": {
      "_dom_classes": [],
      "_model_module": "@jupyter-widgets/controls",
      "_model_module_version": "1.5.0",
      "_model_name": "HTMLModel",
      "_view_count": null,
      "_view_module": "@jupyter-widgets/controls",
      "_view_module_version": "1.5.0",
      "_view_name": "HTMLView",
      "description": "",
      "description_tooltip": null,
      "layout": "IPY_MODEL_ce047a2aa237498c8f69f06d23237481",
      "placeholder": "​",
      "style": "IPY_MODEL_942ef8e1e0f042cc9ff477687ad8bc1b",
      "value": "100%"
     }
    },
    "fb94a03cae154b77940f2c2bf9a6be2b": {
     "model_module": "@jupyter-widgets/base",
     "model_module_version": "1.2.0",
     "model_name": "LayoutModel",
     "state": {
      "_model_module": "@jupyter-widgets/base",
      "_model_module_version": "1.2.0",
      "_model_name": "LayoutModel",
      "_view_count": null,
      "_view_module": "@jupyter-widgets/base",
      "_view_module_version": "1.2.0",
      "_view_name": "LayoutView",
      "align_content": null,
      "align_items": null,
      "align_self": null,
      "border": null,
      "bottom": null,
      "display": null,
      "flex": null,
      "flex_flow": null,
      "grid_area": null,
      "grid_auto_columns": null,
      "grid_auto_flow": null,
      "grid_auto_rows": null,
      "grid_column": null,
      "grid_gap": null,
      "grid_row": null,
      "grid_template_areas": null,
      "grid_template_columns": null,
      "grid_template_rows": null,
      "height": null,
      "justify_content": null,
      "justify_items": null,
      "left": null,
      "margin": null,
      "max_height": null,
      "max_width": null,
      "min_height": null,
      "min_width": null,
      "object_fit": null,
      "object_position": null,
      "order": null,
      "overflow": null,
      "overflow_x": null,
      "overflow_y": null,
      "padding": null,
      "right": null,
      "top": null,
      "visibility": null,
      "width": null
     }
    },
    "fbd1d84a4c254a05ad47df273171e226": {
     "model_module": "@jupyter-widgets/base",
     "model_module_version": "1.2.0",
     "model_name": "LayoutModel",
     "state": {
      "_model_module": "@jupyter-widgets/base",
      "_model_module_version": "1.2.0",
      "_model_name": "LayoutModel",
      "_view_count": null,
      "_view_module": "@jupyter-widgets/base",
      "_view_module_version": "1.2.0",
      "_view_name": "LayoutView",
      "align_content": null,
      "align_items": null,
      "align_self": null,
      "border": null,
      "bottom": null,
      "display": null,
      "flex": null,
      "flex_flow": null,
      "grid_area": null,
      "grid_auto_columns": null,
      "grid_auto_flow": null,
      "grid_auto_rows": null,
      "grid_column": null,
      "grid_gap": null,
      "grid_row": null,
      "grid_template_areas": null,
      "grid_template_columns": null,
      "grid_template_rows": null,
      "height": null,
      "justify_content": null,
      "justify_items": null,
      "left": null,
      "margin": null,
      "max_height": null,
      "max_width": null,
      "min_height": null,
      "min_width": null,
      "object_fit": null,
      "object_position": null,
      "order": null,
      "overflow": null,
      "overflow_x": null,
      "overflow_y": null,
      "padding": null,
      "right": null,
      "top": null,
      "visibility": null,
      "width": null
     }
    },
    "fce656040200494cbd72de1c33adf299": {
     "model_module": "@jupyter-widgets/base",
     "model_module_version": "1.2.0",
     "model_name": "LayoutModel",
     "state": {
      "_model_module": "@jupyter-widgets/base",
      "_model_module_version": "1.2.0",
      "_model_name": "LayoutModel",
      "_view_count": null,
      "_view_module": "@jupyter-widgets/base",
      "_view_module_version": "1.2.0",
      "_view_name": "LayoutView",
      "align_content": null,
      "align_items": null,
      "align_self": null,
      "border": null,
      "bottom": null,
      "display": null,
      "flex": null,
      "flex_flow": null,
      "grid_area": null,
      "grid_auto_columns": null,
      "grid_auto_flow": null,
      "grid_auto_rows": null,
      "grid_column": null,
      "grid_gap": null,
      "grid_row": null,
      "grid_template_areas": null,
      "grid_template_columns": null,
      "grid_template_rows": null,
      "height": null,
      "justify_content": null,
      "justify_items": null,
      "left": null,
      "margin": null,
      "max_height": null,
      "max_width": null,
      "min_height": null,
      "min_width": null,
      "object_fit": null,
      "object_position": null,
      "order": null,
      "overflow": null,
      "overflow_x": null,
      "overflow_y": null,
      "padding": null,
      "right": null,
      "top": null,
      "visibility": null,
      "width": null
     }
    },
    "fe5849bfc0294b4b9f39f6a848f84c90": {
     "model_module": "@jupyter-widgets/controls",
     "model_module_version": "1.5.0",
     "model_name": "FloatProgressModel",
     "state": {
      "_dom_classes": [],
      "_model_module": "@jupyter-widgets/controls",
      "_model_module_version": "1.5.0",
      "_model_name": "FloatProgressModel",
      "_view_count": null,
      "_view_module": "@jupyter-widgets/controls",
      "_view_module_version": "1.5.0",
      "_view_name": "ProgressView",
      "bar_style": "success",
      "description": "",
      "description_tooltip": null,
      "layout": "IPY_MODEL_00716804436e4903b89be8c79a5e8a2f",
      "max": 12,
      "min": 0,
      "orientation": "horizontal",
      "style": "IPY_MODEL_56ddfc8e108648b58de49d480722e4ac",
      "value": 12
     }
    },
    "fe909a03c3cc4965ac8ef62985468542": {
     "model_module": "@jupyter-widgets/controls",
     "model_module_version": "1.5.0",
     "model_name": "ProgressStyleModel",
     "state": {
      "_model_module": "@jupyter-widgets/controls",
      "_model_module_version": "1.5.0",
      "_model_name": "ProgressStyleModel",
      "_view_count": null,
      "_view_module": "@jupyter-widgets/base",
      "_view_module_version": "1.2.0",
      "_view_name": "StyleView",
      "bar_color": null,
      "description_width": ""
     }
    },
    "ff9995df8ce04e5b968c84c195bd8cc3": {
     "model_module": "@jupyter-widgets/base",
     "model_module_version": "1.2.0",
     "model_name": "LayoutModel",
     "state": {
      "_model_module": "@jupyter-widgets/base",
      "_model_module_version": "1.2.0",
      "_model_name": "LayoutModel",
      "_view_count": null,
      "_view_module": "@jupyter-widgets/base",
      "_view_module_version": "1.2.0",
      "_view_name": "LayoutView",
      "align_content": null,
      "align_items": null,
      "align_self": null,
      "border": null,
      "bottom": null,
      "display": null,
      "flex": null,
      "flex_flow": null,
      "grid_area": null,
      "grid_auto_columns": null,
      "grid_auto_flow": null,
      "grid_auto_rows": null,
      "grid_column": null,
      "grid_gap": null,
      "grid_row": null,
      "grid_template_areas": null,
      "grid_template_columns": null,
      "grid_template_rows": null,
      "height": null,
      "justify_content": null,
      "justify_items": null,
      "left": null,
      "margin": null,
      "max_height": null,
      "max_width": null,
      "min_height": null,
      "min_width": null,
      "object_fit": null,
      "object_position": null,
      "order": null,
      "overflow": null,
      "overflow_x": null,
      "overflow_y": null,
      "padding": null,
      "right": null,
      "top": null,
      "visibility": null,
      "width": null
     }
    }
   }
  }
 },
 "nbformat": 4,
 "nbformat_minor": 1
}
